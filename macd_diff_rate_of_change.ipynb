{
 "cells": [
  {
   "cell_type": "code",
   "execution_count": 5,
   "id": "05da9f5e",
   "metadata": {},
   "outputs": [],
   "source": [
    "import sys\n",
    "import pandas as pd\n",
    "import matplotlib.pyplot as plt\n",
    "sys.path.append('/Users/jp/Desktop/Investment/utils')\n",
    "import utils as utils"
   ]
  },
  {
   "cell_type": "code",
   "execution_count": 6,
   "id": "4dec24cc",
   "metadata": {},
   "outputs": [],
   "source": [
    "out_mean = []\n",
    "out_std = []"
   ]
  },
  {
   "cell_type": "markdown",
   "id": "0f1d972a",
   "metadata": {},
   "source": [
    "### Investigate the returns outliers within the time period start='2022-09-01-00:00', end='2022-10-25-00:00'"
   ]
  },
  {
   "cell_type": "code",
   "execution_count": 4,
   "id": "9ac6bd04",
   "metadata": {
    "scrolled": true
   },
   "outputs": [],
   "source": [
    "#utils.get_returns_outliers(start='2022-06-01-00:00:00', end='2022-10-25-00:00:00', symbol='BTCUSDT', interval='1m', nsmall=10, nlarge=10)"
   ]
  },
  {
   "cell_type": "markdown",
   "id": "768edb1c",
   "metadata": {},
   "source": [
    "### Analysis of the curve for drop in price in 21 September 2022 at 18:00h UTC\n",
    "### https://www.dailyfx.com/economic-calendar#2022-09-22\n",
    "### Fed Interest rate Decision"
   ]
  },
  {
   "cell_type": "code",
   "execution_count": null,
   "id": "b4799742",
   "metadata": {},
   "outputs": [],
   "source": [
    "data_21Sep_1800h_UTC = utils.get_returns_outliers(start='2022-09-22-02:59:45', end='2022-09-22-03:00:35', symbol='BTCUSDT', interval='1s', nsmall=10, nlarge=10)\n",
    "data_21Sep_1800h_UTC"
   ]
  },
  {
   "cell_type": "code",
   "execution_count": null,
   "id": "3701fa98",
   "metadata": {
    "scrolled": true
   },
   "outputs": [],
   "source": [
    "data_21Sep_1800h_UTC[0].describe()"
   ]
  },
  {
   "cell_type": "code",
   "execution_count": null,
   "id": "e5aecace",
   "metadata": {},
   "outputs": [],
   "source": [
    "out_mean.append(data_21Sep_1800h_UTC[0].mean())\n",
    "out_std.append(data_21Sep_1800h_UTC[0].std())"
   ]
  },
  {
   "cell_type": "code",
   "execution_count": null,
   "id": "7a996967",
   "metadata": {},
   "outputs": [],
   "source": [
    "data_21Sep_1800h_UTC[3].Close.plot()"
   ]
  },
  {
   "cell_type": "markdown",
   "id": "14451f5a",
   "metadata": {},
   "source": [
    "### ---------------------------------------------------------------------------------------------------------------------------------\n",
    "### ---------------------------------------------------------------------------------------------------------------------------------"
   ]
  },
  {
   "cell_type": "markdown",
   "id": "4e13b546",
   "metadata": {},
   "source": [
    "### Analysis of the curve for drop in price in 13 September 2022 at 12:30 UTC\n",
    "### https://www.dailyfx.com/economic-calendar#2022-09-13\n",
    "### Core Inflation Rate YoY (AUG)"
   ]
  },
  {
   "cell_type": "code",
   "execution_count": null,
   "id": "0e584f5a",
   "metadata": {},
   "outputs": [],
   "source": [
    "data_13Sep_1230h_UTC = utils.get_returns_outliers(start='2022-09-13-21:29:50', end='2022-09-13-21:31:00', symbol='BTCUSDT', interval='1s', nsmall=10, nlarge=10)\n",
    "data_13Sep_1230h_UTC"
   ]
  },
  {
   "cell_type": "code",
   "execution_count": null,
   "id": "8134f97e",
   "metadata": {
    "scrolled": true
   },
   "outputs": [],
   "source": [
    "data_13Sep_1230h_UTC[0].describe()"
   ]
  },
  {
   "cell_type": "code",
   "execution_count": null,
   "id": "561871ac",
   "metadata": {},
   "outputs": [],
   "source": [
    "out_mean.append(data_13Sep_1230h_UTC[0].mean())\n",
    "out_std.append(data_13Sep_1230h_UTC[0].std())"
   ]
  },
  {
   "cell_type": "code",
   "execution_count": null,
   "id": "a4b18591",
   "metadata": {},
   "outputs": [],
   "source": [
    "data_13Sep_1230h_UTC[3].Close.plot()"
   ]
  },
  {
   "cell_type": "markdown",
   "id": "a7ee375c",
   "metadata": {},
   "source": [
    "### ---------------------------------------------------------------------------------------------------------------------------------\n",
    "### ---------------------------------------------------------------------------------------------------------------------------------"
   ]
  },
  {
   "cell_type": "markdown",
   "id": "e4f5a48a",
   "metadata": {},
   "source": [
    "### Analysis of the curve for drop in price in 13 October 2022 at 12:30 UTC\n",
    "### https://www.dailyfx.com/economic-calendar#2022-10-13\n",
    "### ### Core Inflation Rate YoY (SEP)"
   ]
  },
  {
   "cell_type": "code",
   "execution_count": null,
   "id": "35a50a1c",
   "metadata": {},
   "outputs": [],
   "source": [
    "data_13Oct_1230h_UTC = utils.get_returns_outliers(start='2022-10-13-21:29:40', end='2022-10-13-21:30:30', symbol='BTCUSDT', interval='1s', nsmall=10, nlarge=10)\n",
    "data_13Oct_1230h_UTC"
   ]
  },
  {
   "cell_type": "code",
   "execution_count": null,
   "id": "2dc944c4",
   "metadata": {},
   "outputs": [],
   "source": [
    "data_13Oct_1230h_UTC[0].describe()"
   ]
  },
  {
   "cell_type": "code",
   "execution_count": null,
   "id": "fdefddc7",
   "metadata": {},
   "outputs": [],
   "source": [
    "out_mean.append(data_13Oct_1230h_UTC[0].mean())\n",
    "out_std.append(data_13Oct_1230h_UTC[0].std())"
   ]
  },
  {
   "cell_type": "code",
   "execution_count": null,
   "id": "ecf4e606",
   "metadata": {},
   "outputs": [],
   "source": [
    "data_13Oct_1230h_UTC[3].Close.plot()"
   ]
  },
  {
   "cell_type": "markdown",
   "id": "ca8f1ad0",
   "metadata": {},
   "source": [
    "### ---------------------------------------------------------------------------------------------------------------------------------\n",
    "### ---------------------------------------------------------------------------------------------------------------------------------"
   ]
  },
  {
   "cell_type": "markdown",
   "id": "caf67316",
   "metadata": {},
   "source": [
    "### Analysis of the curve for drop in price in 6 September 2022 at 17:05 UTC"
   ]
  },
  {
   "cell_type": "code",
   "execution_count": null,
   "id": "059cb470",
   "metadata": {},
   "outputs": [],
   "source": [
    "data_6Sep_1705h_UTC = utils.get_returns_outliers(start='2022-09-07-02:05:20', end='2022-09-07-02:06:00', symbol='BTCUSDT', interval='1s', nsmall=10, nlarge=10)\n",
    "data_6Sep_1705h_UTC"
   ]
  },
  {
   "cell_type": "code",
   "execution_count": null,
   "id": "4f2388e7",
   "metadata": {},
   "outputs": [],
   "source": [
    "data_6Sep_1705h_UTC[0].describe()"
   ]
  },
  {
   "cell_type": "code",
   "execution_count": null,
   "id": "2272cf9f",
   "metadata": {},
   "outputs": [],
   "source": [
    "out_mean.append(data_6Sep_1705h_UTC[0].mean())\n",
    "out_std.append(data_6Sep_1705h_UTC[0].std())"
   ]
  },
  {
   "cell_type": "code",
   "execution_count": null,
   "id": "934944d4",
   "metadata": {
    "scrolled": true
   },
   "outputs": [],
   "source": [
    "data_6Sep_1705h_UTC[3].Close.plot()"
   ]
  },
  {
   "cell_type": "markdown",
   "id": "77fc7dfd",
   "metadata": {},
   "source": [
    "### ---------------------------------------------------------------------------------------------------------------------------------\n",
    "### ---------------------------------------------------------------------------------------------------------------------------------"
   ]
  },
  {
   "cell_type": "markdown",
   "id": "747cb04a",
   "metadata": {},
   "source": [
    "### Analysis of the curve for drop in price in 19 september 2022 at 5:58 UTC"
   ]
  },
  {
   "cell_type": "code",
   "execution_count": null,
   "id": "6b652c34",
   "metadata": {},
   "outputs": [],
   "source": [
    "data_19Sep_0558h_UTC = utils.get_returns_outliers(start='2022-09-19-14:58:15', end='2022-09-19-14:59:15', symbol='BTCUSDT', interval='1s', nsmall=10, nlarge=10)\n",
    "data_19Sep_0558h_UTC"
   ]
  },
  {
   "cell_type": "code",
   "execution_count": null,
   "id": "791751ac",
   "metadata": {
    "scrolled": true
   },
   "outputs": [],
   "source": [
    "data_19Sep_0558h_UTC[0].describe()"
   ]
  },
  {
   "cell_type": "code",
   "execution_count": null,
   "id": "05a10e4f",
   "metadata": {},
   "outputs": [],
   "source": [
    "out_mean.append(data_19Sep_0558h_UTC[0].mean())\n",
    "out_std.append(data_19Sep_0558h_UTC[0].std())"
   ]
  },
  {
   "cell_type": "code",
   "execution_count": null,
   "id": "e33d318f",
   "metadata": {},
   "outputs": [],
   "source": [
    "data_19Sep_0558h_UTC[3].Close.plot()"
   ]
  },
  {
   "cell_type": "markdown",
   "id": "da6fdec9",
   "metadata": {},
   "source": [
    "### ---------------------------------------------------------------------------------------------------------------------------------\n",
    "### ---------------------------------------------------------------------------------------------------------------------------------"
   ]
  },
  {
   "cell_type": "markdown",
   "id": "efd55471",
   "metadata": {},
   "source": [
    "### Analysis of the curve for drop in price in 19 september 2022 at 2:16 UTC"
   ]
  },
  {
   "cell_type": "code",
   "execution_count": null,
   "id": "e21b9e29",
   "metadata": {},
   "outputs": [],
   "source": [
    "data_19Sep_0216h_UTC = utils.get_returns_outliers(start='2022-09-19-11:16:25', end='2022-09-19-11:17:05', symbol='BTCUSDT', interval='1s', nsmall=10, nlarge=10)\n",
    "data_19Sep_0216h_UTC"
   ]
  },
  {
   "cell_type": "code",
   "execution_count": null,
   "id": "6aa1fe18",
   "metadata": {},
   "outputs": [],
   "source": [
    "data_19Sep_0216h_UTC[0].describe()"
   ]
  },
  {
   "cell_type": "code",
   "execution_count": null,
   "id": "f7a8dcd6",
   "metadata": {},
   "outputs": [],
   "source": [
    "out_mean.append(data_19Sep_0216h_UTC[0].mean())\n",
    "out_std.append(data_19Sep_0216h_UTC[0].std())"
   ]
  },
  {
   "cell_type": "code",
   "execution_count": null,
   "id": "bb36f3fb",
   "metadata": {
    "scrolled": true
   },
   "outputs": [],
   "source": [
    "data_19Sep_0216h_UTC[3].Close.plot()"
   ]
  },
  {
   "cell_type": "markdown",
   "id": "f9839485",
   "metadata": {},
   "source": [
    "### Analysis of the curve for drop in price in 10 June 2022 at 12:30 UTC\n",
    "### https://www.dailyfx.com/economic-calendar#2022-06-10\n",
    "### Core Inflation Rate YoY (MAY)"
   ]
  },
  {
   "cell_type": "code",
   "execution_count": null,
   "id": "d7893018",
   "metadata": {
    "scrolled": true
   },
   "outputs": [],
   "source": [
    "data_10Jun_1230h_UTC = utils.get_returns_outliers(start='2022-06-10-21:29:50', end='2022-06-10-21:31:00', symbol='BTCUSDT', interval='1s', nsmall=10, nlarge=10)\n",
    "data_10Jun_1230h_UTC"
   ]
  },
  {
   "cell_type": "code",
   "execution_count": null,
   "id": "0027faa4",
   "metadata": {},
   "outputs": [],
   "source": [
    "data_10Jun_1230h_UTC[0].describe()"
   ]
  },
  {
   "cell_type": "code",
   "execution_count": null,
   "id": "5bf816a1",
   "metadata": {},
   "outputs": [],
   "source": [
    "out_mean.append(data_10Jun_1230h_UTC[0].mean())\n",
    "out_std.append(data_10Jun_1230h_UTC[0].std())"
   ]
  },
  {
   "cell_type": "code",
   "execution_count": null,
   "id": "4276253e",
   "metadata": {},
   "outputs": [],
   "source": [
    "data_10Jun_1230h_UTC[3].Close.plot()"
   ]
  },
  {
   "cell_type": "code",
   "execution_count": null,
   "id": "097ff48c",
   "metadata": {},
   "outputs": [],
   "source": [
    "max(out_mean)"
   ]
  },
  {
   "cell_type": "code",
   "execution_count": null,
   "id": "aeb862f4",
   "metadata": {},
   "outputs": [],
   "source": [
    "out_mean"
   ]
  },
  {
   "cell_type": "markdown",
   "id": "7b1c3b67",
   "metadata": {},
   "source": [
    "# Search for outlier that made the emergency stop to activate but, just once it had already dropped a lot. Find which was the variation from the beginning of the drop"
   ]
  },
  {
   "cell_type": "code",
   "execution_count": null,
   "id": "d4656232",
   "metadata": {},
   "outputs": [],
   "source": [
    "pd.set_option('display.max_rows', None)"
   ]
  },
  {
   "cell_type": "code",
   "execution_count": null,
   "id": "dcc5e2cc",
   "metadata": {
    "scrolled": true
   },
   "outputs": [],
   "source": [
    "data = utils.get_returns_outliers(start='2022-10-31-00:00:00', end='2022-11-01-23:59:00', symbol='BTCUSDT', interval='1m', nsmall=10, nlarge=10)"
   ]
  },
  {
   "cell_type": "code",
   "execution_count": null,
   "id": "d27e644c",
   "metadata": {},
   "outputs": [],
   "source": [
    "data[3].describe()"
   ]
  },
  {
   "cell_type": "code",
   "execution_count": null,
   "id": "321894b8",
   "metadata": {},
   "outputs": [],
   "source": []
  },
  {
   "cell_type": "code",
   "execution_count": null,
   "id": "3a28a6d7",
   "metadata": {
    "scrolled": true
   },
   "outputs": [],
   "source": [
    "data_31Oct_1332h_UTC= utils.get_returns_outliers(start='2022-10-31-22:31:00', end='2022-10-31-22:34:00', symbol='BTCUSDT', interval='1s', nsmall=10, nlarge=10)\n",
    "data_31Oct_1332h_UTC[0].sort_index()"
   ]
  },
  {
   "cell_type": "code",
   "execution_count": null,
   "id": "ccc00b98",
   "metadata": {},
   "outputs": [],
   "source": [
    "out_mean.append(data_31Oct_1332h_UTC[0].mean())\n",
    "out_std.append(data_31Oct_1332h_UTC[0].std())"
   ]
  },
  {
   "cell_type": "code",
   "execution_count": null,
   "id": "044c62f6",
   "metadata": {
    "scrolled": false
   },
   "outputs": [],
   "source": [
    "data_31Oct_1332h_UTC[3].Close.plot()"
   ]
  },
  {
   "cell_type": "markdown",
   "id": "ea502331",
   "metadata": {},
   "source": [
    "### ---------------------------------------------------------------------------------------------------------------------------------\n",
    "### ---------------------------------------------------------------------------------------------------------------------------------"
   ]
  },
  {
   "cell_type": "code",
   "execution_count": null,
   "id": "a8d0beb8",
   "metadata": {
    "scrolled": true
   },
   "outputs": [],
   "source": [
    "data_31Oct_1355h_UTC = utils.get_returns_outliers(start='2022-10-31-22:54:00', end='2022-10-31-22:56:00', symbol='BTCUSDT', interval='1s', nsmall=10, nlarge=10)\n",
    "data_31Oct_1355h_UTC[0].sort_index()"
   ]
  },
  {
   "cell_type": "code",
   "execution_count": null,
   "id": "55889fbb",
   "metadata": {},
   "outputs": [],
   "source": [
    "out_mean.append(data_31Oct_1355h_UTC[0].mean())\n",
    "out_std.append(data_31Oct_1355h_UTC[0].std())"
   ]
  },
  {
   "cell_type": "code",
   "execution_count": null,
   "id": "2d1ba9de",
   "metadata": {},
   "outputs": [],
   "source": [
    "data_31Oct_1355h_UTC[3].Close.plot()"
   ]
  },
  {
   "cell_type": "markdown",
   "id": "e00a7061",
   "metadata": {},
   "source": [
    "### ---------------------------------------------------------------------------------------------------------------------------------\n",
    "### ---------------------------------------------------------------------------------------------------------------------------------"
   ]
  },
  {
   "cell_type": "code",
   "execution_count": null,
   "id": "f4678a95",
   "metadata": {
    "scrolled": false
   },
   "outputs": [],
   "source": [
    "data_31Oct_1359h_UTC = utils.get_returns_outliers(start='2022-10-31-22:58:00', end='2022-10-31-23:00:00', symbol='BTCUSDT', interval='1s', nsmall=10, nlarge=10)\n",
    "data_31Oct_1359h_UTC[0].sort_index()"
   ]
  },
  {
   "cell_type": "code",
   "execution_count": null,
   "id": "33e75200",
   "metadata": {},
   "outputs": [],
   "source": [
    "out_mean.append(data_31Oct_1359h_UTC[0].mean())\n",
    "out_std.append(data_31Oct_1359h_UTC[0].std())"
   ]
  },
  {
   "cell_type": "code",
   "execution_count": null,
   "id": "0e45dce2",
   "metadata": {},
   "outputs": [],
   "source": [
    "data_31Oct_1359h_UTC[3].Close.plot()"
   ]
  },
  {
   "cell_type": "markdown",
   "id": "fd820e4b",
   "metadata": {},
   "source": [
    "__Checked in Binance 1s plot__"
   ]
  },
  {
   "cell_type": "markdown",
   "id": "47f7e559",
   "metadata": {},
   "source": [
    "### ---------------------------------------------------------------------------------------------------------------------------------\n",
    "### ---------------------------------------------------------------------------------------------------------------------------------"
   ]
  },
  {
   "cell_type": "markdown",
   "id": "9f4856a0",
   "metadata": {},
   "source": [
    "__check variation in price in a 'normal' interval to see order of magnitude__"
   ]
  },
  {
   "cell_type": "code",
   "execution_count": null,
   "id": "9ecc75dc",
   "metadata": {
    "scrolled": true
   },
   "outputs": [],
   "source": [
    "data_31Oct_1257h_UTC = utils.get_returns_outliers(start='2022-10-31-21:56:00', end='2022-10-31-21:58:00', symbol='BTCUSDT', interval='1s', nsmall=10, nlarge=10)\n",
    "data_31Oct_1257h_UTC[0]"
   ]
  },
  {
   "cell_type": "code",
   "execution_count": null,
   "id": "04986481",
   "metadata": {},
   "outputs": [],
   "source": [
    "out_mean.append(data_31Oct_1257h_UTC[0].mean())\n",
    "out_std.append(data_31Oct_1257h_UTC[0].std())"
   ]
  },
  {
   "cell_type": "code",
   "execution_count": null,
   "id": "2a85f217",
   "metadata": {},
   "outputs": [],
   "source": [
    "out_mean"
   ]
  },
  {
   "cell_type": "code",
   "execution_count": null,
   "id": "f599c595",
   "metadata": {
    "scrolled": true
   },
   "outputs": [],
   "source": [
    "len(out_mean)"
   ]
  },
  {
   "cell_type": "code",
   "execution_count": null,
   "id": "5eac918e",
   "metadata": {},
   "outputs": [],
   "source": [
    "sum(out_mean)/len(out_mean)"
   ]
  },
  {
   "cell_type": "code",
   "execution_count": null,
   "id": "7ffd058c",
   "metadata": {},
   "outputs": [],
   "source": [
    "out_std"
   ]
  },
  {
   "cell_type": "code",
   "execution_count": null,
   "id": "d32dcba2",
   "metadata": {},
   "outputs": [],
   "source": [
    "len(out_std)"
   ]
  },
  {
   "cell_type": "code",
   "execution_count": null,
   "id": "2cc51727",
   "metadata": {},
   "outputs": [],
   "source": [
    "sum(out_std)/len(out_std)"
   ]
  },
  {
   "cell_type": "code",
   "execution_count": null,
   "id": "722efab2",
   "metadata": {},
   "outputs": [],
   "source": [
    "#out_std.append(data_13Oct_1230h_UTC[0].std())"
   ]
  },
  {
   "cell_type": "markdown",
   "id": "75506683",
   "metadata": {},
   "source": [
    "# Initial value decided for price drop pct = 0.0003, which is the position 8 in out_mean. For increase same value chosen initially*2 = 0.0006"
   ]
  },
  {
   "cell_type": "code",
   "execution_count": null,
   "id": "0c764825",
   "metadata": {},
   "outputs": [],
   "source": []
  },
  {
   "cell_type": "markdown",
   "id": "70c93446",
   "metadata": {},
   "source": [
    "## Whale dump between 17:06 and 17:11 in the 16th2023"
   ]
  },
  {
   "cell_type": "code",
   "execution_count": 22,
   "id": "a45cf1c4",
   "metadata": {},
   "outputs": [
    {
     "name": "stdout",
     "output_type": "stream",
     "text": [
      "91\n"
     ]
    },
    {
     "data": {
      "text/plain": [
       "Date\n",
       "2023-01-16 08:08:43   -0.002735\n",
       "2023-01-16 08:08:45   -0.001814\n",
       "2023-01-16 08:08:39   -0.001797\n",
       "2023-01-16 08:09:05   -0.001559\n",
       "2023-01-16 08:09:16   -0.001439\n",
       "2023-01-16 08:09:17   -0.001354\n",
       "2023-01-16 08:09:07   -0.001257\n",
       "2023-01-16 08:09:21   -0.001232\n",
       "2023-01-16 08:09:04   -0.001208\n",
       "2023-01-16 08:09:15   -0.001186\n",
       "Name: log_returns, dtype: float64"
      ]
     },
     "execution_count": 22,
     "metadata": {},
     "output_type": "execute_result"
    }
   ],
   "source": [
    "data_16Jan23_17h_UTC = utils.get_returns_outliers(start='2023-01-16-17:08:30', end='2023-01-16-17:10:00', symbol='BTCUSDT', interval='1s', nsmall=10, nlarge=10)\n",
    "data_16Jan23_17h_UTC[0]"
   ]
  },
  {
   "cell_type": "code",
   "execution_count": 26,
   "id": "771134ed",
   "metadata": {
    "scrolled": true
   },
   "outputs": [
    {
     "data": {
      "text/plain": [
       "Date\n",
       "2023-01-16 08:08:30         NaN\n",
       "2023-01-16 08:08:31    0.000152\n",
       "2023-01-16 08:08:32   -0.000150\n",
       "2023-01-16 08:08:33    0.000142\n",
       "2023-01-16 08:08:34   -0.000139\n",
       "                         ...   \n",
       "2023-01-16 08:09:56   -0.000012\n",
       "2023-01-16 08:09:57    0.000106\n",
       "2023-01-16 08:09:58   -0.000618\n",
       "2023-01-16 08:09:59   -0.000014\n",
       "2023-01-16 08:10:00   -0.000571\n",
       "Name: Close, Length: 91, dtype: float64"
      ]
     },
     "execution_count": 26,
     "metadata": {},
     "output_type": "execute_result"
    }
   ],
   "source": [
    "(data_6Jan23_17h_UTC[3].Close / data_6Jan23_17h_UTC[3].Close.shift(1))-1"
   ]
  },
  {
   "cell_type": "code",
   "execution_count": null,
   "id": "dea7f131",
   "metadata": {},
   "outputs": [],
   "source": []
  }
 ],
 "metadata": {
  "kernelspec": {
   "display_name": "Python 3 (ipykernel)",
   "language": "python",
   "name": "python3"
  },
  "language_info": {
   "codemirror_mode": {
    "name": "ipython",
    "version": 3
   },
   "file_extension": ".py",
   "mimetype": "text/x-python",
   "name": "python",
   "nbconvert_exporter": "python",
   "pygments_lexer": "ipython3",
   "version": "3.9.12"
  }
 },
 "nbformat": 4,
 "nbformat_minor": 5
}
