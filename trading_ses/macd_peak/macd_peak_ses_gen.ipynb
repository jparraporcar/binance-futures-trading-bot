{
 "cells": [
  {
   "cell_type": "code",
   "execution_count": 1,
   "id": "877387d3",
   "metadata": {},
   "outputs": [],
   "source": [
    "import sys\n",
    "sys.path.append('/Users/jp/Desktop/Investment/trading_BOT/trader/macd_peak_long_trader')\n",
    "from macd_peak_long_trader import Macd_peak_long_trader"
   ]
  },
  {
   "cell_type": "code",
   "execution_count": 2,
   "id": "a66aab79",
   "metadata": {},
   "outputs": [],
   "source": [
    "ses_macd_peak = Macd_peak_long_trader(symbol=\"BTCUSDT\", units='0.001',interval='5m', ema_slow=30, ema_fast=4, ema_signal=4, testnet=True, assigned_duration_minutes=1440, emergency_price_chg_pct=0.000014)"
   ]
  },
  {
   "cell_type": "code",
   "execution_count": 3,
   "id": "762d6ab8",
   "metadata": {},
   "outputs": [
    {
     "name": "stdout",
     "output_type": "stream",
     "text": [
      "36\n",
      "36\n"
     ]
    }
   ],
   "source": [
    "ses_macd_peak.start_trading()"
   ]
  },
  {
   "cell_type": "code",
   "execution_count": 5,
   "id": "d8266d86",
   "metadata": {
    "scrolled": false
   },
   "outputs": [
    {
     "name": "stdout",
     "output_type": "stream",
     "text": [
      "trading sesion duration = 4.0 minutes up to 1440\n",
      "\n",
      "\n",
      "----------------------------------------------------------------------------------------------------\n",
      "2022-11-05 09:49:21.585000 | GOING NEUTRAL AND EMERGENCY STOP. REASON: PRICE CHANGE - INCREASE - 1\n",
      "2022-11-05 09:49:21.585000 | Base_Units = 0.001 | Quote_Units = 21.27244 | Price = 21273.01 \n",
      "2022-11-05 09:49:21.585000 | Real profit = 0.008 | Accumulate profit = 0.008 \n",
      "price decreased in 1s in pct: 9.025521071071019e-05, which is more than the imposed pct: 1.4e-05 \n",
      "----------------------------------------------------------------------------------------------------\n",
      "\n",
      ".2022-11-05 09:49:23.283000\n"
     ]
    }
   ],
   "source": [
    "ses_macd_peak.stop_ses(save_to_file=False)"
   ]
  },
  {
   "cell_type": "code",
   "execution_count": null,
   "id": "b09f498c",
   "metadata": {},
   "outputs": [],
   "source": []
  }
 ],
 "metadata": {
  "kernelspec": {
   "display_name": "Python 3 (ipykernel)",
   "language": "python",
   "name": "python3"
  },
  "language_info": {
   "codemirror_mode": {
    "name": "ipython",
    "version": 3
   },
   "file_extension": ".py",
   "mimetype": "text/x-python",
   "name": "python",
   "nbconvert_exporter": "python",
   "pygments_lexer": "ipython3",
   "version": "3.9.12"
  }
 },
 "nbformat": 4,
 "nbformat_minor": 5
}
