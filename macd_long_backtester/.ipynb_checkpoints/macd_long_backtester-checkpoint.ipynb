{
 "cells": [
  {
   "cell_type": "code",
   "execution_count": 2,
   "id": "825bda49",
   "metadata": {
    "scrolled": true
   },
   "outputs": [],
   "source": [
    "import ta\n",
    "import trendet\n",
    "import matplotlib.pyplot as plt\n",
    "import seaborn as sns\n",
    "import pandas as pd\n",
    "import numpy as np\n",
    "from datetime import datetime, timedelta\n",
    "import sys\n",
    "sys.path.append('/Users/jp/Desktop/Investment/utils')\n",
    "import utils as utils\n",
    "import math\n",
    "from string import ascii_uppercase\n",
    "from itertools import product"
   ]
  },
  {
   "cell_type": "code",
   "execution_count": 86,
   "id": "65ede3b3",
   "metadata": {},
   "outputs": [],
   "source": [
    "class Macd_long_backtester():\n",
    "    \n",
    "    '''\n",
    "    Macd class for backtesting strategies\n",
    "    How to use this class:\n",
    "    1) Use 'prepare_data' method:\n",
    "        INPUTS\n",
    "        - start\n",
    "        - end\n",
    "        - interval\n",
    "        - macd parameters\n",
    "        \n",
    "        COLUMNS CREATED\n",
    "        - macd_diff\n",
    "        - macd_macd\n",
    "        - macd_signal\n",
    "        - log_returns_hold\n",
    "        - multiple_hold_acum\n",
    "        - position\n",
    "        - inv_sign\n",
    "        \n",
    "    In order to perform the backtest first it is necessary to follow 2.1) and 2.2) points in order to get the\n",
    "    period of data of interest. Once this period (start and finish) has been chosen, it is necessary to create\n",
    "    a new instance of the class and follow points 1) and 3)\n",
    "        \n",
    "    2.1) Use 'assign_trends' method: \n",
    "        INPUTS\n",
    "        - window_size\n",
    "        \n",
    "        COLUMNS CREATED\n",
    "        - Up Trend\n",
    "        - Down Trend\n",
    "    \n",
    "    2.2) Use 'get_trend_dates' to obtain the dates 'start' and 'finish' for creating the new instance to perform\n",
    "    the optimization\n",
    "    \n",
    "    3) Use 'execute_backtest' to perform the backtesting analysis for the period obtained, and with the macd\n",
    "    paramters given in the point 1) in the new class instance\n",
    "    \n",
    "    SUMMARY:\n",
    "    \n",
    "    FIRST: points 1) 2.1) and 2.2) --> trends analysis and get period for analysis\n",
    "    SECOND: points 1) and 3) --> new class instance for backtesting with period get in 'FIRST'  \n",
    "    '''\n",
    "    \n",
    "    def __init__(self, start=None, end=None, symbol=None):\n",
    "        \n",
    "        \"\"\"Macd long backtester constructor\n",
    "        :param symbol: symbol from Binance from which to extract the data, .i.e. 'BTCUSDT'\n",
    "        :type symbol: str.\n",
    "        :param data: a dataframe with all the data extract from the Binance API for the selected function inputs.\n",
    "        :type data: DataFrame\n",
    "        :param data_uptrend: a dataframe with data extracted from self.data but only for the type of trend\n",
    "        :type data_uptrend: str.\n",
    "        :param data_downtrend: a dataframe with data extracted from self.data but only for the type of trend\n",
    "        :type data_down_trend: str.\n",
    "        :param data_sideways: a dataframe with data extracted from self.data but only for the type of trend\n",
    "        :type data_sideways: str.\n",
    "        \"\"\"\n",
    "        self.symbol = symbol\n",
    "        self.data_init = pd.DataFrame()\n",
    "        self.trend_assigned = None\n",
    "        self.prepared_data_interval = None\n",
    "\n",
    "    \n",
    "    def __repr__(self):\n",
    "        return f\"Macd_long_backtester(symbol={self.symbol})\"\n",
    "\n",
    "    def prepare_data(self, start=None, end=None, interval=None, ema_slow=None, ema_fast=None, ema_signal=None):\n",
    "        '''Prepare all the fields of data necessary for the study. The interval of dates to be studied is the one\n",
    "        given when delclaring the class. To prepare another interval of dates, please create another class instance.\n",
    "        :param start: a string with the following format \"\"%Y-%m-%d-%H:%M:%S\" .i.e. \"2022-01-29-20:00:00\"\n",
    "        :type start: str.\n",
    "        :param end: a string with the following format \"\"%Y-%m-%d-%H:%M:%S\" .i.e. \"2022-02-29-20:00:00\"\n",
    "        :type end: str.\n",
    "        :param interval: string among the followings: [\"1m\", \"3m\", \"5m\", \"15m\", \"30m\", \"1h\", \"2h\", \"4h\", \"6h\", \"8h\", \"12h\", \"1d\", \"3d\", \"1w\", \"1M\"]\n",
    "        :type interval: str.\n",
    "        :param ema_slow: integer representing the length of the ema for the slow part of the macd\n",
    "        :type ema_slow: int.\n",
    "        :param ema_fast: integer representing the length of the ema for the fast part of the macd\n",
    "        :type ema_fast: int.\n",
    "        :param ema_signal: integer representing the length of the ema for the macd signal\n",
    "        :type ema_signal: int.\n",
    "        '''\n",
    "        self.start = start\n",
    "        self.end = end\n",
    "        from_time = int(datetime.strptime(start, \"%Y-%m-%d-%H:%M\").timestamp()*1000)\n",
    "        to_time = int(datetime.strptime(end, \"%Y-%m-%d-%H:%M\").timestamp()*1000)\n",
    "        self.prepared_data_interval = interval\n",
    "        self.data_init = utils.get_history_v2(symbol=self.symbol, interval=interval, start=from_time, end=to_time)[0]\n",
    "        #obtaining MACD instance from python ta\n",
    "        macd_diff = ta.trend.MACD(close=self.data_init.Close, window_slow=ema_slow, window_fast=ema_fast, window_sign=ema_signal, fillna=False).macd_diff()\n",
    "        macd_macd = ta.trend.MACD(close=self.data_init.Close, window_slow=ema_slow, window_fast=ema_fast, window_sign=ema_signal, fillna=False).macd()\n",
    "        macd_signal = ta.trend.MACD(close=self.data_init.Close, window_slow=ema_slow, window_fast=ema_fast, window_sign=ema_signal, fillna=False).macd_signal()\n",
    "        #assigning the values of macd to ticker dataframe\n",
    "        self.data_init['macd_diff'] = macd_diff\n",
    "        self.data_init['macd_macd'] = macd_macd\n",
    "        self.data_init['macd_signal'] = macd_signal\n",
    "        self.data_init['log_returns_hold'] = np.log(self.data_init.Close.div(self.data_init.Close.shift(1)))\n",
    "        self.data_init['multiple_hold_acum'] = np.exp(self.data_init.log_returns_hold.cumsum())\n",
    "        #initialize positions and sign_inv\n",
    "        self.data_init['position'] = 0\n",
    "        self.data_init['inv_sign'] = 0\n",
    "    \n",
    "    def assign_trends(self, window_size=5, plot=False):\n",
    "        '''\n",
    "        REQUIREMENT: execute after \"prepare_data\" method\n",
    "        Function that creates new columns to the data_init field, and prints the plot to show the trends\n",
    "        in the price/time plot.\n",
    "        :param window_size: a trend that has a window higher than the introduced number is assigned.\n",
    "        :type window_size: int.\n",
    "        '''\n",
    "        \n",
    "        #THE SAMPLING INTERVAL MUST BE DAILY IN ORDER FOR THE ALGORITH TO WORK (AS FAR AS I KNOW)\n",
    "        if (self.prepared_data_interval != '1d'):\n",
    "            print(\"The interval that has to be used for preparing the data is '1d'\")\n",
    "            return\n",
    "        \n",
    "        if (self.trend_assigned == True): \n",
    "            print(\"The trends have already been assigned, please execute first 'clean_assign_trend' before executing this method again\")\n",
    "            return\n",
    "        \n",
    "        sns.set(style='darkgrid')\n",
    "        res = trendet.identify_df_trends(df=self.data_init, column='Close', window_size=window_size)\n",
    "        max_close = res.Close.max()      \n",
    "                \n",
    "        plt.figure(figsize=(20, 10))\n",
    "        ax = sns.lineplot(x=res.index, y=res['Close'])\n",
    "        labels = res['Up Trend'].dropna().unique().tolist()\n",
    "\n",
    "        for label in labels:\n",
    "            sns.lineplot(x=res.loc[res['Up Trend'] == label].index, y=res.loc[res['Up Trend'] == label].Close, color='green')\n",
    "            pol1 = ax.axvspan(res.loc[res['Up Trend'] == label].index[0], res.loc[res['Up Trend'] == label].index[-1], alpha=0.2, color='green')\n",
    "            coord = pol1.get_xy()\n",
    "            xcoord = -1 + coord[0][0] + (coord[2][0] - coord[1][0])/2\n",
    "            ax.annotate(label, (xcoord, max_close*3/4))\n",
    "\n",
    "        labels = res['Down Trend'].dropna().unique().tolist()\n",
    "\n",
    "        for label in labels:\n",
    "            sns.lineplot(x=res.loc[res['Down Trend'] == label].index, y=res.loc[res['Down Trend'] == label].Close, color='red')\n",
    "            pol2 =ax.axvspan(res.loc[res['Down Trend'] == label].index[0], res.loc[res['Down Trend'] == label].index[-1], alpha=0.2, color='red')\n",
    "            coord = pol2.get_xy()\n",
    "            xcoord = -1 + coord[0][0] + (coord[2][0] - coord[1][0])/2\n",
    "            ax.annotate(label, (xcoord, max_close*2/4))\n",
    "\n",
    "        increase_letter = False\n",
    "        side_labels = []\n",
    "        i = 0       \n",
    "        for index, data in res.iterrows():\n",
    "            if (not isinstance(data['Up Trend'], str) and not isinstance(data['Down Trend'], str)):\n",
    "                if (increase_letter == True):\n",
    "                    i+=1\n",
    "                res.loc[index, 'Up Trend'] = ascii_uppercase[i]*2\n",
    "                res.loc[index, 'Down Trend'] = ascii_uppercase[i]*2\n",
    "                side_labels.append(ascii_uppercase[i]*2)\n",
    "                increase_letter = False\n",
    "\n",
    "            if (isinstance(data['Up Trend'], str) or isinstance(data['Down Trend'], str)):\n",
    "                pass\n",
    "                increase_letter = True \n",
    "\n",
    "        for label in side_labels:\n",
    "            sns.lineplot(x=res.loc[res['Up Trend'] == label].index, y=res.loc[res['Up Trend'] == label].Close, color='blue')\n",
    "            pol3 =ax.axvspan(res.loc[res['Up Trend'] == label].index[0], res.loc[res['Up Trend'] == label].index[-1], alpha=0.2, color='grey')\n",
    "            coord = pol3.get_xy()\n",
    "            xcoord = -0.5 + coord[0][0] + (coord[2][0] - coord[1][0])/2\n",
    "            ax.annotate(label, (xcoord, max_close*1/4))\n",
    "\n",
    "        self.trend_assigned = True\n",
    "    \n",
    "    def get_trend_dates(self, type=None, trend_ref=None, do_plot=False):\n",
    "        \n",
    "        '''\n",
    "        REQUIREMENT: execute after \"assign_trends\" method\n",
    "        Once the trends have been assigned in data_init, in this function the type of trend seen in the trends chart\n",
    "        and its trend_ref ('A', 'B', 'AA'...), are given and, as output we receive the start and the end dates of the trend.\n",
    "        :param type: valid fields are 'Up Trend', 'Down Trend' and 'Sideways'\n",
    "        :type type: str.\n",
    "        :param trend_ref: letter/s that have been assigned in the 'Up Trend' and 'Down Trend' columns in data_init\n",
    "        :type type: str.\n",
    "        :param plot: if True, plots the selected trend\n",
    "        :param type: bool.\n",
    "        \n",
    "        :return a tuple with two integers representing the time in milliseconds since the epoch for the start and end period.\n",
    "        '''\n",
    "        \n",
    "        if (type == 'Up Trend'):\n",
    "            date_init = self.data_init.loc[self.data_init['Up Trend'] == trend_ref].index[0]\n",
    "            date_end = self.data_init.loc[self.data_init['Up Trend'] == trend_ref].index[-1]\n",
    "            if (do_plot == True):\n",
    "                mask1 = (self.data_init.index >= date_init) \n",
    "                mask2 = (self.data_init.index <= date_end) \n",
    "                self.data_init.Close[mask1 & mask2].plot(figsize=(15,10))\n",
    "\n",
    "        if (type == 'Down Trend'):\n",
    "            date_init = self.data_init.loc[self.data_init['Down Trend'] == trend_ref].index[0]\n",
    "            date_end = self.data_init.loc[self.data_init['Down Trend'] == trend_ref].index[-1]\n",
    "            if (do_plot == True):\n",
    "                mask1 = (self.data_init.index >= date_init) \n",
    "                mask2 = (self.data_init.index <= date_end) \n",
    "                self.data_init.Close[mask1 & mask2].plot(figsize=(15,10)) \n",
    "                \n",
    "        if (type == 'sideways'):\n",
    "            #the letters are in both columns so it does not matter which column it is accesed\n",
    "            date_init = self.data_init.loc[self.data_init['Up Trend'] == trend_ref].index[0]\n",
    "            date_end = self.data_init.loc[self.data_init['Up Trend'] == trend_ref].index[-1]\n",
    "            if (do_plot == True):\n",
    "                mask1 = (self.data_init.index >= date_init) \n",
    "                mask2 = (self.data_init.index <= date_end) \n",
    "                self.data_init.Close[mask1 & mask2].plot(figsize=(15,10))            \n",
    "   \n",
    "        date_init_int = int(date_init.timestamp()*1000)\n",
    "        date_end_int = int(date_end.timestamp()*1000)\n",
    "       \n",
    "        print('date_init:', date_init, date_init_int)\n",
    "        print('date_end:', date_end, date_end_int)    \n",
    "                                \n",
    "        return (date_init_int, date_end_int)\n",
    "\n",
    "    \n",
    "    def clean_assign_trend(self):\n",
    "        '''Delete the columns 'Up Trend' and 'Down Trend' in data_init generated by the 'assign_trend_method'\n",
    "        '''\n",
    "        if (self.trend_assigned == None):\n",
    "            print('trends must be assigned first')\n",
    "            return\n",
    "        \n",
    "        self.data_init.drop(columns=['Up Trend', 'Down Trend'], inplace=True)\n",
    "        self.trend_assigned = False\n",
    "        \n",
    "    def execute_backtest(self):\n",
    "        '''\n",
    "        REQUIREMENT: execute after \"prepare_data\" method\n",
    "        '''\n",
    "        #stablish neutral conditions\n",
    "        ht_pos = self.data_init.macd_diff.shift(1) > 0\n",
    "        ht_plusone_neg = self.data_init.macd_diff < 0\n",
    "        #stablish neutral positions\n",
    "        self.data_init.loc[ht_pos & ht_plusone_neg, 'inv_sign'] = -1\n",
    "        #stablish buy conditions\n",
    "        ht_neg = self.data_init.macd_diff.shift(1) < 0\n",
    "        ht_plusone_pos = self.data_init.macd_diff > 0\n",
    "        #stablish buy positions\n",
    "        self.data_init.loc[ht_neg & ht_plusone_pos, 'inv_sign'] = 1\n",
    "        #create neutral and buy positions algorithm\n",
    "        for index, data in self.data_init.iterrows():\n",
    "            if (data.inv_sign == 1):\n",
    "                self.data_init.loc[index, 'position'] = 1\n",
    "                self.data_init_sub_sell = self.data_init.loc[index + timedelta(minutes=1):]\n",
    "                for index_sub_sell, data_sub_sell in self.data_init_sub_sell.iterrows():\n",
    "                    if (data_sub_sell.inv_sign == 0):\n",
    "                        self.data_init.loc[index_sub_sell, 'position'] = 1\n",
    "                    if (data_sub_sell.inv_sign != 0):\n",
    "                        break\n",
    "            if (data.inv_sign == 0):\n",
    "                pass\n",
    "            if(data.inv_sign == -1):\n",
    "                self.data_init.loc[index, 'position'] = 0\n",
    "                self.data_init_sub_buy = self.data_init.loc[index + timedelta(minutes=1):]\n",
    "                for index_sub_buy, data_sub_buy in self.data_init_sub_buy.iterrows():\n",
    "                    if (data_sub_buy.inv_sign == 0):\n",
    "                        self.data_init.loc[index_sub_buy, 'position'] = 0\n",
    "                    if (data_sub_buy.inv_sign != 0):\n",
    "                        break\n",
    "        #stablish the trading costs and the number of trades done\n",
    "        self.data_init['trades'] = 0\n",
    "        trading_cost = np.log(1 - 0.00075) + np.log(1 - 0.0001)\n",
    "        trade_exec_cond = self.data_init.position.diff().fillna(0).abs() != 0\n",
    "        self.data_init.loc[trade_exec_cond, 'trades'] = 1\n",
    "        #calculate strategy returns\n",
    "        self.data_init['macd_log_returns'] = self.data_init.log_returns_hold * self.data_init.position.shift(1)\n",
    "        self.data_init['macd_log_returns_net'] = self.data_init.macd_log_returns + self.data_init.trades * trading_cost\n",
    "        #calculating the function outputs\n",
    "        multiple_hold = np.exp(self.data_init.log_returns_hold.sum())\n",
    "        multiple_macd_strategy = np.exp(self.data_init.macd_log_returns.sum())\n",
    "        multiple_macd_strategy_net = np.exp(self.data_init.macd_log_returns_net.sum())\n",
    "        tuple_return = (multiple_hold, multiple_macd_strategy, multiple_macd_strategy_net)\n",
    "\n",
    "        return tuple_return "
   ]
  },
  {
   "cell_type": "code",
   "execution_count": 87,
   "id": "d0b03a31",
   "metadata": {},
   "outputs": [
    {
     "data": {
      "text/plain": [
       "Macd_long_backtester(symbol=BTCUSDT)"
      ]
     },
     "execution_count": 87,
     "metadata": {},
     "output_type": "execute_result"
    }
   ],
   "source": [
    "inst = Macd_long_backtester(symbol = 'BTCUSDT' )\n",
    "inst"
   ]
  },
  {
   "cell_type": "code",
   "execution_count": 88,
   "id": "6b1d22b6",
   "metadata": {},
   "outputs": [
    {
     "name": "stdout",
     "output_type": "stream",
     "text": [
      "1400\n"
     ]
    }
   ],
   "source": [
    "inst.prepare_data(interval='1d', start='2018-10-29-20:00', end='2022-08-29-20:00', ema_slow=24, ema_fast=12, ema_signal=9)"
   ]
  },
  {
   "cell_type": "code",
   "execution_count": 89,
   "id": "5670813d",
   "metadata": {},
   "outputs": [
    {
     "data": {
      "image/png": "[encoded data removed]",
      "text/plain": [
       "<Figure size 1440x720 with 1 Axes>"
      ]
     },
     "metadata": {},
     "output_type": "display_data"
    }
   ],
   "source": [
    "inst.assign_trends(window_size=60, plot=True)"
   ]
  },
  {
   "cell_type": "code",
   "execution_count": 90,
   "id": "8b83117d",
   "metadata": {},
   "outputs": [
    {
     "name": "stdout",
     "output_type": "stream",
     "text": [
      "date_init: 2020-10-07 00:00:00 1602028800000\n",
      "date_end: 2021-04-13 00:00:00 1618272000000\n"
     ]
    },
    {
     "data": {
      "text/plain": [
       "(1602028800000, 1618272000000)"
      ]
     },
     "execution_count": 90,
     "metadata": {},
     "output_type": "execute_result"
    },
    {
     "data": {
      "image/png": "[encoded data removed]",
      "text/plain": [
       "<Figure size 1080x720 with 1 Axes>"
      ]
     },
     "metadata": {},
     "output_type": "display_data"
    }
   ],
   "source": [
    "inst.get_trend_dates(type='Up Trend', trend_ref='B', do_plot=True)"
   ]
  },
  {
   "cell_type": "code",
   "execution_count": null,
   "id": "4920f249",
   "metadata": {},
   "outputs": [],
   "source": [
    "inst.data"
   ]
  },
  {
   "cell_type": "code",
   "execution_count": 66,
   "id": "c241c538",
   "metadata": {
    "collapsed": true
   },
   "outputs": [
    {
     "data": {
      "text/html": [
       "<div>\n",
       "<style scoped>\n",
       "    .dataframe tbody tr th:only-of-type {\n",
       "        vertical-align: middle;\n",
       "    }\n",
       "\n",
       "    .dataframe tbody tr th {\n",
       "        vertical-align: top;\n",
       "    }\n",
       "\n",
       "    .dataframe thead th {\n",
       "        text-align: right;\n",
       "    }\n",
       "</style>\n",
       "<table border=\"1\" class=\"dataframe\">\n",
       "  <thead>\n",
       "    <tr style=\"text-align: right;\">\n",
       "      <th></th>\n",
       "      <th>Open</th>\n",
       "      <th>High</th>\n",
       "      <th>Low</th>\n",
       "      <th>Close</th>\n",
       "      <th>Volume</th>\n",
       "      <th>macd_diff</th>\n",
       "      <th>macd_macd</th>\n",
       "      <th>macd_signal</th>\n",
       "      <th>log_returns_hold</th>\n",
       "      <th>multiple_hold_acum</th>\n",
       "      <th>position</th>\n",
       "      <th>inv_sign</th>\n",
       "      <th>Up Trend</th>\n",
       "      <th>Down Trend</th>\n",
       "    </tr>\n",
       "    <tr>\n",
       "      <th>Date</th>\n",
       "      <th></th>\n",
       "      <th></th>\n",
       "      <th></th>\n",
       "      <th></th>\n",
       "      <th></th>\n",
       "      <th></th>\n",
       "      <th></th>\n",
       "      <th></th>\n",
       "      <th></th>\n",
       "      <th></th>\n",
       "      <th></th>\n",
       "      <th></th>\n",
       "      <th></th>\n",
       "      <th></th>\n",
       "    </tr>\n",
       "  </thead>\n",
       "  <tbody>\n",
       "    <tr>\n",
       "      <th>2018-10-30</th>\n",
       "      <td>6344.50</td>\n",
       "      <td>6395.00</td>\n",
       "      <td>6317.01</td>\n",
       "      <td>6330.87</td>\n",
       "      <td>8877.175385</td>\n",
       "      <td>NaN</td>\n",
       "      <td>NaN</td>\n",
       "      <td>NaN</td>\n",
       "      <td>NaN</td>\n",
       "      <td>NaN</td>\n",
       "      <td>0</td>\n",
       "      <td>0</td>\n",
       "      <td>AA</td>\n",
       "      <td>AA</td>\n",
       "    </tr>\n",
       "    <tr>\n",
       "      <th>2018-10-31</th>\n",
       "      <td>6330.01</td>\n",
       "      <td>6428.00</td>\n",
       "      <td>6245.02</td>\n",
       "      <td>6371.93</td>\n",
       "      <td>12148.888216</td>\n",
       "      <td>NaN</td>\n",
       "      <td>NaN</td>\n",
       "      <td>NaN</td>\n",
       "      <td>0.006465</td>\n",
       "      <td>1.006486</td>\n",
       "      <td>0</td>\n",
       "      <td>0</td>\n",
       "      <td>AA</td>\n",
       "      <td>AA</td>\n",
       "    </tr>\n",
       "    <tr>\n",
       "      <th>2018-11-01</th>\n",
       "      <td>6369.52</td>\n",
       "      <td>6442.65</td>\n",
       "      <td>6348.66</td>\n",
       "      <td>6410.00</td>\n",
       "      <td>9099.035841</td>\n",
       "      <td>NaN</td>\n",
       "      <td>NaN</td>\n",
       "      <td>NaN</td>\n",
       "      <td>0.005957</td>\n",
       "      <td>1.012499</td>\n",
       "      <td>0</td>\n",
       "      <td>0</td>\n",
       "      <td>AA</td>\n",
       "      <td>AA</td>\n",
       "    </tr>\n",
       "    <tr>\n",
       "      <th>2018-11-02</th>\n",
       "      <td>6410.00</td>\n",
       "      <td>6460.34</td>\n",
       "      <td>6388.20</td>\n",
       "      <td>6433.98</td>\n",
       "      <td>9739.440679</td>\n",
       "      <td>NaN</td>\n",
       "      <td>NaN</td>\n",
       "      <td>NaN</td>\n",
       "      <td>0.003734</td>\n",
       "      <td>1.016287</td>\n",
       "      <td>0</td>\n",
       "      <td>0</td>\n",
       "      <td>AA</td>\n",
       "      <td>AA</td>\n",
       "    </tr>\n",
       "    <tr>\n",
       "      <th>2018-11-03</th>\n",
       "      <td>6432.80</td>\n",
       "      <td>6439.97</td>\n",
       "      <td>6345.00</td>\n",
       "      <td>6387.09</td>\n",
       "      <td>7661.241476</td>\n",
       "      <td>NaN</td>\n",
       "      <td>NaN</td>\n",
       "      <td>NaN</td>\n",
       "      <td>-0.007315</td>\n",
       "      <td>1.008880</td>\n",
       "      <td>0</td>\n",
       "      <td>0</td>\n",
       "      <td>AA</td>\n",
       "      <td>AA</td>\n",
       "    </tr>\n",
       "    <tr>\n",
       "      <th>...</th>\n",
       "      <td>...</td>\n",
       "      <td>...</td>\n",
       "      <td>...</td>\n",
       "      <td>...</td>\n",
       "      <td>...</td>\n",
       "      <td>...</td>\n",
       "      <td>...</td>\n",
       "      <td>...</td>\n",
       "      <td>...</td>\n",
       "      <td>...</td>\n",
       "      <td>...</td>\n",
       "      <td>...</td>\n",
       "      <td>...</td>\n",
       "      <td>...</td>\n",
       "    </tr>\n",
       "    <tr>\n",
       "      <th>2022-08-25</th>\n",
       "      <td>21368.05</td>\n",
       "      <td>21819.88</td>\n",
       "      <td>21310.15</td>\n",
       "      <td>21559.04</td>\n",
       "      <td>169915.783010</td>\n",
       "      <td>-241.226734</td>\n",
       "      <td>-384.763797</td>\n",
       "      <td>-143.537063</td>\n",
       "      <td>0.008897</td>\n",
       "      <td>3.405383</td>\n",
       "      <td>0</td>\n",
       "      <td>0</td>\n",
       "      <td>EE</td>\n",
       "      <td>EE</td>\n",
       "    </tr>\n",
       "    <tr>\n",
       "      <th>2022-08-26</th>\n",
       "      <td>21559.04</td>\n",
       "      <td>21886.77</td>\n",
       "      <td>20107.90</td>\n",
       "      <td>20241.05</td>\n",
       "      <td>273811.619550</td>\n",
       "      <td>-277.844235</td>\n",
       "      <td>-490.842357</td>\n",
       "      <td>-212.998122</td>\n",
       "      <td>-0.063082</td>\n",
       "      <td>3.197199</td>\n",
       "      <td>0</td>\n",
       "      <td>0</td>\n",
       "      <td>EE</td>\n",
       "      <td>EE</td>\n",
       "    </tr>\n",
       "    <tr>\n",
       "      <th>2022-08-27</th>\n",
       "      <td>20239.14</td>\n",
       "      <td>20402.93</td>\n",
       "      <td>19800.00</td>\n",
       "      <td>20037.60</td>\n",
       "      <td>162582.460320</td>\n",
       "      <td>-295.524142</td>\n",
       "      <td>-582.403300</td>\n",
       "      <td>-286.879158</td>\n",
       "      <td>-0.010102</td>\n",
       "      <td>3.165063</td>\n",
       "      <td>0</td>\n",
       "      <td>0</td>\n",
       "      <td>EE</td>\n",
       "      <td>EE</td>\n",
       "    </tr>\n",
       "    <tr>\n",
       "      <th>2022-08-28</th>\n",
       "      <td>20037.60</td>\n",
       "      <td>20171.18</td>\n",
       "      <td>19520.00</td>\n",
       "      <td>19555.61</td>\n",
       "      <td>139307.959760</td>\n",
       "      <td>-316.180705</td>\n",
       "      <td>-682.105039</td>\n",
       "      <td>-365.924334</td>\n",
       "      <td>-0.024348</td>\n",
       "      <td>3.088929</td>\n",
       "      <td>0</td>\n",
       "      <td>0</td>\n",
       "      <td>EE</td>\n",
       "      <td>EE</td>\n",
       "    </tr>\n",
       "    <tr>\n",
       "      <th>2022-08-29</th>\n",
       "      <td>19555.61</td>\n",
       "      <td>20433.62</td>\n",
       "      <td>19550.79</td>\n",
       "      <td>20285.73</td>\n",
       "      <td>210509.495450</td>\n",
       "      <td>-265.186385</td>\n",
       "      <td>-697.407316</td>\n",
       "      <td>-432.220930</td>\n",
       "      <td>0.036655</td>\n",
       "      <td>3.204256</td>\n",
       "      <td>0</td>\n",
       "      <td>0</td>\n",
       "      <td>EE</td>\n",
       "      <td>EE</td>\n",
       "    </tr>\n",
       "  </tbody>\n",
       "</table>\n",
       "<p>1400 rows × 14 columns</p>\n",
       "</div>"
      ],
      "text/plain": [
       "                Open      High       Low     Close         Volume   macd_diff  \\\n",
       "Date                                                                            \n",
       "2018-10-30   6344.50   6395.00   6317.01   6330.87    8877.175385         NaN   \n",
       "2018-10-31   6330.01   6428.00   6245.02   6371.93   12148.888216         NaN   \n",
       "2018-11-01   6369.52   6442.65   6348.66   6410.00    9099.035841         NaN   \n",
       "2018-11-02   6410.00   6460.34   6388.20   6433.98    9739.440679         NaN   \n",
       "2018-11-03   6432.80   6439.97   6345.00   6387.09    7661.241476         NaN   \n",
       "...              ...       ...       ...       ...            ...         ...   \n",
       "2022-08-25  21368.05  21819.88  21310.15  21559.04  169915.783010 -241.226734   \n",
       "2022-08-26  21559.04  21886.77  20107.90  20241.05  273811.619550 -277.844235   \n",
       "2022-08-27  20239.14  20402.93  19800.00  20037.60  162582.460320 -295.524142   \n",
       "2022-08-28  20037.60  20171.18  19520.00  19555.61  139307.959760 -316.180705   \n",
       "2022-08-29  19555.61  20433.62  19550.79  20285.73  210509.495450 -265.186385   \n",
       "\n",
       "             macd_macd  macd_signal  log_returns_hold  multiple_hold_acum  \\\n",
       "Date                                                                        \n",
       "2018-10-30         NaN          NaN               NaN                 NaN   \n",
       "2018-10-31         NaN          NaN          0.006465            1.006486   \n",
       "2018-11-01         NaN          NaN          0.005957            1.012499   \n",
       "2018-11-02         NaN          NaN          0.003734            1.016287   \n",
       "2018-11-03         NaN          NaN         -0.007315            1.008880   \n",
       "...                ...          ...               ...                 ...   \n",
       "2022-08-25 -384.763797  -143.537063          0.008897            3.405383   \n",
       "2022-08-26 -490.842357  -212.998122         -0.063082            3.197199   \n",
       "2022-08-27 -582.403300  -286.879158         -0.010102            3.165063   \n",
       "2022-08-28 -682.105039  -365.924334         -0.024348            3.088929   \n",
       "2022-08-29 -697.407316  -432.220930          0.036655            3.204256   \n",
       "\n",
       "            position  inv_sign Up Trend Down Trend  \n",
       "Date                                                \n",
       "2018-10-30         0         0       AA         AA  \n",
       "2018-10-31         0         0       AA         AA  \n",
       "2018-11-01         0         0       AA         AA  \n",
       "2018-11-02         0         0       AA         AA  \n",
       "2018-11-03         0         0       AA         AA  \n",
       "...              ...       ...      ...        ...  \n",
       "2022-08-25         0         0       EE         EE  \n",
       "2022-08-26         0         0       EE         EE  \n",
       "2022-08-27         0         0       EE         EE  \n",
       "2022-08-28         0         0       EE         EE  \n",
       "2022-08-29         0         0       EE         EE  \n",
       "\n",
       "[1400 rows x 14 columns]"
      ]
     },
     "execution_count": 66,
     "metadata": {},
     "output_type": "execute_result"
    }
   ],
   "source": [
    "inst.data_init"
   ]
  },
  {
   "cell_type": "code",
   "execution_count": 73,
   "id": "95ae5ba1",
   "metadata": {},
   "outputs": [
    {
     "name": "stdout",
     "output_type": "stream",
     "text": [
      "2020-10-07 00:00:00\n",
      "<class 'pandas._libs.tslibs.timestamps.Timestamp'>\n",
      "2021-04-13 00:00:00\n"
     ]
    }
   ],
   "source": [
    "date_init = inst.data_init.loc[inst.data_init['Up Trend'] == 'B'].index[0]\n",
    "date_end = inst.data_init.loc[inst.data_init['Up Trend'] == 'B'].index[-1]\n",
    "print(date_init)\n",
    "print(type(date_init))\n",
    "print(date_end)"
   ]
  },
  {
   "cell_type": "code",
   "execution_count": 72,
   "id": "1c833729",
   "metadata": {},
   "outputs": [
    {
     "data": {
      "text/plain": [
       "Timestamp('2018-10-30 00:00:00')"
      ]
     },
     "execution_count": 72,
     "metadata": {},
     "output_type": "execute_result"
    }
   ],
   "source": [
    "inst.data_init.index[0]"
   ]
  },
  {
   "cell_type": "code",
   "execution_count": null,
   "id": "d7967cca",
   "metadata": {},
   "outputs": [],
   "source": [
    "inst.data_init.plot()"
   ]
  },
  {
   "cell_type": "code",
   "execution_count": 75,
   "id": "22d17812",
   "metadata": {},
   "outputs": [
    {
     "name": "stdout",
     "output_type": "stream",
     "text": [
      "False\n"
     ]
    }
   ],
   "source": [
    "from pandas.core.dtypes.generic import ABCSeries\n",
    "print(isinstance(inst.data_init.index, ABCSeries))"
   ]
  },
  {
   "cell_type": "code",
   "execution_count": 76,
   "id": "69732fa4",
   "metadata": {},
   "outputs": [
    {
     "name": "stdout",
     "output_type": "stream",
     "text": [
      "<class 'pandas.core.indexes.datetimes.DatetimeIndex'>\n"
     ]
    }
   ],
   "source": [
    "print(type(inst.data_init.index))"
   ]
  },
  {
   "cell_type": "code",
   "execution_count": 77,
   "id": "6e1a5b7e",
   "metadata": {},
   "outputs": [
    {
     "data": {
      "text/plain": [
       "Timestamp('2020-10-07 00:00:00')"
      ]
     },
     "execution_count": 77,
     "metadata": {},
     "output_type": "execute_result"
    }
   ],
   "source": [
    "pd.to_datetime('2020-10-07 00:00:00')"
   ]
  },
  {
   "cell_type": "code",
   "execution_count": 81,
   "id": "b90847b2",
   "metadata": {},
   "outputs": [],
   "source": [
    "mask1 = (inst.data_init.index >= date_init) "
   ]
  },
  {
   "cell_type": "code",
   "execution_count": 82,
   "id": "9be990f6",
   "metadata": {},
   "outputs": [],
   "source": [
    "mask2 = (inst.data_init.index <= date_end)"
   ]
  },
  {
   "cell_type": "code",
   "execution_count": 85,
   "id": "eb757097",
   "metadata": {},
   "outputs": [
    {
     "data": {
      "text/plain": [
       "Date\n",
       "2020-10-07    10666.39\n",
       "2020-10-08    10925.57\n",
       "2020-10-09    11050.64\n",
       "2020-10-10    11293.22\n",
       "2020-10-11    11369.02\n",
       "                ...   \n",
       "2021-04-09    58142.54\n",
       "2021-04-10    59769.13\n",
       "2021-04-11    60002.43\n",
       "2021-04-12    59860.00\n",
       "2021-04-13    63575.00\n",
       "Name: Close, Length: 189, dtype: float64"
      ]
     },
     "execution_count": 85,
     "metadata": {},
     "output_type": "execute_result"
    }
   ],
   "source": [
    "inst.data_init.Close.loc[mask1 & mask2]"
   ]
  },
  {
   "cell_type": "code",
   "execution_count": 84,
   "id": "9971b537",
   "metadata": {},
   "outputs": [
    {
     "data": {
      "text/plain": [
       "<AxesSubplot:xlabel='Date'>"
      ]
     },
     "execution_count": 84,
     "metadata": {},
     "output_type": "execute_result"
    },
    {
     "data": {
      "image/png": "[encoded data removed]",
      "text/plain": [
       "<Figure size 432x288 with 1 Axes>"
      ]
     },
     "metadata": {},
     "output_type": "display_data"
    }
   ],
   "source": [
    "inst.data_init.Close.loc[mask1 & mask2].plot()"
   ]
  },
  {
   "cell_type": "markdown",
   "id": "f16b75bf",
   "metadata": {},
   "source": [
    "## Results tested against the result coming from the file '2022Sep3th_BTC_MACD_long_only_CHECK_OK_Working' and it is the same result for the given paramaters: <br>\n",
    "\n",
    "__1) macd_inst = Macd_long_backtester(symbol='BTCUSDT')__<br>\n",
    "\n",
    "__2) macd_inst.prepare_data(interval='1d', start='2018-10-29-20:00', end='2022-08-29-20:00', ema_slow=24, ema_fast=12, ema_signal=9)__<br>\n",
    "\n",
    "__3) macd_inst.assign_trends(window_size=60, plot=True)__<br>\n",
    "\n",
    "__4) macd_inst.execute_backtest() = (3.2042562870505837, 4.8108773219256085, 4.41872336884791)__<br>\n",
    "\n",
    "__And now results coming from the mentioned file: <br>\n",
    "'2022Sep3th_BTC_MACD_long_only_CHECK_OK_Working':__ <br>\n",
    "\n",
    "__multiple_hold = np.exp(btcusdt.log_returns.sum()) <br>\n",
    "multiple_hold <br>\n",
    "3.2042562870505837__\n",
    "\n",
    "__multiple_macd_strategy = np.exp(btcusdt.macd_log_returns.sum()) <br>\n",
    "multiple_macd_strategy__ <br>\n",
    "__4.8108773219256085__ <br>\n",
    "\n",
    "__multiple_macd_strategy_net = np.exp(btcusdt.macd_log_returns_net.sum()) <br>\n",
    "multiple_macd_strategy_net__ <br>\n",
    "__4.41872336884791__ <br>\n",
    "\n",
    "\n",
    "\n",
    "\n"
   ]
  },
  {
   "cell_type": "code",
   "execution_count": null,
   "id": "56c4ce26",
   "metadata": {},
   "outputs": [],
   "source": []
  }
 ],
 "metadata": {
  "kernelspec": {
   "display_name": "Python 3 (ipykernel)",
   "language": "python",
   "name": "python3"
  },
  "language_info": {
   "codemirror_mode": {
    "name": "ipython",
    "version": 3
   },
   "file_extension": ".py",
   "mimetype": "text/x-python",
   "name": "python",
   "nbconvert_exporter": "python",
   "pygments_lexer": "ipython3",
   "version": "3.9.12"
  }
 },
 "nbformat": 4,
 "nbformat_minor": 5
}
