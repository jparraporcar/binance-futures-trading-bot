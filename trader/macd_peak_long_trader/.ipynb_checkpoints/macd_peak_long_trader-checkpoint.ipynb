{
 "cells": [
  {
   "cell_type": "code",
   "execution_count": 34,
   "id": "70568ec3",
   "metadata": {},
   "outputs": [],
   "source": [
    "import sys\n",
    "sys.path.append('/Users/jp/Desktop/Investment/trading_BOT/trader/macd_trader')\n",
    "from macd_trader import Macd_trader"
   ]
  },
  {
   "cell_type": "code",
   "execution_count": 35,
   "id": "4164ba18",
   "metadata": {},
   "outputs": [],
   "source": [
    "class macd_peak_long_trader(Macd_trader):\n",
    "    \n",
    "    \"\"\"Class to perform live testing using Binance testnet stream of data\n",
    "    \"\"\"\n",
    "    def __init__(self, symbol=None, units='0.0006', interval=None, ema_slow=None, ema_fast=None, ema_signal=None, testnet=None, assigned_duration_minutes=None, emergency_price_chg_pct=None):\n",
    "        super().__init__(symbol, units, interval, ema_slow, ema_fast, ema_signal, testnet, assigned_duration_minutes, emergency_price_chg_pct)\n",
    "        \n",
    "        self.positive_peak_found = False\n",
    "        self.negative_peak_found = False\n",
    "\n",
    "    def stablish_positions(self):\n",
    "        #stablish neutral conditions\n",
    "        cond1 = self.data.macd_diff.iloc[-3] > 0\n",
    "        cond2 = self.data.macd_diff.iloc[-2] > 0\n",
    "        cond3 = self.data.macd_diff.iloc[-1] > 0\n",
    "        cond4 = self.data.macd_diff.iloc[-2] > self.data.macd_diff.iloc[-1]\n",
    "        cond5 = self.data.macd_diff.iloc[-2] > self.data.macd_diff.iloc[-3]\n",
    "        cond_all_neutral = cond1&cond2&cond3&cond4&cond5\n",
    "        \n",
    "        #stablish buy conditions\n",
    "        cond6 = self.data.macd_diff.iloc[-3] < 0\n",
    "        cond7 = self.data.macd_diff.iloc[-2] < 0\n",
    "        cond8 = self.data.macd_diff.iloc[-1] < 0\n",
    "        cond9 = self.data.macd_diff.iloc[-2] < self.data.macd_diff.iloc[-1]\n",
    "        cond10 = self.data.macd_diff.iloc[-2] < self.data.macd_diff.iloc[-3]\n",
    "        cond_all_buy = cond6&cond7&cond8&cond9&cond10        \n",
    "        \n",
    "        if ((cond_all_neutral == True) and (self.positive_peak_found == False)):\n",
    "            self.position = 0 #position adopted in the latest kandle that is incomplete 99% cases\n",
    "            self.negative_peak_found = False\n",
    "            self.positive_peak_found = True\n",
    "        elif ((cond_all_buy == True) and (self.negative_peak_found == False)):\n",
    "            self.position = 1 #position adopted in the latest kandle that is incomplete 99% cases\n",
    "            self.positive_peak_found = False\n",
    "            self.negative_peak_found = True\n",
    "        else:  \n",
    "            self.position = 'no position' #in any other case do nothing and continue\n",
    "            \n",
    "        li = self.data.index == self.data.index[-1]\n",
    "        self.data.loc[li, 'position'] = self.position\n",
    "        \n",
    "    def prepare_recent_data(self):\n",
    "        super().prepare_recent_data()\n",
    "        self.stablish_positions()"
   ]
  }
 ],
 "metadata": {
  "kernelspec": {
   "display_name": "Python 3 (ipykernel)",
   "language": "python",
   "name": "python3"
  },
  "language_info": {
   "codemirror_mode": {
    "name": "ipython",
    "version": 3
   },
   "file_extension": ".py",
   "mimetype": "text/x-python",
   "name": "python",
   "nbconvert_exporter": "python",
   "pygments_lexer": "ipython3",
   "version": "3.9.12"
  }
 },
 "nbformat": 4,
 "nbformat_minor": 5
}
