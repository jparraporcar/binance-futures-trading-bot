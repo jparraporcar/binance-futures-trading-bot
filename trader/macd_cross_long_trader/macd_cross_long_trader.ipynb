{
 "cells": [
  {
   "cell_type": "code",
   "execution_count": 1,
   "id": "bc133829",
   "metadata": {},
   "outputs": [],
   "source": [
    "import sys\n",
    "sys.path.append('/Users/jp/Desktop/Investment/trading_BOT/trader/macd_trader')\n",
    "from macd_trader import Macd_trader"
   ]
  },
  {
   "cell_type": "code",
   "execution_count": null,
   "id": "2f9f4203",
   "metadata": {},
   "outputs": [],
   "source": [
    "class macd_cross_long_trader(Macd_trader):\n",
    "    \n",
    "    \"\"\"Class to perform live testing using Binance testnet stream of data\n",
    "    \"\"\"\n",
    "    def __init__(self, symbol=None, units='0.0006', interval=None, ema_slow=None, ema_fast=None, ema_signal=None, testnet=None, assigned_duration_minutes=None, emergency_price_chg_pct=None):\n",
    "        super().__init__(symbol, units, interval, ema_slow, ema_fast, ema_signal, testnet, assigned_duration_minutes, emergency_price_chg_pct)\n",
    "\n",
    "    def stablish_positions(self):\n",
    "        \n",
    "        ht_previous = self.data.macd_diff.iloc[-2]# this is the kandle before the latest (complete in recent data)\n",
    "        ht_last = self.data.macd_diff.iloc[-1] #this is the last (incomplete 99% cases)\n",
    "        \n",
    "        #stablish neutral conditions\n",
    "        if ((ht_previous > 0) and (ht_last < 0)):\n",
    "            self.position = 0 #position adopted in the latest kandle that is incomplete 99% cases\n",
    "        #stablish buy conditions\n",
    "        elif ((ht_previous < 0) and (ht_last > 0)):\n",
    "            self.position = 1 #position adopted in the latest kandle that is incomplete 99% cases\n",
    "        else:  \n",
    "            self.position = 'no position' #in any other case do nothing and continue\n",
    "        \n",
    "        li = self.data.index == self.data.index[-1]\n",
    "        self.data.loc[li, 'position'] = self.position\n",
    "        \n",
    "    def prepare_recent_data(self):\n",
    "        super().prepare_recent_data()\n",
    "        self.stablish_positions()"
   ]
  }
 ],
 "metadata": {
  "kernelspec": {
   "display_name": "Python 3 (ipykernel)",
   "language": "python",
   "name": "python3"
  },
  "language_info": {
   "codemirror_mode": {
    "name": "ipython",
    "version": 3
   },
   "file_extension": ".py",
   "mimetype": "text/x-python",
   "name": "python",
   "nbconvert_exporter": "python",
   "pygments_lexer": "ipython3",
   "version": "3.9.12"
  }
 },
 "nbformat": 4,
 "nbformat_minor": 5
}
