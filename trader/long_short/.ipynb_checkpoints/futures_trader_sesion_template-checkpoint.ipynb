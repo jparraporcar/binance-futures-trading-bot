{
 "cells": [
  {
   "cell_type": "code",
   "execution_count": 47,
   "id": "c68244a0",
   "metadata": {},
   "outputs": [],
   "source": [
    "import sys\n",
    "sys.path.append('C:\\\\Users\\\\Administrator\\\\Desktop\\\\futures_trader_emg_sltp_ema')\n",
    "sys.path.append('C:\\\\Users\\\\Administrator\\\\Desktop\\\\data')"
   ]
  },
  {
   "cell_type": "code",
   "execution_count": 48,
   "id": "d49c095e",
   "metadata": {},
   "outputs": [],
   "source": [
    "from futures_trader_emg_sltp_ema_v1_0 import Futures_trader_emg_sltp_ema_v1_0\n",
    "import tokyo_data\n",
    "import pandas as pd\n",
    "import numpy as np"
   ]
  },
  {
   "cell_type": "markdown",
   "id": "573e735a",
   "metadata": {},
   "source": [
    "# Notes\n",
    "### -> Temporary before coding it, write in an Excel file when I stop the sesion manually\n",
    "### -> It will be necessary to have some sort of DB with the result of the trading sesions"
   ]
  },
  {
   "cell_type": "markdown",
   "id": "8cd82354",
   "metadata": {},
   "source": [
    "# Create instance"
   ]
  },
  {
   "cell_type": "code",
   "execution_count": 1,
   "id": "677f950d",
   "metadata": {
    "scrolled": false
   },
   "outputs": [],
   "source": [
    "#live_trader = Futures_trader_emg_sltp_ema_v1_1(api_key=tokyo_data.LIVE_API_KEY , api_secret=tokyo_data.LIVE_API_SECRET, testnet=False, symbol='APTUSDT', units='0.02', interval='15m', ema_slow=25, ema_fast=10, ema_signal=10, sma_trend_slow=100, ema_trend_fast=20, sl=0.010, tp=0.025, leverage=20, bot_name='futures_trader', assigned_duration_minutes=72000, assigned_emergency_price_chg_pu=None)"
   ]
  },
  {
   "cell_type": "markdown",
   "id": "f86f7dc7",
   "metadata": {},
   "source": [
    "\n",
    "# Sesion control"
   ]
  },
  {
   "cell_type": "code",
   "execution_count": 44,
   "id": "68d96a68",
   "metadata": {},
   "outputs": [],
   "source": [
    "#live_trader.trade_start_time_utc"
   ]
  },
  {
   "cell_type": "code",
   "execution_count": 46,
   "id": "624a9a6f",
   "metadata": {
    "scrolled": true
   },
   "outputs": [],
   "source": [
    "#live_trader.trades_list"
   ]
  },
  {
   "cell_type": "code",
   "execution_count": null,
   "id": "ac92b1c3",
   "metadata": {},
   "outputs": [],
   "source": [
    "#live_trader.client.futures_account_balance()"
   ]
  },
  {
   "cell_type": "code",
   "execution_count": null,
   "id": "3c778272",
   "metadata": {},
   "outputs": [],
   "source": [
    "#live_trader.tp"
   ]
  },
  {
   "cell_type": "code",
   "execution_count": null,
   "id": "2650d45e",
   "metadata": {},
   "outputs": [],
   "source": []
  }
 ],
 "metadata": {
  "kernelspec": {
   "display_name": "Python 3 (ipykernel)",
   "language": "python",
   "name": "python3"
  },
  "language_info": {
   "codemirror_mode": {
    "name": "ipython",
    "version": 3
   },
   "file_extension": ".py",
   "mimetype": "text/x-python",
   "name": "python",
   "nbconvert_exporter": "python",
   "pygments_lexer": "ipython3",
   "version": "3.9.12"
  }
 },
 "nbformat": 4,
 "nbformat_minor": 5
}
