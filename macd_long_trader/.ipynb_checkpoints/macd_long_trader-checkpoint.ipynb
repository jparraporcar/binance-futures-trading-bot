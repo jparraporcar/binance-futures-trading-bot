{
 "cells": [
  {
   "cell_type": "code",
   "execution_count": 2,
   "id": "2330a9c4",
   "metadata": {},
   "outputs": [],
   "source": [
    "from binance.client import Client\n",
    "from binance import ThreadedWebsocketManager\n",
    "import binance as bn\n",
    "import pandas as pd\n",
    "import sys\n",
    "sys.path.append('/Users/jp/Desktop/Investment/utils')\n",
    "import utils as utils"
   ]
  },
  {
   "cell_type": "code",
   "execution_count": 3,
   "id": "207ca936",
   "metadata": {},
   "outputs": [],
   "source": [
    "api_key = \"y6D1BHRcjTDCcaOi21C3LuwHpYxe0itpoOYca1DTYDlFNrNBi5OZkeFGK4rBb4Ga\"\n",
    "api_secret = \"c4pIQ5H5s9d1ezmTrfxAfguBTC4f6QFLoBEK4ftokm9yEPBbVyqDF05dxCbTnr57\""
   ]
  },
  {
   "cell_type": "code",
   "execution_count": 4,
   "id": "32fc2944",
   "metadata": {},
   "outputs": [],
   "source": [
    "client = Client(api_key=api_key, api_secret=api_secret, tld = \"com\", testnet = True)"
   ]
  },
  {
   "cell_type": "code",
   "execution_count": 5,
   "id": "191cd788",
   "metadata": {
    "collapsed": true
   },
   "outputs": [
    {
     "data": {
      "text/plain": [
       "{'makerCommission': 0,\n",
       " 'takerCommission': 0,\n",
       " 'buyerCommission': 0,\n",
       " 'sellerCommission': 0,\n",
       " 'canTrade': True,\n",
       " 'canWithdraw': False,\n",
       " 'canDeposit': False,\n",
       " 'brokered': False,\n",
       " 'updateTime': 1662536916250,\n",
       " 'accountType': 'SPOT',\n",
       " 'balances': [{'asset': 'BNB',\n",
       "   'free': '1000.00000000',\n",
       "   'locked': '0.00000000'},\n",
       "  {'asset': 'BTC', 'free': '1.00000000', 'locked': '0.00000000'},\n",
       "  {'asset': 'BUSD', 'free': '10000.00000000', 'locked': '0.00000000'},\n",
       "  {'asset': 'ETH', 'free': '100.00000000', 'locked': '0.00000000'},\n",
       "  {'asset': 'LTC', 'free': '500.00000000', 'locked': '0.00000000'},\n",
       "  {'asset': 'TRX', 'free': '500000.00000000', 'locked': '0.00000000'},\n",
       "  {'asset': 'USDT', 'free': '10000.00000000', 'locked': '0.00000000'},\n",
       "  {'asset': 'XRP', 'free': '50000.00000000', 'locked': '0.00000000'}],\n",
       " 'permissions': ['SPOT']}"
      ]
     },
     "execution_count": 5,
     "metadata": {},
     "output_type": "execute_result"
    }
   ],
   "source": [
    "client.get_account()"
   ]
  },
  {
   "cell_type": "code",
   "execution_count": 6,
   "id": "02640ada",
   "metadata": {},
   "outputs": [],
   "source": [
    "twm = ThreadedWebsocketManager()\n",
    "twm.start()"
   ]
  },
  {
   "cell_type": "code",
   "execution_count": 8,
   "id": "fc210217",
   "metadata": {
    "collapsed": true
   },
   "outputs": [
    {
     "data": {
      "text/plain": [
       "'btcusdt@kline_1m'"
      ]
     },
     "execution_count": 8,
     "metadata": {},
     "output_type": "execute_result"
    },
    {
     "name": "stdout",
     "output_type": "stream",
     "text": [
      "{'e': 'kline', 'E': 1662135548508, 's': 'BTCUSDT', 'k': {'t': 1662135540000, 'T': 1662135599999, 's': 'BTCUSDT', 'i': '1m', 'f': 1745009083, 'L': 1745009890, 'o': '20313.63000000', 'c': '20310.67000000', 'h': '20314.55000000', 'l': '20307.08000000', 'v': '27.31107000', 'n': 808, 'x': False, 'q': '554698.28212790', 'V': '11.87609000', 'Q': '241222.24887220', 'B': '0'}}\n",
      "{'e': 'kline', 'E': 1662135550509, 's': 'BTCUSDT', 'k': {'t': 1662135540000, 'T': 1662135599999, 's': 'BTCUSDT', 'i': '1m', 'f': 1745009083, 'L': 1745010059, 'o': '20313.63000000', 'c': '20310.09000000', 'h': '20314.55000000', 'l': '20307.08000000', 'v': '32.26781000', 'n': 977, 'x': False, 'q': '655370.07243250', 'V': '12.76052000', 'Q': '259185.50518170', 'B': '0'}}\n",
      "{'e': 'kline', 'E': 1662135552596, 's': 'BTCUSDT', 'k': {'t': 1662135540000, 'T': 1662135599999, 's': 'BTCUSDT', 'i': '1m', 'f': 1745009083, 'L': 1745010228, 'o': '20313.63000000', 'c': '20309.85000000', 'h': '20314.55000000', 'l': '20307.08000000', 'v': '35.55644000', 'n': 1146, 'x': False, 'q': '722158.76522240', 'V': '13.29672000', 'Q': '270075.48409670', 'B': '0'}}\n",
      "{'e': 'kline', 'E': 1662135554685, 's': 'BTCUSDT', 'k': {'t': 1662135540000, 'T': 1662135599999, 's': 'BTCUSDT', 'i': '1m', 'f': 1745009083, 'L': 1745010489, 'o': '20313.63000000', 'c': '20308.94000000', 'h': '20314.55000000', 'l': '20307.08000000', 'v': '41.91926000', 'n': 1407, 'x': False, 'q': '851392.08692870', 'V': '16.35235000', 'Q': '332139.39143870', 'B': '0'}}\n",
      "{'e': 'kline', 'E': 1662135556713, 's': 'BTCUSDT', 'k': {'t': 1662135540000, 'T': 1662135599999, 's': 'BTCUSDT', 'i': '1m', 'f': 1745009083, 'L': 1745010690, 'o': '20313.63000000', 'c': '20311.12000000', 'h': '20314.55000000', 'l': '20306.20000000', 'v': '47.73233000', 'n': 1608, 'x': False, 'q': '969446.09188670', 'V': '18.62104000', 'Q': '378215.43026070', 'B': '0'}}\n",
      "{'e': 'kline', 'E': 1662135558716, 's': 'BTCUSDT', 'k': {'t': 1662135540000, 'T': 1662135599999, 's': 'BTCUSDT', 'i': '1m', 'f': 1745009083, 'L': 1745010830, 'o': '20313.63000000', 'c': '20309.97000000', 'h': '20314.55000000', 'l': '20306.20000000', 'v': '54.24191000', 'n': 1748, 'x': False, 'q': '1101655.03442920', 'V': '19.38481000', 'Q': '393727.68169730', 'B': '0'}}\n",
      "{'e': 'kline', 'E': 1662135560733, 's': 'BTCUSDT', 'k': {'t': 1662135540000, 'T': 1662135599999, 's': 'BTCUSDT', 'i': '1m', 'f': 1745009083, 'L': 1745010888, 'o': '20313.63000000', 'c': '20312.92000000', 'h': '20314.55000000', 'l': '20306.20000000', 'v': '55.47308000', 'n': 1806, 'x': False, 'q': '1126662.24720710', 'V': '20.46219000', 'Q': '415611.29535890', 'B': '0'}}\n",
      "{'e': 'kline', 'E': 1662135562764, 's': 'BTCUSDT', 'k': {'t': 1662135540000, 'T': 1662135599999, 's': 'BTCUSDT', 'i': '1m', 'f': 1745009083, 'L': 1745011063, 'o': '20313.63000000', 'c': '20312.35000000', 'h': '20315.50000000', 'l': '20306.20000000', 'v': '60.45931000', 'n': 1981, 'x': False, 'q': '1227952.49474410', 'V': '22.55011000', 'Q': '458026.37453340', 'B': '0'}}\n",
      "{'e': 'kline', 'E': 1662135564835, 's': 'BTCUSDT', 'k': {'t': 1662135540000, 'T': 1662135599999, 's': 'BTCUSDT', 'i': '1m', 'f': 1745009083, 'L': 1745011198, 'o': '20313.63000000', 'c': '20310.55000000', 'h': '20315.50000000', 'l': '20306.20000000', 'v': '65.10259000', 'n': 2116, 'x': False, 'q': '1322261.56290950', 'V': '24.05575000', 'Q': '488607.98356150', 'B': '0'}}\n"
     ]
    }
   ],
   "source": [
    "twm.start_kline_socket(callback = printing, symbol = \"BTCUSDT\", interval = \"1m\")"
   ]
  },
  {
   "cell_type": "code",
   "execution_count": 9,
   "id": "a76b58f0",
   "metadata": {
    "collapsed": true
   },
   "outputs": [
    {
     "name": "stdout",
     "output_type": "stream",
     "text": [
      "{'e': 'kline', 'E': 1662135566852, 's': 'BTCUSDT', 'k': {'t': 1662135540000, 'T': 1662135599999, 's': 'BTCUSDT', 'i': '1m', 'f': 1745009083, 'L': 1745011303, 'o': '20313.63000000', 'c': '20310.20000000', 'h': '20315.50000000', 'l': '20306.20000000', 'v': '66.81665000', 'n': 2221, 'x': False, 'q': '1357074.79102310', 'V': '24.50214000', 'Q': '497674.64671770', 'B': '0'}}\n"
     ]
    }
   ],
   "source": [
    "twm.stop()"
   ]
  },
  {
   "cell_type": "code",
   "execution_count": 3,
   "id": "5b11c703",
   "metadata": {
    "scrolled": true
   },
   "outputs": [],
   "source": [
    "class Long_macd_trader():\n",
    "    \n",
    "    \"\"\"Class to perform live testing using Binance testnet stream of data\n",
    "    \"\"\"\n",
    "    def __init__(self, position, interval, start, end=None):\n",
    "        \n",
    "        \"\"\"Long_macd_trader class constructor\n",
    "        :param interval: a string among the followings: [\"1m\", \"3m\", \"5m\", \"15m\", \"30m\", \"1h\", \"2h\", \"4h\", \"6h\", \"8h\", \"12h\", \"1d\", \"3d\", \"1w\", \"1M\"]\n",
    "        :type interval: str.\n",
    "        :param start: a string with the following format \"\"%Y-%m-%d-%H:%M\" .i.e. \"2022-01-29-20:00\"\n",
    "        :type start: str.\n",
    "        :param end: a string with the following format \"\"%Y-%m-%d-%H:%M\" .i.e. \"2022-02-29-20:00\"\n",
    "        :type end: str.\n",
    "        :position: initial position in the market. 1 for long (have the asset) 0 for neutral (dont have the asset)\n",
    "        :position: integer\n",
    "        :back_testing: set to True if backtesting is necessary\n",
    "        \"\"\"\n",
    "        \n",
    "        self.position = position        \n",
    "        self.interval = interval\n",
    "        self.start = start\n",
    "        self.end = end\n",
    "        self.data = pd.DataFrame()\n",
    "    \n",
    "    def stream_candles(self, msg):\n",
    "        event_time = pd.to_datetime(msg[\"E\"], unit = \"ms\")\n",
    "        start_time = pd.to_datetime(msg[\"k\"][\"t\"], unit = \"ms\")\n",
    "        first   = float(msg[\"k\"][\"o\"])\n",
    "        high    = float(msg[\"k\"][\"h\"])\n",
    "        low     = float(msg[\"k\"][\"l\"])\n",
    "        close   = float(msg[\"k\"][\"c\"])\n",
    "        volume  = float(msg[\"k\"][\"v\"])\n",
    "        complete=       msg[\"k\"][\"x\"]\n",
    "    \n",
    "        # print out\n",
    "        print(\"Time: {} | Price: {}\".format(event_time, close))\n",
    "    \n",
    "        # feed df (add new bar / update latest bar)\n",
    "        self.data.loc[start_time] = [first, high, low, close, volume, complete]\n",
    "        \n",
    "    def start_trading(self):\n",
    "\n",
    "        self.twm = ThreadedWebsocketManager()\n",
    "        self.twm.start()\n",
    "        \n",
    "        self.get_recent_data(self, symbol=self.symbol, interval=self.interval, start=self.start, end=self.end)\n",
    "        self.twm.start_kline_socket(callback = self.stream_candles, symbol = self.symbol, interval = self.interval)\n",
    "        \n",
    "        \n",
    "    def define_strategy(self):\n",
    "        pass\n",
    "        \n",
    "    def execute_trades(self):\n",
    "        pass\n",
    "        \n",
    "    def reporting(self):\n",
    "        pass\n",
    "        \n",
    "    def get_recent_data(self):\n",
    "        '''\n",
    "        REMARK: Introduced time must be in Tokyo time (UTC+9) but the calculations will be in UTC\n",
    "        Prepare all the fields of data necessary for the study. The interval of dates to be studied is the one\n",
    "        given when delclaring the class. To prepare another interval of dates, please create another class instance.\n",
    "        :param start: a string with the following format \"\"%Y-%m-%d-%H:%M\" .i.e. \"2022-01-29-20:00\"\n",
    "        :type start: str.\n",
    "        :param end: a string with the following format \"\"%Y-%m-%d-%H:%M\" .i.e. \"2022-02-29-20:00\"\n",
    "        :type end: str.\n",
    "        :param interval: string among the followings: [\"1m\", \"3m\", \"5m\", \"15m\", \"30m\", \"1h\", \"2h\", \"4h\", \"6h\", \"8h\", \"12h\", \"1d\", \"3d\", \"1w\", \"1M\"]\n",
    "        :type interval: str.\n",
    "        '''\n",
    "        data_hist = utils.get_history_v2(symbol=self.symbol, interval=self.interval, start=self.start, end=self.end)[0]\n",
    "        data_hist[\"Complete\"] = [True for row in range(len(data_hist)-1)] + [False]\n",
    "    "
   ]
  },
  {
   "cell_type": "code",
   "execution_count": null,
   "id": "78c3385a",
   "metadata": {},
   "outputs": [],
   "source": []
  }
 ],
 "metadata": {
  "kernelspec": {
   "display_name": "Python 3 (ipykernel)",
   "language": "python",
   "name": "python3"
  },
  "language_info": {
   "codemirror_mode": {
    "name": "ipython",
    "version": 3
   },
   "file_extension": ".py",
   "mimetype": "text/x-python",
   "name": "python",
   "nbconvert_exporter": "python",
   "pygments_lexer": "ipython3",
   "version": "3.9.12"
  }
 },
 "nbformat": 4,
 "nbformat_minor": 5
}
