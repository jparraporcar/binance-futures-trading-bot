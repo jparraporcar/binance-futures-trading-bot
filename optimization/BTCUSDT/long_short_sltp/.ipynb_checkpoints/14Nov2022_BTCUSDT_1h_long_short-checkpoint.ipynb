{
 "cells": [
  {
   "cell_type": "code",
   "execution_count": 35,
   "id": "60646008",
   "metadata": {},
   "outputs": [],
   "source": [
    "import sys\n",
    "from datetime import datetime, timedelta, timezone\n",
    "sys.path.append('/Users/jp/Desktop/Investment/trading_BOT/backtest/macd_ls_backtester_sma')\n",
    "from macd_ls_backtester_sma import Macd_ls_backtester_sma\n",
    "import pandas as pd\n",
    "import matplotlib.pyplot as plt\n",
    "import numpy as np\n",
    "sys.path.append('/Users/jp/Desktop/Investment/utils')\n",
    "import utils as utils"
   ]
  },
  {
   "cell_type": "code",
   "execution_count": 36,
   "id": "d880f43a",
   "metadata": {},
   "outputs": [],
   "source": [
    "pd.set_option('display.max_rows', None)"
   ]
  },
  {
   "cell_type": "code",
   "execution_count": 37,
   "id": "8416abe9",
   "metadata": {},
   "outputs": [],
   "source": [
    "pd.set_option('display.max_columns', None)"
   ]
  },
  {
   "cell_type": "code",
   "execution_count": 50,
   "id": "cace08b7",
   "metadata": {},
   "outputs": [
    {
     "name": "stdout",
     "output_type": "stream",
     "text": [
      "class version 0.0 is being used\n"
     ]
    }
   ],
   "source": [
    "macd_ls_sma_1h = Macd_ls_backtester_sma('BTCUSDT','1h')"
   ]
  },
  {
   "cell_type": "code",
   "execution_count": 51,
   "id": "d6283808",
   "metadata": {
    "scrolled": true
   },
   "outputs": [
    {
     "name": "stdout",
     "output_type": "stream",
     "text": [
      "3625\n",
      "2021-12-29 12:00:00\n",
      "3685\n",
      "   multiple_hold  ann_log_mean_hold  ann_log_std_hold  sharpe_ratio_hold  \\\n",
      "0       0.667811          -0.975951          0.673414          -1.449257   \n",
      "\n",
      "   multiple_macd_strategy  ann_log_mean_macd  ann_log_std_macd  \\\n",
      "0                0.746095          -0.708009           0.67218   \n",
      "\n",
      "   sharpe_ratio_macd  multiple_macd_strategy_net  ann_log_mean_macd_net  \\\n",
      "0          -1.053303                    0.697031              -0.872435   \n",
      "\n",
      "   ann_log_std_macd_net  sharpe_ratio_macd_net  success_trades_net  \\\n",
      "0              0.673767              -1.294861                  25   \n",
      "\n",
      "   failure_trades_net  success_trades_net_pct  failure_trades_net_pct  \\\n",
      "0                  55                    31.2                    68.8   \n",
      "\n",
      "   total_trades  \n",
      "0            80  \n",
      "processed 1 out of a total 1200\n",
      "3625\n",
      "2021-12-29 12:00:00\n",
      "3685\n",
      "error type is 'KeyboardInterrupt'. The data calculated so far has been stored in self.opt_results\n"
     ]
    }
   ],
   "source": [
    "macd_ls_sma_1h.execute_opt(start_opt='2022-01-01-00:00', end_opt='2022-06-01-00:00', ema_fast_opt=(2,18,4), ema_slow_opt=(15,40,5), ema_sign_opt=(2, 30, 6), sma_slow=(60,200,40), sma_fast=(10,60,20))"
   ]
  },
  {
   "cell_type": "code",
   "execution_count": null,
   "id": "0edafdb7",
   "metadata": {},
   "outputs": [],
   "source": []
  }
 ],
 "metadata": {
  "kernelspec": {
   "display_name": "Python 3 (ipykernel)",
   "language": "python",
   "name": "python3"
  },
  "language_info": {
   "codemirror_mode": {
    "name": "ipython",
    "version": 3
   },
   "file_extension": ".py",
   "mimetype": "text/x-python",
   "name": "python",
   "nbconvert_exporter": "python",
   "pygments_lexer": "ipython3",
   "version": "3.9.12"
  }
 },
 "nbformat": 4,
 "nbformat_minor": 5
}
