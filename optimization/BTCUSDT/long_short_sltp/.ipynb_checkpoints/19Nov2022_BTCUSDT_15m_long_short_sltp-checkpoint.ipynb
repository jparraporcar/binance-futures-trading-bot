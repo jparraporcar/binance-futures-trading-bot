{
 "cells": [
  {
   "cell_type": "code",
   "execution_count": 1,
   "id": "60646008",
   "metadata": {},
   "outputs": [],
   "source": [
    "import sys\n",
    "from datetime import datetime, timedelta, timezone\n",
    "sys.path.append('/Users/jp/Desktop/Investment/trading_BOT/backtest/macd_ls_backtester_sma_sltp/')\n",
    "from macd_ls_backtester_sma_sltp import Macd_ls_backtester_sma_sltp\n",
    "import pandas as pd\n",
    "import matplotlib.pyplot as plt\n",
    "import numpy as np\n",
    "sys.path.append('/Users/jp/Desktop/Investment/utils')\n",
    "import utils as utils"
   ]
  },
  {
   "cell_type": "code",
   "execution_count": 2,
   "id": "d880f43a",
   "metadata": {},
   "outputs": [],
   "source": [
    "pd.set_option('display.max_rows', None)"
   ]
  },
  {
   "cell_type": "code",
   "execution_count": 3,
   "id": "8416abe9",
   "metadata": {},
   "outputs": [],
   "source": [
    "pd.set_option('display.max_columns', None)"
   ]
  },
  {
   "cell_type": "code",
   "execution_count": 2,
   "id": "cace08b7",
   "metadata": {},
   "outputs": [
    {
     "name": "stdout",
     "output_type": "stream",
     "text": [
      "class version 0.0 is being used\n"
     ]
    }
   ],
   "source": [
    "macd_ls_sma_sltp_15m = Macd_ls_backtester_sma_sltp('BTCUSDT','15m', trading_cost_fees=0.0004, trading_cost_others=0.00001)"
   ]
  },
  {
   "cell_type": "code",
   "execution_count": 14,
   "id": "92bf0439",
   "metadata": {
    "scrolled": true
   },
   "outputs": [],
   "source": [
    "macd_ls_sma_sltp_15m.execute_opt(start_opt='2022-04-15-00:00', end_opt='2022-06-01-00:00', ema_fast_opt=(2,18,4), ema_slow_opt=(15,40,5), ema_sign_opt=(2, 30, 6), sma_slow=(60,200,40), sma_fast=(10,60,20))"
   ]
  }
 ],
 "metadata": {
  "kernelspec": {
   "display_name": "Python 3 (ipykernel)",
   "language": "python",
   "name": "python3"
  },
  "language_info": {
   "codemirror_mode": {
    "name": "ipython",
    "version": 3
   },
   "file_extension": ".py",
   "mimetype": "text/x-python",
   "name": "python",
   "nbconvert_exporter": "python",
   "pygments_lexer": "ipython3",
   "version": "3.9.12"
  }
 },
 "nbformat": 4,
 "nbformat_minor": 5
}
