{
 "cells": [
  {
   "cell_type": "code",
   "execution_count": 1,
   "id": "622ab346",
   "metadata": {},
   "outputs": [],
   "source": [
    "import sys\n",
    "sys.path.append('/Users/jp/Desktop/Investment/trading_BOT/macd_long_backtester')\n",
    "from macd_long_backtester import Macd_long_backtester\n",
    "import pandas as pd"
   ]
  },
  {
   "cell_type": "code",
   "execution_count": 2,
   "id": "90b8695a",
   "metadata": {},
   "outputs": [],
   "source": [
    "macd_overall = Macd_long_backtester('BTCUSDT')"
   ]
  },
  {
   "cell_type": "code",
   "execution_count": null,
   "id": "646019ff",
   "metadata": {
    "scrolled": true
   },
   "outputs": [
    {
     "name": "stdout",
     "output_type": "stream",
     "text": [
      "17522\n",
      "17522\n",
      "17522\n",
      "17522\n",
      "17522\n",
      "17522\n",
      "17522\n",
      "17522\n"
     ]
    }
   ],
   "source": [
    "macd_overall.execute_opt(interval_opt=('1h', '4h', '1w') ,start_opt='2020-01-01-00:00', end_opt='2022-01-01-08:00', ema_fast_opt=(4,16,1), ema_slow_opt=(16,40,1), ema_sign_opt=(6, 30, 1), int_for_max='4h', type_trend='overall', trend_ref='random1')"
   ]
  },
  {
   "cell_type": "markdown",
   "id": "f5831da5",
   "metadata": {},
   "source": []
  }
 ],
 "metadata": {
  "kernelspec": {
   "display_name": "Python 3 (ipykernel)",
   "language": "python",
   "name": "python3"
  },
  "language_info": {
   "codemirror_mode": {
    "name": "ipython",
    "version": 3
   },
   "file_extension": ".py",
   "mimetype": "text/x-python",
   "name": "python",
   "nbconvert_exporter": "python",
   "pygments_lexer": "ipython3",
   "version": "3.9.12"
  }
 },
 "nbformat": 4,
 "nbformat_minor": 5
}
