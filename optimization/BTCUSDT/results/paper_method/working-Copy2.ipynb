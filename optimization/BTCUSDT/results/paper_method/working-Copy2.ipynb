{
 "cells": [
  {
   "cell_type": "code",
   "execution_count": 1,
   "id": "622ab346",
   "metadata": {},
   "outputs": [],
   "source": [
    "import sys\n",
    "sys.path.append('/Users/jp/Desktop/Investment/trading_BOT/macd_long_backtester')\n",
    "from macd_long_backtester import Macd_long_backtester\n",
    "import pandas as pd\n",
    "import matplotlib.pyplot as plt"
   ]
  },
  {
   "cell_type": "markdown",
   "id": "cf689c16",
   "metadata": {},
   "source": [
    "### Calculating interval for subperiods"
   ]
  },
  {
   "cell_type": "code",
   "execution_count": 2,
   "id": "cc17d260",
   "metadata": {},
   "outputs": [],
   "source": [
    "macd_td = Macd_long_backtester(symbol='BTCUSDT')"
   ]
  },
  {
   "cell_type": "code",
   "execution_count": 3,
   "id": "a0003416",
   "metadata": {},
   "outputs": [
    {
     "name": "stdout",
     "output_type": "stream",
     "text": [
      "1859\n"
     ]
    }
   ],
   "source": [
    "macd_td.prepare_data(start='2016-01-29-20:00', end='2023-09-11-20:00', interval='1d')"
   ]
  },
  {
   "cell_type": "code",
   "execution_count": 4,
   "id": "40c04c1b",
   "metadata": {},
   "outputs": [],
   "source": [
    "mindate = macd_td.data_init.index[0]"
   ]
  },
  {
   "cell_type": "code",
   "execution_count": 5,
   "id": "89c158e1",
   "metadata": {},
   "outputs": [],
   "source": [
    "maxdate = macd_td.data_init.index[-1]"
   ]
  },
  {
   "cell_type": "code",
   "execution_count": 6,
   "id": "2c8dad80",
   "metadata": {},
   "outputs": [
    {
     "data": {
      "text/plain": [
       "Timedelta('1858 days 00:00:00')"
      ]
     },
     "execution_count": 6,
     "metadata": {},
     "output_type": "execute_result"
    }
   ],
   "source": [
    "total_days = maxdate - mindate\n",
    "total_days"
   ]
  },
  {
   "cell_type": "code",
   "execution_count": 7,
   "id": "ac942c1e",
   "metadata": {},
   "outputs": [
    {
     "data": {
      "text/plain": [
       "Timedelta('619 days 08:00:00')"
      ]
     },
     "execution_count": 7,
     "metadata": {},
     "output_type": "execute_result"
    }
   ],
   "source": [
    "total_subperiod = total_days/3\n",
    "total_subperiod"
   ]
  },
  {
   "cell_type": "code",
   "execution_count": 8,
   "id": "54ee9912",
   "metadata": {},
   "outputs": [
    {
     "data": {
      "text/plain": [
       "(Timestamp('2017-08-17 00:00:00'), Timestamp('2019-04-28 08:00:00'))"
      ]
     },
     "execution_count": 8,
     "metadata": {},
     "output_type": "execute_result"
    }
   ],
   "source": [
    "subperiod1 = (mindate, mindate + total_subperiod)\n",
    "subperiod1"
   ]
  },
  {
   "cell_type": "code",
   "execution_count": 9,
   "id": "95b0ac75",
   "metadata": {},
   "outputs": [
    {
     "data": {
      "text/plain": [
       "(Timestamp('2019-04-28 08:00:00'), Timestamp('2021-01-06 16:00:00'))"
      ]
     },
     "execution_count": 9,
     "metadata": {},
     "output_type": "execute_result"
    }
   ],
   "source": [
    "subperiod2 = (mindate + total_subperiod, mindate + total_subperiod*2)\n",
    "subperiod2"
   ]
  },
  {
   "cell_type": "code",
   "execution_count": 10,
   "id": "07846224",
   "metadata": {},
   "outputs": [
    {
     "data": {
      "text/plain": [
       "(Timestamp('2021-01-06 16:00:00'), Timestamp('2022-09-18 00:00:00'))"
      ]
     },
     "execution_count": 10,
     "metadata": {},
     "output_type": "execute_result"
    }
   ],
   "source": [
    "subperiod3 = (mindate + total_subperiod*2, mindate + total_subperiod*3)\n",
    "subperiod3"
   ]
  },
  {
   "cell_type": "markdown",
   "id": "e819a800",
   "metadata": {},
   "source": [
    "### Running optimization for subperiod1"
   ]
  },
  {
   "cell_type": "code",
   "execution_count": 11,
   "id": "9e3bb467",
   "metadata": {},
   "outputs": [],
   "source": [
    "macd_subperiod1 = Macd_long_backtester('BTCUSDT')"
   ]
  },
  {
   "cell_type": "code",
   "execution_count": 12,
   "id": "2ca0d52f",
   "metadata": {
    "scrolled": true
   },
   "outputs": [
    {
     "data": {
      "text/plain": [
       "(Timestamp('2017-08-17 00:00:00'), Timestamp('2019-04-28 08:00:00'))"
      ]
     },
     "execution_count": 12,
     "metadata": {},
     "output_type": "execute_result"
    }
   ],
   "source": [
    "subperiod1"
   ]
  },
  {
   "cell_type": "code",
   "execution_count": 13,
   "id": "9d784065",
   "metadata": {
    "scrolled": true
   },
   "outputs": [],
   "source": [
    "# macd_subperiod1.execute_opt(start_opt='2017-08-17-00:00', end_opt='2019-04-28-00:00', interval_opt=('4h', '1d', '1w'), ema_fast_opt=(3,20,1), ema_slow_opt=(5,40,1), ema_sign_opt=(3,40,1), int_for_max='4h', type_trend='paper_method', trend_ref='subperiod1')"
   ]
  },
  {
   "cell_type": "code",
   "execution_count": null,
   "id": "f28860a2",
   "metadata": {},
   "outputs": [],
   "source": [
    "pd.set_option('display.max_rows', None)"
   ]
  },
  {
   "cell_type": "code",
   "execution_count": null,
   "id": "95f598a4",
   "metadata": {},
   "outputs": [],
   "source": [
    "# macd_subperiod1.opt_results.info()"
   ]
  },
  {
   "cell_type": "code",
   "execution_count": null,
   "id": "2d569f48",
   "metadata": {},
   "outputs": [],
   "source": [
    "# macd_subperiod1.opt_results[macd_subperiod1.opt_results.multiple_macd_strategy == macd_subperiod1.opt_results.multiple_macd_strategy.max()]"
   ]
  },
  {
   "cell_type": "code",
   "execution_count": 14,
   "id": "2631c0ae",
   "metadata": {},
   "outputs": [],
   "source": [
    "# macd_subperiod1.data_init.Close.plot(figsize=(15,10))"
   ]
  },
  {
   "cell_type": "markdown",
   "id": "cce3f24f",
   "metadata": {},
   "source": [
    "### Implementing parameters obtained in opt of subperiod1 in subperiod 2: the problem is that subperiod2 has a very big part that is uptrend."
   ]
  },
  {
   "cell_type": "code",
   "execution_count": 17,
   "id": "f18d9442",
   "metadata": {},
   "outputs": [],
   "source": [
    "macd_subperiod2 = Macd_long_backtester('BTCUSDT')"
   ]
  },
  {
   "cell_type": "code",
   "execution_count": 18,
   "id": "95d3f9fd",
   "metadata": {},
   "outputs": [
    {
     "name": "stdout",
     "output_type": "stream",
     "text": [
      "619\n"
     ]
    }
   ],
   "source": [
    "macd_subperiod2.prepare_data(start='2019-04-28-00:00', end='2021-01-06-00:00', interval='1d')"
   ]
  },
  {
   "cell_type": "code",
   "execution_count": 19,
   "id": "6bb0b09b",
   "metadata": {},
   "outputs": [
    {
     "name": "stdout",
     "output_type": "stream",
     "text": [
      "   multiple_hold  ann_log_mean_hold  ann_log_std_hold  sharpe_ratio_hold  \\\n",
      "0       6.396496           1.096034          0.787938           1.391015   \n",
      "\n",
      "   multiple_macd_strategy  ann_log_mean_macd  ann_log_std_macd  \\\n",
      "0                3.583142           0.753766          0.462301   \n",
      "\n",
      "   sharpe_ratio_macd  multiple_macd_strategy_net  ann_log_mean_macd_net  \\\n",
      "0           1.630467                     3.46038               0.733177   \n",
      "\n",
      "   ann_log_std_macd_net  sharpe_ratio_macd_net  \n",
      "0              0.462949               1.583709  \n"
     ]
    },
    {
     "data": {
      "text/plain": [
       "(6.396495915229693,\n",
       " 1.0960337692892503,\n",
       " 0.7879384148674747,\n",
       " 1.3910145115511279,\n",
       " 3.5831419383153533,\n",
       " 0.7537663737043764,\n",
       " 0.4623008221790132,\n",
       " 1.6304673008184727,\n",
       " 3.460379654843151,\n",
       " 0.7331765098825695,\n",
       " 0.4629491185036135,\n",
       " 1.5837086206199287)"
      ]
     },
     "execution_count": 19,
     "metadata": {},
     "output_type": "execute_result"
    }
   ],
   "source": [
    "macd_subperiod2.execute_backtest(ema_fast=15, ema_slow=35, ema_signal=6)"
   ]
  },
  {
   "cell_type": "code",
   "execution_count": null,
   "id": "080e3fbd",
   "metadata": {},
   "outputs": [],
   "source": [
    "macd_subperiod2.data_init.Close.plot(figsize=(15,10))"
   ]
  },
  {
   "cell_type": "code",
   "execution_count": 20,
   "id": "3721b587",
   "metadata": {},
   "outputs": [],
   "source": [
    "macd_subperiod3 = Macd_long_backtester('BTCUSDT')"
   ]
  },
  {
   "cell_type": "code",
   "execution_count": 21,
   "id": "f4e40227",
   "metadata": {},
   "outputs": [
    {
     "name": "stdout",
     "output_type": "stream",
     "text": [
      "619\n"
     ]
    }
   ],
   "source": [
    "macd_subperiod3.prepare_data(start='2021-01-06-00:00', end='2022-09-17-00:00', interval='1d')"
   ]
  },
  {
   "cell_type": "code",
   "execution_count": 22,
   "id": "36df0aa7",
   "metadata": {},
   "outputs": [
    {
     "name": "stdout",
     "output_type": "stream",
     "text": [
      "   multiple_hold  ann_log_mean_hold  ann_log_std_hold  sharpe_ratio_hold  \\\n",
      "0       0.538582          -0.365482          0.758419            -0.4819   \n",
      "\n",
      "   multiple_macd_strategy  ann_log_mean_macd  ann_log_std_macd  \\\n",
      "0                0.640877          -0.262775          0.454716   \n",
      "\n",
      "   sharpe_ratio_macd  multiple_macd_strategy_net  ann_log_mean_macd_net  \\\n",
      "0          -0.577889                    0.619973              -0.282361   \n",
      "\n",
      "   ann_log_std_macd_net  sharpe_ratio_macd_net  \n",
      "0              0.455627              -0.619719  \n"
     ]
    },
    {
     "data": {
      "text/plain": [
       "(0.5385815798806386,\n",
       " -0.3654821184526284,\n",
       " 0.758419220800836,\n",
       " -0.48189986280504027,\n",
       " 0.6408765339222242,\n",
       " -0.262775463140776,\n",
       " 0.4547159024401689,\n",
       " -0.5778893188705925,\n",
       " 0.6199728298967249,\n",
       " -0.28236094336151873,\n",
       " 0.4556272614090186,\n",
       " -0.6197191592274854)"
      ]
     },
     "execution_count": 22,
     "metadata": {},
     "output_type": "execute_result"
    }
   ],
   "source": [
    "macd_subperiod3.execute_backtest(ema_fast=15, ema_slow=35, ema_signal=6)"
   ]
  },
  {
   "cell_type": "code",
   "execution_count": null,
   "id": "88431c5c",
   "metadata": {},
   "outputs": [],
   "source": [
    "macd_subperiod3.data_init.Close.plot(figsize=(15,10))"
   ]
  },
  {
   "cell_type": "code",
   "execution_count": null,
   "id": "a78eb4f5",
   "metadata": {},
   "outputs": [],
   "source": []
  }
 ],
 "metadata": {
  "kernelspec": {
   "display_name": "Python 3 (ipykernel)",
   "language": "python",
   "name": "python3"
  },
  "language_info": {
   "codemirror_mode": {
    "name": "ipython",
    "version": 3
   },
   "file_extension": ".py",
   "mimetype": "text/x-python",
   "name": "python",
   "nbconvert_exporter": "python",
   "pygments_lexer": "ipython3",
   "version": "3.9.12"
  }
 },
 "nbformat": 4,
 "nbformat_minor": 5
}
