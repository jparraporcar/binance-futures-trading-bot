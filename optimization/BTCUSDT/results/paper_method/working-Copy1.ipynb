{
 "cells": [
  {
   "cell_type": "code",
   "execution_count": 2,
   "id": "622ab346",
   "metadata": {},
   "outputs": [],
   "source": [
    "import sys\n",
    "sys.path.append('/Users/jp/Desktop/Investment/trading_BOT/macd_long_backtester')\n",
    "from macd_long_backtester import Macd_long_backtester\n",
    "import pandas as pd\n",
    "import matplotlib.pyplot as plt"
   ]
  },
  {
   "cell_type": "markdown",
   "id": "35446456",
   "metadata": {},
   "source": [
    "### Calculating interval for subperiods"
   ]
  },
  {
   "cell_type": "code",
   "execution_count": 3,
   "id": "cc17d260",
   "metadata": {},
   "outputs": [],
   "source": [
    "macd_td = Macd_long_backtester(symbol='BTCUSDT')"
   ]
  },
  {
   "cell_type": "code",
   "execution_count": 4,
   "id": "a0003416",
   "metadata": {},
   "outputs": [
    {
     "name": "stdout",
     "output_type": "stream",
     "text": [
      "1859\n"
     ]
    }
   ],
   "source": [
    "macd_td.prepare_data(start='2016-01-29-20:00', end='2023-09-11-20:00', interval='1d')"
   ]
  },
  {
   "cell_type": "code",
   "execution_count": 5,
   "id": "b8e93c00",
   "metadata": {},
   "outputs": [],
   "source": [
    "mindate = macd_td.data_init.index[0]"
   ]
  },
  {
   "cell_type": "code",
   "execution_count": 6,
   "id": "924417bf",
   "metadata": {},
   "outputs": [],
   "source": [
    "maxdate = macd_td.data_init.index[-1]"
   ]
  },
  {
   "cell_type": "code",
   "execution_count": 7,
   "id": "c595f0c1",
   "metadata": {},
   "outputs": [
    {
     "data": {
      "text/plain": [
       "Timedelta('1858 days 00:00:00')"
      ]
     },
     "execution_count": 7,
     "metadata": {},
     "output_type": "execute_result"
    }
   ],
   "source": [
    "total_days = maxdate - mindate\n",
    "total_days"
   ]
  },
  {
   "cell_type": "code",
   "execution_count": 8,
   "id": "be2d75f3",
   "metadata": {},
   "outputs": [
    {
     "data": {
      "text/plain": [
       "Timedelta('619 days 08:00:00')"
      ]
     },
     "execution_count": 8,
     "metadata": {},
     "output_type": "execute_result"
    }
   ],
   "source": [
    "total_subperiod = total_days/3\n",
    "total_subperiod"
   ]
  },
  {
   "cell_type": "code",
   "execution_count": 9,
   "id": "203107eb",
   "metadata": {},
   "outputs": [
    {
     "data": {
      "text/plain": [
       "(Timestamp('2017-08-17 00:00:00'), Timestamp('2019-04-28 08:00:00'))"
      ]
     },
     "execution_count": 9,
     "metadata": {},
     "output_type": "execute_result"
    }
   ],
   "source": [
    "subperiod1 = (mindate, mindate + total_subperiod)\n",
    "subperiod1"
   ]
  },
  {
   "cell_type": "code",
   "execution_count": 10,
   "id": "c89c1c23",
   "metadata": {},
   "outputs": [
    {
     "data": {
      "text/plain": [
       "(Timestamp('2019-04-28 08:00:00'), Timestamp('2021-01-06 16:00:00'))"
      ]
     },
     "execution_count": 10,
     "metadata": {},
     "output_type": "execute_result"
    }
   ],
   "source": [
    "subperiod2 = (mindate + total_subperiod, mindate + total_subperiod*2)\n",
    "subperiod2"
   ]
  },
  {
   "cell_type": "code",
   "execution_count": 11,
   "id": "bfea19fa",
   "metadata": {},
   "outputs": [
    {
     "data": {
      "text/plain": [
       "(Timestamp('2021-01-06 16:00:00'), Timestamp('2022-09-18 00:00:00'))"
      ]
     },
     "execution_count": 11,
     "metadata": {},
     "output_type": "execute_result"
    }
   ],
   "source": [
    "subperiod3 = (mindate + total_subperiod*2, mindate + total_subperiod*3)\n",
    "subperiod3"
   ]
  },
  {
   "cell_type": "markdown",
   "id": "b183a289",
   "metadata": {},
   "source": [
    "### Running optimization for subperiod1"
   ]
  },
  {
   "cell_type": "code",
   "execution_count": 12,
   "id": "d21bc279",
   "metadata": {},
   "outputs": [],
   "source": [
    "macd_subperiod1 = Macd_long_backtester('BTCUSDT')"
   ]
  },
  {
   "cell_type": "code",
   "execution_count": 12,
   "id": "1ed1140e",
   "metadata": {
    "scrolled": true
   },
   "outputs": [
    {
     "data": {
      "text/plain": [
       "(Timestamp('2017-08-17 00:00:00'), Timestamp('2019-04-28 08:00:00'))"
      ]
     },
     "execution_count": 12,
     "metadata": {},
     "output_type": "execute_result"
    }
   ],
   "source": [
    "subperiod1"
   ]
  },
  {
   "cell_type": "code",
   "execution_count": 13,
   "id": "6cb8ddfd",
   "metadata": {
    "scrolled": true
   },
   "outputs": [],
   "source": [
    "# macd_subperiod1.execute_opt(start_opt='2017-08-17-00:00', end_opt='2019-04-28-00:00', interval_opt=('4h', '1d', '1w'), ema_fast_opt=(3,20,1), ema_slow_opt=(5,40,1), ema_sign_opt=(3,40,1), int_for_max='4h', type_trend='paper_method', trend_ref='subperiod1')"
   ]
  },
  {
   "cell_type": "code",
   "execution_count": 15,
   "id": "ab219703",
   "metadata": {},
   "outputs": [],
   "source": [
    "pd.set_option('display.max_rows', None)"
   ]
  },
  {
   "cell_type": "code",
   "execution_count": 16,
   "id": "0953fbad",
   "metadata": {},
   "outputs": [],
   "source": [
    "# macd_subperiod1.opt_results.info()"
   ]
  },
  {
   "cell_type": "code",
   "execution_count": 17,
   "id": "5669300c",
   "metadata": {},
   "outputs": [],
   "source": [
    "# macd_subperiod1.opt_results[macd_subperiod1.opt_results.multiple_macd_strategy == macd_subperiod1.opt_results.multiple_macd_strategy.max()]"
   ]
  },
  {
   "cell_type": "code",
   "execution_count": 18,
   "id": "532a6ce5",
   "metadata": {},
   "outputs": [],
   "source": [
    "# macd_subperiod1.data_init.Close.plot(figsize=(15,10))"
   ]
  },
  {
   "cell_type": "markdown",
   "id": "eb48d247",
   "metadata": {},
   "source": [
    "### Implementing parameters obtained in opt of subperiod1 in subperiod 2: the problem is that subperiod2 has a very big part that is uptrend."
   ]
  },
  {
   "cell_type": "code",
   "execution_count": 19,
   "id": "4b03cbf1",
   "metadata": {},
   "outputs": [],
   "source": [
    "macd_subperiod2 = Macd_long_backtester('BTCUSDT')"
   ]
  },
  {
   "cell_type": "code",
   "execution_count": 20,
   "id": "15a674fa",
   "metadata": {},
   "outputs": [
    {
     "name": "stdout",
     "output_type": "stream",
     "text": [
      "89\n"
     ]
    }
   ],
   "source": [
    "macd_subperiod2.prepare_data(start='2019-04-28-00:00', end='2021-01-06-00:00', interval='1w')"
   ]
  },
  {
   "cell_type": "code",
   "execution_count": 21,
   "id": "edada55d",
   "metadata": {},
   "outputs": [
    {
     "name": "stdout",
     "output_type": "stream",
     "text": [
      "   multiple_hold  ann_log_mean_hold  ann_log_std_hold  sharpe_ratio_hold  \\\n",
      "0       6.605355           7.830414          1.883718           4.156893   \n",
      "\n",
      "   multiple_macd_strategy  ann_log_mean_macd  ann_log_std_macd  \\\n",
      "0                4.979283           6.658288          1.111594   \n",
      "\n",
      "   sharpe_ratio_macd  multiple_macd_strategy_net  ann_log_mean_macd_net  \\\n",
      "0           5.989856                    4.958159               6.640655   \n",
      "\n",
      "   ann_log_std_macd_net  sharpe_ratio_macd_net  \n",
      "0              1.112807               5.967479  \n"
     ]
    },
    {
     "data": {
      "text/plain": [
       "(6.605354922934683,\n",
       " 7.8304141510090775,\n",
       " 1.8837179623911307,\n",
       " 4.156893073881083,\n",
       " 4.97928326031077,\n",
       " 6.658288344566568,\n",
       " 1.1115940269610827,\n",
       " 5.9898561732733,\n",
       " 4.95815911210098,\n",
       " 6.640654564297892,\n",
       " 1.1128072949063395,\n",
       " 5.967479360257796)"
      ]
     },
     "execution_count": 21,
     "metadata": {},
     "output_type": "execute_result"
    }
   ],
   "source": [
    "macd_subperiod2.execute_backtest(ema_fast=15, ema_slow=20, ema_signal=2)"
   ]
  },
  {
   "cell_type": "code",
   "execution_count": 22,
   "id": "854f2814",
   "metadata": {},
   "outputs": [
    {
     "data": {
      "text/plain": [
       "<AxesSubplot:xlabel='Date'>"
      ]
     },
     "execution_count": 22,
     "metadata": {},
     "output_type": "execute_result"
    },
    {
     "data": {
      "image/png": "[encoded data removed]",
      "text/plain": [
       "<Figure size 1080x720 with 1 Axes>"
      ]
     },
     "metadata": {
      "needs_background": "light"
     },
     "output_type": "display_data"
    }
   ],
   "source": [
    "macd_subperiod2.data_init.Close.plot(figsize=(15,10))"
   ]
  },
  {
   "cell_type": "code",
   "execution_count": 23,
   "id": "ac795b16",
   "metadata": {},
   "outputs": [],
   "source": [
    "macd_subperiod3 = Macd_long_backtester('BTCUSDT')"
   ]
  },
  {
   "cell_type": "code",
   "execution_count": 28,
   "id": "d4113147",
   "metadata": {},
   "outputs": [
    {
     "name": "stdout",
     "output_type": "stream",
     "text": [
      "619\n"
     ]
    }
   ],
   "source": [
    "macd_subperiod3.prepare_data(start='2021-01-06-00:00', end='2022-09-17-00:00', interval='1d')"
   ]
  },
  {
   "cell_type": "code",
   "execution_count": 29,
   "id": "b63ca44d",
   "metadata": {},
   "outputs": [
    {
     "name": "stdout",
     "output_type": "stream",
     "text": [
      "   multiple_hold  ann_log_mean_hold  ann_log_std_hold  sharpe_ratio_hold  \\\n",
      "0       0.538582          -0.365482          0.758419            -0.4819   \n",
      "\n",
      "   multiple_macd_strategy  ann_log_mean_macd  ann_log_std_macd  \\\n",
      "0                0.711727          -0.200845          0.502173   \n",
      "\n",
      "   sharpe_ratio_macd  multiple_macd_strategy_net  ann_log_mean_macd_net  \\\n",
      "0          -0.399953                    0.657055              -0.248051   \n",
      "\n",
      "   ann_log_std_macd_net  sharpe_ratio_macd_net  \n",
      "0               0.50399              -0.492175  \n"
     ]
    },
    {
     "data": {
      "text/plain": [
       "(0.5385815798806386,\n",
       " -0.3654821184526284,\n",
       " 0.758419220800836,\n",
       " -0.48189986280504027,\n",
       " 0.7117266842882477,\n",
       " -0.20084527306126207,\n",
       " 0.5021726741456906,\n",
       " -0.399952612720207,\n",
       " 0.6570545517204628,\n",
       " -0.24805130231125763,\n",
       " 0.5039900945593395,\n",
       " -0.4921749553989542)"
      ]
     },
     "execution_count": 29,
     "metadata": {},
     "output_type": "execute_result"
    }
   ],
   "source": [
    "macd_subperiod3.execute_backtest(ema_fast=15, ema_slow=20, ema_signal=2)"
   ]
  },
  {
   "cell_type": "code",
   "execution_count": 27,
   "id": "f7a7a929",
   "metadata": {},
   "outputs": [
    {
     "data": {
      "text/plain": [
       "<AxesSubplot:xlabel='Date'>"
      ]
     },
     "execution_count": 27,
     "metadata": {},
     "output_type": "execute_result"
    },
    {
     "data": {
      "image/png": "[encoded data removed]",
      "text/plain": [
       "<Figure size 1080x720 with 1 Axes>"
      ]
     },
     "metadata": {
      "needs_background": "light"
     },
     "output_type": "display_data"
    }
   ],
   "source": [
    "macd_subperiod3.data_init.Close.plot(figsize=(15,10))"
   ]
  },
  {
   "cell_type": "code",
   "execution_count": null,
   "id": "d398cec2",
   "metadata": {},
   "outputs": [],
   "source": []
  }
 ],
 "metadata": {
  "kernelspec": {
   "display_name": "Python 3 (ipykernel)",
   "language": "python",
   "name": "python3"
  },
  "language_info": {
   "codemirror_mode": {
    "name": "ipython",
    "version": 3
   },
   "file_extension": ".py",
   "mimetype": "text/x-python",
   "name": "python",
   "nbconvert_exporter": "python",
   "pygments_lexer": "ipython3",
   "version": "3.9.12"
  }
 },
 "nbformat": 4,
 "nbformat_minor": 5
}
