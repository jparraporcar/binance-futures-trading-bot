{
 "cells": [
  {
   "cell_type": "code",
   "execution_count": 1,
   "id": "60646008",
   "metadata": {},
   "outputs": [],
   "source": [
    "import sys\n",
    "sys.path.append('/Users/jp/Desktop/Investment/trading_BOT/macd_long_backtester')\n",
    "from macd_long_backtester import Macd_long_backtester\n",
    "import pandas as pd\n",
    "import matplotlib.pyplot as plt"
   ]
  },
  {
   "cell_type": "code",
   "execution_count": 8,
   "id": "d880f43a",
   "metadata": {},
   "outputs": [],
   "source": [
    "pd.set_option('display.max_rows', None)"
   ]
  },
  {
   "cell_type": "markdown",
   "id": "2cd4432b",
   "metadata": {},
   "source": [
    "### 1) Launch optimization"
   ]
  },
  {
   "cell_type": "code",
   "execution_count": 9,
   "id": "d31841d9",
   "metadata": {},
   "outputs": [
    {
     "name": "stdout",
     "output_type": "stream",
     "text": [
      "class version 1.1 is being used\n"
     ]
    }
   ],
   "source": [
    "macd_opt_oo = Macd_long_backtester('BTCUSDT')"
   ]
  },
  {
   "cell_type": "code",
   "execution_count": 6,
   "id": "f108640d",
   "metadata": {
    "scrolled": true
   },
   "outputs": [],
   "source": [
    "# macd_opt_oo.execute_opt(interval_opt=('15m', '30m', '1h'), start_opt='2020-08-18-00:00', end_opt='2020-10-06-00:00', ema_fast_opt=(2,16,2), ema_slow_opt=(16,40,2), ema_sign_opt=(2, 40, 2), int_for_max='15m', trend_ref='OO', type_trend='sideways_oo')"
   ]
  },
  {
   "cell_type": "code",
   "execution_count": 10,
   "id": "10f926eb",
   "metadata": {},
   "outputs": [],
   "source": [
    "macd_opt_oo.opt_results = pd.read_csv('sideways_oo.csv')"
   ]
  },
  {
   "cell_type": "markdown",
   "id": "dbc4db18",
   "metadata": {},
   "source": [
    "### 2) Extract combinations of max"
   ]
  },
  {
   "cell_type": "code",
   "execution_count": 11,
   "id": "9e47b4f2",
   "metadata": {
    "scrolled": false
   },
   "outputs": [
    {
     "data": {
      "text/html": [
       "<div>\n",
       "<style scoped>\n",
       "    .dataframe tbody tr th:only-of-type {\n",
       "        vertical-align: middle;\n",
       "    }\n",
       "\n",
       "    .dataframe tbody tr th {\n",
       "        vertical-align: top;\n",
       "    }\n",
       "\n",
       "    .dataframe thead th {\n",
       "        text-align: right;\n",
       "    }\n",
       "</style>\n",
       "<table border=\"1\" class=\"dataframe\">\n",
       "  <thead>\n",
       "    <tr style=\"text-align: right;\">\n",
       "      <th></th>\n",
       "      <th>interval_opt</th>\n",
       "      <th>macd_slow_opt</th>\n",
       "      <th>macd_fast_opt</th>\n",
       "      <th>macd_signal_opt</th>\n",
       "      <th>multiple_hold</th>\n",
       "      <th>ann_log_mean_hold</th>\n",
       "      <th>ann_log_std_hold</th>\n",
       "      <th>sharpe_ratio_hold</th>\n",
       "      <th>multiple_macd_strategy</th>\n",
       "      <th>ann_log_mean_macd</th>\n",
       "      <th>ann_log_std_macd</th>\n",
       "      <th>sharpe_ratio_macd</th>\n",
       "      <th>multiple_macd_strategy_net</th>\n",
       "      <th>ann_log_mean_macd_net</th>\n",
       "      <th>ann_log_std_macd_net</th>\n",
       "      <th>sharpe_ratio_macd_net</th>\n",
       "      <th>trend_ref</th>\n",
       "      <th>start_opt</th>\n",
       "      <th>end_opt</th>\n",
       "    </tr>\n",
       "  </thead>\n",
       "  <tbody>\n",
       "    <tr>\n",
       "      <th>4713</th>\n",
       "      <td>1h</td>\n",
       "      <td>38</td>\n",
       "      <td>8</td>\n",
       "      <td>10</td>\n",
       "      <td>0.869411</td>\n",
       "      <td>-0.043768</td>\n",
       "      <td>0.0891</td>\n",
       "      <td>-0.49123</td>\n",
       "      <td>1.007487</td>\n",
       "      <td>0.002333</td>\n",
       "      <td>0.051501</td>\n",
       "      <td>0.045298</td>\n",
       "      <td>0.929305</td>\n",
       "      <td>-0.022932</td>\n",
       "      <td>0.052462</td>\n",
       "      <td>-0.437111</td>\n",
       "      <td>OO</td>\n",
       "      <td>2020-08-18-00:00</td>\n",
       "      <td>2020-10-06-00:00</td>\n",
       "    </tr>\n",
       "    <tr>\n",
       "      <th>4731</th>\n",
       "      <td>1h</td>\n",
       "      <td>38</td>\n",
       "      <td>10</td>\n",
       "      <td>8</td>\n",
       "      <td>0.869411</td>\n",
       "      <td>-0.043768</td>\n",
       "      <td>0.0891</td>\n",
       "      <td>-0.49123</td>\n",
       "      <td>1.007487</td>\n",
       "      <td>0.002333</td>\n",
       "      <td>0.051501</td>\n",
       "      <td>0.045298</td>\n",
       "      <td>0.929305</td>\n",
       "      <td>-0.022932</td>\n",
       "      <td>0.052462</td>\n",
       "      <td>-0.437111</td>\n",
       "      <td>OO</td>\n",
       "      <td>2020-08-18-00:00</td>\n",
       "      <td>2020-10-06-00:00</td>\n",
       "    </tr>\n",
       "  </tbody>\n",
       "</table>\n",
       "</div>"
      ],
      "text/plain": [
       "     interval_opt  macd_slow_opt  macd_fast_opt  macd_signal_opt  \\\n",
       "4713           1h             38              8               10   \n",
       "4731           1h             38             10                8   \n",
       "\n",
       "      multiple_hold  ann_log_mean_hold  ann_log_std_hold  sharpe_ratio_hold  \\\n",
       "4713       0.869411          -0.043768            0.0891           -0.49123   \n",
       "4731       0.869411          -0.043768            0.0891           -0.49123   \n",
       "\n",
       "      multiple_macd_strategy  ann_log_mean_macd  ann_log_std_macd  \\\n",
       "4713                1.007487           0.002333          0.051501   \n",
       "4731                1.007487           0.002333          0.051501   \n",
       "\n",
       "      sharpe_ratio_macd  multiple_macd_strategy_net  ann_log_mean_macd_net  \\\n",
       "4713           0.045298                    0.929305              -0.022932   \n",
       "4731           0.045298                    0.929305              -0.022932   \n",
       "\n",
       "      ann_log_std_macd_net  sharpe_ratio_macd_net trend_ref         start_opt  \\\n",
       "4713              0.052462              -0.437111        OO  2020-08-18-00:00   \n",
       "4731              0.052462              -0.437111        OO  2020-08-18-00:00   \n",
       "\n",
       "               end_opt  \n",
       "4713  2020-10-06-00:00  \n",
       "4731  2020-10-06-00:00  "
      ]
     },
     "execution_count": 11,
     "metadata": {},
     "output_type": "execute_result"
    }
   ],
   "source": [
    "macd_opt_oo.opt_results[macd_opt_oo.opt_results.multiple_macd_strategy == macd_opt_oo.opt_results.multiple_macd_strategy.max()]"
   ]
  },
  {
   "cell_type": "markdown",
   "id": "b87da007",
   "metadata": {},
   "source": [
    "### 3) Create new class for interval of max and launch backtest for the combinations of max"
   ]
  },
  {
   "cell_type": "markdown",
   "id": "29f3e875",
   "metadata": {},
   "source": [
    "### 4) Plot the accumulated max vs hold"
   ]
  },
  {
   "cell_type": "markdown",
   "id": "42e01c2f",
   "metadata": {},
   "source": [
    "### 5) Extract combinations of max_net "
   ]
  },
  {
   "cell_type": "code",
   "execution_count": null,
   "id": "fe3c062f",
   "metadata": {},
   "outputs": [],
   "source": [
    "# macd_opt_oo.opt_results[macd_opt_oo.opt_results.multiple_macd_strategy_net == macd_opt_oo.opt_results.multiple_macd_strategy_net.max()]"
   ]
  },
  {
   "cell_type": "markdown",
   "id": "ca17bc51",
   "metadata": {},
   "source": [
    "### 6) Create new class for interval of max_net and launch backtest for the combinations of max_net"
   ]
  },
  {
   "cell_type": "markdown",
   "id": "e5c5d985",
   "metadata": {},
   "source": [
    "### 7) Plot the accumulated max_net vs hold"
   ]
  },
  {
   "cell_type": "markdown",
   "id": "1f77144d",
   "metadata": {},
   "source": [
    "### 8) Further..."
   ]
  },
  {
   "cell_type": "markdown",
   "id": "756764b1",
   "metadata": {},
   "source": [
    "### 10) Try the calculated average for the emas in the collect_opt file"
   ]
  },
  {
   "cell_type": "markdown",
   "id": "d34acddd",
   "metadata": {},
   "source": [
    "__meanbest_1h_par = 30,11,16__\n"
   ]
  },
  {
   "cell_type": "code",
   "execution_count": 2,
   "id": "3cad8b8d",
   "metadata": {},
   "outputs": [
    {
     "name": "stdout",
     "output_type": "stream",
     "text": [
      "class version 1.1 is being used\n"
     ]
    }
   ],
   "source": [
    "macd_opt_meanbest_1h_par = Macd_long_backtester('BTCUSDT')"
   ]
  },
  {
   "cell_type": "code",
   "execution_count": 3,
   "id": "267151a9",
   "metadata": {},
   "outputs": [
    {
     "name": "stdout",
     "output_type": "stream",
     "text": [
      "1177\n"
     ]
    }
   ],
   "source": [
    "macd_opt_meanbest_1h_par.prepare_data(start='2020-08-18-00:00', end='2020-10-06-00:00', interval='1h')"
   ]
  },
  {
   "cell_type": "code",
   "execution_count": 4,
   "id": "3d0bea2a",
   "metadata": {},
   "outputs": [
    {
     "name": "stdout",
     "output_type": "stream",
     "text": [
      "1225\n",
      "   multiple_hold  ann_log_mean_hold  ann_log_std_hold  sharpe_ratio_hold  \\\n",
      "0       0.869411          -0.043768            0.0891           -0.49123   \n",
      "\n",
      "   multiple_macd_strategy  ann_log_mean_macd  ann_log_std_macd  \\\n",
      "0                0.907983          -0.030191          0.057117   \n",
      "\n",
      "   sharpe_ratio_macd  multiple_macd_strategy_net  ann_log_mean_macd_net  \\\n",
      "0          -0.528591                     0.85044              -0.050669   \n",
      "\n",
      "   ann_log_std_macd_net  sharpe_ratio_macd_net  \n",
      "0              0.058187               -0.87079  \n"
     ]
    },
    {
     "data": {
      "text/plain": [
       "(0.8694110695292533,\n",
       " -0.04376848180609128,\n",
       " 0.08909973605256213,\n",
       " -0.4912302072395722,\n",
       " 0.9079831271300478,\n",
       " -0.030191312166605713,\n",
       " 0.057116543221320586,\n",
       " -0.5285913758754195,\n",
       " 0.8504398990125425,\n",
       " -0.05066886059857621,\n",
       " 0.05818722193357811,\n",
       " -0.8707901651743357)"
      ]
     },
     "execution_count": 4,
     "metadata": {},
     "output_type": "execute_result"
    }
   ],
   "source": [
    "macd_opt_meanbest_1h_par.execute_backtest(start='2020-08-18-00:00', ema_slow=30, ema_fast=11, ema_signal=16)"
   ]
  },
  {
   "cell_type": "markdown",
   "id": "761f6979",
   "metadata": {},
   "source": [
    "__meanbest_30m_par = =30,12,22__"
   ]
  },
  {
   "cell_type": "code",
   "execution_count": 5,
   "id": "288b3271",
   "metadata": {
    "scrolled": true
   },
   "outputs": [
    {
     "name": "stdout",
     "output_type": "stream",
     "text": [
      "class version 1.1 is being used\n"
     ]
    }
   ],
   "source": [
    "macd_opt_meanbest_30m_par = Macd_long_backtester('BTCUSDT')"
   ]
  },
  {
   "cell_type": "code",
   "execution_count": 6,
   "id": "15e5bfed",
   "metadata": {
    "scrolled": true
   },
   "outputs": [
    {
     "name": "stdout",
     "output_type": "stream",
     "text": [
      "2353\n"
     ]
    }
   ],
   "source": [
    "macd_opt_meanbest_30m_par.prepare_data(start='2020-08-18-00:00', end='2020-10-06-00:00', interval='30m')"
   ]
  },
  {
   "cell_type": "code",
   "execution_count": 7,
   "id": "1dc7ef08",
   "metadata": {},
   "outputs": [
    {
     "name": "stdout",
     "output_type": "stream",
     "text": [
      "2407\n",
      "   multiple_hold  ann_log_mean_hold  ann_log_std_hold  sharpe_ratio_hold  \\\n",
      "0       0.870842          -0.021627          0.066354          -0.325936   \n",
      "\n",
      "   multiple_macd_strategy  ann_log_mean_macd  ann_log_std_macd  \\\n",
      "0                 0.97681          -0.003669           0.04376   \n",
      "\n",
      "   sharpe_ratio_macd  multiple_macd_strategy_net  ann_log_mean_macd_net  \\\n",
      "0           -0.08385                    0.888834              -0.018429   \n",
      "\n",
      "   ann_log_std_macd_net  sharpe_ratio_macd_net  \n",
      "0              0.044345              -0.415585  \n"
     ]
    },
    {
     "data": {
      "text/plain": [
       "(0.8708418417491549,\n",
       " -0.021627094628650215,\n",
       " 0.0663537194572725,\n",
       " -0.32593643288642865,\n",
       " 0.9768100833968669,\n",
       " -0.003669240434077095,\n",
       " 0.04375955671178886,\n",
       " -0.08385003665013357,\n",
       " 0.8888339687190617,\n",
       " -0.018429031836341574,\n",
       " 0.0443448193261166,\n",
       " -0.41558477667509436)"
      ]
     },
     "execution_count": 7,
     "metadata": {},
     "output_type": "execute_result"
    }
   ],
   "source": [
    "macd_opt_meanbest_30m_par.execute_backtest(start='2020-08-18-00:00', ema_slow=30, ema_fast=12, ema_signal=22)"
   ]
  },
  {
   "cell_type": "markdown",
   "id": "691ffb8b",
   "metadata": {},
   "source": [
    "### CONCLUSIONS: both intervals outperform buy and hold without fees, but the highest performance is for 30m in this case which is closer to a multiple of 1, however with fees results are the same as buy and hold"
   ]
  },
  {
   "cell_type": "code",
   "execution_count": null,
   "id": "96fddbc5",
   "metadata": {},
   "outputs": [],
   "source": []
  }
 ],
 "metadata": {
  "kernelspec": {
   "display_name": "Python 3 (ipykernel)",
   "language": "python",
   "name": "python3"
  },
  "language_info": {
   "codemirror_mode": {
    "name": "ipython",
    "version": 3
   },
   "file_extension": ".py",
   "mimetype": "text/x-python",
   "name": "python",
   "nbconvert_exporter": "python",
   "pygments_lexer": "ipython3",
   "version": "3.9.12"
  }
 },
 "nbformat": 4,
 "nbformat_minor": 5
}
