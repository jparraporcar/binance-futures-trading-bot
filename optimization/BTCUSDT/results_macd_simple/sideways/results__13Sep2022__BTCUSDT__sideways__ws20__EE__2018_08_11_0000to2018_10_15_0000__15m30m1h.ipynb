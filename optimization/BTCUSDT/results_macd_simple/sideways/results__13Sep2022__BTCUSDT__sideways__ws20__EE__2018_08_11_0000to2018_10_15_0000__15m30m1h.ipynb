{
 "cells": [
  {
   "cell_type": "code",
   "execution_count": 1,
   "id": "60646008",
   "metadata": {},
   "outputs": [],
   "source": [
    "import sys\n",
    "sys.path.append('/Users/jp/Desktop/Investment/trading_BOT/macd_long_backtester')\n",
    "from macd_long_backtester import Macd_long_backtester\n",
    "import pandas as pd\n",
    "import matplotlib.pyplot as plt"
   ]
  },
  {
   "cell_type": "code",
   "execution_count": 2,
   "id": "24537d49",
   "metadata": {},
   "outputs": [],
   "source": [
    "pd.set_option('display.max_rows', None)"
   ]
  },
  {
   "cell_type": "markdown",
   "id": "ded7ce4a",
   "metadata": {},
   "source": [
    "### 1) Launch optimization"
   ]
  },
  {
   "cell_type": "code",
   "execution_count": 3,
   "id": "45006bc9",
   "metadata": {},
   "outputs": [
    {
     "name": "stdout",
     "output_type": "stream",
     "text": [
      "class version 1.1 is being used\n"
     ]
    }
   ],
   "source": [
    "macd_opt_ee = Macd_long_backtester('BTCUSDT')"
   ]
  },
  {
   "cell_type": "code",
   "execution_count": 4,
   "id": "f108640d",
   "metadata": {
    "scrolled": true
   },
   "outputs": [],
   "source": [
    "# macd_opt_ee.execute_opt(interval_opt=('15m', '30m', '1h') ,start_opt='2018-08-11-00:00', end_opt='2018-10-15-00:00', ema_fast_opt=(2,16,2), ema_slow_opt=(16,40,2), ema_sign_opt=(2, 40, 2), int_for_max='1h', trend_ref='EE', type_trend='sideways_ee')"
   ]
  },
  {
   "cell_type": "markdown",
   "id": "bb57fed1",
   "metadata": {},
   "source": [
    "### 2) Extract combinations of max"
   ]
  },
  {
   "cell_type": "code",
   "execution_count": 50,
   "id": "9ffe10e3",
   "metadata": {},
   "outputs": [],
   "source": [
    "macd_opt_ee.opt_results = pd.read_csv('sideways_ee.csv')"
   ]
  },
  {
   "cell_type": "code",
   "execution_count": 54,
   "id": "87321d9f",
   "metadata": {},
   "outputs": [
    {
     "data": {
      "text/plain": [
       "RangeIndex(start=0, stop=4785, step=1)"
      ]
     },
     "execution_count": 54,
     "metadata": {},
     "output_type": "execute_result"
    }
   ],
   "source": [
    "macd_opt_ee.opt_results.index"
   ]
  },
  {
   "cell_type": "code",
   "execution_count": 6,
   "id": "4a165600",
   "metadata": {},
   "outputs": [
    {
     "data": {
      "text/html": [
       "<div>\n",
       "<style scoped>\n",
       "    .dataframe tbody tr th:only-of-type {\n",
       "        vertical-align: middle;\n",
       "    }\n",
       "\n",
       "    .dataframe tbody tr th {\n",
       "        vertical-align: top;\n",
       "    }\n",
       "\n",
       "    .dataframe thead th {\n",
       "        text-align: right;\n",
       "    }\n",
       "</style>\n",
       "<table border=\"1\" class=\"dataframe\">\n",
       "  <thead>\n",
       "    <tr style=\"text-align: right;\">\n",
       "      <th></th>\n",
       "      <th>interval_opt</th>\n",
       "      <th>macd_slow_opt</th>\n",
       "      <th>macd_fast_opt</th>\n",
       "      <th>macd_signal_opt</th>\n",
       "      <th>multiple_hold</th>\n",
       "      <th>ann_log_mean_hold</th>\n",
       "      <th>ann_log_std_hold</th>\n",
       "      <th>sharpe_ratio_hold</th>\n",
       "      <th>multiple_macd_strategy</th>\n",
       "      <th>ann_log_mean_macd</th>\n",
       "      <th>ann_log_std_macd</th>\n",
       "      <th>sharpe_ratio_macd</th>\n",
       "      <th>multiple_macd_strategy_net</th>\n",
       "      <th>ann_log_mean_macd_net</th>\n",
       "      <th>ann_log_std_macd_net</th>\n",
       "      <th>sharpe_ratio_macd_net</th>\n",
       "      <th>trend_ref</th>\n",
       "      <th>start_opt</th>\n",
       "      <th>end_opt</th>\n",
       "    </tr>\n",
       "  </thead>\n",
       "  <tbody>\n",
       "    <tr>\n",
       "      <th>3848</th>\n",
       "      <td>1h</td>\n",
       "      <td>24</td>\n",
       "      <td>14</td>\n",
       "      <td>28</td>\n",
       "      <td>1.048038</td>\n",
       "      <td>0.011042</td>\n",
       "      <td>0.103187</td>\n",
       "      <td>0.107008</td>\n",
       "      <td>1.190512</td>\n",
       "      <td>0.041038</td>\n",
       "      <td>0.075868</td>\n",
       "      <td>0.540911</td>\n",
       "      <td>1.132261</td>\n",
       "      <td>0.029232</td>\n",
       "      <td>0.076412</td>\n",
       "      <td>0.38256</td>\n",
       "      <td>EE</td>\n",
       "      <td>2018-08-11-00:00</td>\n",
       "      <td>2018-10-15-00:00</td>\n",
       "    </tr>\n",
       "    <tr>\n",
       "      <th>4112</th>\n",
       "      <td>1h</td>\n",
       "      <td>28</td>\n",
       "      <td>14</td>\n",
       "      <td>24</td>\n",
       "      <td>1.048038</td>\n",
       "      <td>0.011042</td>\n",
       "      <td>0.103187</td>\n",
       "      <td>0.107008</td>\n",
       "      <td>1.190512</td>\n",
       "      <td>0.041038</td>\n",
       "      <td>0.075868</td>\n",
       "      <td>0.540911</td>\n",
       "      <td>1.132261</td>\n",
       "      <td>0.029232</td>\n",
       "      <td>0.076412</td>\n",
       "      <td>0.38256</td>\n",
       "      <td>EE</td>\n",
       "      <td>2018-08-11-00:00</td>\n",
       "      <td>2018-10-15-00:00</td>\n",
       "    </tr>\n",
       "  </tbody>\n",
       "</table>\n",
       "</div>"
      ],
      "text/plain": [
       "     interval_opt  macd_slow_opt  macd_fast_opt  macd_signal_opt  \\\n",
       "3848           1h             24             14               28   \n",
       "4112           1h             28             14               24   \n",
       "\n",
       "      multiple_hold  ann_log_mean_hold  ann_log_std_hold  sharpe_ratio_hold  \\\n",
       "3848       1.048038           0.011042          0.103187           0.107008   \n",
       "4112       1.048038           0.011042          0.103187           0.107008   \n",
       "\n",
       "      multiple_macd_strategy  ann_log_mean_macd  ann_log_std_macd  \\\n",
       "3848                1.190512           0.041038          0.075868   \n",
       "4112                1.190512           0.041038          0.075868   \n",
       "\n",
       "      sharpe_ratio_macd  multiple_macd_strategy_net  ann_log_mean_macd_net  \\\n",
       "3848           0.540911                    1.132261               0.029232   \n",
       "4112           0.540911                    1.132261               0.029232   \n",
       "\n",
       "      ann_log_std_macd_net  sharpe_ratio_macd_net trend_ref         start_opt  \\\n",
       "3848              0.076412                0.38256        EE  2018-08-11-00:00   \n",
       "4112              0.076412                0.38256        EE  2018-08-11-00:00   \n",
       "\n",
       "               end_opt  \n",
       "3848  2018-10-15-00:00  \n",
       "4112  2018-10-15-00:00  "
      ]
     },
     "execution_count": 6,
     "metadata": {},
     "output_type": "execute_result"
    }
   ],
   "source": [
    "macd_opt_ee.opt_results[macd_opt_ee.opt_results.multiple_macd_strategy == macd_opt_ee.opt_results.multiple_macd_strategy.max()]"
   ]
  },
  {
   "cell_type": "markdown",
   "id": "80ce79ba",
   "metadata": {},
   "source": [
    "### 3) Create new class for interval of max and launch backtest for the combinations of max"
   ]
  },
  {
   "cell_type": "code",
   "execution_count": 7,
   "id": "f4cac327",
   "metadata": {},
   "outputs": [
    {
     "name": "stdout",
     "output_type": "stream",
     "text": [
      "class version 1.1 is being used\n"
     ]
    }
   ],
   "source": [
    "macd_opt_ee_1h = Macd_long_backtester('BTCUSDT')"
   ]
  },
  {
   "cell_type": "code",
   "execution_count": 8,
   "id": "a4d03ea5",
   "metadata": {},
   "outputs": [
    {
     "name": "stdout",
     "output_type": "stream",
     "text": [
      "1561\n"
     ]
    }
   ],
   "source": [
    "macd_opt_ee_1h.prepare_data(start='2018-08-11-00:00', end='2018-10-15-00:00', interval='1h')"
   ]
  },
  {
   "cell_type": "code",
   "execution_count": 9,
   "id": "a4e6d42a",
   "metadata": {
    "collapsed": true
   },
   "outputs": [
    {
     "name": "stdout",
     "output_type": "stream",
     "text": [
      "1615\n",
      "   multiple_hold  ann_log_mean_hold  ann_log_std_hold  sharpe_ratio_hold  \\\n",
      "0       1.048038           0.011042          0.103187           0.107008   \n",
      "\n",
      "   multiple_macd_strategy  ann_log_mean_macd  ann_log_std_macd  \\\n",
      "0                1.190512           0.041038          0.075868   \n",
      "\n",
      "   sharpe_ratio_macd  multiple_macd_strategy_net  ann_log_mean_macd_net  \\\n",
      "0           0.540911                    1.132261               0.029232   \n",
      "\n",
      "   ann_log_std_macd_net  sharpe_ratio_macd_net  \n",
      "0              0.076412                0.38256  \n"
     ]
    },
    {
     "data": {
      "text/plain": [
       "(1.0480380401754164,\n",
       " 0.01104175199087844,\n",
       " 0.10318668984603968,\n",
       " 0.10700752206852795,\n",
       " 1.1905118077268129,\n",
       " 0.041037979621875754,\n",
       " 0.07586821520895086,\n",
       " 0.5409113620091347,\n",
       " 1.1322608749311722,\n",
       " 0.029232101200861574,\n",
       " 0.07641183889279199,\n",
       " 0.38255984444864694)"
      ]
     },
     "execution_count": 9,
     "metadata": {},
     "output_type": "execute_result"
    }
   ],
   "source": [
    "macd_opt_ee_1h.execute_backtest(start='2018-08-11-00:00', ema_slow=28, ema_fast=14, ema_signal=24)"
   ]
  },
  {
   "cell_type": "markdown",
   "id": "1d685b63",
   "metadata": {},
   "source": [
    "### 4) Plot the accumulated max vs hold"
   ]
  },
  {
   "cell_type": "code",
   "execution_count": 10,
   "id": "d341c085",
   "metadata": {
    "collapsed": true
   },
   "outputs": [
    {
     "data": {
      "text/plain": [
       "<matplotlib.legend.Legend at 0x7f87280c18e0>"
      ]
     },
     "execution_count": 10,
     "metadata": {},
     "output_type": "execute_result"
    },
    {
     "data": {
      "image/png": "[encoded data removed]",
      "text/plain": [
       "<Figure size 1080x720 with 1 Axes>"
      ]
     },
     "metadata": {
      "needs_background": "light"
     },
     "output_type": "display_data"
    }
   ],
   "source": [
    "macd_opt_ee_1h.data_init.macd_log_returns_acum.plot(figsize=(15,10))\n",
    "macd_opt_ee_1h.data_init.multiple_hold_acum.plot(figsize=(15,10))\n",
    "plt.legend()"
   ]
  },
  {
   "cell_type": "markdown",
   "id": "58706ec0",
   "metadata": {},
   "source": [
    "### 5) Extract combinations of max_net "
   ]
  },
  {
   "cell_type": "code",
   "execution_count": 11,
   "id": "4093f78b",
   "metadata": {
    "collapsed": true
   },
   "outputs": [
    {
     "data": {
      "text/html": [
       "<div>\n",
       "<style scoped>\n",
       "    .dataframe tbody tr th:only-of-type {\n",
       "        vertical-align: middle;\n",
       "    }\n",
       "\n",
       "    .dataframe tbody tr th {\n",
       "        vertical-align: top;\n",
       "    }\n",
       "\n",
       "    .dataframe thead th {\n",
       "        text-align: right;\n",
       "    }\n",
       "</style>\n",
       "<table border=\"1\" class=\"dataframe\">\n",
       "  <thead>\n",
       "    <tr style=\"text-align: right;\">\n",
       "      <th></th>\n",
       "      <th>interval_opt</th>\n",
       "      <th>macd_slow_opt</th>\n",
       "      <th>macd_fast_opt</th>\n",
       "      <th>macd_signal_opt</th>\n",
       "      <th>multiple_hold</th>\n",
       "      <th>ann_log_mean_hold</th>\n",
       "      <th>ann_log_std_hold</th>\n",
       "      <th>sharpe_ratio_hold</th>\n",
       "      <th>multiple_macd_strategy</th>\n",
       "      <th>ann_log_mean_macd</th>\n",
       "      <th>ann_log_std_macd</th>\n",
       "      <th>sharpe_ratio_macd</th>\n",
       "      <th>multiple_macd_strategy_net</th>\n",
       "      <th>ann_log_mean_macd_net</th>\n",
       "      <th>ann_log_std_macd_net</th>\n",
       "      <th>sharpe_ratio_macd_net</th>\n",
       "      <th>trend_ref</th>\n",
       "      <th>start_opt</th>\n",
       "      <th>end_opt</th>\n",
       "    </tr>\n",
       "  </thead>\n",
       "  <tbody>\n",
       "    <tr>\n",
       "      <th>3848</th>\n",
       "      <td>1h</td>\n",
       "      <td>24</td>\n",
       "      <td>14</td>\n",
       "      <td>28</td>\n",
       "      <td>1.048038</td>\n",
       "      <td>0.011042</td>\n",
       "      <td>0.103187</td>\n",
       "      <td>0.107008</td>\n",
       "      <td>1.190512</td>\n",
       "      <td>0.041038</td>\n",
       "      <td>0.075868</td>\n",
       "      <td>0.540911</td>\n",
       "      <td>1.132261</td>\n",
       "      <td>0.029232</td>\n",
       "      <td>0.076412</td>\n",
       "      <td>0.38256</td>\n",
       "      <td>EE</td>\n",
       "      <td>2018-08-11-00:00</td>\n",
       "      <td>2018-10-15-00:00</td>\n",
       "    </tr>\n",
       "    <tr>\n",
       "      <th>4112</th>\n",
       "      <td>1h</td>\n",
       "      <td>28</td>\n",
       "      <td>14</td>\n",
       "      <td>24</td>\n",
       "      <td>1.048038</td>\n",
       "      <td>0.011042</td>\n",
       "      <td>0.103187</td>\n",
       "      <td>0.107008</td>\n",
       "      <td>1.190512</td>\n",
       "      <td>0.041038</td>\n",
       "      <td>0.075868</td>\n",
       "      <td>0.540911</td>\n",
       "      <td>1.132261</td>\n",
       "      <td>0.029232</td>\n",
       "      <td>0.076412</td>\n",
       "      <td>0.38256</td>\n",
       "      <td>EE</td>\n",
       "      <td>2018-08-11-00:00</td>\n",
       "      <td>2018-10-15-00:00</td>\n",
       "    </tr>\n",
       "  </tbody>\n",
       "</table>\n",
       "</div>"
      ],
      "text/plain": [
       "     interval_opt  macd_slow_opt  macd_fast_opt  macd_signal_opt  \\\n",
       "3848           1h             24             14               28   \n",
       "4112           1h             28             14               24   \n",
       "\n",
       "      multiple_hold  ann_log_mean_hold  ann_log_std_hold  sharpe_ratio_hold  \\\n",
       "3848       1.048038           0.011042          0.103187           0.107008   \n",
       "4112       1.048038           0.011042          0.103187           0.107008   \n",
       "\n",
       "      multiple_macd_strategy  ann_log_mean_macd  ann_log_std_macd  \\\n",
       "3848                1.190512           0.041038          0.075868   \n",
       "4112                1.190512           0.041038          0.075868   \n",
       "\n",
       "      sharpe_ratio_macd  multiple_macd_strategy_net  ann_log_mean_macd_net  \\\n",
       "3848           0.540911                    1.132261               0.029232   \n",
       "4112           0.540911                    1.132261               0.029232   \n",
       "\n",
       "      ann_log_std_macd_net  sharpe_ratio_macd_net trend_ref         start_opt  \\\n",
       "3848              0.076412                0.38256        EE  2018-08-11-00:00   \n",
       "4112              0.076412                0.38256        EE  2018-08-11-00:00   \n",
       "\n",
       "               end_opt  \n",
       "3848  2018-10-15-00:00  \n",
       "4112  2018-10-15-00:00  "
      ]
     },
     "execution_count": 11,
     "metadata": {},
     "output_type": "execute_result"
    }
   ],
   "source": [
    "macd_opt_ee.opt_results[macd_opt_ee.opt_results.multiple_macd_strategy_net == macd_opt_ee.opt_results.multiple_macd_strategy_net.max()]"
   ]
  },
  {
   "cell_type": "markdown",
   "id": "094391fb",
   "metadata": {},
   "source": [
    "### 6) Create new class for interval of max_net and launch backtest for the combinations of max_net"
   ]
  },
  {
   "cell_type": "markdown",
   "id": "fe8baff5",
   "metadata": {},
   "source": [
    "### 7) Plot the accumulated max_net vs hold"
   ]
  },
  {
   "cell_type": "markdown",
   "id": "08ef15b0",
   "metadata": {},
   "source": [
    "### 8) Use of parameters combinations for max and max_net obtained (max and max_net params. are the same in the case of 'ee' trend), in another trend ref, starting with the trend ref 'gg'"
   ]
  },
  {
   "cell_type": "code",
   "execution_count": 18,
   "id": "5686499d",
   "metadata": {},
   "outputs": [
    {
     "name": "stdout",
     "output_type": "stream",
     "text": [
      "class version 1.1 is being used\n"
     ]
    }
   ],
   "source": [
    "macd_gg_1h = Macd_long_backtester('BTCUSDT')"
   ]
  },
  {
   "cell_type": "code",
   "execution_count": 20,
   "id": "8faad95a",
   "metadata": {},
   "outputs": [
    {
     "name": "stdout",
     "output_type": "stream",
     "text": [
      "2371\n"
     ]
    }
   ],
   "source": [
    "macd_gg_1h.prepare_data(start='2018-12-16-00:00', end='2019-03-25-00:00', interval='1h')"
   ]
  },
  {
   "cell_type": "code",
   "execution_count": 24,
   "id": "ecf9e981",
   "metadata": {
    "collapsed": true
   },
   "outputs": [
    {
     "name": "stdout",
     "output_type": "stream",
     "text": [
      "2425\n",
      "   multiple_hold  ann_log_mean_hold  ann_log_std_hold  sharpe_ratio_hold  \\\n",
      "0       1.242346           0.033547          0.111925           0.299732   \n",
      "\n",
      "   multiple_macd_strategy  ann_log_mean_macd  ann_log_std_macd  \\\n",
      "0                1.094926            0.01402          0.078963   \n",
      "\n",
      "   sharpe_ratio_macd  multiple_macd_strategy_net  ann_log_mean_macd_net  \\\n",
      "0           0.177547                    0.984522              -0.002412   \n",
      "\n",
      "   ann_log_std_macd_net  sharpe_ratio_macd_net  \n",
      "0              0.079598              -0.030297  \n"
     ]
    },
    {
     "data": {
      "text/plain": [
       "(1.2423459863098967,\n",
       " 0.03354746021528818,\n",
       " 0.11192497839908783,\n",
       " 0.29973166575622573,\n",
       " 1.094925768114384,\n",
       " 0.014019736464363535,\n",
       " 0.07896334522507722,\n",
       " 0.1775473977755332,\n",
       " 0.9845218082135289,\n",
       " -0.0024115708592650715,\n",
       " 0.07959811944315107,\n",
       " -0.03029683208769039)"
      ]
     },
     "execution_count": 24,
     "metadata": {},
     "output_type": "execute_result"
    }
   ],
   "source": [
    "macd_gg_1h.execute_backtest(start='2018-12-16-00:00', ema_slow=24, ema_fast=14, ema_signal=28)"
   ]
  },
  {
   "cell_type": "code",
   "execution_count": 25,
   "id": "c24a9212",
   "metadata": {
    "collapsed": true
   },
   "outputs": [
    {
     "name": "stdout",
     "output_type": "stream",
     "text": [
      "2425\n",
      "   multiple_hold  ann_log_mean_hold  ann_log_std_hold  sharpe_ratio_hold  \\\n",
      "0       1.242346           0.033547          0.111925           0.299732   \n",
      "\n",
      "   multiple_macd_strategy  ann_log_mean_macd  ann_log_std_macd  \\\n",
      "0                1.094926            0.01402          0.078963   \n",
      "\n",
      "   sharpe_ratio_macd  multiple_macd_strategy_net  ann_log_mean_macd_net  \\\n",
      "0           0.177547                    0.984522              -0.002412   \n",
      "\n",
      "   ann_log_std_macd_net  sharpe_ratio_macd_net  \n",
      "0              0.079598              -0.030297  \n"
     ]
    },
    {
     "data": {
      "text/plain": [
       "(1.2423459863098967,\n",
       " 0.03354746021528818,\n",
       " 0.11192497839908783,\n",
       " 0.29973166575622573,\n",
       " 1.094925768114384,\n",
       " 0.014019736464363535,\n",
       " 0.07896334522507722,\n",
       " 0.1775473977755332,\n",
       " 0.9845218082135289,\n",
       " -0.0024115708592650715,\n",
       " 0.07959811944315107,\n",
       " -0.03029683208769039)"
      ]
     },
     "execution_count": 25,
     "metadata": {},
     "output_type": "execute_result"
    }
   ],
   "source": [
    "macd_gg_1h.execute_backtest(start='2018-12-16-00:00', ema_slow=28, ema_fast=14, ema_signal=24)"
   ]
  },
  {
   "cell_type": "markdown",
   "id": "117f6e8e",
   "metadata": {},
   "source": [
    "### 9) Use of parameters combinations for max and max_net obtained (max and max_net params. are the same in the case of 'ee' trend), in another trend ref: the trend ref 'mm'"
   ]
  },
  {
   "cell_type": "code",
   "execution_count": 26,
   "id": "d7fbab96",
   "metadata": {},
   "outputs": [
    {
     "name": "stdout",
     "output_type": "stream",
     "text": [
      "class version 1.1 is being used\n"
     ]
    }
   ],
   "source": [
    "macd_mm_1h = Macd_long_backtester('BTCUSDT')"
   ]
  },
  {
   "cell_type": "code",
   "execution_count": 27,
   "id": "07ba9744",
   "metadata": {},
   "outputs": [
    {
     "name": "stdout",
     "output_type": "stream",
     "text": [
      "1531\n"
     ]
    }
   ],
   "source": [
    "macd_mm_1h.prepare_data(start='2020-02-15-00:00', end='2020-04-19-00:00', interval='1h')"
   ]
  },
  {
   "cell_type": "code",
   "execution_count": 30,
   "id": "f7b85d27",
   "metadata": {
    "collapsed": true
   },
   "outputs": [
    {
     "name": "stdout",
     "output_type": "stream",
     "text": [
      "1585\n",
      "   multiple_hold  ann_log_mean_hold  ann_log_std_hold  sharpe_ratio_hold  \\\n",
      "0       0.700988          -0.085254          0.272273           -0.31312   \n",
      "\n",
      "   multiple_macd_strategy  ann_log_mean_macd  ann_log_std_macd  \\\n",
      "0                1.109536           0.024943          0.153022   \n",
      "\n",
      "   sharpe_ratio_macd  multiple_macd_strategy_net  ann_log_mean_macd_net  \\\n",
      "0           0.163005                    1.053454               0.012497   \n",
      "\n",
      "   ann_log_std_macd_net  sharpe_ratio_macd_net  \n",
      "0              0.153396               0.081466  \n"
     ]
    },
    {
     "data": {
      "text/plain": [
       "(0.7009877974545846,\n",
       " -0.08525420893839236,\n",
       " 0.27227325456482265,\n",
       " -0.31312002743220263,\n",
       " 1.109536323747519,\n",
       " 0.02494339488496048,\n",
       " 0.1530222424178843,\n",
       " 0.1630050278366934,\n",
       " 1.0534544661680576,\n",
       " 0.012496566156196194,\n",
       " 0.15339572133153892,\n",
       " 0.0814661976730562)"
      ]
     },
     "execution_count": 30,
     "metadata": {},
     "output_type": "execute_result"
    }
   ],
   "source": [
    "macd_mm_1h.execute_backtest(start='2020-02-15-00:00', ema_slow=24, ema_fast=14, ema_signal=28)"
   ]
  },
  {
   "cell_type": "code",
   "execution_count": 31,
   "id": "2d39ad1e",
   "metadata": {
    "collapsed": true
   },
   "outputs": [
    {
     "name": "stdout",
     "output_type": "stream",
     "text": [
      "1585\n",
      "   multiple_hold  ann_log_mean_hold  ann_log_std_hold  sharpe_ratio_hold  \\\n",
      "0       0.700988          -0.085254          0.272273           -0.31312   \n",
      "\n",
      "   multiple_macd_strategy  ann_log_mean_macd  ann_log_std_macd  \\\n",
      "0                1.109536           0.024943          0.153022   \n",
      "\n",
      "   sharpe_ratio_macd  multiple_macd_strategy_net  ann_log_mean_macd_net  \\\n",
      "0           0.163005                    1.053454               0.012497   \n",
      "\n",
      "   ann_log_std_macd_net  sharpe_ratio_macd_net  \n",
      "0              0.153396               0.081466  \n"
     ]
    },
    {
     "data": {
      "text/plain": [
       "(0.7009877974545846,\n",
       " -0.08525420893839236,\n",
       " 0.27227325456482265,\n",
       " -0.31312002743220263,\n",
       " 1.109536323747519,\n",
       " 0.02494339488496048,\n",
       " 0.1530222424178843,\n",
       " 0.1630050278366934,\n",
       " 1.0534544661680576,\n",
       " 0.012496566156196194,\n",
       " 0.15339572133153892,\n",
       " 0.0814661976730562)"
      ]
     },
     "execution_count": 31,
     "metadata": {},
     "output_type": "execute_result"
    }
   ],
   "source": [
    "macd_mm_1h.execute_backtest(start='2020-02-15-00:00', ema_slow=28, ema_fast=14, ema_signal=24)"
   ]
  },
  {
   "cell_type": "markdown",
   "id": "d23a76eb",
   "metadata": {},
   "source": [
    "### 9) Use of parameters combinations for max and max_net obtained (max and max_net params. are the same in the case of 'ee' trend), in another trend ref: the trend ref 'nn'"
   ]
  },
  {
   "cell_type": "code",
   "execution_count": 33,
   "id": "0798d24a",
   "metadata": {},
   "outputs": [
    {
     "name": "stdout",
     "output_type": "stream",
     "text": [
      "class version 1.1 is being used\n"
     ]
    }
   ],
   "source": [
    "macd_nn_1h = Macd_long_backtester('BTCUSDT')"
   ]
  },
  {
   "cell_type": "code",
   "execution_count": 34,
   "id": "29233ead",
   "metadata": {},
   "outputs": [
    {
     "name": "stdout",
     "output_type": "stream",
     "text": [
      "1750\n"
     ]
    }
   ],
   "source": [
    "macd_nn_1h.prepare_data(start='2020-05-08-00:00', end='2020-07-20-00:00', interval='1h')"
   ]
  },
  {
   "cell_type": "code",
   "execution_count": 35,
   "id": "887ec1f9",
   "metadata": {
    "collapsed": true
   },
   "outputs": [
    {
     "name": "stdout",
     "output_type": "stream",
     "text": [
      "1804\n",
      "   multiple_hold  ann_log_mean_hold  ann_log_std_hold  sharpe_ratio_hold  \\\n",
      "0       0.910185          -0.019741            0.1114          -0.177207   \n",
      "\n",
      "   multiple_macd_strategy  ann_log_mean_macd  ann_log_std_macd  \\\n",
      "0                1.037238            0.00767          0.071315   \n",
      "\n",
      "   sharpe_ratio_macd  multiple_macd_strategy_net  ann_log_mean_macd_net  \\\n",
      "0           0.107544                    0.964097               -0.00767   \n",
      "\n",
      "   ann_log_std_macd_net  sharpe_ratio_macd_net  \n",
      "0              0.071964              -0.106578  \n"
     ]
    },
    {
     "data": {
      "text/plain": [
       "(0.9101850133036301,\n",
       " -0.019740917768352663,\n",
       " 0.11140018283512709,\n",
       " -0.17720722952106222,\n",
       " 1.037238240400492,\n",
       " 0.007669540029625411,\n",
       " 0.07131539751810644,\n",
       " 0.10754395679668158,\n",
       " 0.9640973666256951,\n",
       " -0.007669821932827401,\n",
       " 0.07196441832309741,\n",
       " -0.10657797438718024)"
      ]
     },
     "execution_count": 35,
     "metadata": {},
     "output_type": "execute_result"
    }
   ],
   "source": [
    "macd_nn_1h.execute_backtest(start='2020-05-08-00:00', ema_slow=24, ema_fast=14, ema_signal=28)"
   ]
  },
  {
   "cell_type": "code",
   "execution_count": 36,
   "id": "d2ced3d9",
   "metadata": {
    "collapsed": true
   },
   "outputs": [
    {
     "name": "stdout",
     "output_type": "stream",
     "text": [
      "1804\n",
      "   multiple_hold  ann_log_mean_hold  ann_log_std_hold  sharpe_ratio_hold  \\\n",
      "0       0.910185          -0.019741            0.1114          -0.177207   \n",
      "\n",
      "   multiple_macd_strategy  ann_log_mean_macd  ann_log_std_macd  \\\n",
      "0                1.037238            0.00767          0.071315   \n",
      "\n",
      "   sharpe_ratio_macd  multiple_macd_strategy_net  ann_log_mean_macd_net  \\\n",
      "0           0.107544                    0.964097               -0.00767   \n",
      "\n",
      "   ann_log_std_macd_net  sharpe_ratio_macd_net  \n",
      "0              0.071964              -0.106578  \n"
     ]
    },
    {
     "data": {
      "text/plain": [
       "(0.9101850133036301,\n",
       " -0.019740917768352663,\n",
       " 0.11140018283512709,\n",
       " -0.17720722952106222,\n",
       " 1.037238240400492,\n",
       " 0.007669540029625411,\n",
       " 0.07131539751810644,\n",
       " 0.10754395679668158,\n",
       " 0.9640973666256951,\n",
       " -0.007669821932827401,\n",
       " 0.07196441832309741,\n",
       " -0.10657797438718024)"
      ]
     },
     "execution_count": 36,
     "metadata": {},
     "output_type": "execute_result"
    }
   ],
   "source": [
    "macd_nn_1h.execute_backtest(start='2020-05-08-00:00', ema_slow=28, ema_fast=14, ema_signal=24)"
   ]
  },
  {
   "cell_type": "markdown",
   "id": "b77c1d85",
   "metadata": {},
   "source": [
    "### 9) Use of parameters combinations for max and max_net obtained (max and max_net params. are the same in the case of 'ee' trend), in another trend ref: the trend ref 'oo'"
   ]
  },
  {
   "cell_type": "code",
   "execution_count": 38,
   "id": "8e18eed8",
   "metadata": {},
   "outputs": [
    {
     "name": "stdout",
     "output_type": "stream",
     "text": [
      "class version 1.1 is being used\n"
     ]
    }
   ],
   "source": [
    "macd_oo_1h = Macd_long_backtester('BTCUSDT')"
   ]
  },
  {
   "cell_type": "code",
   "execution_count": 39,
   "id": "0e562b1e",
   "metadata": {},
   "outputs": [
    {
     "name": "stdout",
     "output_type": "stream",
     "text": [
      "1177\n"
     ]
    }
   ],
   "source": [
    "macd_oo_1h.prepare_data(start='2020-08-18-00:00', end='2020-10-06-00:00', interval='1h')"
   ]
  },
  {
   "cell_type": "code",
   "execution_count": 40,
   "id": "2d936d43",
   "metadata": {
    "collapsed": true
   },
   "outputs": [
    {
     "name": "stdout",
     "output_type": "stream",
     "text": [
      "1231\n",
      "   multiple_hold  ann_log_mean_hold  ann_log_std_hold  sharpe_ratio_hold  \\\n",
      "0       0.869411          -0.043768            0.0891           -0.49123   \n",
      "\n",
      "   multiple_macd_strategy  ann_log_mean_macd  ann_log_std_macd  \\\n",
      "0                0.895751          -0.034433          0.057021   \n",
      "\n",
      "   sharpe_ratio_macd  multiple_macd_strategy_net  ann_log_mean_macd_net  \\\n",
      "0          -0.603874                    0.847588               -0.05172   \n",
      "\n",
      "   ann_log_std_macd_net  sharpe_ratio_macd_net  \n",
      "0              0.057972              -0.892155  \n"
     ]
    },
    {
     "data": {
      "text/plain": [
       "(0.8694110695292533,\n",
       " -0.04376848180609128,\n",
       " 0.08909973605256213,\n",
       " -0.4912302072395722,\n",
       " 0.895751439280557,\n",
       " -0.03443332934335835,\n",
       " 0.057020734227618074,\n",
       " -0.6038738330850976,\n",
       " 0.847587727824415,\n",
       " -0.051719571526190576,\n",
       " 0.057971523980494315,\n",
       " -0.8921547679787177)"
      ]
     },
     "execution_count": 40,
     "metadata": {},
     "output_type": "execute_result"
    }
   ],
   "source": [
    "macd_oo_1h.execute_backtest(start='2020-08-18-00:00', ema_slow=24, ema_fast=14, ema_signal=28)"
   ]
  },
  {
   "cell_type": "code",
   "execution_count": 41,
   "id": "dd4874e0",
   "metadata": {
    "collapsed": true
   },
   "outputs": [
    {
     "name": "stdout",
     "output_type": "stream",
     "text": [
      "1231\n",
      "   multiple_hold  ann_log_mean_hold  ann_log_std_hold  sharpe_ratio_hold  \\\n",
      "0       0.869411          -0.043768            0.0891           -0.49123   \n",
      "\n",
      "   multiple_macd_strategy  ann_log_mean_macd  ann_log_std_macd  \\\n",
      "0                0.895751          -0.034433          0.057021   \n",
      "\n",
      "   sharpe_ratio_macd  multiple_macd_strategy_net  ann_log_mean_macd_net  \\\n",
      "0          -0.603874                    0.847588               -0.05172   \n",
      "\n",
      "   ann_log_std_macd_net  sharpe_ratio_macd_net  \n",
      "0              0.057972              -0.892155  \n"
     ]
    },
    {
     "data": {
      "text/plain": [
       "(0.8694110695292533,\n",
       " -0.04376848180609128,\n",
       " 0.08909973605256213,\n",
       " -0.4912302072395722,\n",
       " 0.895751439280557,\n",
       " -0.03443332934335835,\n",
       " 0.057020734227618074,\n",
       " -0.6038738330850976,\n",
       " 0.847587727824415,\n",
       " -0.051719571526190576,\n",
       " 0.057971523980494315,\n",
       " -0.8921547679787177)"
      ]
     },
     "execution_count": 41,
     "metadata": {},
     "output_type": "execute_result"
    }
   ],
   "source": [
    "macd_oo_1h.execute_backtest(start='2020-08-18-00:00', ema_slow=28, ema_fast=14, ema_signal=24)"
   ]
  },
  {
   "cell_type": "markdown",
   "id": "756764b1",
   "metadata": {},
   "source": [
    "### 10) Try the calculated average for the emas in the collect_opt file"
   ]
  },
  {
   "cell_type": "markdown",
   "id": "d34acddd",
   "metadata": {},
   "source": [
    "__meanbest_1h_par = 30,11,16__\n"
   ]
  },
  {
   "cell_type": "code",
   "execution_count": 43,
   "id": "3cad8b8d",
   "metadata": {},
   "outputs": [
    {
     "name": "stdout",
     "output_type": "stream",
     "text": [
      "class version 1.1 is being used\n"
     ]
    }
   ],
   "source": [
    "macd_opt_meanbest_1h_par = Macd_long_backtester('BTCUSDT')"
   ]
  },
  {
   "cell_type": "code",
   "execution_count": 44,
   "id": "267151a9",
   "metadata": {},
   "outputs": [
    {
     "name": "stdout",
     "output_type": "stream",
     "text": [
      "1561\n"
     ]
    }
   ],
   "source": [
    "macd_opt_meanbest_1h_par.prepare_data(start='2018-08-11-00:00', end='2018-10-15-00:00', interval='1h')"
   ]
  },
  {
   "cell_type": "code",
   "execution_count": 45,
   "id": "3d0bea2a",
   "metadata": {},
   "outputs": [
    {
     "name": "stdout",
     "output_type": "stream",
     "text": [
      "1609\n",
      "   multiple_hold  ann_log_mean_hold  ann_log_std_hold  sharpe_ratio_hold  \\\n",
      "0       1.048038           0.011042          0.103187           0.107008   \n",
      "\n",
      "   multiple_macd_strategy  ann_log_mean_macd  ann_log_std_macd  \\\n",
      "0                1.097612           0.021918          0.077411   \n",
      "\n",
      "   sharpe_ratio_macd  multiple_macd_strategy_net  ann_log_mean_macd_net  \\\n",
      "0           0.283142                    1.015886               0.003709   \n",
      "\n",
      "   ann_log_std_macd_net  sharpe_ratio_macd_net  \n",
      "0              0.078125               0.047476  \n"
     ]
    },
    {
     "data": {
      "text/plain": [
       "(1.0480380401754164,\n",
       " 0.01104175199087844,\n",
       " 0.10318668984603968,\n",
       " 0.10700752206852795,\n",
       " 1.0976122204890257,\n",
       " 0.021918146866900988,\n",
       " 0.07741054460412501,\n",
       " 0.2831416182251355,\n",
       " 1.0158859106366713,\n",
       " 0.003709080149743413,\n",
       " 0.0781250324009522,\n",
       " 0.04747620622680479)"
      ]
     },
     "execution_count": 45,
     "metadata": {},
     "output_type": "execute_result"
    }
   ],
   "source": [
    "macd_opt_meanbest_1h_par.execute_backtest(start='2018-08-11-00:00', ema_slow=30, ema_fast=11, ema_signal=16)"
   ]
  },
  {
   "cell_type": "markdown",
   "id": "761f6979",
   "metadata": {},
   "source": [
    "__meanbest_30m_par = =30,12,22__"
   ]
  },
  {
   "cell_type": "code",
   "execution_count": 46,
   "id": "288b3271",
   "metadata": {
    "scrolled": true
   },
   "outputs": [
    {
     "name": "stdout",
     "output_type": "stream",
     "text": [
      "class version 1.1 is being used\n"
     ]
    }
   ],
   "source": [
    "macd_opt_meanbest_30m_par = Macd_long_backtester('BTCUSDT')"
   ]
  },
  {
   "cell_type": "code",
   "execution_count": 47,
   "id": "15e5bfed",
   "metadata": {},
   "outputs": [
    {
     "name": "stdout",
     "output_type": "stream",
     "text": [
      "3121\n"
     ]
    }
   ],
   "source": [
    "macd_opt_meanbest_30m_par.prepare_data(start='2018-08-11-00:00', end='2018-10-15-00:00', interval='30m')"
   ]
  },
  {
   "cell_type": "code",
   "execution_count": 49,
   "id": "1dc7ef08",
   "metadata": {},
   "outputs": [
    {
     "name": "stdout",
     "output_type": "stream",
     "text": [
      "3175\n",
      "   multiple_hold  ann_log_mean_hold  ann_log_std_hold  sharpe_ratio_hold  \\\n",
      "0        1.03916            0.00452          0.075988           0.059481   \n",
      "\n",
      "   multiple_macd_strategy  ann_log_mean_macd  ann_log_std_macd  \\\n",
      "0                1.033154           0.003838          0.048816   \n",
      "\n",
      "   sharpe_ratio_macd  multiple_macd_strategy_net  ann_log_mean_macd_net  \\\n",
      "0           0.078619                    0.892586              -0.013371   \n",
      "\n",
      "   ann_log_std_macd_net  sharpe_ratio_macd_net  \n",
      "0              0.049445              -0.270417  \n"
     ]
    },
    {
     "data": {
      "text/plain": [
       "(1.0391599333767227,\n",
       " 0.0045198614076180825,\n",
       " 0.07598825965138957,\n",
       " 0.059481049156195925,\n",
       " 1.0331541960797215,\n",
       " 0.00383784782210616,\n",
       " 0.048815921768642676,\n",
       " 0.07861877197147252,\n",
       " 0.8925856441535032,\n",
       " -0.01337072072377903,\n",
       " 0.04944487631627971,\n",
       " -0.2704167088668948)"
      ]
     },
     "execution_count": 49,
     "metadata": {},
     "output_type": "execute_result"
    }
   ],
   "source": [
    "macd_opt_meanbest_30m_par.execute_backtest(start='2018-08-11-00:00', ema_slow=30, ema_fast=12, ema_signal=22)"
   ]
  },
  {
   "cell_type": "markdown",
   "id": "da3330df",
   "metadata": {},
   "source": [
    "### CONCLUSIONS: results for 1h with average parameters are lower than those with opt parameters however still higher than those with buy and hold when no fees taken into account, and still greater than 1 when fees taken into account. The 1h interval is the one that brings the best results when taking into account trading fees. This results has been also observed in the downtrend case, in 1h less trades are done."
   ]
  }
 ],
 "metadata": {
  "kernelspec": {
   "display_name": "Python 3 (ipykernel)",
   "language": "python",
   "name": "python3"
  },
  "language_info": {
   "codemirror_mode": {
    "name": "ipython",
    "version": 3
   },
   "file_extension": ".py",
   "mimetype": "text/x-python",
   "name": "python",
   "nbconvert_exporter": "python",
   "pygments_lexer": "ipython3",
   "version": "3.9.12"
  }
 },
 "nbformat": 4,
 "nbformat_minor": 5
}
