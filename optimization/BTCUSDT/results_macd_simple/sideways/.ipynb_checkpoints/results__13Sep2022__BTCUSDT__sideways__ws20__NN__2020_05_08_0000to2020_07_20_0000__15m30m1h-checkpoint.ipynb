{
 "cells": [
  {
   "cell_type": "code",
   "execution_count": 4,
   "id": "622ab346",
   "metadata": {},
   "outputs": [],
   "source": [
    "import sys\n",
    "sys.path.append('/Users/jp/Desktop/Investment/trading_BOT/macd_long_backtester')\n",
    "from macd_long_backtester import Macd_long_backtester\n",
    "import pandas as pd\n",
    "import matplotlib.pyplot as plt"
   ]
  },
  {
   "cell_type": "code",
   "execution_count": 9,
   "id": "bb7d7afb",
   "metadata": {},
   "outputs": [],
   "source": [
    "pd.set_option('display.max_rows', None)"
   ]
  },
  {
   "cell_type": "markdown",
   "id": "756845b6",
   "metadata": {},
   "source": [
    "### 1) Launch optimization"
   ]
  },
  {
   "cell_type": "code",
   "execution_count": 10,
   "id": "317d62d9",
   "metadata": {},
   "outputs": [
    {
     "name": "stdout",
     "output_type": "stream",
     "text": [
      "class version 1.1 is being used\n"
     ]
    }
   ],
   "source": [
    "macd_opt_nn = Macd_long_backtester('BTCUSDT')"
   ]
  },
  {
   "cell_type": "code",
   "execution_count": 7,
   "id": "6fc2e78a",
   "metadata": {
    "scrolled": true
   },
   "outputs": [],
   "source": [
    "# macd_opt_nn.execute_opt(interval_opt=('15m', '30m', '1h') ,start_opt='2020-05-08-00:00', end_opt='2020-07-20-00:00', ema_fast_opt=(2,16,2), ema_slow_opt=(16,40,2), ema_sign_opt=(2, 40, 2), int_for_max='15m', trend_ref='NN', type_trend='sideways_nn')"
   ]
  },
  {
   "cell_type": "code",
   "execution_count": 12,
   "id": "a2b99d64",
   "metadata": {},
   "outputs": [],
   "source": [
    "macd_opt_nn.opt_results = pd.read_csv('sideways_nn.csv')"
   ]
  },
  {
   "cell_type": "markdown",
   "id": "367d3f03",
   "metadata": {},
   "source": [
    "### 2) Extract combinations of max"
   ]
  },
  {
   "cell_type": "code",
   "execution_count": 13,
   "id": "d49f1e65",
   "metadata": {
    "scrolled": true
   },
   "outputs": [
    {
     "data": {
      "text/html": [
       "<div>\n",
       "<style scoped>\n",
       "    .dataframe tbody tr th:only-of-type {\n",
       "        vertical-align: middle;\n",
       "    }\n",
       "\n",
       "    .dataframe tbody tr th {\n",
       "        vertical-align: top;\n",
       "    }\n",
       "\n",
       "    .dataframe thead th {\n",
       "        text-align: right;\n",
       "    }\n",
       "</style>\n",
       "<table border=\"1\" class=\"dataframe\">\n",
       "  <thead>\n",
       "    <tr style=\"text-align: right;\">\n",
       "      <th></th>\n",
       "      <th>interval_opt</th>\n",
       "      <th>macd_slow_opt</th>\n",
       "      <th>macd_fast_opt</th>\n",
       "      <th>macd_signal_opt</th>\n",
       "      <th>multiple_hold</th>\n",
       "      <th>ann_log_mean_hold</th>\n",
       "      <th>ann_log_std_hold</th>\n",
       "      <th>sharpe_ratio_hold</th>\n",
       "      <th>multiple_macd_strategy</th>\n",
       "      <th>ann_log_mean_macd</th>\n",
       "      <th>ann_log_std_macd</th>\n",
       "      <th>sharpe_ratio_macd</th>\n",
       "      <th>multiple_macd_strategy_net</th>\n",
       "      <th>ann_log_mean_macd_net</th>\n",
       "      <th>ann_log_std_macd_net</th>\n",
       "      <th>sharpe_ratio_macd_net</th>\n",
       "      <th>trend_ref</th>\n",
       "      <th>start_opt</th>\n",
       "      <th>end_opt</th>\n",
       "    </tr>\n",
       "  </thead>\n",
       "  <tbody>\n",
       "    <tr>\n",
       "      <th>2386</th>\n",
       "      <td>30m</td>\n",
       "      <td>26</td>\n",
       "      <td>14</td>\n",
       "      <td>28</td>\n",
       "      <td>0.91641</td>\n",
       "      <td>-0.009158</td>\n",
       "      <td>0.082497</td>\n",
       "      <td>-0.111013</td>\n",
       "      <td>1.170375</td>\n",
       "      <td>0.016506</td>\n",
       "      <td>0.048791</td>\n",
       "      <td>0.338292</td>\n",
       "      <td>1.035498</td>\n",
       "      <td>0.00366</td>\n",
       "      <td>0.049135</td>\n",
       "      <td>0.074483</td>\n",
       "      <td>NN</td>\n",
       "      <td>2020-05-08-00:00</td>\n",
       "      <td>2020-07-20-00:00</td>\n",
       "    </tr>\n",
       "    <tr>\n",
       "      <th>2518</th>\n",
       "      <td>30m</td>\n",
       "      <td>28</td>\n",
       "      <td>14</td>\n",
       "      <td>26</td>\n",
       "      <td>0.91641</td>\n",
       "      <td>-0.009158</td>\n",
       "      <td>0.082497</td>\n",
       "      <td>-0.111013</td>\n",
       "      <td>1.170375</td>\n",
       "      <td>0.016506</td>\n",
       "      <td>0.048791</td>\n",
       "      <td>0.338292</td>\n",
       "      <td>1.035498</td>\n",
       "      <td>0.00366</td>\n",
       "      <td>0.049135</td>\n",
       "      <td>0.074483</td>\n",
       "      <td>NN</td>\n",
       "      <td>2020-05-08-00:00</td>\n",
       "      <td>2020-07-20-00:00</td>\n",
       "    </tr>\n",
       "  </tbody>\n",
       "</table>\n",
       "</div>"
      ],
      "text/plain": [
       "     interval_opt  macd_slow_opt  macd_fast_opt  macd_signal_opt  \\\n",
       "2386          30m             26             14               28   \n",
       "2518          30m             28             14               26   \n",
       "\n",
       "      multiple_hold  ann_log_mean_hold  ann_log_std_hold  sharpe_ratio_hold  \\\n",
       "2386        0.91641          -0.009158          0.082497          -0.111013   \n",
       "2518        0.91641          -0.009158          0.082497          -0.111013   \n",
       "\n",
       "      multiple_macd_strategy  ann_log_mean_macd  ann_log_std_macd  \\\n",
       "2386                1.170375           0.016506          0.048791   \n",
       "2518                1.170375           0.016506          0.048791   \n",
       "\n",
       "      sharpe_ratio_macd  multiple_macd_strategy_net  ann_log_mean_macd_net  \\\n",
       "2386           0.338292                    1.035498                0.00366   \n",
       "2518           0.338292                    1.035498                0.00366   \n",
       "\n",
       "      ann_log_std_macd_net  sharpe_ratio_macd_net trend_ref         start_opt  \\\n",
       "2386              0.049135               0.074483        NN  2020-05-08-00:00   \n",
       "2518              0.049135               0.074483        NN  2020-05-08-00:00   \n",
       "\n",
       "               end_opt  \n",
       "2386  2020-07-20-00:00  \n",
       "2518  2020-07-20-00:00  "
      ]
     },
     "execution_count": 13,
     "metadata": {},
     "output_type": "execute_result"
    }
   ],
   "source": [
    "macd_opt_nn.opt_results[macd_opt_nn.opt_results.multiple_macd_strategy == macd_opt_nn.opt_results.multiple_macd_strategy.max()]"
   ]
  },
  {
   "cell_type": "markdown",
   "id": "0dd74256",
   "metadata": {},
   "source": [
    "### 3) Create new class for interval of max and launch backtest for the combinations of max"
   ]
  },
  {
   "cell_type": "code",
   "execution_count": null,
   "id": "b84cbdb5",
   "metadata": {},
   "outputs": [],
   "source": [
    "# macd_opt_nn_30m = Macd_long_backtester('BTCUSDT')"
   ]
  },
  {
   "cell_type": "code",
   "execution_count": null,
   "id": "16db5cd4",
   "metadata": {},
   "outputs": [],
   "source": [
    "# macd_opt_nn_30m.prepare_data(start='2020-05-08-00:00', end='2020-07-20-00:00', interval='30m')"
   ]
  },
  {
   "cell_type": "code",
   "execution_count": null,
   "id": "a13d628c",
   "metadata": {},
   "outputs": [],
   "source": [
    "# macd_opt_nn_30m.execute_backtest(start='2020-05-08-00:00', ema_slow=28, ema_fast=14, ema_signal=26)"
   ]
  },
  {
   "cell_type": "markdown",
   "id": "b1f9242a",
   "metadata": {},
   "source": [
    "### 4) Plot the accumulated max vs hold"
   ]
  },
  {
   "cell_type": "code",
   "execution_count": null,
   "id": "360426c7",
   "metadata": {},
   "outputs": [],
   "source": [
    "# macd_opt_nn_30m.data_init.macd_log_returns_acum.plot(figsize=(15,10))\n",
    "# macd_opt_nn_30m.data_init.multiple_hold_acum.plot(figsize=(15,10))\n",
    "# plt.legend()"
   ]
  },
  {
   "cell_type": "markdown",
   "id": "b2d0ffc5",
   "metadata": {},
   "source": [
    "### 5) Extract combinations of max_net "
   ]
  },
  {
   "cell_type": "code",
   "execution_count": null,
   "id": "cb05a810",
   "metadata": {},
   "outputs": [],
   "source": [
    "# macd_opt_nn.opt_results[macd_opt_nn.opt_results.multiple_macd_strategy_net == macd_opt_nn.opt_results.multiple_macd_strategy_net.max()]"
   ]
  },
  {
   "cell_type": "markdown",
   "id": "9b3f900a",
   "metadata": {},
   "source": [
    "### 6) Create new class for interval of max_net and launch backtest for the combinations of max_net"
   ]
  },
  {
   "cell_type": "code",
   "execution_count": null,
   "id": "9929b1d3",
   "metadata": {},
   "outputs": [],
   "source": [
    "# macd_opt_nn_1h_netmax = Macd_long_backtester('BTCUSDT')"
   ]
  },
  {
   "cell_type": "code",
   "execution_count": null,
   "id": "a63088a1",
   "metadata": {},
   "outputs": [],
   "source": [
    "# macd_opt_nn_1h_netmax.prepare_data(start='2020-05-08-00:00', end='2020-07-20-00:00', interval='1h')"
   ]
  },
  {
   "cell_type": "code",
   "execution_count": null,
   "id": "e99d2aa8",
   "metadata": {},
   "outputs": [],
   "source": [
    "# macd_opt_nn_1h_netmax.execute_backtest(start='2020-05-08-00:00', ema_slow=20, ema_fast=12, ema_signal=20)"
   ]
  },
  {
   "cell_type": "markdown",
   "id": "98216348",
   "metadata": {},
   "source": [
    "### 7) Plot the accumulated max_net vs hold"
   ]
  },
  {
   "cell_type": "code",
   "execution_count": null,
   "id": "a08777db",
   "metadata": {
    "scrolled": true
   },
   "outputs": [],
   "source": [
    "# macd_opt_nn_1h_netmax.data_init.macd_log_returns_acum.plot(figsize=(15,10))\n",
    "# macd_opt_nn_1h_netmax.data_init.multiple_hold_acum.plot(figsize=(15,10))\n",
    "# plt.legend()"
   ]
  },
  {
   "cell_type": "markdown",
   "id": "7742a92d",
   "metadata": {},
   "source": [
    "### 8) Further..."
   ]
  },
  {
   "cell_type": "markdown",
   "id": "756764b1",
   "metadata": {},
   "source": [
    "### 10) Try the calculated average for the emas in the collect_opt file"
   ]
  },
  {
   "cell_type": "markdown",
   "id": "d34acddd",
   "metadata": {},
   "source": [
    "__meanbest_1h_par = 30,11,16__\n"
   ]
  },
  {
   "cell_type": "code",
   "execution_count": 5,
   "id": "3cad8b8d",
   "metadata": {},
   "outputs": [
    {
     "name": "stdout",
     "output_type": "stream",
     "text": [
      "class version 1.1 is being used\n"
     ]
    }
   ],
   "source": [
    "macd_opt_meanbest_1h_par = Macd_long_backtester('BTCUSDT')"
   ]
  },
  {
   "cell_type": "code",
   "execution_count": 6,
   "id": "267151a9",
   "metadata": {},
   "outputs": [
    {
     "name": "stdout",
     "output_type": "stream",
     "text": [
      "1750\n"
     ]
    }
   ],
   "source": [
    "macd_opt_meanbest_1h_par.prepare_data(start='2020-05-08-00:00', end='2020-07-20-00:00', interval='1h')"
   ]
  },
  {
   "cell_type": "code",
   "execution_count": 7,
   "id": "3d0bea2a",
   "metadata": {},
   "outputs": [
    {
     "name": "stdout",
     "output_type": "stream",
     "text": [
      "1798\n",
      "   multiple_hold  ann_log_mean_hold  ann_log_std_hold  sharpe_ratio_hold  \\\n",
      "0       0.910185          -0.019741            0.1114          -0.177207   \n",
      "\n",
      "   multiple_macd_strategy  ann_log_mean_macd  ann_log_std_macd  \\\n",
      "0                1.155883           0.030388           0.07058   \n",
      "\n",
      "   sharpe_ratio_macd  multiple_macd_strategy_net  ann_log_mean_macd_net  \\\n",
      "0           0.430552                    1.068908               0.013979   \n",
      "\n",
      "   ann_log_std_macd_net  sharpe_ratio_macd_net  \n",
      "0              0.071074               0.196678  \n"
     ]
    },
    {
     "data": {
      "text/plain": [
       "(0.9101850133036301,\n",
       " -0.019740917768352663,\n",
       " 0.11140018283512709,\n",
       " -0.17720722952106222,\n",
       " 1.155882678700916,\n",
       " 0.030388195845789744,\n",
       " 0.07057966122384324,\n",
       " 0.4305517385442479,\n",
       " 1.068908386423017,\n",
       " 0.013978645839444874,\n",
       " 0.07107391201113213,\n",
       " 0.19667759159303677)"
      ]
     },
     "execution_count": 7,
     "metadata": {},
     "output_type": "execute_result"
    }
   ],
   "source": [
    "macd_opt_meanbest_1h_par.execute_backtest(start='2020-05-08-00:00', ema_slow=30, ema_fast=11, ema_signal=16)"
   ]
  },
  {
   "cell_type": "markdown",
   "id": "761f6979",
   "metadata": {},
   "source": [
    "__meanbest_30m_par = =30,12,22__"
   ]
  },
  {
   "cell_type": "code",
   "execution_count": 8,
   "id": "288b3271",
   "metadata": {
    "scrolled": true
   },
   "outputs": [
    {
     "name": "stdout",
     "output_type": "stream",
     "text": [
      "class version 1.1 is being used\n"
     ]
    }
   ],
   "source": [
    "macd_opt_meanbest_30m_par = Macd_long_backtester('BTCUSDT')"
   ]
  },
  {
   "cell_type": "code",
   "execution_count": 9,
   "id": "15e5bfed",
   "metadata": {},
   "outputs": [
    {
     "name": "stdout",
     "output_type": "stream",
     "text": [
      "3498\n"
     ]
    }
   ],
   "source": [
    "macd_opt_meanbest_30m_par.prepare_data(start='2020-05-08-00:00', end='2020-07-20-00:00', interval='30m')"
   ]
  },
  {
   "cell_type": "code",
   "execution_count": 10,
   "id": "1dc7ef08",
   "metadata": {},
   "outputs": [
    {
     "name": "stdout",
     "output_type": "stream",
     "text": [
      "3552\n",
      "   multiple_hold  ann_log_mean_hold  ann_log_std_hold  sharpe_ratio_hold  \\\n",
      "0        0.91641          -0.009158          0.082497          -0.111013   \n",
      "\n",
      "   multiple_macd_strategy  ann_log_mean_macd  ann_log_std_macd  \\\n",
      "0                1.060947           0.006207          0.048092   \n",
      "\n",
      "   sharpe_ratio_macd  multiple_macd_strategy_net  ann_log_mean_macd_net  \\\n",
      "0           0.129065                    0.921285              -0.008602   \n",
      "\n",
      "   ann_log_std_macd_net  sharpe_ratio_macd_net  \n",
      "0              0.048561               -0.17713  \n"
     ]
    },
    {
     "data": {
      "text/plain": [
       "(0.9164098957230717,\n",
       " -0.00915820880847795,\n",
       " 0.08249658432573412,\n",
       " -0.11101318779838408,\n",
       " 1.0609465339030064,\n",
       " 0.006206937383883991,\n",
       " 0.048091715327798934,\n",
       " 0.1290645871451404,\n",
       " 0.9212847877515363,\n",
       " -0.008601585879399614,\n",
       " 0.048560775668005984,\n",
       " -0.17713032300401915)"
      ]
     },
     "execution_count": 10,
     "metadata": {},
     "output_type": "execute_result"
    }
   ],
   "source": [
    "macd_opt_meanbest_30m_par.execute_backtest(start='2020-05-08-00:00', ema_slow=30, ema_fast=12, ema_signal=22)"
   ]
  },
  {
   "cell_type": "markdown",
   "id": "38ef1b4e",
   "metadata": {},
   "source": [
    "### CONCLUSIONS: In both intervals avg pars improve b&h but 1h interval has multiples greater than one with and without fees, which is not the case for 30m"
   ]
  },
  {
   "cell_type": "code",
   "execution_count": null,
   "id": "6c4181c6",
   "metadata": {},
   "outputs": [],
   "source": []
  }
 ],
 "metadata": {
  "kernelspec": {
   "display_name": "Python 3 (ipykernel)",
   "language": "python",
   "name": "python3"
  },
  "language_info": {
   "codemirror_mode": {
    "name": "ipython",
    "version": 3
   },
   "file_extension": ".py",
   "mimetype": "text/x-python",
   "name": "python",
   "nbconvert_exporter": "python",
   "pygments_lexer": "ipython3",
   "version": "3.9.12"
  }
 },
 "nbformat": 4,
 "nbformat_minor": 5
}
