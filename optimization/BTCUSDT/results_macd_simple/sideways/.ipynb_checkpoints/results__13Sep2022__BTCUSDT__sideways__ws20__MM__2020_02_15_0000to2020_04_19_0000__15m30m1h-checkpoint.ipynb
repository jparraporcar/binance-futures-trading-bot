{
 "cells": [
  {
   "cell_type": "code",
   "execution_count": 3,
   "id": "60646008",
   "metadata": {},
   "outputs": [],
   "source": [
    "import sys\n",
    "sys.path.append('/Users/jp/Desktop/Investment/trading_BOT/macd_long_backtester')\n",
    "from macd_long_backtester import Macd_long_backtester\n",
    "import pandas as pd\n",
    "import matplotlib.pyplot as plt"
   ]
  },
  {
   "cell_type": "code",
   "execution_count": 11,
   "id": "da459bcd",
   "metadata": {},
   "outputs": [],
   "source": [
    "pd.set_option('display.max_rows', None)"
   ]
  },
  {
   "cell_type": "markdown",
   "id": "936c9151",
   "metadata": {},
   "source": [
    "### 1) Launch optimization"
   ]
  },
  {
   "cell_type": "code",
   "execution_count": 12,
   "id": "d31841d9",
   "metadata": {},
   "outputs": [
    {
     "name": "stdout",
     "output_type": "stream",
     "text": [
      "class version 1.1 is being used\n"
     ]
    }
   ],
   "source": [
    "macd_opt_mm = Macd_long_backtester('BTCUSDT')"
   ]
  },
  {
   "cell_type": "code",
   "execution_count": 9,
   "id": "f108640d",
   "metadata": {
    "scrolled": true
   },
   "outputs": [],
   "source": [
    "# macd_opt_mm.execute_opt(interval_opt=('15m', '30m', '1h') ,start_opt='2020-02-15-00:00', end_opt='2020-04-19-00:00', ema_fast_opt=(2,16,2), ema_slow_opt=(16,40,2), ema_sign_opt=(2, 40, 2), int_for_max='15m', trend_ref='MM', type_trend='sideways_mm')"
   ]
  },
  {
   "cell_type": "code",
   "execution_count": 13,
   "id": "1437ba2a",
   "metadata": {},
   "outputs": [],
   "source": [
    "macd_opt_mm.opt_results = pd.read_csv('sideways_mm.csv')"
   ]
  },
  {
   "cell_type": "markdown",
   "id": "aca9d476",
   "metadata": {},
   "source": [
    "### 2) Extract combinations of max"
   ]
  },
  {
   "cell_type": "code",
   "execution_count": 14,
   "id": "81297b46",
   "metadata": {
    "scrolled": true
   },
   "outputs": [
    {
     "data": {
      "text/html": [
       "<div>\n",
       "<style scoped>\n",
       "    .dataframe tbody tr th:only-of-type {\n",
       "        vertical-align: middle;\n",
       "    }\n",
       "\n",
       "    .dataframe tbody tr th {\n",
       "        vertical-align: top;\n",
       "    }\n",
       "\n",
       "    .dataframe thead th {\n",
       "        text-align: right;\n",
       "    }\n",
       "</style>\n",
       "<table border=\"1\" class=\"dataframe\">\n",
       "  <thead>\n",
       "    <tr style=\"text-align: right;\">\n",
       "      <th></th>\n",
       "      <th>interval_opt</th>\n",
       "      <th>macd_slow_opt</th>\n",
       "      <th>macd_fast_opt</th>\n",
       "      <th>macd_signal_opt</th>\n",
       "      <th>multiple_hold</th>\n",
       "      <th>ann_log_mean_hold</th>\n",
       "      <th>ann_log_std_hold</th>\n",
       "      <th>sharpe_ratio_hold</th>\n",
       "      <th>multiple_macd_strategy</th>\n",
       "      <th>ann_log_mean_macd</th>\n",
       "      <th>ann_log_std_macd</th>\n",
       "      <th>sharpe_ratio_macd</th>\n",
       "      <th>multiple_macd_strategy_net</th>\n",
       "      <th>ann_log_mean_macd_net</th>\n",
       "      <th>ann_log_std_macd_net</th>\n",
       "      <th>sharpe_ratio_macd_net</th>\n",
       "      <th>trend_ref</th>\n",
       "      <th>start_opt</th>\n",
       "      <th>end_opt</th>\n",
       "    </tr>\n",
       "  </thead>\n",
       "  <tbody>\n",
       "    <tr>\n",
       "      <th>3804</th>\n",
       "      <td>1h</td>\n",
       "      <td>24</td>\n",
       "      <td>10</td>\n",
       "      <td>14</td>\n",
       "      <td>0.700988</td>\n",
       "      <td>-0.085254</td>\n",
       "      <td>0.272273</td>\n",
       "      <td>-0.31312</td>\n",
       "      <td>1.38467</td>\n",
       "      <td>0.078102</td>\n",
       "      <td>0.161237</td>\n",
       "      <td>0.484395</td>\n",
       "      <td>1.288125</td>\n",
       "      <td>0.060758</td>\n",
       "      <td>0.161656</td>\n",
       "      <td>0.375851</td>\n",
       "      <td>MM</td>\n",
       "      <td>2020-02-15-00:00</td>\n",
       "      <td>2020-04-19-00:00</td>\n",
       "    </tr>\n",
       "    <tr>\n",
       "      <th>3840</th>\n",
       "      <td>1h</td>\n",
       "      <td>24</td>\n",
       "      <td>14</td>\n",
       "      <td>10</td>\n",
       "      <td>0.700988</td>\n",
       "      <td>-0.085254</td>\n",
       "      <td>0.272273</td>\n",
       "      <td>-0.31312</td>\n",
       "      <td>1.38467</td>\n",
       "      <td>0.078102</td>\n",
       "      <td>0.161237</td>\n",
       "      <td>0.484395</td>\n",
       "      <td>1.288125</td>\n",
       "      <td>0.060758</td>\n",
       "      <td>0.161656</td>\n",
       "      <td>0.375851</td>\n",
       "      <td>MM</td>\n",
       "      <td>2020-02-15-00:00</td>\n",
       "      <td>2020-04-19-00:00</td>\n",
       "    </tr>\n",
       "  </tbody>\n",
       "</table>\n",
       "</div>"
      ],
      "text/plain": [
       "     interval_opt  macd_slow_opt  macd_fast_opt  macd_signal_opt  \\\n",
       "3804           1h             24             10               14   \n",
       "3840           1h             24             14               10   \n",
       "\n",
       "      multiple_hold  ann_log_mean_hold  ann_log_std_hold  sharpe_ratio_hold  \\\n",
       "3804       0.700988          -0.085254          0.272273           -0.31312   \n",
       "3840       0.700988          -0.085254          0.272273           -0.31312   \n",
       "\n",
       "      multiple_macd_strategy  ann_log_mean_macd  ann_log_std_macd  \\\n",
       "3804                 1.38467           0.078102          0.161237   \n",
       "3840                 1.38467           0.078102          0.161237   \n",
       "\n",
       "      sharpe_ratio_macd  multiple_macd_strategy_net  ann_log_mean_macd_net  \\\n",
       "3804           0.484395                    1.288125               0.060758   \n",
       "3840           0.484395                    1.288125               0.060758   \n",
       "\n",
       "      ann_log_std_macd_net  sharpe_ratio_macd_net trend_ref         start_opt  \\\n",
       "3804              0.161656               0.375851        MM  2020-02-15-00:00   \n",
       "3840              0.161656               0.375851        MM  2020-02-15-00:00   \n",
       "\n",
       "               end_opt  \n",
       "3804  2020-04-19-00:00  \n",
       "3840  2020-04-19-00:00  "
      ]
     },
     "execution_count": 14,
     "metadata": {},
     "output_type": "execute_result"
    }
   ],
   "source": [
    "macd_opt_mm.opt_results[macd_opt_mm.opt_results.multiple_macd_strategy == macd_opt_mm.opt_results.multiple_macd_strategy.max()]"
   ]
  },
  {
   "cell_type": "markdown",
   "id": "82721baa",
   "metadata": {},
   "source": [
    "### 3) Create new class for interval of max and launch backtest for the combinations of max"
   ]
  },
  {
   "cell_type": "code",
   "execution_count": null,
   "id": "ece319cc",
   "metadata": {},
   "outputs": [],
   "source": [
    "# macd_opt_mm_1h = Macd_long_backtester('BTCUSDT')"
   ]
  },
  {
   "cell_type": "code",
   "execution_count": null,
   "id": "ea3f9655",
   "metadata": {},
   "outputs": [],
   "source": [
    "# macd_opt_mm_1h.prepare_data(start='2020-02-15-00:00', end='2020-04-19-00:00', interval='1h')"
   ]
  },
  {
   "cell_type": "code",
   "execution_count": null,
   "id": "d760067b",
   "metadata": {},
   "outputs": [],
   "source": [
    "# macd_opt_mm_1h.execute_backtest(start='2020-02-15-00:00', ema_slow=24, ema_fast=10, ema_signal=14)"
   ]
  },
  {
   "cell_type": "markdown",
   "id": "bb492f9b",
   "metadata": {},
   "source": [
    "### 4) Plot the accumulated max vs hold"
   ]
  },
  {
   "cell_type": "markdown",
   "id": "94a22b6e",
   "metadata": {},
   "source": [
    "### 5) Extract combinations of max_net "
   ]
  },
  {
   "cell_type": "code",
   "execution_count": null,
   "id": "80075296",
   "metadata": {
    "scrolled": true
   },
   "outputs": [],
   "source": [
    "# macd_opt_mm.opt_results[macd_opt_mm.opt_results.multiple_macd_strategy_net == macd_opt_mm.opt_results.multiple_macd_strategy_net.max()]"
   ]
  },
  {
   "cell_type": "markdown",
   "id": "1ddafbd1",
   "metadata": {},
   "source": [
    "### 6) Create new class for interval of max_net and launch backtest for the combinations of max_net"
   ]
  },
  {
   "cell_type": "markdown",
   "id": "ac4b2cda",
   "metadata": {},
   "source": [
    "### 7) Plot the accumulated max_net vs hold"
   ]
  },
  {
   "cell_type": "markdown",
   "id": "756764b1",
   "metadata": {},
   "source": [
    "### 10) Try the calculated average for the emas in the collect_opt file"
   ]
  },
  {
   "cell_type": "markdown",
   "id": "d34acddd",
   "metadata": {},
   "source": [
    "__meanbest_1h_par = 30,11,16__\n"
   ]
  },
  {
   "cell_type": "code",
   "execution_count": 4,
   "id": "3cad8b8d",
   "metadata": {},
   "outputs": [
    {
     "name": "stdout",
     "output_type": "stream",
     "text": [
      "class version 1.1 is being used\n"
     ]
    }
   ],
   "source": [
    "macd_opt_meanbest_1h_par = Macd_long_backtester('BTCUSDT')"
   ]
  },
  {
   "cell_type": "code",
   "execution_count": 5,
   "id": "267151a9",
   "metadata": {},
   "outputs": [
    {
     "name": "stdout",
     "output_type": "stream",
     "text": [
      "1531\n"
     ]
    }
   ],
   "source": [
    "macd_opt_meanbest_1h_par.prepare_data(start='2020-02-15-00:00', end='2020-04-19-00:00', interval='1h')"
   ]
  },
  {
   "cell_type": "code",
   "execution_count": 6,
   "id": "3d0bea2a",
   "metadata": {},
   "outputs": [
    {
     "name": "stdout",
     "output_type": "stream",
     "text": [
      "1579\n",
      "   multiple_hold  ann_log_mean_hold  ann_log_std_hold  sharpe_ratio_hold  \\\n",
      "0       0.700988          -0.085254          0.272273           -0.31312   \n",
      "\n",
      "   multiple_macd_strategy  ann_log_mean_macd  ann_log_std_macd  \\\n",
      "0                1.124696             0.0282          0.154287   \n",
      "\n",
      "   sharpe_ratio_macd  multiple_macd_strategy_net  ann_log_mean_macd_net  \\\n",
      "0           0.182776                    1.051628                0.01208   \n",
      "\n",
      "   ann_log_std_macd_net  sharpe_ratio_macd_net  \n",
      "0              0.154753               0.078061  \n"
     ]
    },
    {
     "data": {
      "text/plain": [
       "(0.7009877974545846,\n",
       " -0.08525420893839236,\n",
       " 0.27227325456482265,\n",
       " -0.31312002743220263,\n",
       " 1.1246955265234466,\n",
       " 0.028199875027295887,\n",
       " 0.1542868531328692,\n",
       " 0.18277561862649852,\n",
       " 1.0516283064770509,\n",
       " 0.012080211591683133,\n",
       " 0.1547534958994173,\n",
       " 0.07806099320389323)"
      ]
     },
     "execution_count": 6,
     "metadata": {},
     "output_type": "execute_result"
    }
   ],
   "source": [
    "macd_opt_meanbest_1h_par.execute_backtest(start='2020-02-15-00:00', ema_slow=30, ema_fast=11, ema_signal=16)"
   ]
  },
  {
   "cell_type": "markdown",
   "id": "761f6979",
   "metadata": {},
   "source": [
    "__meanbest_30m_par = =30,12,22__"
   ]
  },
  {
   "cell_type": "code",
   "execution_count": 7,
   "id": "288b3271",
   "metadata": {
    "scrolled": true
   },
   "outputs": [
    {
     "name": "stdout",
     "output_type": "stream",
     "text": [
      "class version 1.1 is being used\n"
     ]
    }
   ],
   "source": [
    "macd_opt_meanbest_30m_par = Macd_long_backtester('BTCUSDT')"
   ]
  },
  {
   "cell_type": "code",
   "execution_count": 8,
   "id": "15e5bfed",
   "metadata": {},
   "outputs": [
    {
     "name": "stdout",
     "output_type": "stream",
     "text": [
      "3058\n"
     ]
    }
   ],
   "source": [
    "macd_opt_meanbest_30m_par.prepare_data(start='2020-02-15-00:00', end='2020-04-19-00:00', interval='30m')"
   ]
  },
  {
   "cell_type": "code",
   "execution_count": 9,
   "id": "1dc7ef08",
   "metadata": {},
   "outputs": [
    {
     "name": "stdout",
     "output_type": "stream",
     "text": [
      "3112\n",
      "   multiple_hold  ann_log_mean_hold  ann_log_std_hold  sharpe_ratio_hold  \\\n",
      "0       0.698155          -0.043155          0.185884          -0.232163   \n",
      "\n",
      "   multiple_macd_strategy  ann_log_mean_macd  ann_log_std_macd  \\\n",
      "0                0.875505          -0.015969          0.119621   \n",
      "\n",
      "   sharpe_ratio_macd  multiple_macd_strategy_net  ann_log_mean_macd_net  \\\n",
      "0          -0.133493                    0.757029              -0.033432   \n",
      "\n",
      "   ann_log_std_macd_net  sharpe_ratio_macd_net  \n",
      "0              0.120113              -0.278336  \n"
     ]
    },
    {
     "data": {
      "text/plain": [
       "(0.6981551917210487,\n",
       " -0.04315549854449496,\n",
       " 0.18588438049143968,\n",
       " -0.2321631243593506,\n",
       " 0.8755051668131218,\n",
       " -0.015968506872849147,\n",
       " 0.11962091978969852,\n",
       " -0.13349259394529683,\n",
       " 0.7570293925797759,\n",
       " -0.03343169380822471,\n",
       " 0.12011289202347823,\n",
       " -0.2783355994932657)"
      ]
     },
     "execution_count": 9,
     "metadata": {},
     "output_type": "execute_result"
    }
   ],
   "source": [
    "macd_opt_meanbest_30m_par.execute_backtest(start='2020-02-15-00:00', ema_slow=30, ema_fast=12, ema_signal=22)"
   ]
  },
  {
   "cell_type": "markdown",
   "id": "0e9089d5",
   "metadata": {},
   "source": [
    "### CONCLUSIONS: the best results are obtained with the 1h interval with average parameters, obtaining multiplkes greater than 1 with and without fees. Thre results are obviously lower than with the opt parameters"
   ]
  },
  {
   "cell_type": "code",
   "execution_count": null,
   "id": "c6875a1e",
   "metadata": {},
   "outputs": [],
   "source": []
  },
  {
   "cell_type": "code",
   "execution_count": null,
   "id": "e996609b",
   "metadata": {},
   "outputs": [],
   "source": []
  }
 ],
 "metadata": {
  "kernelspec": {
   "display_name": "Python 3 (ipykernel)",
   "language": "python",
   "name": "python3"
  },
  "language_info": {
   "codemirror_mode": {
    "name": "ipython",
    "version": 3
   },
   "file_extension": ".py",
   "mimetype": "text/x-python",
   "name": "python",
   "nbconvert_exporter": "python",
   "pygments_lexer": "ipython3",
   "version": "3.9.12"
  }
 },
 "nbformat": 4,
 "nbformat_minor": 5
}
