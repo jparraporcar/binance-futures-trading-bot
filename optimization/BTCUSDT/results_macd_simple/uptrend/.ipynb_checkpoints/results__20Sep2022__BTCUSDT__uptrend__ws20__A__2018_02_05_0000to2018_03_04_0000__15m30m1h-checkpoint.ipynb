{
 "cells": [
  {
   "cell_type": "code",
   "execution_count": 11,
   "id": "f82d7385",
   "metadata": {},
   "outputs": [],
   "source": [
    "import sys\n",
    "sys.path.append('/Users/jp/Desktop/Investment/trading_BOT/macd_long_backtester')\n",
    "from macd_long_backtester import Macd_long_backtester\n",
    "import pandas as pd\n",
    "import matplotlib.pyplot as plt"
   ]
  },
  {
   "cell_type": "code",
   "execution_count": 12,
   "id": "7de93040",
   "metadata": {},
   "outputs": [],
   "source": [
    "pd.set_option('display.max_rows', None)"
   ]
  },
  {
   "cell_type": "markdown",
   "id": "ded7ce4a",
   "metadata": {},
   "source": [
    "### 1) Launch optimization"
   ]
  },
  {
   "cell_type": "code",
   "execution_count": 13,
   "id": "e0b7c70a",
   "metadata": {},
   "outputs": [
    {
     "name": "stdout",
     "output_type": "stream",
     "text": [
      "class version 1.1 is being used\n"
     ]
    }
   ],
   "source": [
    "macd_opt_a = Macd_long_backtester('BTCUSDT')"
   ]
  },
  {
   "cell_type": "code",
   "execution_count": 14,
   "id": "96f98cd2",
   "metadata": {
    "scrolled": true
   },
   "outputs": [],
   "source": [
    "# macd_opt_a.execute_opt(interval_opt=('15m', '30m', '1h') ,start_opt='2018-02-05-00:00', end_opt='2018-03-04-00:00', ema_fast_opt=(2,16,2), ema_slow_opt=(16,40,2), ema_sign_opt=(2, 40, 2), int_for_max='1h', trend_ref='A', type_trend='uptrend_a')"
   ]
  },
  {
   "cell_type": "code",
   "execution_count": 16,
   "id": "f29b98b4",
   "metadata": {},
   "outputs": [],
   "source": [
    "macd_opt_a.opt_results = pd.read_csv('uptrend_a.csv')"
   ]
  },
  {
   "cell_type": "markdown",
   "id": "bb57fed1",
   "metadata": {},
   "source": [
    "### 2) Extract combinations of max"
   ]
  },
  {
   "cell_type": "code",
   "execution_count": 17,
   "id": "4ac27879",
   "metadata": {},
   "outputs": [
    {
     "data": {
      "text/html": [
       "<div>\n",
       "<style scoped>\n",
       "    .dataframe tbody tr th:only-of-type {\n",
       "        vertical-align: middle;\n",
       "    }\n",
       "\n",
       "    .dataframe tbody tr th {\n",
       "        vertical-align: top;\n",
       "    }\n",
       "\n",
       "    .dataframe thead th {\n",
       "        text-align: right;\n",
       "    }\n",
       "</style>\n",
       "<table border=\"1\" class=\"dataframe\">\n",
       "  <thead>\n",
       "    <tr style=\"text-align: right;\">\n",
       "      <th></th>\n",
       "      <th>interval_opt</th>\n",
       "      <th>macd_slow_opt</th>\n",
       "      <th>macd_fast_opt</th>\n",
       "      <th>macd_signal_opt</th>\n",
       "      <th>multiple_hold</th>\n",
       "      <th>ann_log_mean_hold</th>\n",
       "      <th>ann_log_std_hold</th>\n",
       "      <th>sharpe_ratio_hold</th>\n",
       "      <th>multiple_macd_strategy</th>\n",
       "      <th>ann_log_mean_macd</th>\n",
       "      <th>ann_log_std_macd</th>\n",
       "      <th>sharpe_ratio_macd</th>\n",
       "      <th>multiple_macd_strategy_net</th>\n",
       "      <th>ann_log_mean_macd_net</th>\n",
       "      <th>ann_log_std_macd_net</th>\n",
       "      <th>sharpe_ratio_macd_net</th>\n",
       "      <th>trend_ref</th>\n",
       "      <th>start_opt</th>\n",
       "      <th>end_opt</th>\n",
       "    </tr>\n",
       "  </thead>\n",
       "  <tbody>\n",
       "    <tr>\n",
       "      <th>1</th>\n",
       "      <td>15m</td>\n",
       "      <td>16</td>\n",
       "      <td>2</td>\n",
       "      <td>4</td>\n",
       "      <td>1.376015</td>\n",
       "      <td>0.048143</td>\n",
       "      <td>0.14721</td>\n",
       "      <td>0.327032</td>\n",
       "      <td>1.760426</td>\n",
       "      <td>0.085301</td>\n",
       "      <td>0.10861</td>\n",
       "      <td>0.785389</td>\n",
       "      <td>1.10285</td>\n",
       "      <td>0.014766</td>\n",
       "      <td>0.111142</td>\n",
       "      <td>0.132853</td>\n",
       "      <td>A</td>\n",
       "      <td>2018-02-05-00:00</td>\n",
       "      <td>2018-03-04-00:00</td>\n",
       "    </tr>\n",
       "    <tr>\n",
       "      <th>19</th>\n",
       "      <td>15m</td>\n",
       "      <td>16</td>\n",
       "      <td>4</td>\n",
       "      <td>2</td>\n",
       "      <td>1.376015</td>\n",
       "      <td>0.048143</td>\n",
       "      <td>0.14721</td>\n",
       "      <td>0.327032</td>\n",
       "      <td>1.760426</td>\n",
       "      <td>0.085301</td>\n",
       "      <td>0.10861</td>\n",
       "      <td>0.785389</td>\n",
       "      <td>1.10285</td>\n",
       "      <td>0.014766</td>\n",
       "      <td>0.111142</td>\n",
       "      <td>0.132853</td>\n",
       "      <td>A</td>\n",
       "      <td>2018-02-05-00:00</td>\n",
       "      <td>2018-03-04-00:00</td>\n",
       "    </tr>\n",
       "  </tbody>\n",
       "</table>\n",
       "</div>"
      ],
      "text/plain": [
       "   interval_opt  macd_slow_opt  macd_fast_opt  macd_signal_opt  multiple_hold  \\\n",
       "1           15m             16              2                4       1.376015   \n",
       "19          15m             16              4                2       1.376015   \n",
       "\n",
       "    ann_log_mean_hold  ann_log_std_hold  sharpe_ratio_hold  \\\n",
       "1            0.048143           0.14721           0.327032   \n",
       "19           0.048143           0.14721           0.327032   \n",
       "\n",
       "    multiple_macd_strategy  ann_log_mean_macd  ann_log_std_macd  \\\n",
       "1                 1.760426           0.085301           0.10861   \n",
       "19                1.760426           0.085301           0.10861   \n",
       "\n",
       "    sharpe_ratio_macd  multiple_macd_strategy_net  ann_log_mean_macd_net  \\\n",
       "1            0.785389                     1.10285               0.014766   \n",
       "19           0.785389                     1.10285               0.014766   \n",
       "\n",
       "    ann_log_std_macd_net  sharpe_ratio_macd_net trend_ref         start_opt  \\\n",
       "1               0.111142               0.132853         A  2018-02-05-00:00   \n",
       "19              0.111142               0.132853         A  2018-02-05-00:00   \n",
       "\n",
       "             end_opt  \n",
       "1   2018-03-04-00:00  \n",
       "19  2018-03-04-00:00  "
      ]
     },
     "execution_count": 17,
     "metadata": {},
     "output_type": "execute_result"
    }
   ],
   "source": [
    "macd_opt_a.opt_results[macd_opt_a.opt_results.multiple_macd_strategy == macd_opt_a.opt_results.multiple_macd_strategy.max()]"
   ]
  },
  {
   "cell_type": "markdown",
   "id": "80ce79ba",
   "metadata": {},
   "source": [
    "### 3) Create new class for interval of max and launch backtest for the combinations of max"
   ]
  },
  {
   "cell_type": "markdown",
   "id": "1d685b63",
   "metadata": {},
   "source": [
    "### 4) Plot the accumulated max vs hold"
   ]
  },
  {
   "cell_type": "markdown",
   "id": "58706ec0",
   "metadata": {},
   "source": [
    "### 5) Extract combinations of max_net "
   ]
  },
  {
   "cell_type": "code",
   "execution_count": 18,
   "id": "ec834be9",
   "metadata": {},
   "outputs": [
    {
     "data": {
      "text/html": [
       "<div>\n",
       "<style scoped>\n",
       "    .dataframe tbody tr th:only-of-type {\n",
       "        vertical-align: middle;\n",
       "    }\n",
       "\n",
       "    .dataframe tbody tr th {\n",
       "        vertical-align: top;\n",
       "    }\n",
       "\n",
       "    .dataframe thead th {\n",
       "        text-align: right;\n",
       "    }\n",
       "</style>\n",
       "<table border=\"1\" class=\"dataframe\">\n",
       "  <thead>\n",
       "    <tr style=\"text-align: right;\">\n",
       "      <th></th>\n",
       "      <th>interval_opt</th>\n",
       "      <th>macd_slow_opt</th>\n",
       "      <th>macd_fast_opt</th>\n",
       "      <th>macd_signal_opt</th>\n",
       "      <th>multiple_hold</th>\n",
       "      <th>ann_log_mean_hold</th>\n",
       "      <th>ann_log_std_hold</th>\n",
       "      <th>sharpe_ratio_hold</th>\n",
       "      <th>multiple_macd_strategy</th>\n",
       "      <th>ann_log_mean_macd</th>\n",
       "      <th>ann_log_std_macd</th>\n",
       "      <th>sharpe_ratio_macd</th>\n",
       "      <th>multiple_macd_strategy_net</th>\n",
       "      <th>ann_log_mean_macd_net</th>\n",
       "      <th>ann_log_std_macd_net</th>\n",
       "      <th>sharpe_ratio_macd_net</th>\n",
       "      <th>trend_ref</th>\n",
       "      <th>start_opt</th>\n",
       "      <th>end_opt</th>\n",
       "    </tr>\n",
       "  </thead>\n",
       "  <tbody>\n",
       "    <tr>\n",
       "      <th>4112</th>\n",
       "      <td>1h</td>\n",
       "      <td>28</td>\n",
       "      <td>14</td>\n",
       "      <td>28</td>\n",
       "      <td>1.395373</td>\n",
       "      <td>0.200667</td>\n",
       "      <td>0.289108</td>\n",
       "      <td>0.694091</td>\n",
       "      <td>1.740483</td>\n",
       "      <td>0.333778</td>\n",
       "      <td>0.194609</td>\n",
       "      <td>1.715121</td>\n",
       "      <td>1.709681</td>\n",
       "      <td>0.323023</td>\n",
       "      <td>0.194919</td>\n",
       "      <td>1.657217</td>\n",
       "      <td>A</td>\n",
       "      <td>2018-02-05-00:00</td>\n",
       "      <td>2018-03-04-00:00</td>\n",
       "    </tr>\n",
       "  </tbody>\n",
       "</table>\n",
       "</div>"
      ],
      "text/plain": [
       "     interval_opt  macd_slow_opt  macd_fast_opt  macd_signal_opt  \\\n",
       "4112           1h             28             14               28   \n",
       "\n",
       "      multiple_hold  ann_log_mean_hold  ann_log_std_hold  sharpe_ratio_hold  \\\n",
       "4112       1.395373           0.200667          0.289108           0.694091   \n",
       "\n",
       "      multiple_macd_strategy  ann_log_mean_macd  ann_log_std_macd  \\\n",
       "4112                1.740483           0.333778          0.194609   \n",
       "\n",
       "      sharpe_ratio_macd  multiple_macd_strategy_net  ann_log_mean_macd_net  \\\n",
       "4112           1.715121                    1.709681               0.323023   \n",
       "\n",
       "      ann_log_std_macd_net  sharpe_ratio_macd_net trend_ref         start_opt  \\\n",
       "4112              0.194919               1.657217         A  2018-02-05-00:00   \n",
       "\n",
       "               end_opt  \n",
       "4112  2018-03-04-00:00  "
      ]
     },
     "execution_count": 18,
     "metadata": {},
     "output_type": "execute_result"
    }
   ],
   "source": [
    "macd_opt_a.opt_results[macd_opt_a.opt_results.multiple_macd_strategy_net == macd_opt_a.opt_results.multiple_macd_strategy_net.max()]"
   ]
  },
  {
   "cell_type": "markdown",
   "id": "094391fb",
   "metadata": {},
   "source": [
    "### 6) Create new class for interval of max_net and launch backtest for the combinations of max_net"
   ]
  },
  {
   "cell_type": "markdown",
   "id": "fe8baff5",
   "metadata": {},
   "source": [
    "### 7) Plot the accumulated max_net vs hold"
   ]
  },
  {
   "cell_type": "markdown",
   "id": "08ef15b0",
   "metadata": {},
   "source": [
    "### 8) Further..."
   ]
  },
  {
   "cell_type": "code",
   "execution_count": null,
   "id": "415407ad",
   "metadata": {},
   "outputs": [],
   "source": []
  }
 ],
 "metadata": {
  "kernelspec": {
   "display_name": "Python 3 (ipykernel)",
   "language": "python",
   "name": "python3"
  },
  "language_info": {
   "codemirror_mode": {
    "name": "ipython",
    "version": 3
   },
   "file_extension": ".py",
   "mimetype": "text/x-python",
   "name": "python",
   "nbconvert_exporter": "python",
   "pygments_lexer": "ipython3",
   "version": "3.9.12"
  }
 },
 "nbformat": 4,
 "nbformat_minor": 5
}
