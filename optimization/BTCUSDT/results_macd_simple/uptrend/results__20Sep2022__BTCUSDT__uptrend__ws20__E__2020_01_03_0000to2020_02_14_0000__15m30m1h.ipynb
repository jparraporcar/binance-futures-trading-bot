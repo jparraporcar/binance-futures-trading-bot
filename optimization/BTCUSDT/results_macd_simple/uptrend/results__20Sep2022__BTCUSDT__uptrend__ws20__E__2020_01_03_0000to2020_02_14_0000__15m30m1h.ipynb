{
 "cells": [
  {
   "cell_type": "code",
   "execution_count": 5,
   "id": "03d57036",
   "metadata": {},
   "outputs": [],
   "source": [
    "import sys\n",
    "sys.path.append('/Users/jp/Desktop/Investment/trading_BOT/macd_long_backtester')\n",
    "from macd_long_backtester import Macd_long_backtester\n",
    "import pandas as pd\n",
    "import matplotlib.pyplot as plt"
   ]
  },
  {
   "cell_type": "code",
   "execution_count": 6,
   "id": "3a0d0a28",
   "metadata": {},
   "outputs": [],
   "source": [
    "pd.set_option('display.max_rows', None)"
   ]
  },
  {
   "cell_type": "markdown",
   "id": "ded7ce4a",
   "metadata": {},
   "source": [
    "### 1) Launch optimization"
   ]
  },
  {
   "cell_type": "code",
   "execution_count": 3,
   "id": "caf2a082",
   "metadata": {},
   "outputs": [
    {
     "name": "stdout",
     "output_type": "stream",
     "text": [
      "class version 1.1 is being used\n"
     ]
    }
   ],
   "source": [
    "macd_opt_e = Macd_long_backtester('BTCUSDT')"
   ]
  },
  {
   "cell_type": "code",
   "execution_count": 7,
   "id": "f80e9cab",
   "metadata": {
    "scrolled": true
   },
   "outputs": [],
   "source": [
    "# macd_opt_e.execute_opt(interval_opt=('15m', '30m', '1h') ,start_opt='2020-01-03-00:00', end_opt='2020-02-14-00:00', ema_fast_opt=(2,16,2), ema_slow_opt=(16,40,2), ema_sign_opt=(2, 40, 2), int_for_max='1h', trend_ref='E', type_trend='uptrend_e')"
   ]
  },
  {
   "cell_type": "code",
   "execution_count": 8,
   "id": "0568659a",
   "metadata": {},
   "outputs": [],
   "source": [
    "macd_opt_e.opt_results = pd.read_csv('uptrend_e.csv')"
   ]
  },
  {
   "cell_type": "markdown",
   "id": "bb57fed1",
   "metadata": {},
   "source": [
    "### 2) Extract combinations of max"
   ]
  },
  {
   "cell_type": "code",
   "execution_count": 9,
   "id": "3f8403b9",
   "metadata": {
    "scrolled": false
   },
   "outputs": [
    {
     "data": {
      "text/html": [
       "<div>\n",
       "<style scoped>\n",
       "    .dataframe tbody tr th:only-of-type {\n",
       "        vertical-align: middle;\n",
       "    }\n",
       "\n",
       "    .dataframe tbody tr th {\n",
       "        vertical-align: top;\n",
       "    }\n",
       "\n",
       "    .dataframe thead th {\n",
       "        text-align: right;\n",
       "    }\n",
       "</style>\n",
       "<table border=\"1\" class=\"dataframe\">\n",
       "  <thead>\n",
       "    <tr style=\"text-align: right;\">\n",
       "      <th></th>\n",
       "      <th>interval_opt</th>\n",
       "      <th>macd_slow_opt</th>\n",
       "      <th>macd_fast_opt</th>\n",
       "      <th>macd_signal_opt</th>\n",
       "      <th>multiple_hold</th>\n",
       "      <th>ann_log_mean_hold</th>\n",
       "      <th>ann_log_std_hold</th>\n",
       "      <th>sharpe_ratio_hold</th>\n",
       "      <th>multiple_macd_strategy</th>\n",
       "      <th>ann_log_mean_macd</th>\n",
       "      <th>ann_log_std_macd</th>\n",
       "      <th>sharpe_ratio_macd</th>\n",
       "      <th>multiple_macd_strategy_net</th>\n",
       "      <th>ann_log_mean_macd_net</th>\n",
       "      <th>ann_log_std_macd_net</th>\n",
       "      <th>sharpe_ratio_macd_net</th>\n",
       "      <th>trend_ref</th>\n",
       "      <th>start_opt</th>\n",
       "      <th>end_opt</th>\n",
       "    </tr>\n",
       "  </thead>\n",
       "  <tbody>\n",
       "    <tr>\n",
       "      <th>2122</th>\n",
       "      <td>30m</td>\n",
       "      <td>22</td>\n",
       "      <td>14</td>\n",
       "      <td>32</td>\n",
       "      <td>1.47401</td>\n",
       "      <td>0.070949</td>\n",
       "      <td>0.073047</td>\n",
       "      <td>0.971279</td>\n",
       "      <td>1.356677</td>\n",
       "      <td>0.055781</td>\n",
       "      <td>0.051302</td>\n",
       "      <td>1.087303</td>\n",
       "      <td>1.258868</td>\n",
       "      <td>0.042098</td>\n",
       "      <td>0.051674</td>\n",
       "      <td>0.814685</td>\n",
       "      <td>E</td>\n",
       "      <td>2020-01-03-00:00</td>\n",
       "      <td>2020-02-14-00:00</td>\n",
       "    </tr>\n",
       "    <tr>\n",
       "      <th>2782</th>\n",
       "      <td>30m</td>\n",
       "      <td>32</td>\n",
       "      <td>14</td>\n",
       "      <td>22</td>\n",
       "      <td>1.47401</td>\n",
       "      <td>0.070949</td>\n",
       "      <td>0.073047</td>\n",
       "      <td>0.971279</td>\n",
       "      <td>1.356677</td>\n",
       "      <td>0.055781</td>\n",
       "      <td>0.051302</td>\n",
       "      <td>1.087303</td>\n",
       "      <td>1.258868</td>\n",
       "      <td>0.042098</td>\n",
       "      <td>0.051674</td>\n",
       "      <td>0.814685</td>\n",
       "      <td>E</td>\n",
       "      <td>2020-01-03-00:00</td>\n",
       "      <td>2020-02-14-00:00</td>\n",
       "    </tr>\n",
       "  </tbody>\n",
       "</table>\n",
       "</div>"
      ],
      "text/plain": [
       "     interval_opt  macd_slow_opt  macd_fast_opt  macd_signal_opt  \\\n",
       "2122          30m             22             14               32   \n",
       "2782          30m             32             14               22   \n",
       "\n",
       "      multiple_hold  ann_log_mean_hold  ann_log_std_hold  sharpe_ratio_hold  \\\n",
       "2122        1.47401           0.070949          0.073047           0.971279   \n",
       "2782        1.47401           0.070949          0.073047           0.971279   \n",
       "\n",
       "      multiple_macd_strategy  ann_log_mean_macd  ann_log_std_macd  \\\n",
       "2122                1.356677           0.055781          0.051302   \n",
       "2782                1.356677           0.055781          0.051302   \n",
       "\n",
       "      sharpe_ratio_macd  multiple_macd_strategy_net  ann_log_mean_macd_net  \\\n",
       "2122           1.087303                    1.258868               0.042098   \n",
       "2782           1.087303                    1.258868               0.042098   \n",
       "\n",
       "      ann_log_std_macd_net  sharpe_ratio_macd_net trend_ref         start_opt  \\\n",
       "2122              0.051674               0.814685         E  2020-01-03-00:00   \n",
       "2782              0.051674               0.814685         E  2020-01-03-00:00   \n",
       "\n",
       "               end_opt  \n",
       "2122  2020-02-14-00:00  \n",
       "2782  2020-02-14-00:00  "
      ]
     },
     "execution_count": 9,
     "metadata": {},
     "output_type": "execute_result"
    }
   ],
   "source": [
    "macd_opt_e.opt_results[macd_opt_e.opt_results.multiple_macd_strategy == macd_opt_e.opt_results.multiple_macd_strategy.max()]"
   ]
  },
  {
   "cell_type": "markdown",
   "id": "08ef15b0",
   "metadata": {},
   "source": [
    "### 8) Further..."
   ]
  },
  {
   "cell_type": "markdown",
   "id": "fe8baff5",
   "metadata": {},
   "source": [
    "### 7) Plot the accumulated max_net vs hold"
   ]
  },
  {
   "cell_type": "markdown",
   "id": "094391fb",
   "metadata": {},
   "source": [
    "### 6) Create new class for interval of max_net and launch backtest for the combinations of max_net"
   ]
  },
  {
   "cell_type": "markdown",
   "id": "58706ec0",
   "metadata": {},
   "source": [
    "### 5) Extract combinations of max_net "
   ]
  },
  {
   "cell_type": "code",
   "execution_count": 10,
   "id": "8342e96e",
   "metadata": {},
   "outputs": [
    {
     "data": {
      "text/html": [
       "<div>\n",
       "<style scoped>\n",
       "    .dataframe tbody tr th:only-of-type {\n",
       "        vertical-align: middle;\n",
       "    }\n",
       "\n",
       "    .dataframe tbody tr th {\n",
       "        vertical-align: top;\n",
       "    }\n",
       "\n",
       "    .dataframe thead th {\n",
       "        text-align: right;\n",
       "    }\n",
       "</style>\n",
       "<table border=\"1\" class=\"dataframe\">\n",
       "  <thead>\n",
       "    <tr style=\"text-align: right;\">\n",
       "      <th></th>\n",
       "      <th>interval_opt</th>\n",
       "      <th>macd_slow_opt</th>\n",
       "      <th>macd_fast_opt</th>\n",
       "      <th>macd_signal_opt</th>\n",
       "      <th>multiple_hold</th>\n",
       "      <th>ann_log_mean_hold</th>\n",
       "      <th>ann_log_std_hold</th>\n",
       "      <th>sharpe_ratio_hold</th>\n",
       "      <th>multiple_macd_strategy</th>\n",
       "      <th>ann_log_mean_macd</th>\n",
       "      <th>ann_log_std_macd</th>\n",
       "      <th>sharpe_ratio_macd</th>\n",
       "      <th>multiple_macd_strategy_net</th>\n",
       "      <th>ann_log_mean_macd_net</th>\n",
       "      <th>ann_log_std_macd_net</th>\n",
       "      <th>sharpe_ratio_macd_net</th>\n",
       "      <th>trend_ref</th>\n",
       "      <th>start_opt</th>\n",
       "      <th>end_opt</th>\n",
       "    </tr>\n",
       "  </thead>\n",
       "  <tbody>\n",
       "    <tr>\n",
       "      <th>3854</th>\n",
       "      <td>1h</td>\n",
       "      <td>24</td>\n",
       "      <td>14</td>\n",
       "      <td>38</td>\n",
       "      <td>1.478295</td>\n",
       "      <td>0.14296</td>\n",
       "      <td>0.102401</td>\n",
       "      <td>1.39608</td>\n",
       "      <td>1.318086</td>\n",
       "      <td>0.101008</td>\n",
       "      <td>0.076549</td>\n",
       "      <td>1.319513</td>\n",
       "      <td>1.276178</td>\n",
       "      <td>0.089191</td>\n",
       "      <td>0.076908</td>\n",
       "      <td>1.159713</td>\n",
       "      <td>E</td>\n",
       "      <td>2020-01-03-00:00</td>\n",
       "      <td>2020-02-14-00:00</td>\n",
       "    </tr>\n",
       "    <tr>\n",
       "      <th>4117</th>\n",
       "      <td>1h</td>\n",
       "      <td>28</td>\n",
       "      <td>14</td>\n",
       "      <td>32</td>\n",
       "      <td>1.478295</td>\n",
       "      <td>0.14296</td>\n",
       "      <td>0.102401</td>\n",
       "      <td>1.39608</td>\n",
       "      <td>1.318086</td>\n",
       "      <td>0.101008</td>\n",
       "      <td>0.076549</td>\n",
       "      <td>1.319513</td>\n",
       "      <td>1.276178</td>\n",
       "      <td>0.089191</td>\n",
       "      <td>0.076908</td>\n",
       "      <td>1.159713</td>\n",
       "      <td>E</td>\n",
       "      <td>2020-01-03-00:00</td>\n",
       "      <td>2020-02-14-00:00</td>\n",
       "    </tr>\n",
       "    <tr>\n",
       "      <th>4249</th>\n",
       "      <td>1h</td>\n",
       "      <td>30</td>\n",
       "      <td>14</td>\n",
       "      <td>30</td>\n",
       "      <td>1.478295</td>\n",
       "      <td>0.14296</td>\n",
       "      <td>0.102401</td>\n",
       "      <td>1.39608</td>\n",
       "      <td>1.318086</td>\n",
       "      <td>0.101008</td>\n",
       "      <td>0.076549</td>\n",
       "      <td>1.319513</td>\n",
       "      <td>1.276178</td>\n",
       "      <td>0.089191</td>\n",
       "      <td>0.076908</td>\n",
       "      <td>1.159713</td>\n",
       "      <td>E</td>\n",
       "      <td>2020-01-03-00:00</td>\n",
       "      <td>2020-02-14-00:00</td>\n",
       "    </tr>\n",
       "    <tr>\n",
       "      <th>4381</th>\n",
       "      <td>1h</td>\n",
       "      <td>32</td>\n",
       "      <td>14</td>\n",
       "      <td>28</td>\n",
       "      <td>1.478295</td>\n",
       "      <td>0.14296</td>\n",
       "      <td>0.102401</td>\n",
       "      <td>1.39608</td>\n",
       "      <td>1.318086</td>\n",
       "      <td>0.101008</td>\n",
       "      <td>0.076549</td>\n",
       "      <td>1.319513</td>\n",
       "      <td>1.276178</td>\n",
       "      <td>0.089191</td>\n",
       "      <td>0.076908</td>\n",
       "      <td>1.159713</td>\n",
       "      <td>E</td>\n",
       "      <td>2020-01-03-00:00</td>\n",
       "      <td>2020-02-14-00:00</td>\n",
       "    </tr>\n",
       "    <tr>\n",
       "      <th>4778</th>\n",
       "      <td>1h</td>\n",
       "      <td>38</td>\n",
       "      <td>14</td>\n",
       "      <td>24</td>\n",
       "      <td>1.478295</td>\n",
       "      <td>0.14296</td>\n",
       "      <td>0.102401</td>\n",
       "      <td>1.39608</td>\n",
       "      <td>1.318086</td>\n",
       "      <td>0.101008</td>\n",
       "      <td>0.076549</td>\n",
       "      <td>1.319513</td>\n",
       "      <td>1.276178</td>\n",
       "      <td>0.089191</td>\n",
       "      <td>0.076908</td>\n",
       "      <td>1.159713</td>\n",
       "      <td>E</td>\n",
       "      <td>2020-01-03-00:00</td>\n",
       "      <td>2020-02-14-00:00</td>\n",
       "    </tr>\n",
       "  </tbody>\n",
       "</table>\n",
       "</div>"
      ],
      "text/plain": [
       "     interval_opt  macd_slow_opt  macd_fast_opt  macd_signal_opt  \\\n",
       "3854           1h             24             14               38   \n",
       "4117           1h             28             14               32   \n",
       "4249           1h             30             14               30   \n",
       "4381           1h             32             14               28   \n",
       "4778           1h             38             14               24   \n",
       "\n",
       "      multiple_hold  ann_log_mean_hold  ann_log_std_hold  sharpe_ratio_hold  \\\n",
       "3854       1.478295            0.14296          0.102401            1.39608   \n",
       "4117       1.478295            0.14296          0.102401            1.39608   \n",
       "4249       1.478295            0.14296          0.102401            1.39608   \n",
       "4381       1.478295            0.14296          0.102401            1.39608   \n",
       "4778       1.478295            0.14296          0.102401            1.39608   \n",
       "\n",
       "      multiple_macd_strategy  ann_log_mean_macd  ann_log_std_macd  \\\n",
       "3854                1.318086           0.101008          0.076549   \n",
       "4117                1.318086           0.101008          0.076549   \n",
       "4249                1.318086           0.101008          0.076549   \n",
       "4381                1.318086           0.101008          0.076549   \n",
       "4778                1.318086           0.101008          0.076549   \n",
       "\n",
       "      sharpe_ratio_macd  multiple_macd_strategy_net  ann_log_mean_macd_net  \\\n",
       "3854           1.319513                    1.276178               0.089191   \n",
       "4117           1.319513                    1.276178               0.089191   \n",
       "4249           1.319513                    1.276178               0.089191   \n",
       "4381           1.319513                    1.276178               0.089191   \n",
       "4778           1.319513                    1.276178               0.089191   \n",
       "\n",
       "      ann_log_std_macd_net  sharpe_ratio_macd_net trend_ref         start_opt  \\\n",
       "3854              0.076908               1.159713         E  2020-01-03-00:00   \n",
       "4117              0.076908               1.159713         E  2020-01-03-00:00   \n",
       "4249              0.076908               1.159713         E  2020-01-03-00:00   \n",
       "4381              0.076908               1.159713         E  2020-01-03-00:00   \n",
       "4778              0.076908               1.159713         E  2020-01-03-00:00   \n",
       "\n",
       "               end_opt  \n",
       "3854  2020-02-14-00:00  \n",
       "4117  2020-02-14-00:00  \n",
       "4249  2020-02-14-00:00  \n",
       "4381  2020-02-14-00:00  \n",
       "4778  2020-02-14-00:00  "
      ]
     },
     "execution_count": 10,
     "metadata": {},
     "output_type": "execute_result"
    }
   ],
   "source": [
    "macd_opt_e.opt_results[macd_opt_e.opt_results.multiple_macd_strategy_net == macd_opt_e.opt_results.multiple_macd_strategy_net.max()]"
   ]
  },
  {
   "cell_type": "markdown",
   "id": "1d685b63",
   "metadata": {},
   "source": [
    "### 4) Plot the accumulated max vs hold"
   ]
  },
  {
   "cell_type": "markdown",
   "id": "80ce79ba",
   "metadata": {},
   "source": [
    "### 3) Create new class for interval of max and launch backtest for the combinations of max"
   ]
  },
  {
   "cell_type": "code",
   "execution_count": null,
   "id": "10ade631",
   "metadata": {},
   "outputs": [],
   "source": []
  }
 ],
 "metadata": {
  "kernelspec": {
   "display_name": "Python 3 (ipykernel)",
   "language": "python",
   "name": "python3"
  },
  "language_info": {
   "codemirror_mode": {
    "name": "ipython",
    "version": 3
   },
   "file_extension": ".py",
   "mimetype": "text/x-python",
   "name": "python",
   "nbconvert_exporter": "python",
   "pygments_lexer": "ipython3",
   "version": "3.9.12"
  }
 },
 "nbformat": 4,
 "nbformat_minor": 5
}
