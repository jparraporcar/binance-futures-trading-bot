{
 "cells": [
  {
   "cell_type": "code",
   "execution_count": 8,
   "id": "1ea17259",
   "metadata": {},
   "outputs": [],
   "source": [
    "import sys\n",
    "sys.path.append('/Users/jp/Desktop/Investment/trading_BOT/macd_long_backtester')\n",
    "from macd_long_backtester import Macd_long_backtester\n",
    "import pandas as pd\n",
    "import matplotlib.pyplot as plt"
   ]
  },
  {
   "cell_type": "code",
   "execution_count": 9,
   "id": "39b5b65a",
   "metadata": {},
   "outputs": [],
   "source": [
    "pd.set_option('display.max_rows', None)"
   ]
  },
  {
   "cell_type": "markdown",
   "id": "ded7ce4a",
   "metadata": {},
   "source": [
    "### 1) Launch optimization"
   ]
  },
  {
   "cell_type": "code",
   "execution_count": 10,
   "id": "d5d29bdc",
   "metadata": {},
   "outputs": [
    {
     "name": "stdout",
     "output_type": "stream",
     "text": [
      "class version 1.1 is being used\n"
     ]
    }
   ],
   "source": [
    "macd_opt_g = Macd_long_backtester('BTCUSDT')"
   ]
  },
  {
   "cell_type": "code",
   "execution_count": 11,
   "id": "594c751c",
   "metadata": {
    "scrolled": true
   },
   "outputs": [],
   "source": [
    "# macd_opt_g.execute_opt(interval_opt=('15m', '30m', '1h') ,start_opt='2020-07-21-00:00', end_opt='2020-08-17-00:00', ema_fast_opt=(2,16,2), ema_slow_opt=(16,40,2), ema_sign_opt=(2, 40, 2), int_for_max='1h', trend_ref='G', type_trend='uptrend_g')"
   ]
  },
  {
   "cell_type": "code",
   "execution_count": 12,
   "id": "e827d55c",
   "metadata": {},
   "outputs": [],
   "source": [
    "macd_opt_g.opt_results = pd.read_csv('uptrend_g.csv')"
   ]
  },
  {
   "cell_type": "markdown",
   "id": "bb57fed1",
   "metadata": {},
   "source": [
    "### 2) Extract combinations of max"
   ]
  },
  {
   "cell_type": "code",
   "execution_count": 13,
   "id": "5d88b3cc",
   "metadata": {},
   "outputs": [
    {
     "data": {
      "text/html": [
       "<div>\n",
       "<style scoped>\n",
       "    .dataframe tbody tr th:only-of-type {\n",
       "        vertical-align: middle;\n",
       "    }\n",
       "\n",
       "    .dataframe tbody tr th {\n",
       "        vertical-align: top;\n",
       "    }\n",
       "\n",
       "    .dataframe thead th {\n",
       "        text-align: right;\n",
       "    }\n",
       "</style>\n",
       "<table border=\"1\" class=\"dataframe\">\n",
       "  <thead>\n",
       "    <tr style=\"text-align: right;\">\n",
       "      <th></th>\n",
       "      <th>interval_opt</th>\n",
       "      <th>macd_slow_opt</th>\n",
       "      <th>macd_fast_opt</th>\n",
       "      <th>macd_signal_opt</th>\n",
       "      <th>multiple_hold</th>\n",
       "      <th>ann_log_mean_hold</th>\n",
       "      <th>ann_log_std_hold</th>\n",
       "      <th>sharpe_ratio_hold</th>\n",
       "      <th>multiple_macd_strategy</th>\n",
       "      <th>ann_log_mean_macd</th>\n",
       "      <th>ann_log_std_macd</th>\n",
       "      <th>sharpe_ratio_macd</th>\n",
       "      <th>multiple_macd_strategy_net</th>\n",
       "      <th>ann_log_mean_macd_net</th>\n",
       "      <th>ann_log_std_macd_net</th>\n",
       "      <th>sharpe_ratio_macd_net</th>\n",
       "      <th>trend_ref</th>\n",
       "      <th>start_opt</th>\n",
       "      <th>end_opt</th>\n",
       "    </tr>\n",
       "  </thead>\n",
       "  <tbody>\n",
       "    <tr>\n",
       "      <th>1794</th>\n",
       "      <td>30m</td>\n",
       "      <td>18</td>\n",
       "      <td>8</td>\n",
       "      <td>20</td>\n",
       "      <td>1.29083</td>\n",
       "      <td>0.07291</td>\n",
       "      <td>0.080206</td>\n",
       "      <td>0.909035</td>\n",
       "      <td>1.234026</td>\n",
       "      <td>0.060057</td>\n",
       "      <td>0.062299</td>\n",
       "      <td>0.964016</td>\n",
       "      <td>1.153856</td>\n",
       "      <td>0.040872</td>\n",
       "      <td>0.06293</td>\n",
       "      <td>0.649487</td>\n",
       "      <td>G</td>\n",
       "      <td>2020-07-21-00:00</td>\n",
       "      <td>2020-08-17-00:00</td>\n",
       "    </tr>\n",
       "    <tr>\n",
       "      <th>1926</th>\n",
       "      <td>30m</td>\n",
       "      <td>20</td>\n",
       "      <td>8</td>\n",
       "      <td>18</td>\n",
       "      <td>1.29083</td>\n",
       "      <td>0.07291</td>\n",
       "      <td>0.080206</td>\n",
       "      <td>0.909035</td>\n",
       "      <td>1.234026</td>\n",
       "      <td>0.060057</td>\n",
       "      <td>0.062299</td>\n",
       "      <td>0.964016</td>\n",
       "      <td>1.153856</td>\n",
       "      <td>0.040872</td>\n",
       "      <td>0.06293</td>\n",
       "      <td>0.649487</td>\n",
       "      <td>G</td>\n",
       "      <td>2020-07-21-00:00</td>\n",
       "      <td>2020-08-17-00:00</td>\n",
       "    </tr>\n",
       "  </tbody>\n",
       "</table>\n",
       "</div>"
      ],
      "text/plain": [
       "     interval_opt  macd_slow_opt  macd_fast_opt  macd_signal_opt  \\\n",
       "1794          30m             18              8               20   \n",
       "1926          30m             20              8               18   \n",
       "\n",
       "      multiple_hold  ann_log_mean_hold  ann_log_std_hold  sharpe_ratio_hold  \\\n",
       "1794        1.29083            0.07291          0.080206           0.909035   \n",
       "1926        1.29083            0.07291          0.080206           0.909035   \n",
       "\n",
       "      multiple_macd_strategy  ann_log_mean_macd  ann_log_std_macd  \\\n",
       "1794                1.234026           0.060057          0.062299   \n",
       "1926                1.234026           0.060057          0.062299   \n",
       "\n",
       "      sharpe_ratio_macd  multiple_macd_strategy_net  ann_log_mean_macd_net  \\\n",
       "1794           0.964016                    1.153856               0.040872   \n",
       "1926           0.964016                    1.153856               0.040872   \n",
       "\n",
       "      ann_log_std_macd_net  sharpe_ratio_macd_net trend_ref         start_opt  \\\n",
       "1794               0.06293               0.649487         G  2020-07-21-00:00   \n",
       "1926               0.06293               0.649487         G  2020-07-21-00:00   \n",
       "\n",
       "               end_opt  \n",
       "1794  2020-08-17-00:00  \n",
       "1926  2020-08-17-00:00  "
      ]
     },
     "execution_count": 13,
     "metadata": {},
     "output_type": "execute_result"
    }
   ],
   "source": [
    "macd_opt_g.opt_results[macd_opt_g.opt_results.multiple_macd_strategy == macd_opt_g.opt_results.multiple_macd_strategy.max()]"
   ]
  },
  {
   "cell_type": "markdown",
   "id": "80ce79ba",
   "metadata": {},
   "source": [
    "### 3) Create new class for interval of max and launch backtest for the combinations of max"
   ]
  },
  {
   "cell_type": "markdown",
   "id": "1d685b63",
   "metadata": {},
   "source": [
    "### 4) Plot the accumulated max vs hold"
   ]
  },
  {
   "cell_type": "markdown",
   "id": "58706ec0",
   "metadata": {},
   "source": [
    "### 5) Extract combinations of max_net "
   ]
  },
  {
   "cell_type": "code",
   "execution_count": 14,
   "id": "b5797f24",
   "metadata": {
    "scrolled": false
   },
   "outputs": [
    {
     "data": {
      "text/html": [
       "<div>\n",
       "<style scoped>\n",
       "    .dataframe tbody tr th:only-of-type {\n",
       "        vertical-align: middle;\n",
       "    }\n",
       "\n",
       "    .dataframe tbody tr th {\n",
       "        vertical-align: top;\n",
       "    }\n",
       "\n",
       "    .dataframe thead th {\n",
       "        text-align: right;\n",
       "    }\n",
       "</style>\n",
       "<table border=\"1\" class=\"dataframe\">\n",
       "  <thead>\n",
       "    <tr style=\"text-align: right;\">\n",
       "      <th></th>\n",
       "      <th>interval_opt</th>\n",
       "      <th>macd_slow_opt</th>\n",
       "      <th>macd_fast_opt</th>\n",
       "      <th>macd_signal_opt</th>\n",
       "      <th>multiple_hold</th>\n",
       "      <th>ann_log_mean_hold</th>\n",
       "      <th>ann_log_std_hold</th>\n",
       "      <th>sharpe_ratio_hold</th>\n",
       "      <th>multiple_macd_strategy</th>\n",
       "      <th>ann_log_mean_macd</th>\n",
       "      <th>ann_log_std_macd</th>\n",
       "      <th>sharpe_ratio_macd</th>\n",
       "      <th>multiple_macd_strategy_net</th>\n",
       "      <th>ann_log_mean_macd_net</th>\n",
       "      <th>ann_log_std_macd_net</th>\n",
       "      <th>sharpe_ratio_macd_net</th>\n",
       "      <th>trend_ref</th>\n",
       "      <th>start_opt</th>\n",
       "      <th>end_opt</th>\n",
       "    </tr>\n",
       "  </thead>\n",
       "  <tbody>\n",
       "    <tr>\n",
       "      <th>4213</th>\n",
       "      <td>1h</td>\n",
       "      <td>30</td>\n",
       "      <td>10</td>\n",
       "      <td>38</td>\n",
       "      <td>1.293304</td>\n",
       "      <td>0.146914</td>\n",
       "      <td>0.114682</td>\n",
       "      <td>1.281061</td>\n",
       "      <td>1.212093</td>\n",
       "      <td>0.109871</td>\n",
       "      <td>0.097044</td>\n",
       "      <td>1.132174</td>\n",
       "      <td>1.191655</td>\n",
       "      <td>0.100157</td>\n",
       "      <td>0.097621</td>\n",
       "      <td>1.02598</td>\n",
       "      <td>G</td>\n",
       "      <td>2020-07-21-00:00</td>\n",
       "      <td>2020-08-17-00:00</td>\n",
       "    </tr>\n",
       "    <tr>\n",
       "      <th>4741</th>\n",
       "      <td>1h</td>\n",
       "      <td>38</td>\n",
       "      <td>10</td>\n",
       "      <td>30</td>\n",
       "      <td>1.293304</td>\n",
       "      <td>0.146914</td>\n",
       "      <td>0.114682</td>\n",
       "      <td>1.281061</td>\n",
       "      <td>1.212093</td>\n",
       "      <td>0.109871</td>\n",
       "      <td>0.097044</td>\n",
       "      <td>1.132174</td>\n",
       "      <td>1.191655</td>\n",
       "      <td>0.100157</td>\n",
       "      <td>0.097621</td>\n",
       "      <td>1.02598</td>\n",
       "      <td>G</td>\n",
       "      <td>2020-07-21-00:00</td>\n",
       "      <td>2020-08-17-00:00</td>\n",
       "    </tr>\n",
       "  </tbody>\n",
       "</table>\n",
       "</div>"
      ],
      "text/plain": [
       "     interval_opt  macd_slow_opt  macd_fast_opt  macd_signal_opt  \\\n",
       "4213           1h             30             10               38   \n",
       "4741           1h             38             10               30   \n",
       "\n",
       "      multiple_hold  ann_log_mean_hold  ann_log_std_hold  sharpe_ratio_hold  \\\n",
       "4213       1.293304           0.146914          0.114682           1.281061   \n",
       "4741       1.293304           0.146914          0.114682           1.281061   \n",
       "\n",
       "      multiple_macd_strategy  ann_log_mean_macd  ann_log_std_macd  \\\n",
       "4213                1.212093           0.109871          0.097044   \n",
       "4741                1.212093           0.109871          0.097044   \n",
       "\n",
       "      sharpe_ratio_macd  multiple_macd_strategy_net  ann_log_mean_macd_net  \\\n",
       "4213           1.132174                    1.191655               0.100157   \n",
       "4741           1.132174                    1.191655               0.100157   \n",
       "\n",
       "      ann_log_std_macd_net  sharpe_ratio_macd_net trend_ref         start_opt  \\\n",
       "4213              0.097621                1.02598         G  2020-07-21-00:00   \n",
       "4741              0.097621                1.02598         G  2020-07-21-00:00   \n",
       "\n",
       "               end_opt  \n",
       "4213  2020-08-17-00:00  \n",
       "4741  2020-08-17-00:00  "
      ]
     },
     "execution_count": 14,
     "metadata": {},
     "output_type": "execute_result"
    }
   ],
   "source": [
    "macd_opt_g.opt_results[macd_sopt_g.opt_results.multiple_macd_strategy_net == macd_opt_g.opt_results.multiple_macd_strategy_net.max()]"
   ]
  },
  {
   "cell_type": "markdown",
   "id": "094391fb",
   "metadata": {},
   "source": [
    "### 6) Create new class for interval of max_net and launch backtest for the combinations of max_net"
   ]
  },
  {
   "cell_type": "markdown",
   "id": "fe8baff5",
   "metadata": {},
   "source": [
    "### 7) Plot the accumulated max_net vs hold"
   ]
  },
  {
   "cell_type": "markdown",
   "id": "08ef15b0",
   "metadata": {},
   "source": [
    "### 8) Further..."
   ]
  },
  {
   "cell_type": "code",
   "execution_count": null,
   "id": "10ade631",
   "metadata": {},
   "outputs": [],
   "source": []
  }
 ],
 "metadata": {
  "kernelspec": {
   "display_name": "Python 3 (ipykernel)",
   "language": "python",
   "name": "python3"
  },
  "language_info": {
   "codemirror_mode": {
    "name": "ipython",
    "version": 3
   },
   "file_extension": ".py",
   "mimetype": "text/x-python",
   "name": "python",
   "nbconvert_exporter": "python",
   "pygments_lexer": "ipython3",
   "version": "3.9.12"
  }
 },
 "nbformat": 4,
 "nbformat_minor": 5
}
