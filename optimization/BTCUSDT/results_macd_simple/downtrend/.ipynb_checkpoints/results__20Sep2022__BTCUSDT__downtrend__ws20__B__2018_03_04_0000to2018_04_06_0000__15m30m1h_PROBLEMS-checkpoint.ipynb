{
 "cells": [
  {
   "cell_type": "code",
   "execution_count": 2,
   "id": "b7e980b6",
   "metadata": {},
   "outputs": [],
   "source": [
    "import sys\n",
    "sys.path.append('C:\\\\Users\\\\jparra\\\\Desktop\\\\Invs\\\\trading_BOT\\\\macd_long_backtester')\n",
    "from macd_long_backtester import Macd_long_backtester\n",
    "import pandas as pd\n",
    "import matplotlib.pyplot as plt"
   ]
  },
  {
   "cell_type": "code",
   "execution_count": 3,
   "id": "e84f4eab",
   "metadata": {},
   "outputs": [],
   "source": [
    "pd.set_option('display.max_rows', None)"
   ]
  },
  {
   "cell_type": "markdown",
   "id": "ded7ce4a",
   "metadata": {},
   "source": [
    "### 1) Launch optimization"
   ]
  },
  {
   "cell_type": "code",
   "execution_count": 4,
   "id": "fd729249",
   "metadata": {},
   "outputs": [],
   "source": [
    "macd_opt_b = Macd_long_backtester('BTCUSDT')"
   ]
  },
  {
   "cell_type": "code",
   "execution_count": 5,
   "id": "e5982839",
   "metadata": {
    "scrolled": true
   },
   "outputs": [],
   "source": [
    "# macd_opt_b.execute_opt(interval_opt=('15m', '30m', '1h') ,start_opt='2018-03-04-00:00', end_opt='2018-04-06-00:00', ema_fast_opt=(2,16,2), ema_slow_opt=(16,40,2), ema_sign_opt=(2, 40, 2), int_for_max='1h', trend_ref='B', type_trend='downtrend')"
   ]
  },
  {
   "cell_type": "code",
   "execution_count": 9,
   "id": "bbd6f139",
   "metadata": {},
   "outputs": [],
   "source": [
    "df = pd.read_csv('downtrend.csv')\n",
    "cond1 = df.trend_ref == 'B'\n",
    "macd_opt_b.opt_results = df[cond1]"
   ]
  },
  {
   "cell_type": "markdown",
   "id": "bb57fed1",
   "metadata": {},
   "source": [
    "### 2) Extract combinations of max"
   ]
  },
  {
   "cell_type": "code",
   "execution_count": 10,
   "id": "54f66d5c",
   "metadata": {},
   "outputs": [
    {
     "data": {
      "text/html": [
       "<div>\n",
       "<style scoped>\n",
       "    .dataframe tbody tr th:only-of-type {\n",
       "        vertical-align: middle;\n",
       "    }\n",
       "\n",
       "    .dataframe tbody tr th {\n",
       "        vertical-align: top;\n",
       "    }\n",
       "\n",
       "    .dataframe thead th {\n",
       "        text-align: right;\n",
       "    }\n",
       "</style>\n",
       "<table border=\"1\" class=\"dataframe\">\n",
       "  <thead>\n",
       "    <tr style=\"text-align: right;\">\n",
       "      <th></th>\n",
       "      <th>interval_opt</th>\n",
       "      <th>macd_slow_opt</th>\n",
       "      <th>macd_fast_opt</th>\n",
       "      <th>macd_signal_opt</th>\n",
       "      <th>multiple_hold</th>\n",
       "      <th>ann_log_mean_hold</th>\n",
       "      <th>ann_log_std_hold</th>\n",
       "      <th>sharpe_ratio_hold</th>\n",
       "      <th>multiple_macd_strategy</th>\n",
       "      <th>ann_log_mean_macd</th>\n",
       "      <th>ann_log_std_macd</th>\n",
       "      <th>sharpe_ratio_macd</th>\n",
       "      <th>multiple_macd_strategy_net</th>\n",
       "      <th>ann_log_mean_macd_net</th>\n",
       "      <th>ann_log_std_macd_net</th>\n",
       "      <th>sharpe_ratio_macd_net</th>\n",
       "      <th>trend_ref</th>\n",
       "      <th>start_opt</th>\n",
       "      <th>end_opt</th>\n",
       "    </tr>\n",
       "  </thead>\n",
       "  <tbody>\n",
       "    <tr>\n",
       "      <th>24812</th>\n",
       "      <td>1h</td>\n",
       "      <td>24</td>\n",
       "      <td>14</td>\n",
       "      <td>14</td>\n",
       "      <td>0.593626</td>\n",
       "      <td>-0.243103</td>\n",
       "      <td>0.241127</td>\n",
       "      <td>-1.008196</td>\n",
       "      <td>0.870843</td>\n",
       "      <td>-0.064466</td>\n",
       "      <td>0.168428</td>\n",
       "      <td>-0.382752</td>\n",
       "      <td>0.845309</td>\n",
       "      <td>-0.078339</td>\n",
       "      <td>0.169046</td>\n",
       "      <td>-0.463417</td>\n",
       "      <td>B</td>\n",
       "      <td>2018-03-04-00:00</td>\n",
       "      <td>2018-04-06-00:00</td>\n",
       "    </tr>\n",
       "  </tbody>\n",
       "</table>\n",
       "</div>"
      ],
      "text/plain": [
       "      interval_opt  macd_slow_opt  macd_fast_opt  macd_signal_opt  \\\n",
       "24812           1h             24             14               14   \n",
       "\n",
       "       multiple_hold  ann_log_mean_hold  ann_log_std_hold  sharpe_ratio_hold  \\\n",
       "24812       0.593626          -0.243103          0.241127          -1.008196   \n",
       "\n",
       "       multiple_macd_strategy  ann_log_mean_macd  ann_log_std_macd  \\\n",
       "24812                0.870843          -0.064466          0.168428   \n",
       "\n",
       "       sharpe_ratio_macd  multiple_macd_strategy_net  ann_log_mean_macd_net  \\\n",
       "24812          -0.382752                    0.845309              -0.078339   \n",
       "\n",
       "       ann_log_std_macd_net  sharpe_ratio_macd_net trend_ref  \\\n",
       "24812              0.169046              -0.463417         B   \n",
       "\n",
       "              start_opt           end_opt  \n",
       "24812  2018-03-04-00:00  2018-04-06-00:00  "
      ]
     },
     "execution_count": 10,
     "metadata": {},
     "output_type": "execute_result"
    }
   ],
   "source": [
    "macd_opt_b.opt_results[macd_opt_b.opt_results.multiple_macd_strategy == macd_opt_b.opt_results.multiple_macd_strategy.max()]"
   ]
  },
  {
   "cell_type": "markdown",
   "id": "80ce79ba",
   "metadata": {},
   "source": [
    "### 3) Create new class for interval of max and launch backtest for the combinations of max"
   ]
  },
  {
   "cell_type": "code",
   "execution_count": 11,
   "id": "4f027cb5",
   "metadata": {},
   "outputs": [],
   "source": [
    "macd_opt_b_1h = Macd_long_backtester('BTCUSDT')"
   ]
  },
  {
   "cell_type": "code",
   "execution_count": 13,
   "id": "ab932b6a",
   "metadata": {},
   "outputs": [
    {
     "name": "stdout",
     "output_type": "stream",
     "text": [
      "793\n"
     ]
    }
   ],
   "source": [
    "macd_opt_b_1h.prepare_data(start='2018-03-04-00:00', end='2018-04-06-00:00', interval='1h')"
   ]
  },
  {
   "cell_type": "code",
   "execution_count": 14,
   "id": "85eed255",
   "metadata": {},
   "outputs": [
    {
     "name": "stdout",
     "output_type": "stream",
     "text": [
      "833\n",
      "   multiple_hold  ann_log_mean_hold  ann_log_std_hold  sharpe_ratio_hold  \\\n",
      "0       0.593626          -0.243103          0.241127          -1.008196   \n",
      "\n",
      "   multiple_macd_strategy  ann_log_mean_macd  ann_log_std_macd  \\\n",
      "0                0.737097          -0.142194          0.170982   \n",
      "\n",
      "   sharpe_ratio_macd  multiple_macd_strategy_net  ann_log_mean_macd_net  \\\n",
      "0          -0.831635                    0.704617              -0.163202   \n",
      "\n",
      "   ann_log_std_macd_net  sharpe_ratio_macd_net  \n",
      "0              0.171822              -0.949831  \n"
     ]
    },
    {
     "data": {
      "text/plain": [
       "(0.5936256872245473,\n",
       " -0.24310319894026708,\n",
       " 0.24112694101369866,\n",
       " -1.0081959233516595,\n",
       " 0.737096919380955,\n",
       " -0.14219425276262687,\n",
       " 0.17098158479776093,\n",
       " -0.8316348975874562,\n",
       " 0.704616871269121,\n",
       " -0.16320164769828563,\n",
       " 0.1718218299370453,\n",
       " -0.9498306923985266)"
      ]
     },
     "execution_count": 14,
     "metadata": {},
     "output_type": "execute_result"
    }
   ],
   "source": [
    "macd_opt_b_1h.execute_backtest(start='2018-03-04-00:00', ema_slow=24, ema_fast=14, ema_signal=14)"
   ]
  },
  {
   "cell_type": "markdown",
   "id": "1d685b63",
   "metadata": {},
   "source": [
    "### 4) Plot the accumulated max vs hold"
   ]
  },
  {
   "cell_type": "markdown",
   "id": "58706ec0",
   "metadata": {},
   "source": [
    "### 5) Extract combinations of max_net "
   ]
  },
  {
   "cell_type": "code",
   "execution_count": 15,
   "id": "287adefa",
   "metadata": {},
   "outputs": [
    {
     "data": {
      "text/html": [
       "<div>\n",
       "<style scoped>\n",
       "    .dataframe tbody tr th:only-of-type {\n",
       "        vertical-align: middle;\n",
       "    }\n",
       "\n",
       "    .dataframe tbody tr th {\n",
       "        vertical-align: top;\n",
       "    }\n",
       "\n",
       "    .dataframe thead th {\n",
       "        text-align: right;\n",
       "    }\n",
       "</style>\n",
       "<table border=\"1\" class=\"dataframe\">\n",
       "  <thead>\n",
       "    <tr style=\"text-align: right;\">\n",
       "      <th></th>\n",
       "      <th>interval_opt</th>\n",
       "      <th>macd_slow_opt</th>\n",
       "      <th>macd_fast_opt</th>\n",
       "      <th>macd_signal_opt</th>\n",
       "      <th>multiple_hold</th>\n",
       "      <th>ann_log_mean_hold</th>\n",
       "      <th>ann_log_std_hold</th>\n",
       "      <th>sharpe_ratio_hold</th>\n",
       "      <th>multiple_macd_strategy</th>\n",
       "      <th>ann_log_mean_macd</th>\n",
       "      <th>ann_log_std_macd</th>\n",
       "      <th>sharpe_ratio_macd</th>\n",
       "      <th>multiple_macd_strategy_net</th>\n",
       "      <th>ann_log_mean_macd_net</th>\n",
       "      <th>ann_log_std_macd_net</th>\n",
       "      <th>sharpe_ratio_macd_net</th>\n",
       "      <th>trend_ref</th>\n",
       "      <th>start_opt</th>\n",
       "      <th>end_opt</th>\n",
       "    </tr>\n",
       "  </thead>\n",
       "  <tbody>\n",
       "    <tr>\n",
       "      <th>24812</th>\n",
       "      <td>1h</td>\n",
       "      <td>24</td>\n",
       "      <td>14</td>\n",
       "      <td>14</td>\n",
       "      <td>0.593626</td>\n",
       "      <td>-0.243103</td>\n",
       "      <td>0.241127</td>\n",
       "      <td>-1.008196</td>\n",
       "      <td>0.870843</td>\n",
       "      <td>-0.064466</td>\n",
       "      <td>0.168428</td>\n",
       "      <td>-0.382752</td>\n",
       "      <td>0.845309</td>\n",
       "      <td>-0.078339</td>\n",
       "      <td>0.169046</td>\n",
       "      <td>-0.463417</td>\n",
       "      <td>B</td>\n",
       "      <td>2018-03-04-00:00</td>\n",
       "      <td>2018-04-06-00:00</td>\n",
       "    </tr>\n",
       "  </tbody>\n",
       "</table>\n",
       "</div>"
      ],
      "text/plain": [
       "      interval_opt  macd_slow_opt  macd_fast_opt  macd_signal_opt  \\\n",
       "24812           1h             24             14               14   \n",
       "\n",
       "       multiple_hold  ann_log_mean_hold  ann_log_std_hold  sharpe_ratio_hold  \\\n",
       "24812       0.593626          -0.243103          0.241127          -1.008196   \n",
       "\n",
       "       multiple_macd_strategy  ann_log_mean_macd  ann_log_std_macd  \\\n",
       "24812                0.870843          -0.064466          0.168428   \n",
       "\n",
       "       sharpe_ratio_macd  multiple_macd_strategy_net  ann_log_mean_macd_net  \\\n",
       "24812          -0.382752                    0.845309              -0.078339   \n",
       "\n",
       "       ann_log_std_macd_net  sharpe_ratio_macd_net trend_ref  \\\n",
       "24812              0.169046              -0.463417         B   \n",
       "\n",
       "              start_opt           end_opt  \n",
       "24812  2018-03-04-00:00  2018-04-06-00:00  "
      ]
     },
     "execution_count": 15,
     "metadata": {},
     "output_type": "execute_result"
    }
   ],
   "source": [
    "macd_opt_b.opt_results[macd_opt_b.opt_results.multiple_macd_strategy_net == macd_opt_b.opt_results.multiple_macd_strategy_net.max()]"
   ]
  },
  {
   "cell_type": "markdown",
   "id": "094391fb",
   "metadata": {},
   "source": [
    "### 6) Create new class for interval of max_net and launch backtest for the combinations of max_net"
   ]
  },
  {
   "cell_type": "markdown",
   "id": "fe8baff5",
   "metadata": {},
   "source": [
    "### 7) Plot the accumulated max_net vs hold"
   ]
  },
  {
   "cell_type": "markdown",
   "id": "08ef15b0",
   "metadata": {},
   "source": [
    "### 8) Further..."
   ]
  },
  {
   "cell_type": "code",
   "execution_count": null,
   "id": "510c9057",
   "metadata": {},
   "outputs": [],
   "source": []
  }
 ],
 "metadata": {
  "kernelspec": {
   "display_name": "Python 3 (ipykernel)",
   "language": "python",
   "name": "python3"
  },
  "language_info": {
   "codemirror_mode": {
    "name": "ipython",
    "version": 3
   },
   "file_extension": ".py",
   "mimetype": "text/x-python",
   "name": "python",
   "nbconvert_exporter": "python",
   "pygments_lexer": "ipython3",
   "version": "3.9.12"
  }
 },
 "nbformat": 4,
 "nbformat_minor": 5
}
