{
 "cells": [
  {
   "cell_type": "code",
   "execution_count": 3,
   "id": "b7e980b6",
   "metadata": {},
   "outputs": [],
   "source": [
    "import sys\n",
    "sys.path.append('/Users/jp/Desktop/Investment/trading_BOT/macd_long_backtester')\n",
    "from macd_long_backtester import Macd_long_backtester\n",
    "import pandas as pd\n",
    "import matplotlib.pyplot as plt"
   ]
  },
  {
   "cell_type": "code",
   "execution_count": 8,
   "id": "e84f4eab",
   "metadata": {},
   "outputs": [],
   "source": [
    "pd.set_option('display.max_rows', None)"
   ]
  },
  {
   "cell_type": "markdown",
   "id": "ded7ce4a",
   "metadata": {},
   "source": [
    "### 1) Launch optimization"
   ]
  },
  {
   "cell_type": "code",
   "execution_count": 9,
   "id": "fd729249",
   "metadata": {},
   "outputs": [
    {
     "name": "stdout",
     "output_type": "stream",
     "text": [
      "class version 1.1 is being used\n"
     ]
    }
   ],
   "source": [
    "macd_opt_j = Macd_long_backtester('BTCUSDT')"
   ]
  },
  {
   "cell_type": "code",
   "execution_count": 10,
   "id": "1e498a98",
   "metadata": {},
   "outputs": [],
   "source": [
    "df = pd.read_csv('downtrend_j.csv')\n",
    "macd_opt_j.opt_results = df"
   ]
  },
  {
   "cell_type": "code",
   "execution_count": 11,
   "id": "e5982839",
   "metadata": {
    "scrolled": true
   },
   "outputs": [],
   "source": [
    "# macd_opt_j.execute_opt(interval_opt=('15m', '30m', '1h') ,start_opt='2019-11-13-00:00', end_opt='2019-12-17-00:00', ema_fast_opt=(2,16,2), ema_slow_opt=(16,40,2), ema_sign_opt=(2, 40, 2), int_for_max='1h', trend_ref='J', type_trend='downtrend_j')"
   ]
  },
  {
   "cell_type": "markdown",
   "id": "bb57fed1",
   "metadata": {},
   "source": [
    "### 2) Extract combinations of max"
   ]
  },
  {
   "cell_type": "code",
   "execution_count": 12,
   "id": "69cf9dc5",
   "metadata": {},
   "outputs": [
    {
     "data": {
      "text/html": [
       "<div>\n",
       "<style scoped>\n",
       "    .dataframe tbody tr th:only-of-type {\n",
       "        vertical-align: middle;\n",
       "    }\n",
       "\n",
       "    .dataframe tbody tr th {\n",
       "        vertical-align: top;\n",
       "    }\n",
       "\n",
       "    .dataframe thead th {\n",
       "        text-align: right;\n",
       "    }\n",
       "</style>\n",
       "<table border=\"1\" class=\"dataframe\">\n",
       "  <thead>\n",
       "    <tr style=\"text-align: right;\">\n",
       "      <th></th>\n",
       "      <th>interval_opt</th>\n",
       "      <th>macd_slow_opt</th>\n",
       "      <th>macd_fast_opt</th>\n",
       "      <th>macd_signal_opt</th>\n",
       "      <th>multiple_hold</th>\n",
       "      <th>ann_log_mean_hold</th>\n",
       "      <th>ann_log_std_hold</th>\n",
       "      <th>sharpe_ratio_hold</th>\n",
       "      <th>multiple_macd_strategy</th>\n",
       "      <th>ann_log_mean_macd</th>\n",
       "      <th>ann_log_std_macd</th>\n",
       "      <th>sharpe_ratio_macd</th>\n",
       "      <th>multiple_macd_strategy_net</th>\n",
       "      <th>ann_log_mean_macd_net</th>\n",
       "      <th>ann_log_std_macd_net</th>\n",
       "      <th>sharpe_ratio_macd_net</th>\n",
       "      <th>trend_ref</th>\n",
       "      <th>start_opt</th>\n",
       "      <th>end_opt</th>\n",
       "    </tr>\n",
       "  </thead>\n",
       "  <tbody>\n",
       "    <tr>\n",
       "      <th>388</th>\n",
       "      <td>15m</td>\n",
       "      <td>20</td>\n",
       "      <td>6</td>\n",
       "      <td>36</td>\n",
       "      <td>0.808728</td>\n",
       "      <td>-0.024132</td>\n",
       "      <td>0.056896</td>\n",
       "      <td>-0.424134</td>\n",
       "      <td>1.10689</td>\n",
       "      <td>0.011544</td>\n",
       "      <td>0.039581</td>\n",
       "      <td>0.291651</td>\n",
       "      <td>0.931412</td>\n",
       "      <td>-0.008077</td>\n",
       "      <td>0.040276</td>\n",
       "      <td>-0.200537</td>\n",
       "      <td>J</td>\n",
       "      <td>2019-11-13-00:00</td>\n",
       "      <td>2019-12-17-00:00</td>\n",
       "    </tr>\n",
       "    <tr>\n",
       "      <th>1078</th>\n",
       "      <td>15m</td>\n",
       "      <td>20</td>\n",
       "      <td>6</td>\n",
       "      <td>36</td>\n",
       "      <td>0.808728</td>\n",
       "      <td>-0.024132</td>\n",
       "      <td>0.056896</td>\n",
       "      <td>-0.424134</td>\n",
       "      <td>1.10689</td>\n",
       "      <td>0.011544</td>\n",
       "      <td>0.039581</td>\n",
       "      <td>0.291651</td>\n",
       "      <td>0.931412</td>\n",
       "      <td>-0.008077</td>\n",
       "      <td>0.040276</td>\n",
       "      <td>-0.200537</td>\n",
       "      <td>J</td>\n",
       "      <td>2019-11-13-00:00</td>\n",
       "      <td>2019-12-17-00:00</td>\n",
       "    </tr>\n",
       "    <tr>\n",
       "      <th>2133</th>\n",
       "      <td>15m</td>\n",
       "      <td>36</td>\n",
       "      <td>6</td>\n",
       "      <td>20</td>\n",
       "      <td>0.808728</td>\n",
       "      <td>-0.024132</td>\n",
       "      <td>0.056896</td>\n",
       "      <td>-0.424134</td>\n",
       "      <td>1.10689</td>\n",
       "      <td>0.011544</td>\n",
       "      <td>0.039581</td>\n",
       "      <td>0.291651</td>\n",
       "      <td>0.931412</td>\n",
       "      <td>-0.008077</td>\n",
       "      <td>0.040276</td>\n",
       "      <td>-0.200537</td>\n",
       "      <td>J</td>\n",
       "      <td>2019-11-13-00:00</td>\n",
       "      <td>2019-12-17-00:00</td>\n",
       "    </tr>\n",
       "  </tbody>\n",
       "</table>\n",
       "</div>"
      ],
      "text/plain": [
       "     interval_opt  macd_slow_opt  macd_fast_opt  macd_signal_opt  \\\n",
       "388           15m             20              6               36   \n",
       "1078          15m             20              6               36   \n",
       "2133          15m             36              6               20   \n",
       "\n",
       "      multiple_hold  ann_log_mean_hold  ann_log_std_hold  sharpe_ratio_hold  \\\n",
       "388        0.808728          -0.024132          0.056896          -0.424134   \n",
       "1078       0.808728          -0.024132          0.056896          -0.424134   \n",
       "2133       0.808728          -0.024132          0.056896          -0.424134   \n",
       "\n",
       "      multiple_macd_strategy  ann_log_mean_macd  ann_log_std_macd  \\\n",
       "388                  1.10689           0.011544          0.039581   \n",
       "1078                 1.10689           0.011544          0.039581   \n",
       "2133                 1.10689           0.011544          0.039581   \n",
       "\n",
       "      sharpe_ratio_macd  multiple_macd_strategy_net  ann_log_mean_macd_net  \\\n",
       "388            0.291651                    0.931412              -0.008077   \n",
       "1078           0.291651                    0.931412              -0.008077   \n",
       "2133           0.291651                    0.931412              -0.008077   \n",
       "\n",
       "      ann_log_std_macd_net  sharpe_ratio_macd_net trend_ref         start_opt  \\\n",
       "388               0.040276              -0.200537         J  2019-11-13-00:00   \n",
       "1078              0.040276              -0.200537         J  2019-11-13-00:00   \n",
       "2133              0.040276              -0.200537         J  2019-11-13-00:00   \n",
       "\n",
       "               end_opt  \n",
       "388   2019-12-17-00:00  \n",
       "1078  2019-12-17-00:00  \n",
       "2133  2019-12-17-00:00  "
      ]
     },
     "execution_count": 12,
     "metadata": {},
     "output_type": "execute_result"
    }
   ],
   "source": [
    "macd_opt_j.opt_results[macd_opt_j.opt_results.multiple_macd_strategy == macd_opt_j.opt_results.multiple_macd_strategy.max()]"
   ]
  },
  {
   "cell_type": "markdown",
   "id": "80ce79ba",
   "metadata": {},
   "source": [
    "### 3) Create new class for interval of max and launch backtest for the combinations of max"
   ]
  },
  {
   "cell_type": "code",
   "execution_count": 13,
   "id": "66d3cf78",
   "metadata": {
    "scrolled": true
   },
   "outputs": [
    {
     "name": "stdout",
     "output_type": "stream",
     "text": [
      "class version 1.1 is being used\n"
     ]
    }
   ],
   "source": [
    "macd_opt_j_15m = Macd_long_backtester('BTCUSDT')"
   ]
  },
  {
   "cell_type": "code",
   "execution_count": 15,
   "id": "288305f8",
   "metadata": {
    "scrolled": true
   },
   "outputs": [
    {
     "name": "stdout",
     "output_type": "stream",
     "text": [
      "3248\n"
     ]
    }
   ],
   "source": [
    "macd_opt_j_15m.prepare_data(start='2019-11-13-00:00', end='2019-12-17-00:00', interval='15m')"
   ]
  },
  {
   "cell_type": "code",
   "execution_count": 16,
   "id": "7e485f89",
   "metadata": {},
   "outputs": [
    {
     "name": "stdout",
     "output_type": "stream",
     "text": [
      "3306\n",
      "   multiple_hold  ann_log_mean_hold  ann_log_std_hold  sharpe_ratio_hold  \\\n",
      "0       0.808728          -0.024132          0.056896          -0.424134   \n",
      "\n",
      "   multiple_macd_strategy  ann_log_mean_macd  ann_log_std_macd  \\\n",
      "0                 1.10689           0.011544          0.039581   \n",
      "\n",
      "   sharpe_ratio_macd  multiple_macd_strategy_net  ann_log_mean_macd_net  \\\n",
      "0           0.291651                    0.931412              -0.008077   \n",
      "\n",
      "   ann_log_std_macd_net  sharpe_ratio_macd_net  \n",
      "0              0.040276              -0.200537  \n"
     ]
    },
    {
     "data": {
      "text/plain": [
       "(0.8087284881450654,\n",
       " -0.02413160754628797,\n",
       " 0.056896125535714694,\n",
       " -0.4241344611618613,\n",
       " 1.1068900568371463,\n",
       " 0.011543859032774516,\n",
       " 0.039581094053104504,\n",
       " 0.29165083252338964,\n",
       " 0.9314117762588564,\n",
       " -0.00807681058538976,\n",
       " 0.04027597359942614,\n",
       " -0.20053669380458725)"
      ]
     },
     "execution_count": 16,
     "metadata": {},
     "output_type": "execute_result"
    }
   ],
   "source": [
    "macd_opt_j_15m.execute_backtest(start='2019-11-13-00:00', ema_slow=36, ema_fast=6, ema_signal=20)"
   ]
  },
  {
   "cell_type": "markdown",
   "id": "1d685b63",
   "metadata": {},
   "source": [
    "### 4) Plot the accumulated max vs hold"
   ]
  },
  {
   "cell_type": "code",
   "execution_count": 17,
   "id": "fdeb1853",
   "metadata": {},
   "outputs": [
    {
     "data": {
      "text/plain": [
       "<matplotlib.legend.Legend at 0x7f7a9036c040>"
      ]
     },
     "execution_count": 17,
     "metadata": {},
     "output_type": "execute_result"
    },
    {
     "data": {
      "image/png": "[encoded data removed]",
      "text/plain": [
       "<Figure size 1080x720 with 1 Axes>"
      ]
     },
     "metadata": {
      "needs_background": "light"
     },
     "output_type": "display_data"
    }
   ],
   "source": [
    "macd_opt_j_15m.data_init.multiple_hold_acum.plot(figsize=(15,10))\n",
    "macd_opt_j_15m.data_init.macd_log_returns_acum.plot(figsize=(15,10))\n",
    "plt.legend()"
   ]
  },
  {
   "cell_type": "markdown",
   "id": "58706ec0",
   "metadata": {},
   "source": [
    "### 5) Extract combinations of max_net "
   ]
  },
  {
   "cell_type": "code",
   "execution_count": 18,
   "id": "250f6f6f",
   "metadata": {},
   "outputs": [
    {
     "data": {
      "text/html": [
       "<div>\n",
       "<style scoped>\n",
       "    .dataframe tbody tr th:only-of-type {\n",
       "        vertical-align: middle;\n",
       "    }\n",
       "\n",
       "    .dataframe tbody tr th {\n",
       "        vertical-align: top;\n",
       "    }\n",
       "\n",
       "    .dataframe thead th {\n",
       "        text-align: right;\n",
       "    }\n",
       "</style>\n",
       "<table border=\"1\" class=\"dataframe\">\n",
       "  <thead>\n",
       "    <tr style=\"text-align: right;\">\n",
       "      <th></th>\n",
       "      <th>interval_opt</th>\n",
       "      <th>macd_slow_opt</th>\n",
       "      <th>macd_fast_opt</th>\n",
       "      <th>macd_signal_opt</th>\n",
       "      <th>multiple_hold</th>\n",
       "      <th>ann_log_mean_hold</th>\n",
       "      <th>ann_log_std_hold</th>\n",
       "      <th>sharpe_ratio_hold</th>\n",
       "      <th>multiple_macd_strategy</th>\n",
       "      <th>ann_log_mean_macd</th>\n",
       "      <th>ann_log_std_macd</th>\n",
       "      <th>sharpe_ratio_macd</th>\n",
       "      <th>multiple_macd_strategy_net</th>\n",
       "      <th>ann_log_mean_macd_net</th>\n",
       "      <th>ann_log_std_macd_net</th>\n",
       "      <th>sharpe_ratio_macd_net</th>\n",
       "      <th>trend_ref</th>\n",
       "      <th>start_opt</th>\n",
       "      <th>end_opt</th>\n",
       "    </tr>\n",
       "  </thead>\n",
       "  <tbody>\n",
       "    <tr>\n",
       "      <th>722</th>\n",
       "      <td>15m</td>\n",
       "      <td>24</td>\n",
       "      <td>14</td>\n",
       "      <td>26</td>\n",
       "      <td>0.808728</td>\n",
       "      <td>-0.024132</td>\n",
       "      <td>0.056896</td>\n",
       "      <td>-0.424134</td>\n",
       "      <td>1.101382</td>\n",
       "      <td>0.010977</td>\n",
       "      <td>0.039583</td>\n",
       "      <td>0.277314</td>\n",
       "      <td>0.975285</td>\n",
       "      <td>-0.002845</td>\n",
       "      <td>0.040068</td>\n",
       "      <td>-0.070995</td>\n",
       "      <td>J</td>\n",
       "      <td>2019-11-13-00:00</td>\n",
       "      <td>2019-12-17-00:00</td>\n",
       "    </tr>\n",
       "    <tr>\n",
       "      <th>1415</th>\n",
       "      <td>15m</td>\n",
       "      <td>24</td>\n",
       "      <td>14</td>\n",
       "      <td>26</td>\n",
       "      <td>0.808728</td>\n",
       "      <td>-0.024132</td>\n",
       "      <td>0.056896</td>\n",
       "      <td>-0.424134</td>\n",
       "      <td>1.101382</td>\n",
       "      <td>0.010977</td>\n",
       "      <td>0.039583</td>\n",
       "      <td>0.277314</td>\n",
       "      <td>0.975285</td>\n",
       "      <td>-0.002845</td>\n",
       "      <td>0.040068</td>\n",
       "      <td>-0.070995</td>\n",
       "      <td>J</td>\n",
       "      <td>2019-11-13-00:00</td>\n",
       "      <td>2019-12-17-00:00</td>\n",
       "    </tr>\n",
       "    <tr>\n",
       "      <th>1547</th>\n",
       "      <td>15m</td>\n",
       "      <td>26</td>\n",
       "      <td>14</td>\n",
       "      <td>24</td>\n",
       "      <td>0.808728</td>\n",
       "      <td>-0.024132</td>\n",
       "      <td>0.056896</td>\n",
       "      <td>-0.424134</td>\n",
       "      <td>1.101382</td>\n",
       "      <td>0.010977</td>\n",
       "      <td>0.039583</td>\n",
       "      <td>0.277314</td>\n",
       "      <td>0.975285</td>\n",
       "      <td>-0.002845</td>\n",
       "      <td>0.040068</td>\n",
       "      <td>-0.070995</td>\n",
       "      <td>J</td>\n",
       "      <td>2019-11-13-00:00</td>\n",
       "      <td>2019-12-17-00:00</td>\n",
       "    </tr>\n",
       "  </tbody>\n",
       "</table>\n",
       "</div>"
      ],
      "text/plain": [
       "     interval_opt  macd_slow_opt  macd_fast_opt  macd_signal_opt  \\\n",
       "722           15m             24             14               26   \n",
       "1415          15m             24             14               26   \n",
       "1547          15m             26             14               24   \n",
       "\n",
       "      multiple_hold  ann_log_mean_hold  ann_log_std_hold  sharpe_ratio_hold  \\\n",
       "722        0.808728          -0.024132          0.056896          -0.424134   \n",
       "1415       0.808728          -0.024132          0.056896          -0.424134   \n",
       "1547       0.808728          -0.024132          0.056896          -0.424134   \n",
       "\n",
       "      multiple_macd_strategy  ann_log_mean_macd  ann_log_std_macd  \\\n",
       "722                 1.101382           0.010977          0.039583   \n",
       "1415                1.101382           0.010977          0.039583   \n",
       "1547                1.101382           0.010977          0.039583   \n",
       "\n",
       "      sharpe_ratio_macd  multiple_macd_strategy_net  ann_log_mean_macd_net  \\\n",
       "722            0.277314                    0.975285              -0.002845   \n",
       "1415           0.277314                    0.975285              -0.002845   \n",
       "1547           0.277314                    0.975285              -0.002845   \n",
       "\n",
       "      ann_log_std_macd_net  sharpe_ratio_macd_net trend_ref         start_opt  \\\n",
       "722               0.040068              -0.070995         J  2019-11-13-00:00   \n",
       "1415              0.040068              -0.070995         J  2019-11-13-00:00   \n",
       "1547              0.040068              -0.070995         J  2019-11-13-00:00   \n",
       "\n",
       "               end_opt  \n",
       "722   2019-12-17-00:00  \n",
       "1415  2019-12-17-00:00  \n",
       "1547  2019-12-17-00:00  "
      ]
     },
     "execution_count": 18,
     "metadata": {},
     "output_type": "execute_result"
    }
   ],
   "source": [
    "macd_opt_j.opt_results[macd_opt_j.opt_results.multiple_macd_strategy_net == macd_opt_j.opt_results.multiple_macd_strategy_net.max()]"
   ]
  },
  {
   "cell_type": "markdown",
   "id": "094391fb",
   "metadata": {},
   "source": [
    "### 6) Create new class for interval of max_net and launch backtest for the combinations of max_net"
   ]
  },
  {
   "cell_type": "code",
   "execution_count": 19,
   "id": "f3240792",
   "metadata": {},
   "outputs": [
    {
     "name": "stdout",
     "output_type": "stream",
     "text": [
      "class version 1.1 is being used\n"
     ]
    }
   ],
   "source": [
    "macd_opt_j_15m_v2 = Macd_long_backtester('BTCUSDT')"
   ]
  },
  {
   "cell_type": "markdown",
   "id": "fe8baff5",
   "metadata": {},
   "source": [
    "### 7) Plot the accumulated max_net vs hold"
   ]
  },
  {
   "cell_type": "code",
   "execution_count": 20,
   "id": "38cb0f34",
   "metadata": {
    "scrolled": true
   },
   "outputs": [
    {
     "name": "stdout",
     "output_type": "stream",
     "text": [
      "3248\n"
     ]
    }
   ],
   "source": [
    "macd_opt_j_15m_v2.prepare_data(start='2019-11-13-00:00', end='2019-12-17-00:00', interval='15m')"
   ]
  },
  {
   "cell_type": "code",
   "execution_count": 21,
   "id": "2cf78df8",
   "metadata": {},
   "outputs": [
    {
     "name": "stdout",
     "output_type": "stream",
     "text": [
      "3300\n",
      "   multiple_hold  ann_log_mean_hold  ann_log_std_hold  sharpe_ratio_hold  \\\n",
      "0       0.808728          -0.024132          0.056896          -0.424134   \n",
      "\n",
      "   multiple_macd_strategy  ann_log_mean_macd  ann_log_std_macd  \\\n",
      "0                1.101382           0.010977          0.039583   \n",
      "\n",
      "   sharpe_ratio_macd  multiple_macd_strategy_net  ann_log_mean_macd_net  \\\n",
      "0           0.277314                    0.975285              -0.002845   \n",
      "\n",
      "   ann_log_std_macd_net  sharpe_ratio_macd_net  \n",
      "0              0.040068              -0.070995  \n"
     ]
    },
    {
     "data": {
      "text/plain": [
       "(0.8087284881450654,\n",
       " -0.02413160754628797,\n",
       " 0.056896125535714694,\n",
       " -0.4241344611618613,\n",
       " 1.101382124237251,\n",
       " 0.010976811492463857,\n",
       " 0.03958262171017692,\n",
       " 0.27731390742219725,\n",
       " 0.9752854454758859,\n",
       " -0.002844645430676482,\n",
       " 0.04006826622773575,\n",
       " -0.07099497179409732)"
      ]
     },
     "execution_count": 21,
     "metadata": {},
     "output_type": "execute_result"
    }
   ],
   "source": [
    "macd_opt_j_15m_v2.execute_backtest(start='2019-11-13-00:00', ema_slow=24, ema_fast=14, ema_signal=26)"
   ]
  },
  {
   "cell_type": "markdown",
   "id": "756764b1",
   "metadata": {},
   "source": [
    "### 10) Try the calculated average for the emas in the collect_opt file"
   ]
  },
  {
   "cell_type": "markdown",
   "id": "d34acddd",
   "metadata": {},
   "source": [
    "__meanbest_1h_par = 26,14,26__\n"
   ]
  },
  {
   "cell_type": "code",
   "execution_count": 4,
   "id": "3cad8b8d",
   "metadata": {},
   "outputs": [
    {
     "name": "stdout",
     "output_type": "stream",
     "text": [
      "class version 1.1 is being used\n"
     ]
    }
   ],
   "source": [
    "macd_opt_meanbest_1h_par = Macd_long_backtester('BTCUSDT')"
   ]
  },
  {
   "cell_type": "code",
   "execution_count": 5,
   "id": "267151a9",
   "metadata": {},
   "outputs": [
    {
     "name": "stdout",
     "output_type": "stream",
     "text": [
      "906\n"
     ]
    }
   ],
   "source": [
    "macd_opt_meanbest_1h_par.prepare_data(start='2018-11-07-00:00', end='2018-12-15-00:00', interval='1h')"
   ]
  },
  {
   "cell_type": "code",
   "execution_count": 6,
   "id": "3d0bea2a",
   "metadata": {},
   "outputs": [
    {
     "name": "stdout",
     "output_type": "stream",
     "text": [
      "960\n",
      "   multiple_hold  ann_log_mean_hold  ann_log_std_hold  sharpe_ratio_hold  \\\n",
      "0       0.496724          -0.285042          0.200333          -1.422842   \n",
      "\n",
      "   multiple_macd_strategy  ann_log_mean_macd  ann_log_std_macd  \\\n",
      "0                0.806284          -0.087714          0.128592   \n",
      "\n",
      "   sharpe_ratio_macd  multiple_macd_strategy_net  ann_log_mean_macd_net  \\\n",
      "0          -0.682108                    0.783308              -0.099491   \n",
      "\n",
      "   ann_log_std_macd_net  sharpe_ratio_macd_net  \n",
      "0              0.128962              -0.771475  \n"
     ]
    },
    {
     "data": {
      "text/plain": [
       "(0.49672434860243775,\n",
       " -0.2850422027063805,\n",
       " 0.20033304184741135,\n",
       " -1.4228416844161431,\n",
       " 0.8062837719286602,\n",
       " -0.08771386862876887,\n",
       " 0.12859235912375283,\n",
       " -0.6821079357005658,\n",
       " 0.7833080313944346,\n",
       " -0.09949071473677733,\n",
       " 0.12896174732484958,\n",
       " -0.771474617866057)"
      ]
     },
     "execution_count": 6,
     "metadata": {},
     "output_type": "execute_result"
    }
   ],
   "source": [
    "macd_opt_meanbest_1h_par.execute_backtest(start='2018-11-07-00:00', ema_slow=26, ema_fast=14, ema_signal=26)"
   ]
  },
  {
   "cell_type": "markdown",
   "id": "aa46a8bc",
   "metadata": {},
   "source": [
    "### results with the opt parameters of 1h are better than buy and hold but lower than those coming from the own optimization of the interval"
   ]
  },
  {
   "cell_type": "markdown",
   "id": "337026b3",
   "metadata": {},
   "source": [
    "__meanbest_15m_par = 20,6,36__"
   ]
  },
  {
   "cell_type": "code",
   "execution_count": 7,
   "id": "f67578fd",
   "metadata": {},
   "outputs": [
    {
     "name": "stdout",
     "output_type": "stream",
     "text": [
      "class version 1.1 is being used\n"
     ]
    }
   ],
   "source": [
    "macd_opt_meanbest_15m_par = Macd_long_backtester('BTCUSDT')"
   ]
  },
  {
   "cell_type": "code",
   "execution_count": 8,
   "id": "78d2f2d8",
   "metadata": {},
   "outputs": [
    {
     "name": "stdout",
     "output_type": "stream",
     "text": [
      "3621\n"
     ]
    }
   ],
   "source": [
    "macd_opt_meanbest_15m_par.prepare_data(start='2018-11-07-00:00', end='2018-12-15-00:00', interval='15m')"
   ]
  },
  {
   "cell_type": "code",
   "execution_count": 9,
   "id": "11d1ee24",
   "metadata": {},
   "outputs": [
    {
     "name": "stdout",
     "output_type": "stream",
     "text": [
      "3679\n",
      "   multiple_hold  ann_log_mean_hold  ann_log_std_hold  sharpe_ratio_hold  \\\n",
      "0       0.501985          -0.070188          0.101641          -0.690546   \n",
      "\n",
      "   multiple_macd_strategy  ann_log_mean_macd  ann_log_std_macd  \\\n",
      "0                0.534074          -0.063877          0.065769   \n",
      "\n",
      "   sharpe_ratio_macd  multiple_macd_strategy_net  ann_log_mean_macd_net  \\\n",
      "0          -0.971237                    0.425242              -0.087084   \n",
      "\n",
      "   ann_log_std_macd_net  sharpe_ratio_macd_net  \n",
      "0              0.066733              -1.304976  \n"
     ]
    },
    {
     "data": {
      "text/plain": [
       "(0.5019854193135103,\n",
       " -0.07018756551063597,\n",
       " 0.10164073044389868,\n",
       " -0.690545662197661,\n",
       " 0.5340742793839718,\n",
       " -0.0638770724469289,\n",
       " 0.06576875316836762,\n",
       " -0.9712373941984876,\n",
       " 0.42524189701612175,\n",
       " -0.08708438683624004,\n",
       " 0.06673253924816279,\n",
       " -1.3049763701092425)"
      ]
     },
     "execution_count": 9,
     "metadata": {},
     "output_type": "execute_result"
    }
   ],
   "source": [
    "macd_opt_meanbest_15m_par.execute_backtest(start='2018-11-07-00:00', ema_slow=20, ema_fast=6, ema_signal=36)"
   ]
  },
  {
   "cell_type": "code",
   "execution_count": null,
   "id": "cba1f236",
   "metadata": {},
   "outputs": [],
   "source": []
  }
 ],
 "metadata": {
  "kernelspec": {
   "display_name": "Python 3 (ipykernel)",
   "language": "python",
   "name": "python3"
  },
  "language_info": {
   "codemirror_mode": {
    "name": "ipython",
    "version": 3
   },
   "file_extension": ".py",
   "mimetype": "text/x-python",
   "name": "python",
   "nbconvert_exporter": "python",
   "pygments_lexer": "ipython3",
   "version": "3.9.12"
  }
 },
 "nbformat": 4,
 "nbformat_minor": 5
}
