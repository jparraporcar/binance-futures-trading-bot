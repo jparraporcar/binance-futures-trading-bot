{
 "cells": [
  {
   "cell_type": "code",
   "execution_count": 2,
   "id": "60646008",
   "metadata": {},
   "outputs": [],
   "source": [
    "import sys\n",
    "from datetime import datetime, timedelta, timezone\n",
    "sys.path.append('/Users/jp/Desktop/Investment/trading_BOT/backtest/macd_ls_backtester_sma')\n",
    "from macd_ls_backtester_sma import Macd_ls_backtester_sma\n",
    "import pandas as pd\n",
    "import matplotlib.pyplot as plt\n",
    "import numpy as np\n",
    "sys.path.append('/Users/jp/Desktop/Investment/utils')\n",
    "import utils as utils"
   ]
  },
  {
   "cell_type": "code",
   "execution_count": 3,
   "id": "d880f43a",
   "metadata": {},
   "outputs": [],
   "source": [
    "pd.set_option('display.max_rows', None)"
   ]
  },
  {
   "cell_type": "code",
   "execution_count": 4,
   "id": "8416abe9",
   "metadata": {},
   "outputs": [],
   "source": [
    "pd.set_option('display.max_columns', None)"
   ]
  },
  {
   "cell_type": "code",
   "execution_count": 5,
   "id": "cace08b7",
   "metadata": {},
   "outputs": [
    {
     "name": "stdout",
     "output_type": "stream",
     "text": [
      "class version 0.0 is being used\n"
     ]
    }
   ],
   "source": [
    "macd_ls_sma_15m = Macd_ls_backtester_sma('BTCUSDT','15m')"
   ]
  },
  {
   "cell_type": "code",
   "execution_count": null,
   "id": "5af3586d",
   "metadata": {},
   "outputs": [],
   "source": [
    "macd_ls_sma_15m.execute_backtest()"
   ]
  },
  {
   "cell_type": "code",
   "execution_count": null,
   "id": "b98b5540",
   "metadata": {},
   "outputs": [],
   "source": [
    "# macd_ls_sma_15m.opt_results.multiple_macd_strategy[macd_sma_15m.opt_results.multiple_macd_strategy == macd_sma_15m.opt_results.multiple_macd_strategy.max()]"
   ]
  },
  {
   "cell_type": "code",
   "execution_count": null,
   "id": "2be8f7d2",
   "metadata": {},
   "outputs": [],
   "source": [
    "# utils.save_opt_results(res=macd_ls_sma_15m.opt_results.iloc[1260], opt_type='macd_ls_sma', gross_or_net='gross', interval='15m', symbol='BTCUSDT')"
   ]
  }
 ],
 "metadata": {
  "kernelspec": {
   "display_name": "Python 3 (ipykernel)",
   "language": "python",
   "name": "python3"
  },
  "language_info": {
   "codemirror_mode": {
    "name": "ipython",
    "version": 3
   },
   "file_extension": ".py",
   "mimetype": "text/x-python",
   "name": "python",
   "nbconvert_exporter": "python",
   "pygments_lexer": "ipython3",
   "version": "3.9.12"
  }
 },
 "nbformat": 4,
 "nbformat_minor": 5
}
