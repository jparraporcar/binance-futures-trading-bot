{
 "cells": [
  {
   "cell_type": "code",
   "execution_count": 9,
   "id": "60646008",
   "metadata": {},
   "outputs": [],
   "source": [
    "import sys\n",
    "from datetime import datetime, timedelta, timezone\n",
    "sys.path.append('/Users/jp/Desktop/Investment/trading_BOT/backtest/long_short/macd_ls_backtester_sma')\n",
    "from macd_ls_backtester_sma import Macd_ls_backtester_sma\n",
    "import pandas as pd\n",
    "import matplotlib.pyplot as plt\n",
    "import numpy as np\n",
    "sys.path.append('/Users/jp/Desktop/Investment/utils')\n",
    "import utils as utils"
   ]
  },
  {
   "cell_type": "code",
   "execution_count": 10,
   "id": "d880f43a",
   "metadata": {},
   "outputs": [],
   "source": [
    "pd.set_option('display.max_rows', None)"
   ]
  },
  {
   "cell_type": "code",
   "execution_count": 11,
   "id": "8416abe9",
   "metadata": {},
   "outputs": [],
   "source": [
    "pd.set_option('display.max_columns', None)"
   ]
  },
  {
   "cell_type": "code",
   "execution_count": 12,
   "id": "cace08b7",
   "metadata": {},
   "outputs": [
    {
     "name": "stdout",
     "output_type": "stream",
     "text": [
      "class version 0.0 is being used\n"
     ]
    }
   ],
   "source": [
    "macd_ls_sma_5m = Macd_ls_backtester_sma('BTCUSDT','5m')"
   ]
  },
  {
   "cell_type": "code",
   "execution_count": 14,
   "id": "92bf0439",
   "metadata": {
    "scrolled": true
   },
   "outputs": [],
   "source": [
    "macd_ls_sma_5mm.execute_opt(start_opt='2022-01-01-00:00', end_opt='2022-01-06-00:00', ema_fast_opt=(2,18,4), ema_slow_opt=(15,40,5), ema_sign_opt=(2, 30, 6), sma_slow=(60,200,40), sma_fast=(10,50,20))"
   ]
  },
  {
   "cell_type": "code",
   "execution_count": 15,
   "id": "32fe54ca",
   "metadata": {},
   "outputs": [],
   "source": [
    "#macd_ls_sma_15m.opt_max"
   ]
  },
  {
   "cell_type": "code",
   "execution_count": 1,
   "id": "df8e28eb",
   "metadata": {},
   "outputs": [],
   "source": [
    "#macd_ls_sma_15m.opt_results.iloc[240]"
   ]
  },
  {
   "cell_type": "code",
   "execution_count": 2,
   "id": "b5571983",
   "metadata": {},
   "outputs": [],
   "source": [
    "#macd_ls_sma_15m_imported = Macd_ls_backtester_sma('BTCUSDT','15m')"
   ]
  },
  {
   "cell_type": "code",
   "execution_count": 3,
   "id": "5050c69b",
   "metadata": {},
   "outputs": [],
   "source": [
    "#macd_ls_sma_15m_imported.opt_results = pd.read_csv('macd_ls_sma_2022-11-15-00:13_15m_BTCUSDT.csv')"
   ]
  },
  {
   "cell_type": "code",
   "execution_count": 4,
   "id": "2de54ca2",
   "metadata": {},
   "outputs": [],
   "source": [
    "#macd_ls_sma_15m_imported.opt_results.iloc[240]"
   ]
  },
  {
   "cell_type": "code",
   "execution_count": 5,
   "id": "d6b9bffd",
   "metadata": {},
   "outputs": [],
   "source": [
    "#macd_ls_sma_15m_imported.prepare_data(start='2022-04-15-00:00', end='2022-06-01-00:00')"
   ]
  },
  {
   "cell_type": "code",
   "execution_count": 6,
   "id": "ab35bb53",
   "metadata": {
    "scrolled": false
   },
   "outputs": [],
   "source": [
    "#macd_ls_sma_15m_imported.execute_backtest(start='2022-04-15-00:00',ema_slow=20, ema_fast=2, ema_signal=2, sma_slow=60, sma_fast=10)"
   ]
  },
  {
   "cell_type": "code",
   "execution_count": 7,
   "id": "c1049f7d",
   "metadata": {},
   "outputs": [],
   "source": [
    "#macd_ls_sma_15m_imported.plot_backtest_results(start_plot='2022-05-08-00:00', end_plot='2022-05-15-00:00', width_bars=0.003)"
   ]
  },
  {
   "cell_type": "code",
   "execution_count": 8,
   "id": "dd414077",
   "metadata": {},
   "outputs": [],
   "source": [
    "#macd_ls_sma_15m_imported.plot_backtest_results(start_plot='2022-05-04-00:00', end_plot='2022-05-15-00:00', width_bars=0.003)"
   ]
  },
  {
   "cell_type": "code",
   "execution_count": null,
   "id": "9a8bcdcf",
   "metadata": {},
   "outputs": [],
   "source": []
  }
 ],
 "metadata": {
  "kernelspec": {
   "display_name": "Python 3 (ipykernel)",
   "language": "python",
   "name": "python3"
  },
  "language_info": {
   "codemirror_mode": {
    "name": "ipython",
    "version": 3
   },
   "file_extension": ".py",
   "mimetype": "text/x-python",
   "name": "python",
   "nbconvert_exporter": "python",
   "pygments_lexer": "ipython3",
   "version": "3.9.12"
  }
 },
 "nbformat": 4,
 "nbformat_minor": 5
}
