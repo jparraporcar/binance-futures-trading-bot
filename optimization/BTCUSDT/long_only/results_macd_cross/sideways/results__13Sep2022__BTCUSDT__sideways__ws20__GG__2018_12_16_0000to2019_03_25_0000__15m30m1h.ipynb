{
 "cells": [
  {
   "cell_type": "code",
   "execution_count": 2,
   "id": "60646008",
   "metadata": {},
   "outputs": [],
   "source": [
    "import sys\n",
    "sys.path.append('/Users/jp/Desktop/Investment/trading_BOT/macd_long_backtester')\n",
    "from macd_long_backtester import Macd_long_backtester\n",
    "import pandas as pd\n",
    "import matplotlib.pyplot as plt"
   ]
  },
  {
   "cell_type": "code",
   "execution_count": 3,
   "id": "b76086da",
   "metadata": {},
   "outputs": [],
   "source": [
    "pd.set_option('display.max_rows', None)"
   ]
  },
  {
   "cell_type": "markdown",
   "id": "893e6ffc",
   "metadata": {},
   "source": [
    "### 1) Launch optimization"
   ]
  },
  {
   "cell_type": "code",
   "execution_count": 4,
   "id": "4643619f",
   "metadata": {},
   "outputs": [
    {
     "name": "stdout",
     "output_type": "stream",
     "text": [
      "class version 1.1 is being used\n"
     ]
    }
   ],
   "source": [
    "macd_opt_gg = Macd_long_backtester('BTCUSDT')"
   ]
  },
  {
   "cell_type": "code",
   "execution_count": 5,
   "id": "f108640d",
   "metadata": {
    "scrolled": true
   },
   "outputs": [],
   "source": [
    "# macd_opt_gg.execute_opt(interval_opt=('15m', '30m', '1h') ,start_opt='2018-12-16-00:00', end_opt='2019-03-25-00:00', ema_fast_opt=(2,16,2), ema_slow_opt=(16,40,2), ema_sign_opt=(2, 40, 2), int_for_max='30m', trend_ref='GG', type_trend='sideways_gg')"
   ]
  },
  {
   "cell_type": "code",
   "execution_count": 6,
   "id": "8e4beaf7",
   "metadata": {},
   "outputs": [],
   "source": [
    "macd_opt_gg.opt_results = pd.read_csv('sideways_gg.csv')"
   ]
  },
  {
   "cell_type": "markdown",
   "id": "887c8625",
   "metadata": {},
   "source": [
    "### 2) Extract combinations of max"
   ]
  },
  {
   "cell_type": "code",
   "execution_count": 7,
   "id": "0a78c8dd",
   "metadata": {},
   "outputs": [
    {
     "data": {
      "text/html": [
       "<div>\n",
       "<style scoped>\n",
       "    .dataframe tbody tr th:only-of-type {\n",
       "        vertical-align: middle;\n",
       "    }\n",
       "\n",
       "    .dataframe tbody tr th {\n",
       "        vertical-align: top;\n",
       "    }\n",
       "\n",
       "    .dataframe thead th {\n",
       "        text-align: right;\n",
       "    }\n",
       "</style>\n",
       "<table border=\"1\" class=\"dataframe\">\n",
       "  <thead>\n",
       "    <tr style=\"text-align: right;\">\n",
       "      <th></th>\n",
       "      <th>interval_opt</th>\n",
       "      <th>macd_slow_opt</th>\n",
       "      <th>macd_fast_opt</th>\n",
       "      <th>macd_signal_opt</th>\n",
       "      <th>multiple_hold</th>\n",
       "      <th>ann_log_mean_hold</th>\n",
       "      <th>ann_log_std_hold</th>\n",
       "      <th>sharpe_ratio_hold</th>\n",
       "      <th>multiple_macd_strategy</th>\n",
       "      <th>ann_log_mean_macd</th>\n",
       "      <th>ann_log_std_macd</th>\n",
       "      <th>sharpe_ratio_macd</th>\n",
       "      <th>multiple_macd_strategy_net</th>\n",
       "      <th>ann_log_mean_macd_net</th>\n",
       "      <th>ann_log_std_macd_net</th>\n",
       "      <th>sharpe_ratio_macd_net</th>\n",
       "      <th>trend_ref</th>\n",
       "      <th>start_opt</th>\n",
       "      <th>end_opt</th>\n",
       "    </tr>\n",
       "  </thead>\n",
       "  <tbody>\n",
       "    <tr>\n",
       "      <th>2743</th>\n",
       "      <td>30m</td>\n",
       "      <td>32</td>\n",
       "      <td>10</td>\n",
       "      <td>18</td>\n",
       "      <td>1.239242</td>\n",
       "      <td>0.01658</td>\n",
       "      <td>0.077706</td>\n",
       "      <td>0.213374</td>\n",
       "      <td>1.36985</td>\n",
       "      <td>0.024326</td>\n",
       "      <td>0.056645</td>\n",
       "      <td>0.429441</td>\n",
       "      <td>1.065951</td>\n",
       "      <td>0.004937</td>\n",
       "      <td>0.057265</td>\n",
       "      <td>0.08621</td>\n",
       "      <td>GG</td>\n",
       "      <td>2018-12-16-00:00</td>\n",
       "      <td>2019-03-25-00:00</td>\n",
       "    </tr>\n",
       "  </tbody>\n",
       "</table>\n",
       "</div>"
      ],
      "text/plain": [
       "     interval_opt  macd_slow_opt  macd_fast_opt  macd_signal_opt  \\\n",
       "2743          30m             32             10               18   \n",
       "\n",
       "      multiple_hold  ann_log_mean_hold  ann_log_std_hold  sharpe_ratio_hold  \\\n",
       "2743       1.239242            0.01658          0.077706           0.213374   \n",
       "\n",
       "      multiple_macd_strategy  ann_log_mean_macd  ann_log_std_macd  \\\n",
       "2743                 1.36985           0.024326          0.056645   \n",
       "\n",
       "      sharpe_ratio_macd  multiple_macd_strategy_net  ann_log_mean_macd_net  \\\n",
       "2743           0.429441                    1.065951               0.004937   \n",
       "\n",
       "      ann_log_std_macd_net  sharpe_ratio_macd_net trend_ref         start_opt  \\\n",
       "2743              0.057265                0.08621        GG  2018-12-16-00:00   \n",
       "\n",
       "               end_opt  \n",
       "2743  2019-03-25-00:00  "
      ]
     },
     "execution_count": 7,
     "metadata": {},
     "output_type": "execute_result"
    }
   ],
   "source": [
    "macd_opt_gg.opt_results[macd_opt_gg.opt_results.multiple_macd_strategy == macd_opt_gg.opt_results.multiple_macd_strategy.max()]"
   ]
  },
  {
   "cell_type": "markdown",
   "id": "d437408b",
   "metadata": {},
   "source": [
    "### 3) Create new class for interval of max and launch backtest for the combinations of max"
   ]
  },
  {
   "cell_type": "code",
   "execution_count": null,
   "id": "cc890b97",
   "metadata": {},
   "outputs": [],
   "source": [
    "# macd_opt_gg_30m = Macd_long_backtester('BTCUSDT')"
   ]
  },
  {
   "cell_type": "code",
   "execution_count": null,
   "id": "df2e07f9",
   "metadata": {},
   "outputs": [],
   "source": [
    "# macd_opt_gg_30m.execute_backtest(start='2018-12-16-00:00', ema_slow=32, ema_fast=10, ema_signal=14)"
   ]
  },
  {
   "cell_type": "code",
   "execution_count": null,
   "id": "be16431e",
   "metadata": {
    "scrolled": true
   },
   "outputs": [],
   "source": [
    "# macd_opt_gg_30m.data_init.macd_log_returns_acum.plot(figsize=(15,10))\n",
    "# macd_opt_gg_30m.data_init.multiple_hold_acum.plot(figsize=(15,10))\n",
    "# plt.legend()"
   ]
  },
  {
   "cell_type": "code",
   "execution_count": null,
   "id": "f668282c",
   "metadata": {},
   "outputs": [],
   "source": [
    "# macd_opt_gg_30m.prepare_data(start='2018-12-16-00:00', end='2019-03-25-00:00', interval='30m')"
   ]
  },
  {
   "cell_type": "markdown",
   "id": "8bab627f",
   "metadata": {},
   "source": [
    "### 4) Plot the accumulated max vs hold"
   ]
  },
  {
   "cell_type": "markdown",
   "id": "88336d63",
   "metadata": {},
   "source": [
    "### 5) Extract combinations of max_net "
   ]
  },
  {
   "cell_type": "code",
   "execution_count": 8,
   "id": "4ba9597f",
   "metadata": {
    "scrolled": false
   },
   "outputs": [
    {
     "data": {
      "text/html": [
       "<div>\n",
       "<style scoped>\n",
       "    .dataframe tbody tr th:only-of-type {\n",
       "        vertical-align: middle;\n",
       "    }\n",
       "\n",
       "    .dataframe tbody tr th {\n",
       "        vertical-align: top;\n",
       "    }\n",
       "\n",
       "    .dataframe thead th {\n",
       "        text-align: right;\n",
       "    }\n",
       "</style>\n",
       "<table border=\"1\" class=\"dataframe\">\n",
       "  <thead>\n",
       "    <tr style=\"text-align: right;\">\n",
       "      <th></th>\n",
       "      <th>interval_opt</th>\n",
       "      <th>macd_slow_opt</th>\n",
       "      <th>macd_fast_opt</th>\n",
       "      <th>macd_signal_opt</th>\n",
       "      <th>multiple_hold</th>\n",
       "      <th>ann_log_mean_hold</th>\n",
       "      <th>ann_log_std_hold</th>\n",
       "      <th>sharpe_ratio_hold</th>\n",
       "      <th>multiple_macd_strategy</th>\n",
       "      <th>ann_log_mean_macd</th>\n",
       "      <th>ann_log_std_macd</th>\n",
       "      <th>sharpe_ratio_macd</th>\n",
       "      <th>multiple_macd_strategy_net</th>\n",
       "      <th>ann_log_mean_macd_net</th>\n",
       "      <th>ann_log_std_macd_net</th>\n",
       "      <th>sharpe_ratio_macd_net</th>\n",
       "      <th>trend_ref</th>\n",
       "      <th>start_opt</th>\n",
       "      <th>end_opt</th>\n",
       "    </tr>\n",
       "  </thead>\n",
       "  <tbody>\n",
       "    <tr>\n",
       "      <th>2082</th>\n",
       "      <td>30m</td>\n",
       "      <td>22</td>\n",
       "      <td>10</td>\n",
       "      <td>26</td>\n",
       "      <td>1.239242</td>\n",
       "      <td>0.01658</td>\n",
       "      <td>0.077706</td>\n",
       "      <td>0.213374</td>\n",
       "      <td>1.365843</td>\n",
       "      <td>0.024099</td>\n",
       "      <td>0.05664</td>\n",
       "      <td>0.425479</td>\n",
       "      <td>1.073732</td>\n",
       "      <td>0.005499</td>\n",
       "      <td>0.057262</td>\n",
       "      <td>0.096033</td>\n",
       "      <td>GG</td>\n",
       "      <td>2018-12-16-00:00</td>\n",
       "      <td>2019-03-25-00:00</td>\n",
       "    </tr>\n",
       "    <tr>\n",
       "      <th>2346</th>\n",
       "      <td>30m</td>\n",
       "      <td>26</td>\n",
       "      <td>10</td>\n",
       "      <td>22</td>\n",
       "      <td>1.239242</td>\n",
       "      <td>0.01658</td>\n",
       "      <td>0.077706</td>\n",
       "      <td>0.213374</td>\n",
       "      <td>1.365843</td>\n",
       "      <td>0.024099</td>\n",
       "      <td>0.05664</td>\n",
       "      <td>0.425479</td>\n",
       "      <td>1.073732</td>\n",
       "      <td>0.005499</td>\n",
       "      <td>0.057262</td>\n",
       "      <td>0.096033</td>\n",
       "      <td>GG</td>\n",
       "      <td>2018-12-16-00:00</td>\n",
       "      <td>2019-03-25-00:00</td>\n",
       "    </tr>\n",
       "  </tbody>\n",
       "</table>\n",
       "</div>"
      ],
      "text/plain": [
       "     interval_opt  macd_slow_opt  macd_fast_opt  macd_signal_opt  \\\n",
       "2082          30m             22             10               26   \n",
       "2346          30m             26             10               22   \n",
       "\n",
       "      multiple_hold  ann_log_mean_hold  ann_log_std_hold  sharpe_ratio_hold  \\\n",
       "2082       1.239242            0.01658          0.077706           0.213374   \n",
       "2346       1.239242            0.01658          0.077706           0.213374   \n",
       "\n",
       "      multiple_macd_strategy  ann_log_mean_macd  ann_log_std_macd  \\\n",
       "2082                1.365843           0.024099           0.05664   \n",
       "2346                1.365843           0.024099           0.05664   \n",
       "\n",
       "      sharpe_ratio_macd  multiple_macd_strategy_net  ann_log_mean_macd_net  \\\n",
       "2082           0.425479                    1.073732               0.005499   \n",
       "2346           0.425479                    1.073732               0.005499   \n",
       "\n",
       "      ann_log_std_macd_net  sharpe_ratio_macd_net trend_ref         start_opt  \\\n",
       "2082              0.057262               0.096033        GG  2018-12-16-00:00   \n",
       "2346              0.057262               0.096033        GG  2018-12-16-00:00   \n",
       "\n",
       "               end_opt  \n",
       "2082  2019-03-25-00:00  \n",
       "2346  2019-03-25-00:00  "
      ]
     },
     "execution_count": 8,
     "metadata": {},
     "output_type": "execute_result"
    }
   ],
   "source": [
    "macd_opt_gg.opt_results[macd_opt_gg.opt_results.multiple_macd_strategy_net == macd_opt_gg.opt_results.multiple_macd_strategy_net.max()]"
   ]
  },
  {
   "cell_type": "markdown",
   "id": "fafa0bcc",
   "metadata": {},
   "source": [
    "### 6) Create new class for interval of max_net and launch backtest for the combinations of max_net"
   ]
  },
  {
   "cell_type": "markdown",
   "id": "faab0769",
   "metadata": {},
   "source": [
    "### 7) Plot the accumulated max_net vs hold"
   ]
  },
  {
   "cell_type": "markdown",
   "id": "117af8e6",
   "metadata": {},
   "source": [
    "### 8.1) Use of parameters combinations for max, in another trend ref, starting with the trend ref 'ee'"
   ]
  },
  {
   "cell_type": "code",
   "execution_count": 9,
   "id": "0d9840f7",
   "metadata": {},
   "outputs": [
    {
     "name": "stdout",
     "output_type": "stream",
     "text": [
      "class version 1.1 is being used\n"
     ]
    }
   ],
   "source": [
    "macd_ee_30m = Macd_long_backtester('BTCUSDT')"
   ]
  },
  {
   "cell_type": "code",
   "execution_count": 10,
   "id": "73fbe919",
   "metadata": {
    "scrolled": true
   },
   "outputs": [
    {
     "name": "stdout",
     "output_type": "stream",
     "text": [
      "3121\n"
     ]
    }
   ],
   "source": [
    "macd_ee_30m.prepare_data(start='2018-08-11-00:00', end='2018-10-15-00:00', interval='30m')"
   ]
  },
  {
   "cell_type": "code",
   "execution_count": 11,
   "id": "e473b7c8",
   "metadata": {
    "collapsed": true
   },
   "outputs": [
    {
     "name": "stdout",
     "output_type": "stream",
     "text": [
      "3173\n",
      "   multiple_hold  ann_log_mean_hold  ann_log_std_hold  sharpe_ratio_hold  \\\n",
      "0        1.03916            0.00452          0.075988           0.059481   \n",
      "\n",
      "   multiple_macd_strategy  ann_log_mean_macd  ann_log_std_macd  \\\n",
      "0                1.022434           0.002611          0.048778   \n",
      "\n",
      "   sharpe_ratio_macd  multiple_macd_strategy_net  ann_log_mean_macd_net  \\\n",
      "0           0.053518                    0.866954              -0.016799   \n",
      "\n",
      "   ann_log_std_macd_net  sharpe_ratio_macd_net  \n",
      "0              0.049512              -0.339293  \n"
     ]
    },
    {
     "data": {
      "text/plain": [
       "(1.0391599333767227,\n",
       " 0.0045198614076180825,\n",
       " 0.07598825965138957,\n",
       " 0.059481049156195925,\n",
       " 1.0224338046059773,\n",
       " 0.002610522838376159,\n",
       " 0.048778138643294444,\n",
       " 0.05351829551074985,\n",
       " 0.8669537124592361,\n",
       " -0.016799141684308273,\n",
       " 0.04951212526984758,\n",
       " -0.3392934880648073)"
      ]
     },
     "execution_count": 11,
     "metadata": {},
     "output_type": "execute_result"
    }
   ],
   "source": [
    "macd_ee_30m.execute_backtest(start='2018-08-11-00:00', ema_slow=32, ema_fast=10, ema_signal=18)"
   ]
  },
  {
   "cell_type": "markdown",
   "id": "3bfc4a47",
   "metadata": {},
   "source": [
    "### 8.2) Use of parameters combinations for max_net, in another trend ref, starting with the trend ref 'ee'"
   ]
  },
  {
   "cell_type": "code",
   "execution_count": 12,
   "id": "385b859f",
   "metadata": {},
   "outputs": [
    {
     "name": "stdout",
     "output_type": "stream",
     "text": [
      "class version 1.1 is being used\n"
     ]
    }
   ],
   "source": [
    "macd_ee_30m_net = Macd_long_backtester('BTCUSDT')"
   ]
  },
  {
   "cell_type": "code",
   "execution_count": 14,
   "id": "ba1372e4",
   "metadata": {},
   "outputs": [
    {
     "name": "stdout",
     "output_type": "stream",
     "text": [
      "3121\n"
     ]
    }
   ],
   "source": [
    "macd_ee_30m_net.prepare_data(start='2018-08-11-00:00', end='2018-10-15-00:00', interval='30m')"
   ]
  },
  {
   "cell_type": "code",
   "execution_count": 15,
   "id": "29e7cbf8",
   "metadata": {
    "collapsed": true
   },
   "outputs": [
    {
     "name": "stdout",
     "output_type": "stream",
     "text": [
      "3171\n",
      "   multiple_hold  ann_log_mean_hold  ann_log_std_hold  sharpe_ratio_hold  \\\n",
      "0        1.03916            0.00452          0.075988           0.059481   \n",
      "\n",
      "   multiple_macd_strategy  ann_log_mean_macd  ann_log_std_macd  \\\n",
      "0                1.034884           0.004035          0.048787   \n",
      "\n",
      "   sharpe_ratio_macd  multiple_macd_strategy_net  ann_log_mean_macd_net  \\\n",
      "0             0.0827                      0.8805              -0.014975   \n",
      "\n",
      "   ann_log_std_macd_net  sharpe_ratio_macd_net  \n",
      "0              0.049512              -0.302449  \n"
     ]
    },
    {
     "data": {
      "text/plain": [
       "(1.0391599333767227,\n",
       " 0.0045198614076180825,\n",
       " 0.07598825965138957,\n",
       " 0.059481049156195925,\n",
       " 1.0348842508124054,\n",
       " 0.004034719119055175,\n",
       " 0.04878715736339617,\n",
       " 0.08270043464517013,\n",
       " 0.8805004598396811,\n",
       " -0.014974746135120315,\n",
       " 0.0495116172656827,\n",
       " -0.30244914147653085)"
      ]
     },
     "execution_count": 15,
     "metadata": {},
     "output_type": "execute_result"
    }
   ],
   "source": [
    "macd_ee_30m_net.execute_backtest(start='2018-08-11-00:00', ema_slow=26, ema_fast=10, ema_signal=22)"
   ]
  },
  {
   "cell_type": "markdown",
   "id": "ace07f59",
   "metadata": {},
   "source": [
    "### 9.1) Use of parameters combinations for max, in another trend ref: trend ref 'mm'"
   ]
  },
  {
   "cell_type": "code",
   "execution_count": 19,
   "id": "37b3cb09",
   "metadata": {},
   "outputs": [
    {
     "name": "stdout",
     "output_type": "stream",
     "text": [
      "class version 1.1 is being used\n"
     ]
    }
   ],
   "source": [
    "macd_mm_30m = Macd_long_backtester('BTCUSDT')"
   ]
  },
  {
   "cell_type": "code",
   "execution_count": 25,
   "id": "d01822e7",
   "metadata": {},
   "outputs": [
    {
     "name": "stdout",
     "output_type": "stream",
     "text": [
      "3058\n"
     ]
    }
   ],
   "source": [
    "macd_mm_30m.prepare_data(start='2020-02-15-00:00', end='2020-04-19-00:00', interval='30m')"
   ]
  },
  {
   "cell_type": "code",
   "execution_count": 26,
   "id": "fdef9d33",
   "metadata": {},
   "outputs": [
    {
     "name": "stdout",
     "output_type": "stream",
     "text": [
      "3110\n",
      "   multiple_hold  ann_log_mean_hold  ann_log_std_hold  sharpe_ratio_hold  \\\n",
      "0       0.698155          -0.043155          0.185884          -0.232163   \n",
      "\n",
      "   multiple_macd_strategy  ann_log_mean_macd  ann_log_std_macd  \\\n",
      "0                0.782194          -0.029504          0.121286   \n",
      "\n",
      "   sharpe_ratio_macd  multiple_macd_strategy_net  ann_log_mean_macd_net  \\\n",
      "0          -0.243262                    0.659311              -0.050031   \n",
      "\n",
      "   ann_log_std_macd_net  sharpe_ratio_macd_net  \n",
      "0              0.121905               -0.41041  \n"
     ]
    },
    {
     "data": {
      "text/plain": [
       "(0.6981551917210487,\n",
       " -0.04315549854449496,\n",
       " 0.18588438049143968,\n",
       " -0.2321631243593506,\n",
       " 0.7821938241118785,\n",
       " -0.029504192156339773,\n",
       " 0.12128561063796282,\n",
       " -0.24326209845626037,\n",
       " 0.6593107704369188,\n",
       " -0.0500310960979217,\n",
       " 0.12190511456024923,\n",
       " -0.41041014791216823)"
      ]
     },
     "execution_count": 26,
     "metadata": {},
     "output_type": "execute_result"
    }
   ],
   "source": [
    "macd_mm_30m.execute_backtest(start='2020-02-15-00:00', ema_slow=32, ema_fast=10, ema_signal=18)"
   ]
  },
  {
   "cell_type": "markdown",
   "id": "756764b1",
   "metadata": {},
   "source": [
    "### 10) Try the calculated average for the emas in the collect_opt file"
   ]
  },
  {
   "cell_type": "markdown",
   "id": "d34acddd",
   "metadata": {},
   "source": [
    "__meanbest_1h_par = 30,11,16__\n"
   ]
  },
  {
   "cell_type": "code",
   "execution_count": 27,
   "id": "3cad8b8d",
   "metadata": {},
   "outputs": [
    {
     "name": "stdout",
     "output_type": "stream",
     "text": [
      "class version 1.1 is being used\n"
     ]
    }
   ],
   "source": [
    "macd_opt_meanbest_1h_par = Macd_long_backtester('BTCUSDT')"
   ]
  },
  {
   "cell_type": "code",
   "execution_count": 28,
   "id": "267151a9",
   "metadata": {},
   "outputs": [
    {
     "name": "stdout",
     "output_type": "stream",
     "text": [
      "2371\n"
     ]
    }
   ],
   "source": [
    "macd_opt_meanbest_1h_par.prepare_data(start='2018-12-16-00:00', end='2019-03-25-00:00', interval='1h')"
   ]
  },
  {
   "cell_type": "code",
   "execution_count": 29,
   "id": "3d0bea2a",
   "metadata": {},
   "outputs": [
    {
     "name": "stdout",
     "output_type": "stream",
     "text": [
      "2419\n",
      "   multiple_hold  ann_log_mean_hold  ann_log_std_hold  sharpe_ratio_hold  \\\n",
      "0       1.242346           0.033547          0.111925           0.299732   \n",
      "\n",
      "   multiple_macd_strategy  ann_log_mean_macd  ann_log_std_macd  \\\n",
      "0                1.098768           0.014561          0.077648   \n",
      "\n",
      "   sharpe_ratio_macd  multiple_macd_strategy_net  ann_log_mean_macd_net  \\\n",
      "0           0.187529                    0.966374              -0.005288   \n",
      "\n",
      "   ann_log_std_macd_net  sharpe_ratio_macd_net  \n",
      "0              0.078302              -0.067531  \n"
     ]
    },
    {
     "data": {
      "text/plain": [
       "(1.2423459863098967,\n",
       " 0.03354746021528818,\n",
       " 0.11192497839908783,\n",
       " 0.29973166575622573,\n",
       " 1.0987675080406403,\n",
       " 0.014561212666399863,\n",
       " 0.07764780365608867,\n",
       " 0.18752897030923374,\n",
       " 0.9663742082426249,\n",
       " -0.0052878065805434665,\n",
       " 0.07830191951975102,\n",
       " -0.06753099557424848)"
      ]
     },
     "execution_count": 29,
     "metadata": {},
     "output_type": "execute_result"
    }
   ],
   "source": [
    "macd_opt_meanbest_1h_par.execute_backtest(start='2018-12-16-00:00', ema_slow=30, ema_fast=11, ema_signal=16)"
   ]
  },
  {
   "cell_type": "markdown",
   "id": "761f6979",
   "metadata": {},
   "source": [
    "__meanbest_30m_par = =30,12,22__"
   ]
  },
  {
   "cell_type": "code",
   "execution_count": 30,
   "id": "288b3271",
   "metadata": {
    "scrolled": true
   },
   "outputs": [
    {
     "name": "stdout",
     "output_type": "stream",
     "text": [
      "class version 1.1 is being used\n"
     ]
    }
   ],
   "source": [
    "macd_opt_meanbest_30m_par = Macd_long_backtester('BTCUSDT')"
   ]
  },
  {
   "cell_type": "code",
   "execution_count": 31,
   "id": "15e5bfed",
   "metadata": {},
   "outputs": [
    {
     "name": "stdout",
     "output_type": "stream",
     "text": [
      "4741\n"
     ]
    }
   ],
   "source": [
    "macd_opt_meanbest_30m_par.prepare_data(start='2018-12-16-00:00', end='2019-03-25-00:00', interval='30m')"
   ]
  },
  {
   "cell_type": "code",
   "execution_count": 32,
   "id": "1dc7ef08",
   "metadata": {},
   "outputs": [
    {
     "name": "stdout",
     "output_type": "stream",
     "text": [
      "4795\n",
      "   multiple_hold  ann_log_mean_hold  ann_log_std_hold  sharpe_ratio_hold  \\\n",
      "0       1.239242            0.01658          0.077706           0.213374   \n",
      "\n",
      "   multiple_macd_strategy  ann_log_mean_macd  ann_log_std_macd  \\\n",
      "0                1.283656           0.019302          0.053577   \n",
      "\n",
      "   sharpe_ratio_macd  multiple_macd_strategy_net  ann_log_mean_macd_net  \\\n",
      "0           0.360272                    1.019472               0.001491   \n",
      "\n",
      "   ann_log_std_macd_net  sharpe_ratio_macd_net  \n",
      "0              0.054148                0.02753  \n"
     ]
    },
    {
     "data": {
      "text/plain": [
       "(1.2392423645228476,\n",
       " 0.016580383679261675,\n",
       " 0.07770574188008575,\n",
       " 0.21337398341615807,\n",
       " 1.2836560450130536,\n",
       " 0.01930219958878632,\n",
       " 0.053576787503228376,\n",
       " 0.36027168645793156,\n",
       " 1.0194718302410053,\n",
       " 0.001490662449972867,\n",
       " 0.05414774457239093,\n",
       " 0.027529539073967855)"
      ]
     },
     "execution_count": 32,
     "metadata": {},
     "output_type": "execute_result"
    }
   ],
   "source": [
    "macd_opt_meanbest_30m_par.execute_backtest(start='2018-12-16-00:00', ema_slow=30, ema_fast=12, ema_signal=22)"
   ]
  },
  {
   "cell_type": "markdown",
   "id": "76711c56",
   "metadata": {},
   "source": [
    "### CONCLUSIONS: without taking into account fees both options with average parameters give more than 1 mutiple but in this case 30m outperform 1h even in results including fees"
   ]
  },
  {
   "cell_type": "code",
   "execution_count": null,
   "id": "5892fefa",
   "metadata": {},
   "outputs": [],
   "source": []
  }
 ],
 "metadata": {
  "kernelspec": {
   "display_name": "Python 3 (ipykernel)",
   "language": "python",
   "name": "python3"
  },
  "language_info": {
   "codemirror_mode": {
    "name": "ipython",
    "version": 3
   },
   "file_extension": ".py",
   "mimetype": "text/x-python",
   "name": "python",
   "nbconvert_exporter": "python",
   "pygments_lexer": "ipython3",
   "version": "3.9.12"
  }
 },
 "nbformat": 4,
 "nbformat_minor": 5
}
