{
 "cells": [
  {
   "cell_type": "code",
   "execution_count": 5,
   "id": "44e0861b",
   "metadata": {},
   "outputs": [],
   "source": [
    "import sys\n",
    "sys.path.append('/Users/jp/Desktop/Investment/trading_BOT/macd_long_backtester')\n",
    "from macd_long_backtester import Macd_long_backtester\n",
    "import pandas as pd\n",
    "import matplotlib.pyplot as plt"
   ]
  },
  {
   "cell_type": "code",
   "execution_count": 6,
   "id": "837daa97",
   "metadata": {},
   "outputs": [],
   "source": [
    "pd.set_option('display.max_rows', None)"
   ]
  },
  {
   "cell_type": "markdown",
   "id": "ded7ce4a",
   "metadata": {},
   "source": [
    "### 1) Launch optimization"
   ]
  },
  {
   "cell_type": "code",
   "execution_count": 7,
   "id": "4eb3aa55",
   "metadata": {},
   "outputs": [
    {
     "name": "stdout",
     "output_type": "stream",
     "text": [
      "class version 1.1 is being used\n"
     ]
    }
   ],
   "source": [
    "macd_opt_f = Macd_long_backtester('BTCUSDT')"
   ]
  },
  {
   "cell_type": "code",
   "execution_count": 8,
   "id": "579d5242",
   "metadata": {
    "scrolled": true
   },
   "outputs": [],
   "source": [
    "# macd_opt_f.execute_opt(interval_opt=('15m', '30m', '1h') ,start_opt='2020-04-20-00:00', end_opt='2020-05-07-00:00', ema_fast_opt=(2,16,2), ema_slow_opt=(16,40,2), ema_sign_opt=(2, 40, 2), int_for_max='1h', trend_ref='F', type_trend='uptrend_f')"
   ]
  },
  {
   "cell_type": "code",
   "execution_count": 9,
   "id": "7554a178",
   "metadata": {},
   "outputs": [],
   "source": [
    "macd_opt_f.opt_results = pd.read_csv('uptrend_f.csv')"
   ]
  },
  {
   "cell_type": "markdown",
   "id": "bb57fed1",
   "metadata": {},
   "source": [
    "### 2) Extract combinations of max"
   ]
  },
  {
   "cell_type": "code",
   "execution_count": 10,
   "id": "e9527917",
   "metadata": {},
   "outputs": [
    {
     "data": {
      "text/html": [
       "<div>\n",
       "<style scoped>\n",
       "    .dataframe tbody tr th:only-of-type {\n",
       "        vertical-align: middle;\n",
       "    }\n",
       "\n",
       "    .dataframe tbody tr th {\n",
       "        vertical-align: top;\n",
       "    }\n",
       "\n",
       "    .dataframe thead th {\n",
       "        text-align: right;\n",
       "    }\n",
       "</style>\n",
       "<table border=\"1\" class=\"dataframe\">\n",
       "  <thead>\n",
       "    <tr style=\"text-align: right;\">\n",
       "      <th></th>\n",
       "      <th>interval_opt</th>\n",
       "      <th>macd_slow_opt</th>\n",
       "      <th>macd_fast_opt</th>\n",
       "      <th>macd_signal_opt</th>\n",
       "      <th>multiple_hold</th>\n",
       "      <th>ann_log_mean_hold</th>\n",
       "      <th>ann_log_std_hold</th>\n",
       "      <th>sharpe_ratio_hold</th>\n",
       "      <th>multiple_macd_strategy</th>\n",
       "      <th>ann_log_mean_macd</th>\n",
       "      <th>ann_log_std_macd</th>\n",
       "      <th>sharpe_ratio_macd</th>\n",
       "      <th>multiple_macd_strategy_net</th>\n",
       "      <th>ann_log_mean_macd_net</th>\n",
       "      <th>ann_log_std_macd_net</th>\n",
       "      <th>sharpe_ratio_macd_net</th>\n",
       "      <th>trend_ref</th>\n",
       "      <th>start_opt</th>\n",
       "      <th>end_opt</th>\n",
       "    </tr>\n",
       "  </thead>\n",
       "  <tbody>\n",
       "    <tr>\n",
       "      <th>2928</th>\n",
       "      <td>30m</td>\n",
       "      <td>36</td>\n",
       "      <td>2</td>\n",
       "      <td>6</td>\n",
       "      <td>1.300416</td>\n",
       "      <td>0.120908</td>\n",
       "      <td>0.094988</td>\n",
       "      <td>1.272876</td>\n",
       "      <td>1.309593</td>\n",
       "      <td>0.124145</td>\n",
       "      <td>0.068434</td>\n",
       "      <td>1.814066</td>\n",
       "      <td>1.161633</td>\n",
       "      <td>0.068962</td>\n",
       "      <td>0.070254</td>\n",
       "      <td>0.981608</td>\n",
       "      <td>F</td>\n",
       "      <td>2020-04-20-00:00</td>\n",
       "      <td>2020-05-07-00:00</td>\n",
       "    </tr>\n",
       "    <tr>\n",
       "      <th>2964</th>\n",
       "      <td>30m</td>\n",
       "      <td>36</td>\n",
       "      <td>6</td>\n",
       "      <td>2</td>\n",
       "      <td>1.300416</td>\n",
       "      <td>0.120908</td>\n",
       "      <td>0.094988</td>\n",
       "      <td>1.272876</td>\n",
       "      <td>1.309593</td>\n",
       "      <td>0.124145</td>\n",
       "      <td>0.068434</td>\n",
       "      <td>1.814066</td>\n",
       "      <td>1.161633</td>\n",
       "      <td>0.068962</td>\n",
       "      <td>0.070254</td>\n",
       "      <td>0.981608</td>\n",
       "      <td>F</td>\n",
       "      <td>2020-04-20-00:00</td>\n",
       "      <td>2020-05-07-00:00</td>\n",
       "    </tr>\n",
       "  </tbody>\n",
       "</table>\n",
       "</div>"
      ],
      "text/plain": [
       "     interval_opt  macd_slow_opt  macd_fast_opt  macd_signal_opt  \\\n",
       "2928          30m             36              2                6   \n",
       "2964          30m             36              6                2   \n",
       "\n",
       "      multiple_hold  ann_log_mean_hold  ann_log_std_hold  sharpe_ratio_hold  \\\n",
       "2928       1.300416           0.120908          0.094988           1.272876   \n",
       "2964       1.300416           0.120908          0.094988           1.272876   \n",
       "\n",
       "      multiple_macd_strategy  ann_log_mean_macd  ann_log_std_macd  \\\n",
       "2928                1.309593           0.124145          0.068434   \n",
       "2964                1.309593           0.124145          0.068434   \n",
       "\n",
       "      sharpe_ratio_macd  multiple_macd_strategy_net  ann_log_mean_macd_net  \\\n",
       "2928           1.814066                    1.161633               0.068962   \n",
       "2964           1.814066                    1.161633               0.068962   \n",
       "\n",
       "      ann_log_std_macd_net  sharpe_ratio_macd_net trend_ref         start_opt  \\\n",
       "2928              0.070254               0.981608         F  2020-04-20-00:00   \n",
       "2964              0.070254               0.981608         F  2020-04-20-00:00   \n",
       "\n",
       "               end_opt  \n",
       "2928  2020-05-07-00:00  \n",
       "2964  2020-05-07-00:00  "
      ]
     },
     "execution_count": 10,
     "metadata": {},
     "output_type": "execute_result"
    }
   ],
   "source": [
    "macd_opt_f.opt_results[macd_opt_f.opt_results.multiple_macd_strategy == macd_opt_f.opt_results.multiple_macd_strategy.max()]"
   ]
  },
  {
   "cell_type": "markdown",
   "id": "08ef15b0",
   "metadata": {},
   "source": [
    "### 8) Further..."
   ]
  },
  {
   "cell_type": "markdown",
   "id": "fe8baff5",
   "metadata": {},
   "source": [
    "### 7) Plot the accumulated max_net vs hold"
   ]
  },
  {
   "cell_type": "markdown",
   "id": "094391fb",
   "metadata": {},
   "source": [
    "### 6) Create new class for interval of max_net and launch backtest for the combinations of max_net"
   ]
  },
  {
   "cell_type": "markdown",
   "id": "58706ec0",
   "metadata": {},
   "source": [
    "### 5) Extract combinations of max_net "
   ]
  },
  {
   "cell_type": "code",
   "execution_count": 11,
   "id": "836daae3",
   "metadata": {},
   "outputs": [
    {
     "data": {
      "text/html": [
       "<div>\n",
       "<style scoped>\n",
       "    .dataframe tbody tr th:only-of-type {\n",
       "        vertical-align: middle;\n",
       "    }\n",
       "\n",
       "    .dataframe tbody tr th {\n",
       "        vertical-align: top;\n",
       "    }\n",
       "\n",
       "    .dataframe thead th {\n",
       "        text-align: right;\n",
       "    }\n",
       "</style>\n",
       "<table border=\"1\" class=\"dataframe\">\n",
       "  <thead>\n",
       "    <tr style=\"text-align: right;\">\n",
       "      <th></th>\n",
       "      <th>interval_opt</th>\n",
       "      <th>macd_slow_opt</th>\n",
       "      <th>macd_fast_opt</th>\n",
       "      <th>macd_signal_opt</th>\n",
       "      <th>multiple_hold</th>\n",
       "      <th>ann_log_mean_hold</th>\n",
       "      <th>ann_log_std_hold</th>\n",
       "      <th>sharpe_ratio_hold</th>\n",
       "      <th>multiple_macd_strategy</th>\n",
       "      <th>ann_log_mean_macd</th>\n",
       "      <th>ann_log_std_macd</th>\n",
       "      <th>sharpe_ratio_macd</th>\n",
       "      <th>multiple_macd_strategy_net</th>\n",
       "      <th>ann_log_mean_macd_net</th>\n",
       "      <th>ann_log_std_macd_net</th>\n",
       "      <th>sharpe_ratio_macd_net</th>\n",
       "      <th>trend_ref</th>\n",
       "      <th>start_opt</th>\n",
       "      <th>end_opt</th>\n",
       "    </tr>\n",
       "  </thead>\n",
       "  <tbody>\n",
       "    <tr>\n",
       "      <th>4293</th>\n",
       "      <td>1h</td>\n",
       "      <td>32</td>\n",
       "      <td>6</td>\n",
       "      <td>10</td>\n",
       "      <td>1.294956</td>\n",
       "      <td>0.237643</td>\n",
       "      <td>0.141211</td>\n",
       "      <td>1.682892</td>\n",
       "      <td>1.298706</td>\n",
       "      <td>0.240301</td>\n",
       "      <td>0.102588</td>\n",
       "      <td>2.342385</td>\n",
       "      <td>1.264921</td>\n",
       "      <td>0.216067</td>\n",
       "      <td>0.103362</td>\n",
       "      <td>2.090397</td>\n",
       "      <td>F</td>\n",
       "      <td>2020-04-20-00:00</td>\n",
       "      <td>2020-05-07-00:00</td>\n",
       "    </tr>\n",
       "    <tr>\n",
       "      <th>4329</th>\n",
       "      <td>1h</td>\n",
       "      <td>32</td>\n",
       "      <td>10</td>\n",
       "      <td>6</td>\n",
       "      <td>1.294956</td>\n",
       "      <td>0.237643</td>\n",
       "      <td>0.141211</td>\n",
       "      <td>1.682892</td>\n",
       "      <td>1.298706</td>\n",
       "      <td>0.240301</td>\n",
       "      <td>0.102588</td>\n",
       "      <td>2.342385</td>\n",
       "      <td>1.264921</td>\n",
       "      <td>0.216067</td>\n",
       "      <td>0.103362</td>\n",
       "      <td>2.090397</td>\n",
       "      <td>F</td>\n",
       "      <td>2020-04-20-00:00</td>\n",
       "      <td>2020-05-07-00:00</td>\n",
       "    </tr>\n",
       "  </tbody>\n",
       "</table>\n",
       "</div>"
      ],
      "text/plain": [
       "     interval_opt  macd_slow_opt  macd_fast_opt  macd_signal_opt  \\\n",
       "4293           1h             32              6               10   \n",
       "4329           1h             32             10                6   \n",
       "\n",
       "      multiple_hold  ann_log_mean_hold  ann_log_std_hold  sharpe_ratio_hold  \\\n",
       "4293       1.294956           0.237643          0.141211           1.682892   \n",
       "4329       1.294956           0.237643          0.141211           1.682892   \n",
       "\n",
       "      multiple_macd_strategy  ann_log_mean_macd  ann_log_std_macd  \\\n",
       "4293                1.298706           0.240301          0.102588   \n",
       "4329                1.298706           0.240301          0.102588   \n",
       "\n",
       "      sharpe_ratio_macd  multiple_macd_strategy_net  ann_log_mean_macd_net  \\\n",
       "4293           2.342385                    1.264921               0.216067   \n",
       "4329           2.342385                    1.264921               0.216067   \n",
       "\n",
       "      ann_log_std_macd_net  sharpe_ratio_macd_net trend_ref         start_opt  \\\n",
       "4293              0.103362               2.090397         F  2020-04-20-00:00   \n",
       "4329              0.103362               2.090397         F  2020-04-20-00:00   \n",
       "\n",
       "               end_opt  \n",
       "4293  2020-05-07-00:00  \n",
       "4329  2020-05-07-00:00  "
      ]
     },
     "execution_count": 11,
     "metadata": {},
     "output_type": "execute_result"
    }
   ],
   "source": [
    "macd_opt_f.opt_results[macd_opt_f.opt_results.multiple_macd_strategy_net == macd_opt_f.opt_results.multiple_macd_strategy_net.max()]"
   ]
  },
  {
   "cell_type": "markdown",
   "id": "1d685b63",
   "metadata": {},
   "source": [
    "### 4) Plot the accumulated max vs hold"
   ]
  },
  {
   "cell_type": "markdown",
   "id": "80ce79ba",
   "metadata": {},
   "source": [
    "### 3) Create new class for interval of max and launch backtest for the combinations of max"
   ]
  },
  {
   "cell_type": "code",
   "execution_count": null,
   "id": "10ade631",
   "metadata": {},
   "outputs": [],
   "source": []
  }
 ],
 "metadata": {
  "kernelspec": {
   "display_name": "Python 3 (ipykernel)",
   "language": "python",
   "name": "python3"
  },
  "language_info": {
   "codemirror_mode": {
    "name": "ipython",
    "version": 3
   },
   "file_extension": ".py",
   "mimetype": "text/x-python",
   "name": "python",
   "nbconvert_exporter": "python",
   "pygments_lexer": "ipython3",
   "version": "3.9.12"
  }
 },
 "nbformat": 4,
 "nbformat_minor": 5
}
