{
 "cells": [
  {
   "cell_type": "code",
   "execution_count": 3,
   "id": "b7e980b6",
   "metadata": {},
   "outputs": [],
   "source": [
    "import sys\n",
    "sys.path.append('/Users/jp/Desktop/Investment/trading_BOT/macd_long_backtester')\n",
    "from macd_long_backtester import Macd_long_backtester\n",
    "import pandas as pd\n",
    "import matplotlib.pyplot as plt"
   ]
  },
  {
   "cell_type": "code",
   "execution_count": 7,
   "id": "e84f4eab",
   "metadata": {},
   "outputs": [],
   "source": [
    "pd.set_option('display.max_rows', None)"
   ]
  },
  {
   "cell_type": "markdown",
   "id": "ded7ce4a",
   "metadata": {},
   "source": [
    "### 1) Launch optimization"
   ]
  },
  {
   "cell_type": "code",
   "execution_count": 8,
   "id": "fd729249",
   "metadata": {},
   "outputs": [
    {
     "name": "stdout",
     "output_type": "stream",
     "text": [
      "class version 1.1 is being used\n"
     ]
    }
   ],
   "source": [
    "macd_opt_f = Macd_long_backtester('BTCUSDT')"
   ]
  },
  {
   "cell_type": "code",
   "execution_count": 9,
   "id": "5bb26835",
   "metadata": {},
   "outputs": [],
   "source": [
    "df = pd.read_csv('downtrend_f.csv')\n",
    "macd_opt_f.opt_results = df"
   ]
  },
  {
   "cell_type": "code",
   "execution_count": 10,
   "id": "e5982839",
   "metadata": {
    "scrolled": true
   },
   "outputs": [],
   "source": [
    "# macd_opt_f.execute_opt(interval_opt=('15m', '30m', '1h') ,start_opt='2018-11-07-00:00', end_opt='2018-12-15-00:00', ema_fast_opt=(2,16,2), ema_slow_opt=(16,40,2), ema_sign_opt=(2, 40, 2), int_for_max='1h', trend_ref='F', type_trend='downtrend_f')"
   ]
  },
  {
   "cell_type": "markdown",
   "id": "bb57fed1",
   "metadata": {},
   "source": [
    "### 2) Extract combinations of max"
   ]
  },
  {
   "cell_type": "code",
   "execution_count": 11,
   "id": "24544990",
   "metadata": {},
   "outputs": [
    {
     "data": {
      "text/html": [
       "<div>\n",
       "<style scoped>\n",
       "    .dataframe tbody tr th:only-of-type {\n",
       "        vertical-align: middle;\n",
       "    }\n",
       "\n",
       "    .dataframe tbody tr th {\n",
       "        vertical-align: top;\n",
       "    }\n",
       "\n",
       "    .dataframe thead th {\n",
       "        text-align: right;\n",
       "    }\n",
       "</style>\n",
       "<table border=\"1\" class=\"dataframe\">\n",
       "  <thead>\n",
       "    <tr style=\"text-align: right;\">\n",
       "      <th></th>\n",
       "      <th>interval_opt</th>\n",
       "      <th>macd_slow_opt</th>\n",
       "      <th>macd_fast_opt</th>\n",
       "      <th>macd_signal_opt</th>\n",
       "      <th>multiple_hold</th>\n",
       "      <th>ann_log_mean_hold</th>\n",
       "      <th>ann_log_std_hold</th>\n",
       "      <th>sharpe_ratio_hold</th>\n",
       "      <th>multiple_macd_strategy</th>\n",
       "      <th>ann_log_mean_macd</th>\n",
       "      <th>ann_log_std_macd</th>\n",
       "      <th>sharpe_ratio_macd</th>\n",
       "      <th>multiple_macd_strategy_net</th>\n",
       "      <th>ann_log_mean_macd_net</th>\n",
       "      <th>ann_log_std_macd_net</th>\n",
       "      <th>sharpe_ratio_macd_net</th>\n",
       "      <th>trend_ref</th>\n",
       "      <th>start_opt</th>\n",
       "      <th>end_opt</th>\n",
       "    </tr>\n",
       "  </thead>\n",
       "  <tbody>\n",
       "    <tr>\n",
       "      <th>4902</th>\n",
       "      <td>1h</td>\n",
       "      <td>28</td>\n",
       "      <td>14</td>\n",
       "      <td>28</td>\n",
       "      <td>0.496724</td>\n",
       "      <td>-0.285042</td>\n",
       "      <td>0.200333</td>\n",
       "      <td>-1.422842</td>\n",
       "      <td>0.898919</td>\n",
       "      <td>-0.04341</td>\n",
       "      <td>0.125823</td>\n",
       "      <td>-0.345009</td>\n",
       "      <td>0.87479</td>\n",
       "      <td>-0.054494</td>\n",
       "      <td>0.126051</td>\n",
       "      <td>-0.432317</td>\n",
       "      <td>F</td>\n",
       "      <td>2018-11-07-00:00</td>\n",
       "      <td>2018-12-15-00:00</td>\n",
       "    </tr>\n",
       "  </tbody>\n",
       "</table>\n",
       "</div>"
      ],
      "text/plain": [
       "     interval_opt  macd_slow_opt  macd_fast_opt  macd_signal_opt  \\\n",
       "4902           1h             28             14               28   \n",
       "\n",
       "      multiple_hold  ann_log_mean_hold  ann_log_std_hold  sharpe_ratio_hold  \\\n",
       "4902       0.496724          -0.285042          0.200333          -1.422842   \n",
       "\n",
       "      multiple_macd_strategy  ann_log_mean_macd  ann_log_std_macd  \\\n",
       "4902                0.898919           -0.04341          0.125823   \n",
       "\n",
       "      sharpe_ratio_macd  multiple_macd_strategy_net  ann_log_mean_macd_net  \\\n",
       "4902          -0.345009                     0.87479              -0.054494   \n",
       "\n",
       "      ann_log_std_macd_net  sharpe_ratio_macd_net trend_ref         start_opt  \\\n",
       "4902              0.126051              -0.432317         F  2018-11-07-00:00   \n",
       "\n",
       "               end_opt  \n",
       "4902  2018-12-15-00:00  "
      ]
     },
     "execution_count": 11,
     "metadata": {},
     "output_type": "execute_result"
    }
   ],
   "source": [
    "macd_opt_f.opt_results[macd_opt_f.opt_results.multiple_macd_strategy == macd_opt_f.opt_results.multiple_macd_strategy.max()]"
   ]
  },
  {
   "cell_type": "markdown",
   "id": "80ce79ba",
   "metadata": {},
   "source": [
    "### 3) Create new class for interval of max and launch backtest for the combinations of max"
   ]
  },
  {
   "cell_type": "code",
   "execution_count": 12,
   "id": "1ce9d3b2",
   "metadata": {},
   "outputs": [
    {
     "name": "stdout",
     "output_type": "stream",
     "text": [
      "class version 1.1 is being used\n"
     ]
    }
   ],
   "source": [
    "macd_opt_f_1h = Macd_long_backtester('BTCUSDT')"
   ]
  },
  {
   "cell_type": "code",
   "execution_count": 14,
   "id": "f545364f",
   "metadata": {
    "scrolled": true
   },
   "outputs": [
    {
     "name": "stdout",
     "output_type": "stream",
     "text": [
      "906\n"
     ]
    }
   ],
   "source": [
    "macd_opt_f_1h.prepare_data(start='2018-11-07-00:00', end='2018-12-15-00:00', interval='1h')"
   ]
  },
  {
   "cell_type": "code",
   "execution_count": 16,
   "id": "759764f0",
   "metadata": {},
   "outputs": [
    {
     "name": "stdout",
     "output_type": "stream",
     "text": [
      "964\n",
      "   multiple_hold  ann_log_mean_hold  ann_log_std_hold  sharpe_ratio_hold  \\\n",
      "0       0.496724          -0.285042          0.200333          -1.422842   \n",
      "\n",
      "   multiple_macd_strategy  ann_log_mean_macd  ann_log_std_macd  \\\n",
      "0                0.898919           -0.04341          0.125823   \n",
      "\n",
      "   sharpe_ratio_macd  multiple_macd_strategy_net  ann_log_mean_macd_net  \\\n",
      "0          -0.345009                     0.87479              -0.054494   \n",
      "\n",
      "   ann_log_std_macd_net  sharpe_ratio_macd_net  \n",
      "0              0.126051              -0.432317  \n"
     ]
    },
    {
     "data": {
      "text/plain": [
       "(0.49672434860243775,\n",
       " -0.2850422027063805,\n",
       " 0.20033304184741135,\n",
       " -1.4228416844161431,\n",
       " 0.898918771669859,\n",
       " -0.043409988817516766,\n",
       " 0.12582274988606781,\n",
       " -0.34500906121368674,\n",
       " 0.8747896975236016,\n",
       " -0.054494079272113055,\n",
       " 0.12605119631095185,\n",
       " -0.4323170336097666)"
      ]
     },
     "execution_count": 16,
     "metadata": {},
     "output_type": "execute_result"
    }
   ],
   "source": [
    "macd_opt_f_1h.execute_backtest(start='2018-11-07-00:00', ema_slow=28, ema_fast=14, ema_signal=28)"
   ]
  },
  {
   "cell_type": "markdown",
   "id": "1d685b63",
   "metadata": {},
   "source": [
    "### 4) Plot the accumulated max vs hold"
   ]
  },
  {
   "cell_type": "code",
   "execution_count": 17,
   "id": "c9c1736a",
   "metadata": {},
   "outputs": [
    {
     "data": {
      "text/plain": [
       "<matplotlib.legend.Legend at 0x7f7e09dde850>"
      ]
     },
     "execution_count": 17,
     "metadata": {},
     "output_type": "execute_result"
    },
    {
     "data": {
      "image/png": "[encoded data removed]",
      "text/plain": [
       "<Figure size 1080x720 with 1 Axes>"
      ]
     },
     "metadata": {
      "needs_background": "light"
     },
     "output_type": "display_data"
    }
   ],
   "source": [
    "macd_opt_f_1h.data_init.multiple_hold_acum.plot(figsize=(15,10))\n",
    "macd_opt_f_1h.data_init.macd_log_returns_acum.plot(figsize=(15,10))\n",
    "plt.legend()"
   ]
  },
  {
   "cell_type": "markdown",
   "id": "58706ec0",
   "metadata": {},
   "source": [
    "### 5) Extract combinations of max_net "
   ]
  },
  {
   "cell_type": "code",
   "execution_count": 18,
   "id": "7a833448",
   "metadata": {},
   "outputs": [
    {
     "data": {
      "text/html": [
       "<div>\n",
       "<style scoped>\n",
       "    .dataframe tbody tr th:only-of-type {\n",
       "        vertical-align: middle;\n",
       "    }\n",
       "\n",
       "    .dataframe tbody tr th {\n",
       "        vertical-align: top;\n",
       "    }\n",
       "\n",
       "    .dataframe thead th {\n",
       "        text-align: right;\n",
       "    }\n",
       "</style>\n",
       "<table border=\"1\" class=\"dataframe\">\n",
       "  <thead>\n",
       "    <tr style=\"text-align: right;\">\n",
       "      <th></th>\n",
       "      <th>interval_opt</th>\n",
       "      <th>macd_slow_opt</th>\n",
       "      <th>macd_fast_opt</th>\n",
       "      <th>macd_signal_opt</th>\n",
       "      <th>multiple_hold</th>\n",
       "      <th>ann_log_mean_hold</th>\n",
       "      <th>ann_log_std_hold</th>\n",
       "      <th>sharpe_ratio_hold</th>\n",
       "      <th>multiple_macd_strategy</th>\n",
       "      <th>ann_log_mean_macd</th>\n",
       "      <th>ann_log_std_macd</th>\n",
       "      <th>sharpe_ratio_macd</th>\n",
       "      <th>multiple_macd_strategy_net</th>\n",
       "      <th>ann_log_mean_macd_net</th>\n",
       "      <th>ann_log_std_macd_net</th>\n",
       "      <th>sharpe_ratio_macd_net</th>\n",
       "      <th>trend_ref</th>\n",
       "      <th>start_opt</th>\n",
       "      <th>end_opt</th>\n",
       "    </tr>\n",
       "  </thead>\n",
       "  <tbody>\n",
       "    <tr>\n",
       "      <th>4770</th>\n",
       "      <td>1h</td>\n",
       "      <td>26</td>\n",
       "      <td>14</td>\n",
       "      <td>30</td>\n",
       "      <td>0.496724</td>\n",
       "      <td>-0.285042</td>\n",
       "      <td>0.200333</td>\n",
       "      <td>-1.422842</td>\n",
       "      <td>0.897445</td>\n",
       "      <td>-0.044078</td>\n",
       "      <td>0.125834</td>\n",
       "      <td>-0.35029</td>\n",
       "      <td>0.874842</td>\n",
       "      <td>-0.05447</td>\n",
       "      <td>0.126057</td>\n",
       "      <td>-0.432104</td>\n",
       "      <td>F</td>\n",
       "      <td>2018-11-07-00:00</td>\n",
       "      <td>2018-12-15-00:00</td>\n",
       "    </tr>\n",
       "  </tbody>\n",
       "</table>\n",
       "</div>"
      ],
      "text/plain": [
       "     interval_opt  macd_slow_opt  macd_fast_opt  macd_signal_opt  \\\n",
       "4770           1h             26             14               30   \n",
       "\n",
       "      multiple_hold  ann_log_mean_hold  ann_log_std_hold  sharpe_ratio_hold  \\\n",
       "4770       0.496724          -0.285042          0.200333          -1.422842   \n",
       "\n",
       "      multiple_macd_strategy  ann_log_mean_macd  ann_log_std_macd  \\\n",
       "4770                0.897445          -0.044078          0.125834   \n",
       "\n",
       "      sharpe_ratio_macd  multiple_macd_strategy_net  ann_log_mean_macd_net  \\\n",
       "4770           -0.35029                    0.874842               -0.05447   \n",
       "\n",
       "      ann_log_std_macd_net  sharpe_ratio_macd_net trend_ref         start_opt  \\\n",
       "4770              0.126057              -0.432104         F  2018-11-07-00:00   \n",
       "\n",
       "               end_opt  \n",
       "4770  2018-12-15-00:00  "
      ]
     },
     "execution_count": 18,
     "metadata": {},
     "output_type": "execute_result"
    }
   ],
   "source": [
    "macd_opt_f.opt_results[macd_opt_f.opt_results.multiple_macd_strategy_net == macd_opt_f.opt_results.multiple_macd_strategy_net.max()]"
   ]
  },
  {
   "cell_type": "markdown",
   "id": "094391fb",
   "metadata": {},
   "source": [
    "### 6) Create new class for interval of max_net and launch backtest for the combinations of max_net"
   ]
  },
  {
   "cell_type": "code",
   "execution_count": 19,
   "id": "4422191f",
   "metadata": {},
   "outputs": [
    {
     "name": "stdout",
     "output_type": "stream",
     "text": [
      "class version 1.1 is being used\n"
     ]
    }
   ],
   "source": [
    "macd_opt_f_1h_v2 = Macd_long_backtester('BTCUSDT')"
   ]
  },
  {
   "cell_type": "code",
   "execution_count": 20,
   "id": "15139a0e",
   "metadata": {},
   "outputs": [
    {
     "name": "stdout",
     "output_type": "stream",
     "text": [
      "906\n"
     ]
    }
   ],
   "source": [
    "macd_opt_f_1h_v2.prepare_data(start='2018-11-07-00:00', end='2018-12-15-00:00', interval='1h')"
   ]
  },
  {
   "cell_type": "code",
   "execution_count": 21,
   "id": "4bd89d82",
   "metadata": {},
   "outputs": [
    {
     "name": "stdout",
     "output_type": "stream",
     "text": [
      "964\n",
      "   multiple_hold  ann_log_mean_hold  ann_log_std_hold  sharpe_ratio_hold  \\\n",
      "0       0.496724          -0.285042          0.200333          -1.422842   \n",
      "\n",
      "   multiple_macd_strategy  ann_log_mean_macd  ann_log_std_macd  \\\n",
      "0                0.897445          -0.044078          0.125834   \n",
      "\n",
      "   sharpe_ratio_macd  multiple_macd_strategy_net  ann_log_mean_macd_net  \\\n",
      "0           -0.35029                    0.874842               -0.05447   \n",
      "\n",
      "   ann_log_std_macd_net  sharpe_ratio_macd_net  \n",
      "0              0.126057              -0.432104  \n"
     ]
    },
    {
     "data": {
      "text/plain": [
       "(0.49672434860243775,\n",
       " -0.2850422027063805,\n",
       " 0.20033304184741135,\n",
       " -1.4228416844161431,\n",
       " 0.897445433380686,\n",
       " -0.044078214296112674,\n",
       " 0.12583358200634912,\n",
       " -0.35028975249141875,\n",
       " 0.87484237591734,\n",
       " -0.0544695490972967,\n",
       " 0.12605665680193875,\n",
       " -0.43210371018231664)"
      ]
     },
     "execution_count": 21,
     "metadata": {},
     "output_type": "execute_result"
    }
   ],
   "source": [
    "macd_opt_f_1h_v2.execute_backtest(start='2018-11-07-00:00', ema_slow=26, ema_fast=14, ema_signal=30)"
   ]
  },
  {
   "cell_type": "markdown",
   "id": "fe8baff5",
   "metadata": {},
   "source": [
    "### 7) Plot the accumulated max_net vs hold"
   ]
  },
  {
   "cell_type": "code",
   "execution_count": 22,
   "id": "40eba6ac",
   "metadata": {},
   "outputs": [
    {
     "data": {
      "text/plain": [
       "<matplotlib.legend.Legend at 0x7f7e29c0bb20>"
      ]
     },
     "execution_count": 22,
     "metadata": {},
     "output_type": "execute_result"
    },
    {
     "data": {
      "image/png": "[encoded data removed]",
      "text/plain": [
       "<Figure size 1080x720 with 1 Axes>"
      ]
     },
     "metadata": {
      "needs_background": "light"
     },
     "output_type": "display_data"
    }
   ],
   "source": [
    "macd_opt_f_1h_v2.data_init.multiple_hold_acum.plot(figsize=(15,10))\n",
    "macd_opt_f_1h_v2.data_init.macd_log_returns_acum.plot(figsize=(15,10))\n",
    "plt.legend()"
   ]
  },
  {
   "cell_type": "markdown",
   "id": "756764b1",
   "metadata": {},
   "source": [
    "### 10) Try the calculated average for the emas in the collect_opt file"
   ]
  },
  {
   "cell_type": "markdown",
   "id": "d34acddd",
   "metadata": {},
   "source": [
    "__meanbest_1h_par = 26,14,26__\n"
   ]
  },
  {
   "cell_type": "code",
   "execution_count": 4,
   "id": "3cad8b8d",
   "metadata": {},
   "outputs": [
    {
     "name": "stdout",
     "output_type": "stream",
     "text": [
      "class version 1.1 is being used\n"
     ]
    }
   ],
   "source": [
    "macd_opt_meanbest_1h_par = Macd_long_backtester('BTCUSDT')"
   ]
  },
  {
   "cell_type": "code",
   "execution_count": 5,
   "id": "267151a9",
   "metadata": {},
   "outputs": [
    {
     "name": "stdout",
     "output_type": "stream",
     "text": [
      "906\n"
     ]
    }
   ],
   "source": [
    "macd_opt_meanbest_1h_par.prepare_data(start='2018-11-07-00:00', end='2018-12-15-00:00', interval='1h')"
   ]
  },
  {
   "cell_type": "code",
   "execution_count": 6,
   "id": "3d0bea2a",
   "metadata": {},
   "outputs": [
    {
     "name": "stdout",
     "output_type": "stream",
     "text": [
      "960\n",
      "   multiple_hold  ann_log_mean_hold  ann_log_std_hold  sharpe_ratio_hold  \\\n",
      "0       0.496724          -0.285042          0.200333          -1.422842   \n",
      "\n",
      "   multiple_macd_strategy  ann_log_mean_macd  ann_log_std_macd  \\\n",
      "0                0.806284          -0.087714          0.128592   \n",
      "\n",
      "   sharpe_ratio_macd  multiple_macd_strategy_net  ann_log_mean_macd_net  \\\n",
      "0          -0.682108                    0.783308              -0.099491   \n",
      "\n",
      "   ann_log_std_macd_net  sharpe_ratio_macd_net  \n",
      "0              0.128962              -0.771475  \n"
     ]
    },
    {
     "data": {
      "text/plain": [
       "(0.49672434860243775,\n",
       " -0.2850422027063805,\n",
       " 0.20033304184741135,\n",
       " -1.4228416844161431,\n",
       " 0.8062837719286602,\n",
       " -0.08771386862876887,\n",
       " 0.12859235912375283,\n",
       " -0.6821079357005658,\n",
       " 0.7833080313944346,\n",
       " -0.09949071473677733,\n",
       " 0.12896174732484958,\n",
       " -0.771474617866057)"
      ]
     },
     "execution_count": 6,
     "metadata": {},
     "output_type": "execute_result"
    }
   ],
   "source": [
    "macd_opt_meanbest_1h_par.execute_backtest(start='2018-11-07-00:00', ema_slow=26, ema_fast=14, ema_signal=26)"
   ]
  },
  {
   "cell_type": "markdown",
   "id": "aa46a8bc",
   "metadata": {},
   "source": [
    "### results with the opt parameters of 1h are better than buy and hold but lower than those coming from the own optimization of the interval"
   ]
  },
  {
   "cell_type": "markdown",
   "id": "337026b3",
   "metadata": {},
   "source": [
    "__meanbest_15m_par = 20,6,36__"
   ]
  },
  {
   "cell_type": "code",
   "execution_count": 7,
   "id": "f67578fd",
   "metadata": {},
   "outputs": [
    {
     "name": "stdout",
     "output_type": "stream",
     "text": [
      "class version 1.1 is being used\n"
     ]
    }
   ],
   "source": [
    "macd_opt_meanbest_15m_par = Macd_long_backtester('BTCUSDT')"
   ]
  },
  {
   "cell_type": "code",
   "execution_count": 8,
   "id": "78d2f2d8",
   "metadata": {},
   "outputs": [
    {
     "name": "stdout",
     "output_type": "stream",
     "text": [
      "3621\n"
     ]
    }
   ],
   "source": [
    "macd_opt_meanbest_15m_par.prepare_data(start='2018-11-07-00:00', end='2018-12-15-00:00', interval='15m')"
   ]
  },
  {
   "cell_type": "code",
   "execution_count": 9,
   "id": "11d1ee24",
   "metadata": {},
   "outputs": [
    {
     "name": "stdout",
     "output_type": "stream",
     "text": [
      "3679\n",
      "   multiple_hold  ann_log_mean_hold  ann_log_std_hold  sharpe_ratio_hold  \\\n",
      "0       0.501985          -0.070188          0.101641          -0.690546   \n",
      "\n",
      "   multiple_macd_strategy  ann_log_mean_macd  ann_log_std_macd  \\\n",
      "0                0.534074          -0.063877          0.065769   \n",
      "\n",
      "   sharpe_ratio_macd  multiple_macd_strategy_net  ann_log_mean_macd_net  \\\n",
      "0          -0.971237                    0.425242              -0.087084   \n",
      "\n",
      "   ann_log_std_macd_net  sharpe_ratio_macd_net  \n",
      "0              0.066733              -1.304976  \n"
     ]
    },
    {
     "data": {
      "text/plain": [
       "(0.5019854193135103,\n",
       " -0.07018756551063597,\n",
       " 0.10164073044389868,\n",
       " -0.690545662197661,\n",
       " 0.5340742793839718,\n",
       " -0.0638770724469289,\n",
       " 0.06576875316836762,\n",
       " -0.9712373941984876,\n",
       " 0.42524189701612175,\n",
       " -0.08708438683624004,\n",
       " 0.06673253924816279,\n",
       " -1.3049763701092425)"
      ]
     },
     "execution_count": 9,
     "metadata": {},
     "output_type": "execute_result"
    }
   ],
   "source": [
    "macd_opt_meanbest_15m_par.execute_backtest(start='2018-11-07-00:00', ema_slow=20, ema_fast=6, ema_signal=36)"
   ]
  },
  {
   "cell_type": "code",
   "execution_count": null,
   "id": "4c6dc15a",
   "metadata": {},
   "outputs": [],
   "source": []
  }
 ],
 "metadata": {
  "kernelspec": {
   "display_name": "Python 3 (ipykernel)",
   "language": "python",
   "name": "python3"
  },
  "language_info": {
   "codemirror_mode": {
    "name": "ipython",
    "version": 3
   },
   "file_extension": ".py",
   "mimetype": "text/x-python",
   "name": "python",
   "nbconvert_exporter": "python",
   "pygments_lexer": "ipython3",
   "version": "3.9.12"
  }
 },
 "nbformat": 4,
 "nbformat_minor": 5
}
