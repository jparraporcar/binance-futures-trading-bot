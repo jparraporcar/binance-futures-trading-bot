{
 "cells": [
  {
   "cell_type": "code",
   "execution_count": 5,
   "id": "b7e980b6",
   "metadata": {},
   "outputs": [],
   "source": [
    "import sys\n",
    "sys.path.append('C:\\\\Users\\\\jparra\\\\Desktop\\\\Invs\\\\trading_BOT\\\\macd_long_backtester')\n",
    "from macd_long_backtester import Macd_long_backtester\n",
    "import pandas as pd\n",
    "import matplotlib.pyplot as plt"
   ]
  },
  {
   "cell_type": "code",
   "execution_count": 6,
   "id": "e84f4eab",
   "metadata": {},
   "outputs": [],
   "source": [
    "pd.set_option('display.max_rows', None)"
   ]
  },
  {
   "cell_type": "markdown",
   "id": "ded7ce4a",
   "metadata": {},
   "source": [
    "### 1) Launch optimization"
   ]
  },
  {
   "cell_type": "code",
   "execution_count": 7,
   "id": "fd729249",
   "metadata": {},
   "outputs": [],
   "source": [
    "macd_opt_c = Macd_long_backtester('BTCUSDT')"
   ]
  },
  {
   "cell_type": "code",
   "execution_count": 8,
   "id": "a71c5418",
   "metadata": {},
   "outputs": [],
   "source": [
    "df = pd.read_csv('downtrend.csv')\n",
    "cond1 = df.trend_ref == 'C'\n",
    "macd_opt_c.opt_results = df[cond1]"
   ]
  },
  {
   "cell_type": "code",
   "execution_count": 9,
   "id": "e5982839",
   "metadata": {
    "scrolled": true
   },
   "outputs": [],
   "source": [
    "# macd_opt_c.execute_opt(interval_opt=('15m', '30m', '1h') ,start_opt='2018-05-06-00:00', end_opt='2018-06-28-00:00', ema_fast_opt=(2,16,2), ema_slow_opt=(16,40,2), ema_sign_opt=(2, 40, 2), int_for_max='1h', trend_ref='C', type_trend='downtrend')"
   ]
  },
  {
   "cell_type": "markdown",
   "id": "bb57fed1",
   "metadata": {},
   "source": [
    "### 2) Extract combinations of max"
   ]
  },
  {
   "cell_type": "code",
   "execution_count": 10,
   "id": "8e02900c",
   "metadata": {},
   "outputs": [
    {
     "data": {
      "text/html": [
       "<div>\n",
       "<style scoped>\n",
       "    .dataframe tbody tr th:only-of-type {\n",
       "        vertical-align: middle;\n",
       "    }\n",
       "\n",
       "    .dataframe tbody tr th {\n",
       "        vertical-align: top;\n",
       "    }\n",
       "\n",
       "    .dataframe thead th {\n",
       "        text-align: right;\n",
       "    }\n",
       "</style>\n",
       "<table border=\"1\" class=\"dataframe\">\n",
       "  <thead>\n",
       "    <tr style=\"text-align: right;\">\n",
       "      <th></th>\n",
       "      <th>interval_opt</th>\n",
       "      <th>macd_slow_opt</th>\n",
       "      <th>macd_fast_opt</th>\n",
       "      <th>macd_signal_opt</th>\n",
       "      <th>multiple_hold</th>\n",
       "      <th>ann_log_mean_hold</th>\n",
       "      <th>ann_log_std_hold</th>\n",
       "      <th>sharpe_ratio_hold</th>\n",
       "      <th>multiple_macd_strategy</th>\n",
       "      <th>ann_log_mean_macd</th>\n",
       "      <th>ann_log_std_macd</th>\n",
       "      <th>sharpe_ratio_macd</th>\n",
       "      <th>multiple_macd_strategy_net</th>\n",
       "      <th>ann_log_mean_macd_net</th>\n",
       "      <th>ann_log_std_macd_net</th>\n",
       "      <th>sharpe_ratio_macd_net</th>\n",
       "      <th>trend_ref</th>\n",
       "      <th>start_opt</th>\n",
       "      <th>end_opt</th>\n",
       "    </tr>\n",
       "  </thead>\n",
       "  <tbody>\n",
       "    <tr>\n",
       "      <th>2510</th>\n",
       "      <td>15m</td>\n",
       "      <td>18</td>\n",
       "      <td>2</td>\n",
       "      <td>2</td>\n",
       "      <td>0.617234</td>\n",
       "      <td>-0.035188</td>\n",
       "      <td>0.065108</td>\n",
       "      <td>-0.540453</td>\n",
       "      <td>1.030872</td>\n",
       "      <td>0.002217</td>\n",
       "      <td>0.043799</td>\n",
       "      <td>0.050625</td>\n",
       "      <td>0.280921</td>\n",
       "      <td>-0.092594</td>\n",
       "      <td>0.047019</td>\n",
       "      <td>-1.969276</td>\n",
       "      <td>C</td>\n",
       "      <td>2018-05-06-00:00</td>\n",
       "      <td>2018-06-28-00:00</td>\n",
       "    </tr>\n",
       "    <tr>\n",
       "      <th>25881</th>\n",
       "      <td>15m</td>\n",
       "      <td>16</td>\n",
       "      <td>14</td>\n",
       "      <td>38</td>\n",
       "      <td>0.617234</td>\n",
       "      <td>-0.035188</td>\n",
       "      <td>0.065108</td>\n",
       "      <td>-0.540453</td>\n",
       "      <td>1.030872</td>\n",
       "      <td>0.002217</td>\n",
       "      <td>0.043799</td>\n",
       "      <td>0.050625</td>\n",
       "      <td>0.280921</td>\n",
       "      <td>-0.092594</td>\n",
       "      <td>0.047019</td>\n",
       "      <td>-1.969276</td>\n",
       "      <td>C</td>\n",
       "      <td>2018-05-06-00:00</td>\n",
       "      <td>2018-06-28-00:00</td>\n",
       "    </tr>\n",
       "  </tbody>\n",
       "</table>\n",
       "</div>"
      ],
      "text/plain": [
       "      interval_opt  macd_slow_opt  macd_fast_opt  macd_signal_opt  \\\n",
       "2510           15m             18              2                2   \n",
       "25881          15m             16             14               38   \n",
       "\n",
       "       multiple_hold  ann_log_mean_hold  ann_log_std_hold  sharpe_ratio_hold  \\\n",
       "2510        0.617234          -0.035188          0.065108          -0.540453   \n",
       "25881       0.617234          -0.035188          0.065108          -0.540453   \n",
       "\n",
       "       multiple_macd_strategy  ann_log_mean_macd  ann_log_std_macd  \\\n",
       "2510                 1.030872           0.002217          0.043799   \n",
       "25881                1.030872           0.002217          0.043799   \n",
       "\n",
       "       sharpe_ratio_macd  multiple_macd_strategy_net  ann_log_mean_macd_net  \\\n",
       "2510            0.050625                    0.280921              -0.092594   \n",
       "25881           0.050625                    0.280921              -0.092594   \n",
       "\n",
       "       ann_log_std_macd_net  sharpe_ratio_macd_net trend_ref  \\\n",
       "2510               0.047019              -1.969276         C   \n",
       "25881              0.047019              -1.969276         C   \n",
       "\n",
       "              start_opt           end_opt  \n",
       "2510   2018-05-06-00:00  2018-06-28-00:00  \n",
       "25881  2018-05-06-00:00  2018-06-28-00:00  "
      ]
     },
     "execution_count": 10,
     "metadata": {},
     "output_type": "execute_result"
    }
   ],
   "source": [
    "macd_opt_c.opt_results[macd_opt_c.opt_results.multiple_macd_strategy == macd_opt_c.opt_results.multiple_macd_strategy.max()]"
   ]
  },
  {
   "cell_type": "markdown",
   "id": "80ce79ba",
   "metadata": {},
   "source": [
    "### 3) Create new class for interval of max and launch backtest for the combinations of max"
   ]
  },
  {
   "cell_type": "code",
   "execution_count": 12,
   "id": "9528def9",
   "metadata": {},
   "outputs": [],
   "source": [
    "macd_opt_c_15m = Macd_long_backtester('BTCUSDT')"
   ]
  },
  {
   "cell_type": "code",
   "execution_count": 14,
   "id": "8c4f9571",
   "metadata": {},
   "outputs": [
    {
     "name": "stdout",
     "output_type": "stream",
     "text": [
      "5042\n"
     ]
    }
   ],
   "source": [
    "macd_opt_c_15m.prepare_data(start='2018-05-06-00:00', end='2018-06-28-00:00', interval='15m')"
   ]
  },
  {
   "cell_type": "code",
   "execution_count": 16,
   "id": "88ec74ae",
   "metadata": {
    "scrolled": false
   },
   "outputs": [
    {
     "name": "stdout",
     "output_type": "stream",
     "text": [
      "5064\n",
      "   multiple_hold  ann_log_mean_hold  ann_log_std_hold  sharpe_ratio_hold  \\\n",
      "0       0.617234          -0.035188          0.065108          -0.540453   \n",
      "\n",
      "   multiple_macd_strategy  ann_log_mean_macd  ann_log_std_macd  \\\n",
      "0                1.030872           0.002217          0.043799   \n",
      "\n",
      "   sharpe_ratio_macd  multiple_macd_strategy_net  ann_log_mean_macd_net  \\\n",
      "0           0.050625                    0.280921              -0.092594   \n",
      "\n",
      "   ann_log_std_macd_net  sharpe_ratio_macd_net  \n",
      "0              0.047019              -1.969276  \n"
     ]
    },
    {
     "data": {
      "text/plain": [
       "(0.6172342276718868,\n",
       " -0.035187801565633066,\n",
       " 0.06510793074568187,\n",
       " -0.5404533850581147,\n",
       " 1.0308719257304984,\n",
       " 0.0022173457542515127,\n",
       " 0.04379934421838977,\n",
       " 0.050625090256957064,\n",
       " 0.28092068257115,\n",
       " -0.09259425874968137,\n",
       " 0.04701944730743323,\n",
       " -1.969275779535658)"
      ]
     },
     "execution_count": 16,
     "metadata": {},
     "output_type": "execute_result"
    }
   ],
   "source": [
    "macd_opt_c_15m.execute_backtest(start='2018-05-06-00:00', ema_slow=18, ema_fast=2, ema_signal=2)"
   ]
  },
  {
   "cell_type": "markdown",
   "id": "1d685b63",
   "metadata": {},
   "source": [
    "### 4) Plot the accumulated max vs hold"
   ]
  },
  {
   "cell_type": "markdown",
   "id": "58706ec0",
   "metadata": {},
   "source": [
    "### 5) Extract combinations of max_net "
   ]
  },
  {
   "cell_type": "code",
   "execution_count": 19,
   "id": "721e9972",
   "metadata": {},
   "outputs": [
    {
     "data": {
      "text/html": [
       "<div>\n",
       "<style scoped>\n",
       "    .dataframe tbody tr th:only-of-type {\n",
       "        vertical-align: middle;\n",
       "    }\n",
       "\n",
       "    .dataframe tbody tr th {\n",
       "        vertical-align: top;\n",
       "    }\n",
       "\n",
       "    .dataframe thead th {\n",
       "        text-align: right;\n",
       "    }\n",
       "</style>\n",
       "<table border=\"1\" class=\"dataframe\">\n",
       "  <thead>\n",
       "    <tr style=\"text-align: right;\">\n",
       "      <th></th>\n",
       "      <th>interval_opt</th>\n",
       "      <th>macd_slow_opt</th>\n",
       "      <th>macd_fast_opt</th>\n",
       "      <th>macd_signal_opt</th>\n",
       "      <th>multiple_hold</th>\n",
       "      <th>ann_log_mean_hold</th>\n",
       "      <th>ann_log_std_hold</th>\n",
       "      <th>sharpe_ratio_hold</th>\n",
       "      <th>multiple_macd_strategy</th>\n",
       "      <th>ann_log_mean_macd</th>\n",
       "      <th>ann_log_std_macd</th>\n",
       "      <th>sharpe_ratio_macd</th>\n",
       "      <th>multiple_macd_strategy_net</th>\n",
       "      <th>ann_log_mean_macd_net</th>\n",
       "      <th>ann_log_std_macd_net</th>\n",
       "      <th>sharpe_ratio_macd_net</th>\n",
       "      <th>trend_ref</th>\n",
       "      <th>start_opt</th>\n",
       "      <th>end_opt</th>\n",
       "    </tr>\n",
       "  </thead>\n",
       "  <tbody>\n",
       "    <tr>\n",
       "      <th>29195</th>\n",
       "      <td>1h</td>\n",
       "      <td>18</td>\n",
       "      <td>14</td>\n",
       "      <td>16</td>\n",
       "      <td>0.613704</td>\n",
       "      <td>-0.142339</td>\n",
       "      <td>0.133825</td>\n",
       "      <td>-1.063616</td>\n",
       "      <td>0.919114</td>\n",
       "      <td>-0.024589</td>\n",
       "      <td>0.080987</td>\n",
       "      <td>-0.303619</td>\n",
       "      <td>0.877867</td>\n",
       "      <td>-0.037975</td>\n",
       "      <td>0.081592</td>\n",
       "      <td>-0.46543</td>\n",
       "      <td>C</td>\n",
       "      <td>2018-05-06-00:00</td>\n",
       "      <td>2018-06-28-00:00</td>\n",
       "    </tr>\n",
       "    <tr>\n",
       "      <th>29855</th>\n",
       "      <td>1h</td>\n",
       "      <td>28</td>\n",
       "      <td>14</td>\n",
       "      <td>6</td>\n",
       "      <td>0.613704</td>\n",
       "      <td>-0.142339</td>\n",
       "      <td>0.133825</td>\n",
       "      <td>-1.063616</td>\n",
       "      <td>0.919114</td>\n",
       "      <td>-0.024589</td>\n",
       "      <td>0.080987</td>\n",
       "      <td>-0.303619</td>\n",
       "      <td>0.877867</td>\n",
       "      <td>-0.037975</td>\n",
       "      <td>0.081592</td>\n",
       "      <td>-0.46543</td>\n",
       "      <td>C</td>\n",
       "      <td>2018-05-06-00:00</td>\n",
       "      <td>2018-06-28-00:00</td>\n",
       "    </tr>\n",
       "  </tbody>\n",
       "</table>\n",
       "</div>"
      ],
      "text/plain": [
       "      interval_opt  macd_slow_opt  macd_fast_opt  macd_signal_opt  \\\n",
       "29195           1h             18             14               16   \n",
       "29855           1h             28             14                6   \n",
       "\n",
       "       multiple_hold  ann_log_mean_hold  ann_log_std_hold  sharpe_ratio_hold  \\\n",
       "29195       0.613704          -0.142339          0.133825          -1.063616   \n",
       "29855       0.613704          -0.142339          0.133825          -1.063616   \n",
       "\n",
       "       multiple_macd_strategy  ann_log_mean_macd  ann_log_std_macd  \\\n",
       "29195                0.919114          -0.024589          0.080987   \n",
       "29855                0.919114          -0.024589          0.080987   \n",
       "\n",
       "       sharpe_ratio_macd  multiple_macd_strategy_net  ann_log_mean_macd_net  \\\n",
       "29195          -0.303619                    0.877867              -0.037975   \n",
       "29855          -0.303619                    0.877867              -0.037975   \n",
       "\n",
       "       ann_log_std_macd_net  sharpe_ratio_macd_net trend_ref  \\\n",
       "29195              0.081592               -0.46543         C   \n",
       "29855              0.081592               -0.46543         C   \n",
       "\n",
       "              start_opt           end_opt  \n",
       "29195  2018-05-06-00:00  2018-06-28-00:00  \n",
       "29855  2018-05-06-00:00  2018-06-28-00:00  "
      ]
     },
     "execution_count": 19,
     "metadata": {},
     "output_type": "execute_result"
    }
   ],
   "source": [
    "macd_opt_c.opt_results[macd_opt_c.opt_results.multiple_macd_strategy_net == macd_opt_c.opt_results.multiple_macd_strategy_net.max()]"
   ]
  },
  {
   "cell_type": "markdown",
   "id": "094391fb",
   "metadata": {},
   "source": [
    "### 6) Create new class for interval of max_net and launch backtest for the combinations of max_net"
   ]
  },
  {
   "cell_type": "code",
   "execution_count": 20,
   "id": "97a371fd",
   "metadata": {},
   "outputs": [],
   "source": [
    "macd_opt_c_1h = Macd_long_backtester('BTCUSDT')"
   ]
  },
  {
   "cell_type": "code",
   "execution_count": 21,
   "id": "728936b1",
   "metadata": {},
   "outputs": [
    {
     "name": "stdout",
     "output_type": "stream",
     "text": [
      "1262\n"
     ]
    }
   ],
   "source": [
    "macd_opt_c_1h.prepare_data(start='2018-05-06-00:00', end='2018-06-28-00:00', interval='1h')"
   ]
  },
  {
   "cell_type": "code",
   "execution_count": 22,
   "id": "18ebf2e2",
   "metadata": {},
   "outputs": [
    {
     "name": "stdout",
     "output_type": "stream",
     "text": [
      "1298\n",
      "   multiple_hold  ann_log_mean_hold  ann_log_std_hold  sharpe_ratio_hold  \\\n",
      "0       0.613704          -0.142339          0.133825          -1.063616   \n",
      "\n",
      "   multiple_macd_strategy  ann_log_mean_macd  ann_log_std_macd  \\\n",
      "0                0.849763          -0.047461          0.085592   \n",
      "\n",
      "   sharpe_ratio_macd  multiple_macd_strategy_net  ann_log_mean_macd_net  \\\n",
      "0          -0.554506                    0.793207               -0.06754   \n",
      "\n",
      "   ann_log_std_macd_net  sharpe_ratio_macd_net  \n",
      "0              0.086428              -0.781455  \n"
     ]
    },
    {
     "data": {
      "text/plain": [
       "(0.6137043896794723,\n",
       " -0.14233889747043804,\n",
       " 0.13382540163491147,\n",
       " -1.063616441509006,\n",
       " 0.8497628370508044,\n",
       " -0.04746107351230187,\n",
       " 0.08559166666874388,\n",
       " -0.5545057756146436,\n",
       " 0.7932069016619101,\n",
       " -0.06753992107701787,\n",
       " 0.08642839140080046,\n",
       " -0.7814552600407688)"
      ]
     },
     "execution_count": 22,
     "metadata": {},
     "output_type": "execute_result"
    }
   ],
   "source": [
    "macd_opt_c_1h.execute_backtest(start='2018-05-06-00:00', ema_slow=18, ema_fast=14, ema_signal=16)"
   ]
  },
  {
   "cell_type": "markdown",
   "id": "fe8baff5",
   "metadata": {},
   "source": [
    "### 7) Plot the accumulated max_net vs hold"
   ]
  },
  {
   "cell_type": "markdown",
   "id": "08ef15b0",
   "metadata": {},
   "source": [
    "### 8) Further..."
   ]
  },
  {
   "cell_type": "code",
   "execution_count": null,
   "id": "510c9057",
   "metadata": {},
   "outputs": [],
   "source": []
  }
 ],
 "metadata": {
  "kernelspec": {
   "display_name": "Python 3 (ipykernel)",
   "language": "python",
   "name": "python3"
  },
  "language_info": {
   "codemirror_mode": {
    "name": "ipython",
    "version": 3
   },
   "file_extension": ".py",
   "mimetype": "text/x-python",
   "name": "python",
   "nbconvert_exporter": "python",
   "pygments_lexer": "ipython3",
   "version": "3.9.12"
  }
 },
 "nbformat": 4,
 "nbformat_minor": 5
}
