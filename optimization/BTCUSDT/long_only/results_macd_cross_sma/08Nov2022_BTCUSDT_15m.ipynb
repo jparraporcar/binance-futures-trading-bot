{
 "cells": [
  {
   "cell_type": "code",
   "execution_count": 3,
   "id": "60646008",
   "metadata": {},
   "outputs": [],
   "source": [
    "import sys\n",
    "from datetime import datetime, timedelta, timezone\n",
    "sys.path.append('/Users/jp/Desktop/Investment/trading_BOT/backtest/macd_long_backtester_sma')\n",
    "from macd_long_backtester_sma import Macd_long_backtester_sma\n",
    "import pandas as pd\n",
    "import matplotlib.pyplot as plt\n",
    "import numpy as np\n",
    "sys.path.append('/Users/jp/Desktop/Investment/utils')\n",
    "import utils as utils"
   ]
  },
  {
   "cell_type": "code",
   "execution_count": 4,
   "id": "d880f43a",
   "metadata": {},
   "outputs": [],
   "source": [
    "pd.set_option('display.max_rows', None)"
   ]
  },
  {
   "cell_type": "code",
   "execution_count": 5,
   "id": "8416abe9",
   "metadata": {},
   "outputs": [],
   "source": [
    "pd.set_option('display.max_columns', None)"
   ]
  },
  {
   "cell_type": "code",
   "execution_count": 6,
   "id": "cace08b7",
   "metadata": {},
   "outputs": [
    {
     "name": "stdout",
     "output_type": "stream",
     "text": [
      "class version 0.0 is being used\n"
     ]
    }
   ],
   "source": [
    "macd_sma_15m = Macd_long_backtester_sma('BTCUSDT','15m')"
   ]
  },
  {
   "cell_type": "code",
   "execution_count": 7,
   "id": "a49f123f",
   "metadata": {},
   "outputs": [],
   "source": [
    "macd_sma_15m.opt_results = pd.read_csv(\"macd_sma_2022-11-09-22:26_15m.csv\")"
   ]
  },
  {
   "cell_type": "code",
   "execution_count": 8,
   "id": "b98b5540",
   "metadata": {},
   "outputs": [
    {
     "data": {
      "text/plain": [
       "1260    1.129306\n",
       "Name: multiple_macd_strategy, dtype: float64"
      ]
     },
     "execution_count": 8,
     "metadata": {},
     "output_type": "execute_result"
    }
   ],
   "source": [
    "macd_sma_15m.opt_results.multiple_macd_strategy[macd_sma_15m.opt_results.multiple_macd_strategy == macd_sma_15m.opt_results.multiple_macd_strategy.max()]"
   ]
  },
  {
   "cell_type": "code",
   "execution_count": 9,
   "id": "7f9b3e1c",
   "metadata": {},
   "outputs": [
    {
     "data": {
      "text/plain": [
       "macd_slow_opt                               20\n",
       "macd_fast_opt                                6\n",
       "macd_signal_opt                              6\n",
       "sma_slow                                    60\n",
       "sma_fast                                    10\n",
       "multiple_hold                         0.830075\n",
       "ann_log_mean_hold                    -0.744619\n",
       "ann_log_std_hold                      0.516899\n",
       "sharpe_ratio_hold                     -1.44055\n",
       "multiple_macd_strategy                1.129306\n",
       "ann_log_mean_macd                     0.486193\n",
       "ann_log_std_macd                      0.303565\n",
       "sharpe_ratio_macd                     1.601609\n",
       "multiple_macd_strategy_net            1.007695\n",
       "ann_log_mean_macd_net                 0.030647\n",
       "ann_log_std_macd_net                  0.305446\n",
       "sharpe_ratio_macd_net                 0.100336\n",
       "success_trades_net                          43\n",
       "failure_trades_net                          91\n",
       "success_trades_net_pct                    32.1\n",
       "failure_trades_net_pct                    67.9\n",
       "total_trades                               134\n",
       "start_opt                     2022-08-09-00:00\n",
       "end_opt                       2022-11-08-16:00\n",
       "Name: 1260, dtype: object"
      ]
     },
     "execution_count": 9,
     "metadata": {},
     "output_type": "execute_result"
    }
   ],
   "source": [
    "macd_sma_15m.opt_results.iloc[1260]"
   ]
  },
  {
   "cell_type": "code",
   "execution_count": 6,
   "id": "2be8f7d2",
   "metadata": {},
   "outputs": [],
   "source": [
    "utils.save_opt_results(res=macd_sma_15m.opt_results.iloc[1260], opt_type='macd_sma', gross_or_net='gross', interval='15m', symbol='BTCUSDT')"
   ]
  },
  {
   "cell_type": "code",
   "execution_count": 15,
   "id": "9277bed7",
   "metadata": {},
   "outputs": [],
   "source": [
    "df = pd.read_csv('results.csv')"
   ]
  },
  {
   "cell_type": "code",
   "execution_count": 16,
   "id": "a3659e14",
   "metadata": {},
   "outputs": [
    {
     "data": {
      "text/html": [
       "<div>\n",
       "<style scoped>\n",
       "    .dataframe tbody tr th:only-of-type {\n",
       "        vertical-align: middle;\n",
       "    }\n",
       "\n",
       "    .dataframe tbody tr th {\n",
       "        vertical-align: top;\n",
       "    }\n",
       "\n",
       "    .dataframe thead th {\n",
       "        text-align: right;\n",
       "    }\n",
       "</style>\n",
       "<table border=\"1\" class=\"dataframe\">\n",
       "  <thead>\n",
       "    <tr style=\"text-align: right;\">\n",
       "      <th></th>\n",
       "      <th>macd_slow_opt</th>\n",
       "      <th>macd_fast_opt</th>\n",
       "      <th>macd_signal_opt</th>\n",
       "      <th>sma_slow</th>\n",
       "      <th>sma_fast</th>\n",
       "      <th>multiple_hold</th>\n",
       "      <th>ann_log_mean_hold</th>\n",
       "      <th>ann_log_std_hold</th>\n",
       "      <th>sharpe_ratio_hold</th>\n",
       "      <th>multiple_macd_strategy</th>\n",
       "      <th>ann_log_mean_macd</th>\n",
       "      <th>ann_log_std_macd</th>\n",
       "      <th>sharpe_ratio_macd</th>\n",
       "      <th>multiple_macd_strategy_net</th>\n",
       "      <th>ann_log_mean_macd_net</th>\n",
       "      <th>ann_log_std_macd_net</th>\n",
       "      <th>sharpe_ratio_macd_net</th>\n",
       "      <th>success_trades_net</th>\n",
       "      <th>failure_trades_net</th>\n",
       "      <th>success_trades_net_pct</th>\n",
       "      <th>failure_trades_net_pct</th>\n",
       "      <th>total_trades</th>\n",
       "      <th>start_opt</th>\n",
       "      <th>end_opt</th>\n",
       "      <th>opt_type</th>\n",
       "      <th>gross_or_net</th>\n",
       "      <th>interval</th>\n",
       "      <th>symbol</th>\n",
       "    </tr>\n",
       "  </thead>\n",
       "  <tbody>\n",
       "    <tr>\n",
       "      <th>0</th>\n",
       "      <td>20</td>\n",
       "      <td>6</td>\n",
       "      <td>6</td>\n",
       "      <td>60</td>\n",
       "      <td>10</td>\n",
       "      <td>0.83</td>\n",
       "      <td>-0.74</td>\n",
       "      <td>0.52</td>\n",
       "      <td>-1.44</td>\n",
       "      <td>1.13</td>\n",
       "      <td>0.49</td>\n",
       "      <td>0.30</td>\n",
       "      <td>1.60</td>\n",
       "      <td>1.01</td>\n",
       "      <td>0.03</td>\n",
       "      <td>0.31</td>\n",
       "      <td>0.10</td>\n",
       "      <td>43</td>\n",
       "      <td>91</td>\n",
       "      <td>32.1</td>\n",
       "      <td>67.9</td>\n",
       "      <td>134</td>\n",
       "      <td>2022-08-09-00:00</td>\n",
       "      <td>2022-11-08-16:00</td>\n",
       "      <td>macd_sma</td>\n",
       "      <td>gross</td>\n",
       "      <td>15m</td>\n",
       "      <td>BTCUSDT</td>\n",
       "    </tr>\n",
       "    <tr>\n",
       "      <th>1</th>\n",
       "      <td>35</td>\n",
       "      <td>14</td>\n",
       "      <td>26</td>\n",
       "      <td>140</td>\n",
       "      <td>50</td>\n",
       "      <td>0.58</td>\n",
       "      <td>-1.08</td>\n",
       "      <td>0.69</td>\n",
       "      <td>-1.57</td>\n",
       "      <td>1.16</td>\n",
       "      <td>0.30</td>\n",
       "      <td>0.34</td>\n",
       "      <td>0.90</td>\n",
       "      <td>1.11</td>\n",
       "      <td>0.20</td>\n",
       "      <td>0.34</td>\n",
       "      <td>0.59</td>\n",
       "      <td>28</td>\n",
       "      <td>32</td>\n",
       "      <td>46.7</td>\n",
       "      <td>53.3</td>\n",
       "      <td>60</td>\n",
       "      <td>2022-05-09-00:00</td>\n",
       "      <td>2022-11-08-16:00</td>\n",
       "      <td>macd_sma</td>\n",
       "      <td>gross</td>\n",
       "      <td>30m</td>\n",
       "      <td>BTCUSDT</td>\n",
       "    </tr>\n",
       "    <tr>\n",
       "      <th>2</th>\n",
       "      <td>15</td>\n",
       "      <td>14</td>\n",
       "      <td>22</td>\n",
       "      <td>60</td>\n",
       "      <td>20</td>\n",
       "      <td>0.47</td>\n",
       "      <td>-0.90</td>\n",
       "      <td>0.66</td>\n",
       "      <td>-1.37</td>\n",
       "      <td>1.22</td>\n",
       "      <td>0.23</td>\n",
       "      <td>0.30</td>\n",
       "      <td>0.79</td>\n",
       "      <td>1.15</td>\n",
       "      <td>0.17</td>\n",
       "      <td>0.30</td>\n",
       "      <td>0.57</td>\n",
       "      <td>24</td>\n",
       "      <td>40</td>\n",
       "      <td>37.5</td>\n",
       "      <td>62.5</td>\n",
       "      <td>64</td>\n",
       "      <td>2022-01-09-00:00</td>\n",
       "      <td>2022-11-08-16:00</td>\n",
       "      <td>macd_sma</td>\n",
       "      <td>gross</td>\n",
       "      <td>1h</td>\n",
       "      <td>BTCUSDT</td>\n",
       "    </tr>\n",
       "  </tbody>\n",
       "</table>\n",
       "</div>"
      ],
      "text/plain": [
       "   macd_slow_opt  macd_fast_opt  macd_signal_opt  sma_slow  sma_fast  \\\n",
       "0             20              6                6        60        10   \n",
       "1             35             14               26       140        50   \n",
       "2             15             14               22        60        20   \n",
       "\n",
       "   multiple_hold  ann_log_mean_hold  ann_log_std_hold  sharpe_ratio_hold  \\\n",
       "0           0.83              -0.74              0.52              -1.44   \n",
       "1           0.58              -1.08              0.69              -1.57   \n",
       "2           0.47              -0.90              0.66              -1.37   \n",
       "\n",
       "   multiple_macd_strategy  ann_log_mean_macd  ann_log_std_macd  \\\n",
       "0                    1.13               0.49              0.30   \n",
       "1                    1.16               0.30              0.34   \n",
       "2                    1.22               0.23              0.30   \n",
       "\n",
       "   sharpe_ratio_macd  multiple_macd_strategy_net  ann_log_mean_macd_net  \\\n",
       "0               1.60                        1.01                   0.03   \n",
       "1               0.90                        1.11                   0.20   \n",
       "2               0.79                        1.15                   0.17   \n",
       "\n",
       "   ann_log_std_macd_net  sharpe_ratio_macd_net  success_trades_net  \\\n",
       "0                  0.31                   0.10                  43   \n",
       "1                  0.34                   0.59                  28   \n",
       "2                  0.30                   0.57                  24   \n",
       "\n",
       "   failure_trades_net  success_trades_net_pct  failure_trades_net_pct  \\\n",
       "0                  91                    32.1                    67.9   \n",
       "1                  32                    46.7                    53.3   \n",
       "2                  40                    37.5                    62.5   \n",
       "\n",
       "   total_trades         start_opt           end_opt  opt_type gross_or_net  \\\n",
       "0           134  2022-08-09-00:00  2022-11-08-16:00  macd_sma        gross   \n",
       "1            60  2022-05-09-00:00  2022-11-08-16:00  macd_sma        gross   \n",
       "2            64  2022-01-09-00:00  2022-11-08-16:00  macd_sma        gross   \n",
       "\n",
       "  interval   symbol  \n",
       "0      15m  BTCUSDT  \n",
       "1      30m  BTCUSDT  \n",
       "2       1h  BTCUSDT  "
      ]
     },
     "execution_count": 16,
     "metadata": {},
     "output_type": "execute_result"
    }
   ],
   "source": [
    "df"
   ]
  },
  {
   "cell_type": "code",
   "execution_count": null,
   "id": "9f7be59b",
   "metadata": {},
   "outputs": [],
   "source": []
  },
  {
   "cell_type": "code",
   "execution_count": null,
   "id": "02a48a33",
   "metadata": {},
   "outputs": [],
   "source": []
  }
 ],
 "metadata": {
  "kernelspec": {
   "display_name": "Python 3 (ipykernel)",
   "language": "python",
   "name": "python3"
  },
  "language_info": {
   "codemirror_mode": {
    "name": "ipython",
    "version": 3
   },
   "file_extension": ".py",
   "mimetype": "text/x-python",
   "name": "python",
   "nbconvert_exporter": "python",
   "pygments_lexer": "ipython3",
   "version": "3.9.12"
  }
 },
 "nbformat": 4,
 "nbformat_minor": 5
}
