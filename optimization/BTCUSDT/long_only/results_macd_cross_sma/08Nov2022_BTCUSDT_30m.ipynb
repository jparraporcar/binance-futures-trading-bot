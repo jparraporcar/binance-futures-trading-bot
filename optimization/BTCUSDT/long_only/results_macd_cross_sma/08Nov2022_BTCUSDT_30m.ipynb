{
 "cells": [
  {
   "cell_type": "code",
   "execution_count": 1,
   "id": "60646008",
   "metadata": {},
   "outputs": [],
   "source": [
    "import sys\n",
    "from datetime import datetime, timedelta, timezone\n",
    "sys.path.append('/Users/jp/Desktop/Investment/trading_BOT/backtest/macd_long_backtester_sma')\n",
    "from macd_long_backtester_sma import Macd_long_backtester_sma\n",
    "import pandas as pd\n",
    "import matplotlib.pyplot as plt\n",
    "sys.path.append('/Users/jp/Desktop/Investment/utils')\n",
    "import utils as utils"
   ]
  },
  {
   "cell_type": "code",
   "execution_count": 2,
   "id": "d880f43a",
   "metadata": {},
   "outputs": [],
   "source": [
    "#pd.set_option('display.max_rows', None)"
   ]
  },
  {
   "cell_type": "code",
   "execution_count": 3,
   "id": "bafab31d",
   "metadata": {},
   "outputs": [
    {
     "name": "stdout",
     "output_type": "stream",
     "text": [
      "class version 0.0 is being used\n"
     ]
    }
   ],
   "source": [
    "macd_sma_30m = Macd_long_backtester_sma('BTCUSDT','30m')"
   ]
  },
  {
   "cell_type": "code",
   "execution_count": 4,
   "id": "96e4e579",
   "metadata": {},
   "outputs": [],
   "source": [
    "macd_sma_30m.opt_results = pd.read_csv(\"macd_sma_2022-11-09-22:26_30m.csv\")"
   ]
  },
  {
   "cell_type": "code",
   "execution_count": 5,
   "id": "157519fc",
   "metadata": {
    "scrolled": true
   },
   "outputs": [],
   "source": [
    "#macd_sma_30m.execute_opt(start_opt='2022-05-09-00:00', end_opt='2022-11-08-16:00', ema_fast_opt=(2,18,4), ema_slow_opt=(15,40,5), ema_sign_opt=(2, 30, 4), sma_slow=(60,200,20), sma_fast=(10,60,10))"
   ]
  },
  {
   "cell_type": "code",
   "execution_count": 6,
   "id": "7ac618a2",
   "metadata": {
    "scrolled": true
   },
   "outputs": [
    {
     "data": {
      "text/plain": [
       "4888    1.163228\n",
       "Name: multiple_macd_strategy, dtype: float64"
      ]
     },
     "execution_count": 6,
     "metadata": {},
     "output_type": "execute_result"
    }
   ],
   "source": [
    "macd_sma_30m.opt_results.multiple_macd_strategy[macd_sma_30m.opt_results.multiple_macd_strategy == macd_sma_30m.opt_results.multiple_macd_strategy.max()]"
   ]
  },
  {
   "cell_type": "code",
   "execution_count": 7,
   "id": "4fb23fec",
   "metadata": {},
   "outputs": [],
   "source": [
    "utils.save_opt_results(res=macd_sma_30m.opt_results.iloc[4888], opt_type='macd_sma', gross_or_net='gross', interval='30m', symbol='BTCUSDT')"
   ]
  },
  {
   "cell_type": "code",
   "execution_count": null,
   "id": "2bd5a853",
   "metadata": {},
   "outputs": [],
   "source": []
  }
 ],
 "metadata": {
  "kernelspec": {
   "display_name": "Python 3 (ipykernel)",
   "language": "python",
   "name": "python3"
  },
  "language_info": {
   "codemirror_mode": {
    "name": "ipython",
    "version": 3
   },
   "file_extension": ".py",
   "mimetype": "text/x-python",
   "name": "python",
   "nbconvert_exporter": "python",
   "pygments_lexer": "ipython3",
   "version": "3.9.12"
  }
 },
 "nbformat": 4,
 "nbformat_minor": 5
}
