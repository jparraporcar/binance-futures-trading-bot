{
 "cells": [
  {
   "cell_type": "code",
   "execution_count": 1,
   "id": "60646008",
   "metadata": {},
   "outputs": [],
   "source": [
    "import sys\n",
    "from datetime import datetime, timedelta, timezone\n",
    "sys.path.append('/Users/jp/Desktop/Investment/trading_BOT/backtest/macd_long_backtester_sma')\n",
    "from macd_long_backtester_sma import Macd_long_backtester_sma\n",
    "import pandas as pd\n",
    "import matplotlib.pyplot as plt\n",
    "import numpy as np\n",
    "sys.path.append('/Users/jp/Desktop/Investment/utils')\n",
    "import utils as utils"
   ]
  },
  {
   "cell_type": "code",
   "execution_count": 2,
   "id": "d880f43a",
   "metadata": {},
   "outputs": [],
   "source": [
    "#pd.set_option('display.max_rows', None)"
   ]
  },
  {
   "cell_type": "code",
   "execution_count": 3,
   "id": "b59b4479",
   "metadata": {},
   "outputs": [
    {
     "name": "stdout",
     "output_type": "stream",
     "text": [
      "class version 0.0 is being used\n"
     ]
    }
   ],
   "source": [
    "macd_sma_1h = Macd_long_backtester_sma('BTCUSDT','1h')"
   ]
  },
  {
   "cell_type": "code",
   "execution_count": 4,
   "id": "01dcb1ae",
   "metadata": {},
   "outputs": [],
   "source": [
    "macd_sma_1h.opt_results= pd.read_csv(\"macd_sma_2022-11-09-22:26_1h.csv\", on_bad_lines='skip')"
   ]
  },
  {
   "cell_type": "code",
   "execution_count": 5,
   "id": "24bca498",
   "metadata": {
    "scrolled": false
   },
   "outputs": [
    {
     "data": {
      "text/plain": [
       "909    1.21546\n",
       "Name: multiple_macd_strategy, dtype: float64"
      ]
     },
     "execution_count": 5,
     "metadata": {},
     "output_type": "execute_result"
    }
   ],
   "source": [
    "macd_sma_1h.opt_results.multiple_macd_strategy[macd_sma_1h.opt_results.multiple_macd_strategy == macd_sma_1h.opt_results.multiple_macd_strategy.max()]"
   ]
  },
  {
   "cell_type": "code",
   "execution_count": 7,
   "id": "0d031876",
   "metadata": {},
   "outputs": [],
   "source": [
    "utils.save_opt_results(res=macd_sma_1h.opt_results.iloc[909], opt_type='macd_sma', gross_or_net='gross', interval='1h', symbol='BTCUSDT')"
   ]
  },
  {
   "cell_type": "code",
   "execution_count": null,
   "id": "c3bbd49d",
   "metadata": {},
   "outputs": [],
   "source": []
  }
 ],
 "metadata": {
  "kernelspec": {
   "display_name": "Python 3 (ipykernel)",
   "language": "python",
   "name": "python3"
  },
  "language_info": {
   "codemirror_mode": {
    "name": "ipython",
    "version": 3
   },
   "file_extension": ".py",
   "mimetype": "text/x-python",
   "name": "python",
   "nbconvert_exporter": "python",
   "pygments_lexer": "ipython3",
   "version": "3.9.12"
  }
 },
 "nbformat": 4,
 "nbformat_minor": 5
}
