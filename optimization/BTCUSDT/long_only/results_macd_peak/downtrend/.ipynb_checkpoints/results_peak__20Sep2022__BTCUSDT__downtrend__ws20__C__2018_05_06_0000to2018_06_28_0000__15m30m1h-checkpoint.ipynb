{
 "cells": [
  {
   "cell_type": "code",
   "execution_count": 1,
   "id": "b7e980b6",
   "metadata": {},
   "outputs": [],
   "source": [
    "import sys\n",
    "sys.path.append('/Users/jp/Desktop/Investment/trading_BOT/macd_long_backtester_1stpkbm/')\n",
    "from macd_long_backtester_1stpkbm import Macd_long_backtester_1stpkbm\n",
    "import pandas as pd\n",
    "import matplotlib.pyplot as plt"
   ]
  },
  {
   "cell_type": "code",
   "execution_count": 2,
   "id": "e84f4eab",
   "metadata": {},
   "outputs": [],
   "source": [
    "pd.set_option('display.max_rows', None)"
   ]
  },
  {
   "cell_type": "markdown",
   "id": "ded7ce4a",
   "metadata": {},
   "source": [
    "### 1) Launch optimization"
   ]
  },
  {
   "cell_type": "code",
   "execution_count": 6,
   "id": "fd729249",
   "metadata": {},
   "outputs": [
    {
     "name": "stdout",
     "output_type": "stream",
     "text": [
      "class version 1.0 is being used\n"
     ]
    }
   ],
   "source": [
    "macd_peak_opt_c = Macd_long_backtester_1stpkbm('BTCUSDT')"
   ]
  },
  {
   "cell_type": "code",
   "execution_count": 5,
   "id": "a71c5418",
   "metadata": {},
   "outputs": [],
   "source": [
    "# df = pd.read_csv('downtrend_peak_c.csv')\n",
    "# macd_opt_c.opt_results = df"
   ]
  },
  {
   "cell_type": "code",
   "execution_count": null,
   "id": "e5982839",
   "metadata": {
    "scrolled": true
   },
   "outputs": [
    {
     "name": "stdout",
     "output_type": "stream",
     "text": [
      "5042\n",
      "5062\n",
      "   multiple_hold  ann_log_mean_hold  ann_log_std_hold  sharpe_ratio_hold  \\\n",
      "0       0.617234          -0.035188          0.065108          -0.540453   \n",
      "\n",
      "   multiple_macd_peak_strategy  ann_log_mean_macd_peak  ann_log_std_macd_peak  \\\n",
      "0                       0.7701               -0.019055               0.045987   \n",
      "\n",
      "   sharpe_ratio_macd_peak  multiple_macd_peak_strategy_net  \\\n",
      "0               -0.414351                         0.549472   \n",
      "\n",
      "   ann_log_mean_macd_peak_net  ann_log_std_macd_peak_net  \\\n",
      "0                   -0.043677                   0.046305   \n",
      "\n",
      "   sharpe_ratio_macd_peak_net  \n",
      "0                   -0.943252  \n",
      "processed 1 out of a total 4788\n",
      "5042\n",
      "5064\n",
      "   multiple_hold  ann_log_mean_hold  ann_log_std_hold  sharpe_ratio_hold  \\\n",
      "0       0.617234          -0.035188          0.065108          -0.540453   \n",
      "\n",
      "   multiple_macd_peak_strategy  ann_log_mean_macd_peak  ann_log_std_macd_peak  \\\n",
      "0                      0.84857               -0.011977               0.048156   \n",
      "\n",
      "   sharpe_ratio_macd_peak  multiple_macd_peak_strategy_net  \\\n",
      "0               -0.248718                         0.581247   \n",
      "\n",
      "   ann_log_mean_macd_peak_net  ann_log_std_macd_peak_net  \\\n",
      "0                   -0.039577                   0.048654   \n",
      "\n",
      "   sharpe_ratio_macd_peak_net  \n",
      "0                   -0.813428  \n",
      "processed 2 out of a total 4788\n",
      "5042\n",
      "5066\n",
      "   multiple_hold  ann_log_mean_hold  ann_log_std_hold  sharpe_ratio_hold  \\\n",
      "0       0.617234          -0.035188          0.065108          -0.540453   \n",
      "\n",
      "   multiple_macd_peak_strategy  ann_log_mean_macd_peak  ann_log_std_macd_peak  \\\n",
      "0                     0.865717               -0.010518               0.049042   \n",
      "\n",
      "   sharpe_ratio_macd_peak  multiple_macd_peak_strategy_net  \\\n",
      "0               -0.214469                         0.610385   \n",
      "\n",
      "   ann_log_mean_macd_peak_net  ann_log_std_macd_peak_net  \\\n",
      "0                   -0.036009                   0.049584   \n",
      "\n",
      "   sharpe_ratio_macd_peak_net  \n",
      "0                   -0.726214  \n",
      "processed 3 out of a total 4788\n",
      "5042\n",
      "5068\n",
      "   multiple_hold  ann_log_mean_hold  ann_log_std_hold  sharpe_ratio_hold  \\\n",
      "0       0.617234          -0.035188          0.065108          -0.540453   \n",
      "\n",
      "   multiple_macd_peak_strategy  ann_log_mean_macd_peak  ann_log_std_macd_peak  \\\n",
      "0                     0.871504               -0.010032               0.049307   \n",
      "\n",
      "   sharpe_ratio_macd_peak  multiple_macd_peak_strategy_net  \\\n",
      "0               -0.203459                         0.616559   \n",
      "\n",
      "   ann_log_mean_macd_peak_net  ann_log_std_macd_peak_net  \\\n",
      "0                   -0.035275                   0.049879   \n",
      "\n",
      "   sharpe_ratio_macd_peak_net  \n",
      "0                   -0.707209  \n",
      "processed 4 out of a total 4788\n"
     ]
    }
   ],
   "source": [
    "macd_peak_opt_c.execute_opt(interval_opt=('15m', '30m', '1h') ,start_opt='2018-05-06-00:00', end_opt='2018-06-28-00:00', ema_fast_opt=(2,16,2), ema_slow_opt=(16,40,2), ema_sign_opt=(2, 40, 2), int_for_max='1h', trend_ref='C', type_trend='downtrend_peak_c')"
   ]
  },
  {
   "cell_type": "markdown",
   "id": "bb57fed1",
   "metadata": {},
   "source": [
    "### 2) Extract combinations of max"
   ]
  },
  {
   "cell_type": "code",
   "execution_count": 7,
   "id": "8e02900c",
   "metadata": {},
   "outputs": [],
   "source": [
    "# macd_opt_c.opt_results[macd_opt_c.opt_results.multiple_macd_strategy == macd_opt_c.opt_results.multiple_macd_strategy.max()]"
   ]
  },
  {
   "cell_type": "markdown",
   "id": "80ce79ba",
   "metadata": {},
   "source": [
    "### 3) Create new class for interval of max and launch backtest for the combinations of max"
   ]
  },
  {
   "cell_type": "code",
   "execution_count": 8,
   "id": "9528def9",
   "metadata": {},
   "outputs": [],
   "source": [
    "# macd_opt_c_15m = Macd_long_backtester('BTCUSDT')"
   ]
  },
  {
   "cell_type": "code",
   "execution_count": 9,
   "id": "8c4f9571",
   "metadata": {},
   "outputs": [],
   "source": [
    "# macd_opt_c_15m.prepare_data(start='2018-05-06-00:00', end='2018-06-28-00:00', interval='15m')"
   ]
  },
  {
   "cell_type": "code",
   "execution_count": 10,
   "id": "88ec74ae",
   "metadata": {
    "scrolled": false
   },
   "outputs": [],
   "source": [
    "# macd_opt_c_15m.execute_backtest(start='2018-05-06-00:00', ema_slow=18, ema_fast=2, ema_signal=2)"
   ]
  },
  {
   "cell_type": "markdown",
   "id": "1d685b63",
   "metadata": {},
   "source": [
    "### 4) Plot the accumulated max vs hold"
   ]
  },
  {
   "cell_type": "code",
   "execution_count": 11,
   "id": "6e8f72c3",
   "metadata": {},
   "outputs": [],
   "source": [
    "# macd_opt_c_15m.data_init.multiple_hold_acum.plot(figsize=(15,10))\n",
    "# macd_opt_c_15m.data_init.macd_log_returns_acum.plot(figsize=(15,10))\n",
    "# plt.legend()"
   ]
  },
  {
   "cell_type": "markdown",
   "id": "58706ec0",
   "metadata": {},
   "source": [
    "### 5) Extract combinations of max_net "
   ]
  },
  {
   "cell_type": "code",
   "execution_count": 12,
   "id": "721e9972",
   "metadata": {},
   "outputs": [],
   "source": [
    "# macd_opt_c.opt_results[macd_opt_c.opt_results.multiple_macd_strategy_net == macd_opt_c.opt_results.multiple_macd_strategy_net.max()]"
   ]
  },
  {
   "cell_type": "markdown",
   "id": "094391fb",
   "metadata": {},
   "source": [
    "### 6) Create new class for interval of max_net and launch backtest for the combinations of max_net"
   ]
  },
  {
   "cell_type": "code",
   "execution_count": 13,
   "id": "97a371fd",
   "metadata": {},
   "outputs": [],
   "source": [
    "# macd_opt_c_1h = Macd_long_backtester('BTCUSDT')"
   ]
  },
  {
   "cell_type": "code",
   "execution_count": 14,
   "id": "728936b1",
   "metadata": {},
   "outputs": [],
   "source": [
    "# macd_opt_c_1h.prepare_data(start='2018-05-06-00:00', end='2018-06-28-00:00', interval='1h')"
   ]
  },
  {
   "cell_type": "code",
   "execution_count": 15,
   "id": "18ebf2e2",
   "metadata": {},
   "outputs": [],
   "source": [
    "# macd_opt_c_1h.execute_backtest(start='2018-05-06-00:00', ema_slow=28, ema_fast=14, ema_signal=18)"
   ]
  },
  {
   "cell_type": "markdown",
   "id": "fe8baff5",
   "metadata": {},
   "source": [
    "### 7) Plot the accumulated max_net vs hold"
   ]
  },
  {
   "cell_type": "code",
   "execution_count": 16,
   "id": "af347ea3",
   "metadata": {},
   "outputs": [],
   "source": [
    "# macd_opt_c_1h.data_init.multiple_hold_acum.plot(figsize=(15,10))\n",
    "# macd_opt_c_1h.data_init.macd_log_returns_acum.plot(figsize=(15,10))\n",
    "# plt.legend()"
   ]
  },
  {
   "cell_type": "markdown",
   "id": "08ef15b0",
   "metadata": {},
   "source": [
    "### 8) Carry out backtest with optimized strategy macd_peak with same parameters and see results"
   ]
  },
  {
   "cell_type": "code",
   "execution_count": 17,
   "id": "16803685",
   "metadata": {},
   "outputs": [],
   "source": [
    "# sys.path.append('/Users/jp/Desktop/Investment/trading_BOT/macd_long_backtester_1stpkbm')\n",
    "# from macd_long_backtester_1stpkbm import Macd_long_backtester_1stpkbm"
   ]
  },
  {
   "cell_type": "markdown",
   "id": "4647f2c0",
   "metadata": {},
   "source": [
    "### 9) Plot results of macd_peak acum vs macd acum vs hold"
   ]
  },
  {
   "cell_type": "code",
   "execution_count": 18,
   "id": "e787023b",
   "metadata": {},
   "outputs": [],
   "source": [
    "# macd_opt_c_15m_peak = Macd_long_backtester_1stpkbm('BTCUSDT')"
   ]
  },
  {
   "cell_type": "code",
   "execution_count": 19,
   "id": "47d9d85d",
   "metadata": {},
   "outputs": [],
   "source": [
    "# macd_opt_c_15m_peak.prepare_data(start='2018-05-06-00:00', end='2018-06-28-00:00', interval='15m')"
   ]
  },
  {
   "cell_type": "code",
   "execution_count": 20,
   "id": "848c2ecc",
   "metadata": {},
   "outputs": [],
   "source": [
    "# macd_opt_c_15m_peak.execute_backtest(start='2018-05-06-00:00', ema_slow=18, ema_fast=2, ema_signal=2)"
   ]
  },
  {
   "cell_type": "code",
   "execution_count": 21,
   "id": "53d249f7",
   "metadata": {},
   "outputs": [],
   "source": [
    "# macd_opt_c_15m.data_init.multiple_hold_acum.plot(figsize=(15,10))\n",
    "# macd_opt_c_15m.data_init.macd_log_returns_acum.plot(figsize=(15,10))\n",
    "# macd_opt_c_15m_peak.data_init.macd_peak_log_returns_acum.plot()\n",
    "# plt.legend()"
   ]
  },
  {
   "cell_type": "code",
   "execution_count": null,
   "id": "68e0c6a7",
   "metadata": {},
   "outputs": [],
   "source": []
  }
 ],
 "metadata": {
  "kernelspec": {
   "display_name": "Python 3 (ipykernel)",
   "language": "python",
   "name": "python3"
  },
  "language_info": {
   "codemirror_mode": {
    "name": "ipython",
    "version": 3
   },
   "file_extension": ".py",
   "mimetype": "text/x-python",
   "name": "python",
   "nbconvert_exporter": "python",
   "pygments_lexer": "ipython3",
   "version": "3.9.12"
  }
 },
 "nbformat": 4,
 "nbformat_minor": 5
}
