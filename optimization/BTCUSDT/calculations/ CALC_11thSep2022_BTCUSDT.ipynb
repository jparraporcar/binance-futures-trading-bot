{
 "cells": [
  {
   "cell_type": "markdown",
   "id": "aec62574",
   "metadata": {},
   "source": [
    "# Optimization of the MACD parameters in up trend is going to be carried out"
   ]
  },
  {
   "cell_type": "markdown",
   "id": "ab1f7f44",
   "metadata": {},
   "source": [
    "### 1) 3 up trend date ranges (period = '1d') are going to be extracted from the BTCUSDT historic data and an optimization will be conducted in all three intervals. Similar MACD parameters are expected to be obtained."
   ]
  },
  {
   "cell_type": "code",
   "execution_count": 2,
   "id": "698c22cc",
   "metadata": {},
   "outputs": [],
   "source": [
    "import sys\n",
    "sys.path.append('/Users/jp/Desktop/Investment/trading_BOT/macd_long_backtester')\n",
    "from macd_long_backtester import Macd_long_backtester"
   ]
  },
  {
   "cell_type": "code",
   "execution_count": 3,
   "id": "d59af3d7",
   "metadata": {},
   "outputs": [],
   "source": [
    "macd = Macd_long_backtester(symbol='BTCUSDT')"
   ]
  },
  {
   "cell_type": "code",
   "execution_count": null,
   "id": "fabe7fcb",
   "metadata": {},
   "outputs": [],
   "source": [
    "macd.prepare_data(start='2018-01-29-20:00', end='2022-09-11-20:00', interval='1d', ema_fast=12, ema_slow=26, ema_signal=9)"
   ]
  }
 ],
 "metadata": {
  "kernelspec": {
   "display_name": "Python 3 (ipykernel)",
   "language": "python",
   "name": "python3"
  },
  "language_info": {
   "codemirror_mode": {
    "name": "ipython",
    "version": 3
   },
   "file_extension": ".py",
   "mimetype": "text/x-python",
   "name": "python",
   "nbconvert_exporter": "python",
   "pygments_lexer": "ipython3",
   "version": "3.9.12"
  }
 },
 "nbformat": 4,
 "nbformat_minor": 5
}
