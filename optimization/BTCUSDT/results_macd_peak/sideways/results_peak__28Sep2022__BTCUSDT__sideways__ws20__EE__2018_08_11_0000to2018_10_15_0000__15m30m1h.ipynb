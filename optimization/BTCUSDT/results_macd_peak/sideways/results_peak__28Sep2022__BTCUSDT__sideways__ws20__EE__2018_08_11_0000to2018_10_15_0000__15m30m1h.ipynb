{
 "cells": [
  {
   "cell_type": "code",
   "execution_count": 1,
   "id": "60646008",
   "metadata": {},
   "outputs": [],
   "source": [
    "import sys\n",
    "sys.path.append('/Users/jp/Desktop/Investment/trading_BOT/macd_long_backtester_1stpkbm/')\n",
    "from macd_long_backtester_1stpkbm import Macd_long_backtester_1stpkbm\n",
    "import pandas as pd\n",
    "import matplotlib.pyplot as plt"
   ]
  },
  {
   "cell_type": "code",
   "execution_count": 2,
   "id": "24537d49",
   "metadata": {},
   "outputs": [],
   "source": [
    "pd.set_option('display.max_rows', None)"
   ]
  },
  {
   "cell_type": "markdown",
   "id": "ded7ce4a",
   "metadata": {},
   "source": [
    "### 1) Launch optimization"
   ]
  },
  {
   "cell_type": "code",
   "execution_count": 3,
   "id": "45006bc9",
   "metadata": {},
   "outputs": [
    {
     "name": "stdout",
     "output_type": "stream",
     "text": [
      "class version 1.0 is being used\n"
     ]
    }
   ],
   "source": [
    "macd_peak_opt_ee = Macd_long_backtester_1stpkbm('BTCUSDT')"
   ]
  },
  {
   "cell_type": "code",
   "execution_count": 16,
   "id": "f108640d",
   "metadata": {
    "scrolled": true
   },
   "outputs": [],
   "source": [
    "# macd_peak_opt_ee.execute_opt(interval_opt=('15m', '30m', '1h'), start_opt='2018-08-11-00:00', end_opt='2018-10-15-00:00', ema_fast_opt=(2,16,2), ema_slow_opt=(16,40,2), ema_sign_opt=(2, 40, 2), int_for_max='1h', trend_ref='EE', type_trend='sideways_peak_ee')"
   ]
  },
  {
   "cell_type": "markdown",
   "id": "bb57fed1",
   "metadata": {},
   "source": [
    "### 2) Extract combinations of max"
   ]
  },
  {
   "cell_type": "code",
   "execution_count": 17,
   "id": "9ffe10e3",
   "metadata": {},
   "outputs": [],
   "source": [
    "macd_peak_opt_ee.opt_results = pd.read_csv('sideways_peak_ee.csv')"
   ]
  },
  {
   "cell_type": "code",
   "execution_count": 18,
   "id": "4a165600",
   "metadata": {},
   "outputs": [
    {
     "data": {
      "text/html": [
       "<div>\n",
       "<style scoped>\n",
       "    .dataframe tbody tr th:only-of-type {\n",
       "        vertical-align: middle;\n",
       "    }\n",
       "\n",
       "    .dataframe tbody tr th {\n",
       "        vertical-align: top;\n",
       "    }\n",
       "\n",
       "    .dataframe thead th {\n",
       "        text-align: right;\n",
       "    }\n",
       "</style>\n",
       "<table border=\"1\" class=\"dataframe\">\n",
       "  <thead>\n",
       "    <tr style=\"text-align: right;\">\n",
       "      <th></th>\n",
       "      <th>interval_opt</th>\n",
       "      <th>macd_slow_opt</th>\n",
       "      <th>macd_fast_opt</th>\n",
       "      <th>macd_signal_opt</th>\n",
       "      <th>multiple_hold</th>\n",
       "      <th>ann_log_mean_hold</th>\n",
       "      <th>ann_log_std_hold</th>\n",
       "      <th>sharpe_ratio_hold</th>\n",
       "      <th>multiple_macd_peak_strategy</th>\n",
       "      <th>ann_log_mean_macd_peak</th>\n",
       "      <th>ann_log_std_macd_peak</th>\n",
       "      <th>sharpe_ratio_macd_peak</th>\n",
       "      <th>multiple_macd_peak_strategy_net</th>\n",
       "      <th>ann_log_mean_macd_peak_net</th>\n",
       "      <th>ann_log_std_macd_peak_net</th>\n",
       "      <th>sharpe_ratio_macd_peak_net</th>\n",
       "      <th>trend_ref</th>\n",
       "      <th>start_opt</th>\n",
       "      <th>end_opt</th>\n",
       "    </tr>\n",
       "  </thead>\n",
       "  <tbody>\n",
       "    <tr>\n",
       "      <th>2662</th>\n",
       "      <td>30m</td>\n",
       "      <td>32</td>\n",
       "      <td>2</td>\n",
       "      <td>10</td>\n",
       "      <td>1.03916</td>\n",
       "      <td>0.00452</td>\n",
       "      <td>0.075988</td>\n",
       "      <td>0.059481</td>\n",
       "      <td>1.160205</td>\n",
       "      <td>0.01749</td>\n",
       "      <td>0.047161</td>\n",
       "      <td>0.370867</td>\n",
       "      <td>0.960629</td>\n",
       "      <td>-0.004728</td>\n",
       "      <td>0.047839</td>\n",
       "      <td>-0.098827</td>\n",
       "      <td>EE</td>\n",
       "      <td>2018-08-11-00:00</td>\n",
       "      <td>2018-10-15-00:00</td>\n",
       "    </tr>\n",
       "    <tr>\n",
       "      <th>2734</th>\n",
       "      <td>30m</td>\n",
       "      <td>32</td>\n",
       "      <td>10</td>\n",
       "      <td>2</td>\n",
       "      <td>1.03916</td>\n",
       "      <td>0.00452</td>\n",
       "      <td>0.075988</td>\n",
       "      <td>0.059481</td>\n",
       "      <td>1.160205</td>\n",
       "      <td>0.01749</td>\n",
       "      <td>0.047161</td>\n",
       "      <td>0.370867</td>\n",
       "      <td>0.960629</td>\n",
       "      <td>-0.004728</td>\n",
       "      <td>0.047839</td>\n",
       "      <td>-0.098827</td>\n",
       "      <td>EE</td>\n",
       "      <td>2018-08-11-00:00</td>\n",
       "      <td>2018-10-15-00:00</td>\n",
       "    </tr>\n",
       "  </tbody>\n",
       "</table>\n",
       "</div>"
      ],
      "text/plain": [
       "     interval_opt  macd_slow_opt  macd_fast_opt  macd_signal_opt  \\\n",
       "2662          30m             32              2               10   \n",
       "2734          30m             32             10                2   \n",
       "\n",
       "      multiple_hold  ann_log_mean_hold  ann_log_std_hold  sharpe_ratio_hold  \\\n",
       "2662        1.03916            0.00452          0.075988           0.059481   \n",
       "2734        1.03916            0.00452          0.075988           0.059481   \n",
       "\n",
       "      multiple_macd_peak_strategy  ann_log_mean_macd_peak  \\\n",
       "2662                     1.160205                 0.01749   \n",
       "2734                     1.160205                 0.01749   \n",
       "\n",
       "      ann_log_std_macd_peak  sharpe_ratio_macd_peak  \\\n",
       "2662               0.047161                0.370867   \n",
       "2734               0.047161                0.370867   \n",
       "\n",
       "      multiple_macd_peak_strategy_net  ann_log_mean_macd_peak_net  \\\n",
       "2662                         0.960629                   -0.004728   \n",
       "2734                         0.960629                   -0.004728   \n",
       "\n",
       "      ann_log_std_macd_peak_net  sharpe_ratio_macd_peak_net trend_ref  \\\n",
       "2662                   0.047839                   -0.098827        EE   \n",
       "2734                   0.047839                   -0.098827        EE   \n",
       "\n",
       "             start_opt           end_opt  \n",
       "2662  2018-08-11-00:00  2018-10-15-00:00  \n",
       "2734  2018-08-11-00:00  2018-10-15-00:00  "
      ]
     },
     "execution_count": 18,
     "metadata": {},
     "output_type": "execute_result"
    }
   ],
   "source": [
    "macd_peak_opt_ee.opt_results[macd_peak_opt_ee.opt_results.multiple_macd_peak_strategy == macd_peak_opt_ee.opt_results.multiple_macd_peak_strategy.max()]"
   ]
  },
  {
   "cell_type": "markdown",
   "id": "80ce79ba",
   "metadata": {},
   "source": [
    "### 3) Create new class for interval of max and launch backtest for the combinations of max"
   ]
  },
  {
   "cell_type": "code",
   "execution_count": null,
   "id": "f4cac327",
   "metadata": {},
   "outputs": [],
   "source": [
    "# macd_opt_ee_1h = Macd_long_backtester('BTCUSDT')"
   ]
  },
  {
   "cell_type": "code",
   "execution_count": null,
   "id": "a4d03ea5",
   "metadata": {},
   "outputs": [],
   "source": [
    "# macd_opt_ee_1h.prepare_data(start='2018-08-11-00:00', end='2018-10-15-00:00', interval='1h')"
   ]
  },
  {
   "cell_type": "code",
   "execution_count": null,
   "id": "a4e6d42a",
   "metadata": {},
   "outputs": [],
   "source": [
    "# macd_opt_ee_1h.execute_backtest(start='2018-08-11-00:00', ema_slow=28, ema_fast=14, ema_signal=24)"
   ]
  },
  {
   "cell_type": "markdown",
   "id": "1d685b63",
   "metadata": {},
   "source": [
    "### 4) Plot the accumulated max vs hold"
   ]
  },
  {
   "cell_type": "code",
   "execution_count": null,
   "id": "d341c085",
   "metadata": {},
   "outputs": [],
   "source": [
    "# macd_opt_ee_1h.data_init.macd_log_returns_acum.plot(figsize=(15,10))\n",
    "# macd_opt_ee_1h.data_init.multiple_hold_acum.plot(figsize=(15,10))\n",
    "# plt.legend()"
   ]
  },
  {
   "cell_type": "markdown",
   "id": "58706ec0",
   "metadata": {},
   "source": [
    "### 5) Extract combinations of max_net "
   ]
  },
  {
   "cell_type": "code",
   "execution_count": null,
   "id": "4093f78b",
   "metadata": {
    "scrolled": false
   },
   "outputs": [],
   "source": [
    "# macd_opt_ee.opt_results[macd_opt_ee.opt_results.multiple_macd_strategy_net == macd_opt_ee.opt_results.multiple_macd_strategy_net.max()]"
   ]
  },
  {
   "cell_type": "markdown",
   "id": "094391fb",
   "metadata": {},
   "source": [
    "### 6) Create new class for interval of max_net and launch backtest for the combinations of max_net"
   ]
  },
  {
   "cell_type": "markdown",
   "id": "fe8baff5",
   "metadata": {},
   "source": [
    "### 7) Plot the accumulated max_net vs hold"
   ]
  },
  {
   "cell_type": "markdown",
   "id": "08ef15b0",
   "metadata": {},
   "source": [
    "### 8) Further..."
   ]
  },
  {
   "cell_type": "code",
   "execution_count": null,
   "id": "5686499d",
   "metadata": {},
   "outputs": [],
   "source": []
  }
 ],
 "metadata": {
  "kernelspec": {
   "display_name": "Python 3 (ipykernel)",
   "language": "python",
   "name": "python3"
  },
  "language_info": {
   "codemirror_mode": {
    "name": "ipython",
    "version": 3
   },
   "file_extension": ".py",
   "mimetype": "text/x-python",
   "name": "python",
   "nbconvert_exporter": "python",
   "pygments_lexer": "ipython3",
   "version": "3.9.12"
  }
 },
 "nbformat": 4,
 "nbformat_minor": 5
}
