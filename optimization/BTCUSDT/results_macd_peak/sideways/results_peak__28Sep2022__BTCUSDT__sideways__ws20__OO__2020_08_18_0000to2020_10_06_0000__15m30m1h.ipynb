{
 "cells": [
  {
   "cell_type": "code",
   "execution_count": 1,
   "id": "60646008",
   "metadata": {},
   "outputs": [],
   "source": [
    "import sys\n",
    "sys.path.append('/Users/jp/Desktop/Investment/trading_BOT/macd_long_backtester_1stpkbm/')\n",
    "from macd_long_backtester_1stpkbm import Macd_long_backtester_1stpkbm\n",
    "import pandas as pd\n",
    "import matplotlib.pyplot as plt"
   ]
  },
  {
   "cell_type": "code",
   "execution_count": 2,
   "id": "d880f43a",
   "metadata": {},
   "outputs": [],
   "source": [
    "pd.set_option('display.max_rows', None)"
   ]
  },
  {
   "cell_type": "markdown",
   "id": "2cd4432b",
   "metadata": {},
   "source": [
    "### 1) Launch optimization"
   ]
  },
  {
   "cell_type": "code",
   "execution_count": 3,
   "id": "d31841d9",
   "metadata": {},
   "outputs": [
    {
     "name": "stdout",
     "output_type": "stream",
     "text": [
      "class version 1.0 is being used\n"
     ]
    }
   ],
   "source": [
    "macd_peak_opt_oo = Macd_long_backtester_1stpkbm('BTCUSDT')"
   ]
  },
  {
   "cell_type": "code",
   "execution_count": 13,
   "id": "f108640d",
   "metadata": {
    "scrolled": true
   },
   "outputs": [],
   "source": [
    "# macd_peak_opt_oo.execute_opt(interval_opt=('15m', '30m', '1h'), start_opt='2020-08-18-00:00', end_opt='2020-10-06-00:00', ema_fast_opt=(2,16,2), ema_slow_opt=(16,40,2), ema_sign_opt=(2, 40, 2), int_for_max='15m', trend_ref='OO', type_trend='sideways_peak_oo')"
   ]
  },
  {
   "cell_type": "code",
   "execution_count": 10,
   "id": "10f926eb",
   "metadata": {},
   "outputs": [],
   "source": [
    "macd_peak_opt_oo.opt_results = pd.read_csv('sideways_peak_oo.csv')"
   ]
  },
  {
   "cell_type": "markdown",
   "id": "dbc4db18",
   "metadata": {},
   "source": [
    "### 2) Extract combinations of max"
   ]
  },
  {
   "cell_type": "code",
   "execution_count": 12,
   "id": "9e47b4f2",
   "metadata": {
    "scrolled": false
   },
   "outputs": [
    {
     "data": {
      "text/html": [
       "<div>\n",
       "<style scoped>\n",
       "    .dataframe tbody tr th:only-of-type {\n",
       "        vertical-align: middle;\n",
       "    }\n",
       "\n",
       "    .dataframe tbody tr th {\n",
       "        vertical-align: top;\n",
       "    }\n",
       "\n",
       "    .dataframe thead th {\n",
       "        text-align: right;\n",
       "    }\n",
       "</style>\n",
       "<table border=\"1\" class=\"dataframe\">\n",
       "  <thead>\n",
       "    <tr style=\"text-align: right;\">\n",
       "      <th></th>\n",
       "      <th>interval_opt</th>\n",
       "      <th>macd_slow_opt</th>\n",
       "      <th>macd_fast_opt</th>\n",
       "      <th>macd_signal_opt</th>\n",
       "      <th>multiple_hold</th>\n",
       "      <th>ann_log_mean_hold</th>\n",
       "      <th>ann_log_std_hold</th>\n",
       "      <th>sharpe_ratio_hold</th>\n",
       "      <th>multiple_macd_peak_strategy</th>\n",
       "      <th>ann_log_mean_macd_peak</th>\n",
       "      <th>ann_log_std_macd_peak</th>\n",
       "      <th>sharpe_ratio_macd_peak</th>\n",
       "      <th>multiple_macd_peak_strategy_net</th>\n",
       "      <th>ann_log_mean_macd_peak_net</th>\n",
       "      <th>ann_log_std_macd_peak_net</th>\n",
       "      <th>sharpe_ratio_macd_peak_net</th>\n",
       "      <th>trend_ref</th>\n",
       "      <th>start_opt</th>\n",
       "      <th>end_opt</th>\n",
       "    </tr>\n",
       "  </thead>\n",
       "  <tbody>\n",
       "    <tr>\n",
       "      <th>3945</th>\n",
       "      <td>1h</td>\n",
       "      <td>26</td>\n",
       "      <td>10</td>\n",
       "      <td>30</td>\n",
       "      <td>0.869411</td>\n",
       "      <td>-0.043768</td>\n",
       "      <td>0.0891</td>\n",
       "      <td>-0.49123</td>\n",
       "      <td>1.154041</td>\n",
       "      <td>0.044848</td>\n",
       "      <td>0.060238</td>\n",
       "      <td>0.74452</td>\n",
       "      <td>1.098508</td>\n",
       "      <td>0.029411</td>\n",
       "      <td>0.060833</td>\n",
       "      <td>0.483462</td>\n",
       "      <td>OO</td>\n",
       "      <td>2020-08-18-00:00</td>\n",
       "      <td>2020-10-06-00:00</td>\n",
       "    </tr>\n",
       "    <tr>\n",
       "      <th>4077</th>\n",
       "      <td>1h</td>\n",
       "      <td>28</td>\n",
       "      <td>10</td>\n",
       "      <td>28</td>\n",
       "      <td>0.869411</td>\n",
       "      <td>-0.043768</td>\n",
       "      <td>0.0891</td>\n",
       "      <td>-0.49123</td>\n",
       "      <td>1.154041</td>\n",
       "      <td>0.044848</td>\n",
       "      <td>0.060238</td>\n",
       "      <td>0.74452</td>\n",
       "      <td>1.098508</td>\n",
       "      <td>0.029411</td>\n",
       "      <td>0.060833</td>\n",
       "      <td>0.483462</td>\n",
       "      <td>OO</td>\n",
       "      <td>2020-08-18-00:00</td>\n",
       "      <td>2020-10-06-00:00</td>\n",
       "    </tr>\n",
       "    <tr>\n",
       "      <th>4209</th>\n",
       "      <td>1h</td>\n",
       "      <td>30</td>\n",
       "      <td>10</td>\n",
       "      <td>26</td>\n",
       "      <td>0.869411</td>\n",
       "      <td>-0.043768</td>\n",
       "      <td>0.0891</td>\n",
       "      <td>-0.49123</td>\n",
       "      <td>1.154041</td>\n",
       "      <td>0.044848</td>\n",
       "      <td>0.060238</td>\n",
       "      <td>0.74452</td>\n",
       "      <td>1.098508</td>\n",
       "      <td>0.029411</td>\n",
       "      <td>0.060833</td>\n",
       "      <td>0.483462</td>\n",
       "      <td>OO</td>\n",
       "      <td>2020-08-18-00:00</td>\n",
       "      <td>2020-10-06-00:00</td>\n",
       "    </tr>\n",
       "  </tbody>\n",
       "</table>\n",
       "</div>"
      ],
      "text/plain": [
       "     interval_opt  macd_slow_opt  macd_fast_opt  macd_signal_opt  \\\n",
       "3945           1h             26             10               30   \n",
       "4077           1h             28             10               28   \n",
       "4209           1h             30             10               26   \n",
       "\n",
       "      multiple_hold  ann_log_mean_hold  ann_log_std_hold  sharpe_ratio_hold  \\\n",
       "3945       0.869411          -0.043768            0.0891           -0.49123   \n",
       "4077       0.869411          -0.043768            0.0891           -0.49123   \n",
       "4209       0.869411          -0.043768            0.0891           -0.49123   \n",
       "\n",
       "      multiple_macd_peak_strategy  ann_log_mean_macd_peak  \\\n",
       "3945                     1.154041                0.044848   \n",
       "4077                     1.154041                0.044848   \n",
       "4209                     1.154041                0.044848   \n",
       "\n",
       "      ann_log_std_macd_peak  sharpe_ratio_macd_peak  \\\n",
       "3945               0.060238                 0.74452   \n",
       "4077               0.060238                 0.74452   \n",
       "4209               0.060238                 0.74452   \n",
       "\n",
       "      multiple_macd_peak_strategy_net  ann_log_mean_macd_peak_net  \\\n",
       "3945                         1.098508                    0.029411   \n",
       "4077                         1.098508                    0.029411   \n",
       "4209                         1.098508                    0.029411   \n",
       "\n",
       "      ann_log_std_macd_peak_net  sharpe_ratio_macd_peak_net trend_ref  \\\n",
       "3945                   0.060833                    0.483462        OO   \n",
       "4077                   0.060833                    0.483462        OO   \n",
       "4209                   0.060833                    0.483462        OO   \n",
       "\n",
       "             start_opt           end_opt  \n",
       "3945  2020-08-18-00:00  2020-10-06-00:00  \n",
       "4077  2020-08-18-00:00  2020-10-06-00:00  \n",
       "4209  2020-08-18-00:00  2020-10-06-00:00  "
      ]
     },
     "execution_count": 12,
     "metadata": {},
     "output_type": "execute_result"
    }
   ],
   "source": [
    "macd_peak_opt_oo.opt_results[macd_peak_opt_oo.opt_results.multiple_macd_peak_strategy == macd_peak_opt_oo.opt_results.multiple_macd_peak_strategy.max()]"
   ]
  },
  {
   "cell_type": "markdown",
   "id": "b87da007",
   "metadata": {},
   "source": [
    "### 3) Create new class for interval of max and launch backtest for the combinations of max"
   ]
  },
  {
   "cell_type": "markdown",
   "id": "29f3e875",
   "metadata": {},
   "source": [
    "### 4) Plot the accumulated max vs hold"
   ]
  },
  {
   "cell_type": "markdown",
   "id": "42e01c2f",
   "metadata": {},
   "source": [
    "### 5) Extract combinations of max_net "
   ]
  },
  {
   "cell_type": "code",
   "execution_count": 7,
   "id": "fe3c062f",
   "metadata": {},
   "outputs": [],
   "source": [
    "# macd_opt_oo.opt_results[macd_opt_oo.opt_results.multiple_macd_strategy_net == macd_opt_oo.opt_results.multiple_macd_strategy_net.max()]"
   ]
  },
  {
   "cell_type": "markdown",
   "id": "ca17bc51",
   "metadata": {},
   "source": [
    "### 6) Create new class for interval of max_net and launch backtest for the combinations of max_net"
   ]
  },
  {
   "cell_type": "markdown",
   "id": "e5c5d985",
   "metadata": {},
   "source": [
    "### 7) Plot the accumulated max_net vs hold"
   ]
  },
  {
   "cell_type": "markdown",
   "id": "1f77144d",
   "metadata": {},
   "source": [
    "### 8) Further..."
   ]
  }
 ],
 "metadata": {
  "kernelspec": {
   "display_name": "Python 3 (ipykernel)",
   "language": "python",
   "name": "python3"
  },
  "language_info": {
   "codemirror_mode": {
    "name": "ipython",
    "version": 3
   },
   "file_extension": ".py",
   "mimetype": "text/x-python",
   "name": "python",
   "nbconvert_exporter": "python",
   "pygments_lexer": "ipython3",
   "version": "3.9.12"
  }
 },
 "nbformat": 4,
 "nbformat_minor": 5
}
