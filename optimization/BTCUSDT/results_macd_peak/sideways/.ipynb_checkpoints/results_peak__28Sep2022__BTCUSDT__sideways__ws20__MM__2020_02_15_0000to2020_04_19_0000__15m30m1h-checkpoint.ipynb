{
 "cells": [
  {
   "cell_type": "code",
   "execution_count": 1,
   "id": "60646008",
   "metadata": {},
   "outputs": [],
   "source": [
    "import sys\n",
    "sys.path.append('/Users/jp/Desktop/Investment/trading_BOT/macd_long_backtester_1stpkbm/')\n",
    "from macd_long_backtester_1stpkbm import Macd_long_backtester_1stpkbm\n",
    "import pandas as pd\n",
    "import matplotlib.pyplot as plt"
   ]
  },
  {
   "cell_type": "code",
   "execution_count": 2,
   "id": "da459bcd",
   "metadata": {},
   "outputs": [],
   "source": [
    "pd.set_option('display.max_rows', None)"
   ]
  },
  {
   "cell_type": "markdown",
   "id": "936c9151",
   "metadata": {},
   "source": [
    "### 1) Launch optimization"
   ]
  },
  {
   "cell_type": "code",
   "execution_count": 13,
   "id": "d31841d9",
   "metadata": {},
   "outputs": [
    {
     "name": "stdout",
     "output_type": "stream",
     "text": [
      "class version 1.0 is being used\n"
     ]
    }
   ],
   "source": [
    "macd_peak_opt_mm = Macd_long_backtester_1stpkbm('BTCUSDT')"
   ]
  },
  {
   "cell_type": "code",
   "execution_count": 11,
   "id": "f108640d",
   "metadata": {
    "scrolled": true
   },
   "outputs": [],
   "source": [
    "# macd_peak_opt_mm.execute_opt(interval_opt=('15m', '30m', '1h') ,start_opt='2020-02-15-00:00', end_opt='2020-04-19-00:00', ema_fast_opt=(2,16,2), ema_slow_opt=(16,40,2), ema_sign_opt=(2, 40, 2), int_for_max='15m', trend_ref='MM', type_trend='sideways_peak_mm')"
   ]
  },
  {
   "cell_type": "code",
   "execution_count": 14,
   "id": "1437ba2a",
   "metadata": {},
   "outputs": [],
   "source": [
    "macd_peak_opt_mm.opt_results = pd.read_csv('sideways_peak_mm.csv')"
   ]
  },
  {
   "cell_type": "markdown",
   "id": "aca9d476",
   "metadata": {},
   "source": [
    "### 2) Extract combinations of max"
   ]
  },
  {
   "cell_type": "code",
   "execution_count": 15,
   "id": "81297b46",
   "metadata": {
    "scrolled": true
   },
   "outputs": [
    {
     "data": {
      "text/html": [
       "<div>\n",
       "<style scoped>\n",
       "    .dataframe tbody tr th:only-of-type {\n",
       "        vertical-align: middle;\n",
       "    }\n",
       "\n",
       "    .dataframe tbody tr th {\n",
       "        vertical-align: top;\n",
       "    }\n",
       "\n",
       "    .dataframe thead th {\n",
       "        text-align: right;\n",
       "    }\n",
       "</style>\n",
       "<table border=\"1\" class=\"dataframe\">\n",
       "  <thead>\n",
       "    <tr style=\"text-align: right;\">\n",
       "      <th></th>\n",
       "      <th>interval_opt</th>\n",
       "      <th>macd_slow_opt</th>\n",
       "      <th>macd_fast_opt</th>\n",
       "      <th>macd_signal_opt</th>\n",
       "      <th>multiple_hold</th>\n",
       "      <th>ann_log_mean_hold</th>\n",
       "      <th>ann_log_std_hold</th>\n",
       "      <th>sharpe_ratio_hold</th>\n",
       "      <th>multiple_macd_peak_strategy</th>\n",
       "      <th>ann_log_mean_macd_peak</th>\n",
       "      <th>ann_log_std_macd_peak</th>\n",
       "      <th>sharpe_ratio_macd_peak</th>\n",
       "      <th>multiple_macd_peak_strategy_net</th>\n",
       "      <th>ann_log_mean_macd_peak_net</th>\n",
       "      <th>ann_log_std_macd_peak_net</th>\n",
       "      <th>sharpe_ratio_macd_peak_net</th>\n",
       "      <th>trend_ref</th>\n",
       "      <th>start_opt</th>\n",
       "      <th>end_opt</th>\n",
       "    </tr>\n",
       "  </thead>\n",
       "  <tbody>\n",
       "    <tr>\n",
       "      <th>1924</th>\n",
       "      <td>30m</td>\n",
       "      <td>20</td>\n",
       "      <td>8</td>\n",
       "      <td>12</td>\n",
       "      <td>0.698155</td>\n",
       "      <td>-0.043155</td>\n",
       "      <td>0.185884</td>\n",
       "      <td>-0.232163</td>\n",
       "      <td>1.585557</td>\n",
       "      <td>0.055379</td>\n",
       "      <td>0.143353</td>\n",
       "      <td>0.386311</td>\n",
       "      <td>1.337602</td>\n",
       "      <td>0.034948</td>\n",
       "      <td>0.143857</td>\n",
       "      <td>0.242933</td>\n",
       "      <td>MM</td>\n",
       "      <td>2020-02-15-00:00</td>\n",
       "      <td>2020-04-19-00:00</td>\n",
       "    </tr>\n",
       "    <tr>\n",
       "      <th>1960</th>\n",
       "      <td>30m</td>\n",
       "      <td>20</td>\n",
       "      <td>12</td>\n",
       "      <td>8</td>\n",
       "      <td>0.698155</td>\n",
       "      <td>-0.043155</td>\n",
       "      <td>0.185884</td>\n",
       "      <td>-0.232163</td>\n",
       "      <td>1.585557</td>\n",
       "      <td>0.055379</td>\n",
       "      <td>0.143353</td>\n",
       "      <td>0.386311</td>\n",
       "      <td>1.337602</td>\n",
       "      <td>0.034948</td>\n",
       "      <td>0.143857</td>\n",
       "      <td>0.242933</td>\n",
       "      <td>MM</td>\n",
       "      <td>2020-02-15-00:00</td>\n",
       "      <td>2020-04-19-00:00</td>\n",
       "    </tr>\n",
       "  </tbody>\n",
       "</table>\n",
       "</div>"
      ],
      "text/plain": [
       "     interval_opt  macd_slow_opt  macd_fast_opt  macd_signal_opt  \\\n",
       "1924          30m             20              8               12   \n",
       "1960          30m             20             12                8   \n",
       "\n",
       "      multiple_hold  ann_log_mean_hold  ann_log_std_hold  sharpe_ratio_hold  \\\n",
       "1924       0.698155          -0.043155          0.185884          -0.232163   \n",
       "1960       0.698155          -0.043155          0.185884          -0.232163   \n",
       "\n",
       "      multiple_macd_peak_strategy  ann_log_mean_macd_peak  \\\n",
       "1924                     1.585557                0.055379   \n",
       "1960                     1.585557                0.055379   \n",
       "\n",
       "      ann_log_std_macd_peak  sharpe_ratio_macd_peak  \\\n",
       "1924               0.143353                0.386311   \n",
       "1960               0.143353                0.386311   \n",
       "\n",
       "      multiple_macd_peak_strategy_net  ann_log_mean_macd_peak_net  \\\n",
       "1924                         1.337602                    0.034948   \n",
       "1960                         1.337602                    0.034948   \n",
       "\n",
       "      ann_log_std_macd_peak_net  sharpe_ratio_macd_peak_net trend_ref  \\\n",
       "1924                   0.143857                    0.242933        MM   \n",
       "1960                   0.143857                    0.242933        MM   \n",
       "\n",
       "             start_opt           end_opt  \n",
       "1924  2020-02-15-00:00  2020-04-19-00:00  \n",
       "1960  2020-02-15-00:00  2020-04-19-00:00  "
      ]
     },
     "execution_count": 15,
     "metadata": {},
     "output_type": "execute_result"
    }
   ],
   "source": [
    "macd_peak_opt_mm.opt_results[macd_peak_opt_mm.opt_results.multiple_macd_peak_strategy == macd_peak_opt_mm.opt_results.multiple_macd_peak_strategy.max()]"
   ]
  },
  {
   "cell_type": "markdown",
   "id": "82721baa",
   "metadata": {},
   "source": [
    "### 3) Create new class for interval of max and launch backtest for the combinations of max"
   ]
  },
  {
   "cell_type": "code",
   "execution_count": 7,
   "id": "ece319cc",
   "metadata": {},
   "outputs": [],
   "source": [
    "# macd_opt_mm_1h = Macd_long_backtester('BTCUSDT')"
   ]
  },
  {
   "cell_type": "code",
   "execution_count": 8,
   "id": "ea3f9655",
   "metadata": {},
   "outputs": [],
   "source": [
    "# macd_opt_mm_1h.prepare_data(start='2020-02-15-00:00', end='2020-04-19-00:00', interval='1h')"
   ]
  },
  {
   "cell_type": "code",
   "execution_count": 9,
   "id": "d760067b",
   "metadata": {},
   "outputs": [],
   "source": [
    "# macd_opt_mm_1h.execute_backtest(start='2020-02-15-00:00', ema_slow=24, ema_fast=10, ema_signal=14)"
   ]
  },
  {
   "cell_type": "markdown",
   "id": "bb492f9b",
   "metadata": {},
   "source": [
    "### 4) Plot the accumulated max vs hold"
   ]
  },
  {
   "cell_type": "markdown",
   "id": "94a22b6e",
   "metadata": {},
   "source": [
    "### 5) Extract combinations of max_net "
   ]
  },
  {
   "cell_type": "code",
   "execution_count": 10,
   "id": "80075296",
   "metadata": {
    "scrolled": true
   },
   "outputs": [],
   "source": [
    "# macd_opt_mm.opt_results[macd_opt_mm.opt_results.multiple_macd_strategy_net == macd_opt_mm.opt_results.multiple_macd_strategy_net.max()]"
   ]
  },
  {
   "cell_type": "markdown",
   "id": "1ddafbd1",
   "metadata": {},
   "source": [
    "### 6) Create new class for interval of max_net and launch backtest for the combinations of max_net"
   ]
  },
  {
   "cell_type": "markdown",
   "id": "ac4b2cda",
   "metadata": {},
   "source": [
    "### 7) Plot the accumulated max_net vs hold"
   ]
  },
  {
   "cell_type": "markdown",
   "id": "0610775e",
   "metadata": {},
   "source": [
    "### 8) Further..."
   ]
  }
 ],
 "metadata": {
  "kernelspec": {
   "display_name": "Python 3 (ipykernel)",
   "language": "python",
   "name": "python3"
  },
  "language_info": {
   "codemirror_mode": {
    "name": "ipython",
    "version": 3
   },
   "file_extension": ".py",
   "mimetype": "text/x-python",
   "name": "python",
   "nbconvert_exporter": "python",
   "pygments_lexer": "ipython3",
   "version": "3.9.12"
  }
 },
 "nbformat": 4,
 "nbformat_minor": 5
}
