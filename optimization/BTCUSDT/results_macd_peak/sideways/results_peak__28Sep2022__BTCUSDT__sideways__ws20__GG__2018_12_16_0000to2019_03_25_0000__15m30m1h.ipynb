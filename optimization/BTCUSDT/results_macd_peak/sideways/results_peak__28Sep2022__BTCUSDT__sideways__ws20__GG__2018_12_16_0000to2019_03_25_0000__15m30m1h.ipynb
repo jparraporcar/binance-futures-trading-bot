{
 "cells": [
  {
   "cell_type": "code",
   "execution_count": 1,
   "id": "60646008",
   "metadata": {},
   "outputs": [],
   "source": [
    "import sys\n",
    "sys.path.append('/Users/jp/Desktop/Investment/trading_BOT/macd_long_backtester_1stpkbm/')\n",
    "from macd_long_backtester_1stpkbm import Macd_long_backtester_1stpkbm\n",
    "import pandas as pd\n",
    "import matplotlib.pyplot as plt"
   ]
  },
  {
   "cell_type": "code",
   "execution_count": 2,
   "id": "b76086da",
   "metadata": {},
   "outputs": [],
   "source": [
    "pd.set_option('display.max_rows', None)"
   ]
  },
  {
   "cell_type": "markdown",
   "id": "893e6ffc",
   "metadata": {},
   "source": [
    "### 1) Launch optimization"
   ]
  },
  {
   "cell_type": "code",
   "execution_count": 3,
   "id": "4643619f",
   "metadata": {},
   "outputs": [
    {
     "name": "stdout",
     "output_type": "stream",
     "text": [
      "class version 1.0 is being used\n"
     ]
    }
   ],
   "source": [
    "macd_peak_opt_gg = Macd_long_backtester_1stpkbm('BTCUSDT')"
   ]
  },
  {
   "cell_type": "code",
   "execution_count": 13,
   "id": "f108640d",
   "metadata": {
    "scrolled": true
   },
   "outputs": [],
   "source": [
    "# macd_peak_opt_gg.execute_opt(interval_opt=('15m', '30m', '1h') ,start_opt='2018-12-16-00:00', end_opt='2019-03-25-00:00', ema_fast_opt=(2,16,2), ema_slow_opt=(16,40,2), ema_sign_opt=(2, 40, 2), int_for_max='30m', trend_ref='GG', type_trend='sideways_peak_gg')"
   ]
  },
  {
   "cell_type": "code",
   "execution_count": 14,
   "id": "8e4beaf7",
   "metadata": {},
   "outputs": [],
   "source": [
    "macd_peak_opt_gg.opt_results = pd.read_csv('sideways_peak_gg.csv')"
   ]
  },
  {
   "cell_type": "markdown",
   "id": "887c8625",
   "metadata": {},
   "source": [
    "### 2) Extract combinations of max"
   ]
  },
  {
   "cell_type": "code",
   "execution_count": 15,
   "id": "0a78c8dd",
   "metadata": {},
   "outputs": [
    {
     "data": {
      "text/html": [
       "<div>\n",
       "<style scoped>\n",
       "    .dataframe tbody tr th:only-of-type {\n",
       "        vertical-align: middle;\n",
       "    }\n",
       "\n",
       "    .dataframe tbody tr th {\n",
       "        vertical-align: top;\n",
       "    }\n",
       "\n",
       "    .dataframe thead th {\n",
       "        text-align: right;\n",
       "    }\n",
       "</style>\n",
       "<table border=\"1\" class=\"dataframe\">\n",
       "  <thead>\n",
       "    <tr style=\"text-align: right;\">\n",
       "      <th></th>\n",
       "      <th>interval_opt</th>\n",
       "      <th>macd_slow_opt</th>\n",
       "      <th>macd_fast_opt</th>\n",
       "      <th>macd_signal_opt</th>\n",
       "      <th>multiple_hold</th>\n",
       "      <th>ann_log_mean_hold</th>\n",
       "      <th>ann_log_std_hold</th>\n",
       "      <th>sharpe_ratio_hold</th>\n",
       "      <th>multiple_macd_peak_strategy</th>\n",
       "      <th>ann_log_mean_macd_peak</th>\n",
       "      <th>ann_log_std_macd_peak</th>\n",
       "      <th>sharpe_ratio_macd_peak</th>\n",
       "      <th>multiple_macd_peak_strategy_net</th>\n",
       "      <th>ann_log_mean_macd_peak_net</th>\n",
       "      <th>ann_log_std_macd_peak_net</th>\n",
       "      <th>sharpe_ratio_macd_peak_net</th>\n",
       "      <th>trend_ref</th>\n",
       "      <th>start_opt</th>\n",
       "      <th>end_opt</th>\n",
       "    </tr>\n",
       "  </thead>\n",
       "  <tbody>\n",
       "    <tr>\n",
       "      <th>593</th>\n",
       "      <td>15m</td>\n",
       "      <td>24</td>\n",
       "      <td>8</td>\n",
       "      <td>12</td>\n",
       "      <td>1.242887</td>\n",
       "      <td>0.008404</td>\n",
       "      <td>0.05389</td>\n",
       "      <td>0.155941</td>\n",
       "      <td>1.351336</td>\n",
       "      <td>0.011638</td>\n",
       "      <td>0.039303</td>\n",
       "      <td>0.29611</td>\n",
       "      <td>0.823845</td>\n",
       "      <td>-0.00749</td>\n",
       "      <td>0.039923</td>\n",
       "      <td>-0.187609</td>\n",
       "      <td>GG</td>\n",
       "      <td>2018-12-16-00:00</td>\n",
       "      <td>2019-03-25-00:00</td>\n",
       "    </tr>\n",
       "    <tr>\n",
       "      <th>629</th>\n",
       "      <td>15m</td>\n",
       "      <td>24</td>\n",
       "      <td>12</td>\n",
       "      <td>8</td>\n",
       "      <td>1.242887</td>\n",
       "      <td>0.008404</td>\n",
       "      <td>0.05389</td>\n",
       "      <td>0.155941</td>\n",
       "      <td>1.351336</td>\n",
       "      <td>0.011638</td>\n",
       "      <td>0.039303</td>\n",
       "      <td>0.29611</td>\n",
       "      <td>0.823845</td>\n",
       "      <td>-0.00749</td>\n",
       "      <td>0.039923</td>\n",
       "      <td>-0.187609</td>\n",
       "      <td>GG</td>\n",
       "      <td>2018-12-16-00:00</td>\n",
       "      <td>2019-03-25-00:00</td>\n",
       "    </tr>\n",
       "  </tbody>\n",
       "</table>\n",
       "</div>"
      ],
      "text/plain": [
       "    interval_opt  macd_slow_opt  macd_fast_opt  macd_signal_opt  \\\n",
       "593          15m             24              8               12   \n",
       "629          15m             24             12                8   \n",
       "\n",
       "     multiple_hold  ann_log_mean_hold  ann_log_std_hold  sharpe_ratio_hold  \\\n",
       "593       1.242887           0.008404           0.05389           0.155941   \n",
       "629       1.242887           0.008404           0.05389           0.155941   \n",
       "\n",
       "     multiple_macd_peak_strategy  ann_log_mean_macd_peak  \\\n",
       "593                     1.351336                0.011638   \n",
       "629                     1.351336                0.011638   \n",
       "\n",
       "     ann_log_std_macd_peak  sharpe_ratio_macd_peak  \\\n",
       "593               0.039303                 0.29611   \n",
       "629               0.039303                 0.29611   \n",
       "\n",
       "     multiple_macd_peak_strategy_net  ann_log_mean_macd_peak_net  \\\n",
       "593                         0.823845                    -0.00749   \n",
       "629                         0.823845                    -0.00749   \n",
       "\n",
       "     ann_log_std_macd_peak_net  sharpe_ratio_macd_peak_net trend_ref  \\\n",
       "593                   0.039923                   -0.187609        GG   \n",
       "629                   0.039923                   -0.187609        GG   \n",
       "\n",
       "            start_opt           end_opt  \n",
       "593  2018-12-16-00:00  2019-03-25-00:00  \n",
       "629  2018-12-16-00:00  2019-03-25-00:00  "
      ]
     },
     "execution_count": 15,
     "metadata": {},
     "output_type": "execute_result"
    }
   ],
   "source": [
    "macd_peak_opt_gg.opt_results[macd_peak_opt_gg.opt_results.multiple_macd_peak_strategy == macd_peak_opt_gg.opt_results.multiple_macd_peak_strategy.max()]"
   ]
  },
  {
   "cell_type": "markdown",
   "id": "d437408b",
   "metadata": {},
   "source": [
    "### 3) Create new class for interval of max and launch backtest for the combinations of max"
   ]
  },
  {
   "cell_type": "code",
   "execution_count": 7,
   "id": "cc890b97",
   "metadata": {},
   "outputs": [],
   "source": [
    "# macd_opt_gg_30m = Macd_long_backtester('BTCUSDT')"
   ]
  },
  {
   "cell_type": "code",
   "execution_count": 8,
   "id": "df2e07f9",
   "metadata": {},
   "outputs": [],
   "source": [
    "# macd_opt_gg_30m.execute_backtest(start='2018-12-16-00:00', ema_slow=32, ema_fast=10, ema_signal=14)"
   ]
  },
  {
   "cell_type": "code",
   "execution_count": 9,
   "id": "be16431e",
   "metadata": {
    "scrolled": true
   },
   "outputs": [],
   "source": [
    "# macd_opt_gg_30m.data_init.macd_log_returns_acum.plot(figsize=(15,10))\n",
    "# macd_opt_gg_30m.data_init.multiple_hold_acum.plot(figsize=(15,10))\n",
    "# plt.legend()"
   ]
  },
  {
   "cell_type": "code",
   "execution_count": 10,
   "id": "f668282c",
   "metadata": {},
   "outputs": [],
   "source": [
    "# macd_opt_gg_30m.prepare_data(start='2018-12-16-00:00', end='2019-03-25-00:00', interval='30m')"
   ]
  },
  {
   "cell_type": "markdown",
   "id": "8bab627f",
   "metadata": {},
   "source": [
    "### 4) Plot the accumulated max vs hold"
   ]
  },
  {
   "cell_type": "markdown",
   "id": "88336d63",
   "metadata": {},
   "source": [
    "### 5) Extract combinations of max_net "
   ]
  },
  {
   "cell_type": "code",
   "execution_count": 11,
   "id": "4ba9597f",
   "metadata": {
    "scrolled": false
   },
   "outputs": [],
   "source": [
    "# macd_opt_gg.opt_results[macd_opt_gg.opt_results.multiple_macd_strategy_net == macd_opt_gg.opt_results.multiple_macd_strategy_net.max()]"
   ]
  },
  {
   "cell_type": "markdown",
   "id": "fafa0bcc",
   "metadata": {},
   "source": [
    "### 6) Create new class for interval of max_net and launch backtest for the combinations of max_net"
   ]
  },
  {
   "cell_type": "markdown",
   "id": "faab0769",
   "metadata": {},
   "source": [
    "### 7) Plot the accumulated max_net vs hold"
   ]
  },
  {
   "cell_type": "markdown",
   "id": "117af8e6",
   "metadata": {},
   "source": [
    "### 8) Further..."
   ]
  },
  {
   "cell_type": "markdown",
   "id": "faa5a888",
   "metadata": {},
   "source": []
  }
 ],
 "metadata": {
  "kernelspec": {
   "display_name": "Python 3 (ipykernel)",
   "language": "python",
   "name": "python3"
  },
  "language_info": {
   "codemirror_mode": {
    "name": "ipython",
    "version": 3
   },
   "file_extension": ".py",
   "mimetype": "text/x-python",
   "name": "python",
   "nbconvert_exporter": "python",
   "pygments_lexer": "ipython3",
   "version": "3.9.12"
  }
 },
 "nbformat": 4,
 "nbformat_minor": 5
}
