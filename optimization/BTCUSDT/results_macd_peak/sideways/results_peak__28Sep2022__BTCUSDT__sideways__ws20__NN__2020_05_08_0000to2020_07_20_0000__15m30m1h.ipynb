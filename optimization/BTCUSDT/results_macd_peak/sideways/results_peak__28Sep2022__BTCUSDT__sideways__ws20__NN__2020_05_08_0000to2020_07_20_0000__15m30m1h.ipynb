{
 "cells": [
  {
   "cell_type": "code",
   "execution_count": 1,
   "id": "622ab346",
   "metadata": {},
   "outputs": [],
   "source": [
    "import sys\n",
    "sys.path.append('/Users/jp/Desktop/Investment/trading_BOT/macd_long_backtester_1stpkbm/')\n",
    "from macd_long_backtester_1stpkbm import Macd_long_backtester_1stpkbm\n",
    "import pandas as pd\n",
    "import matplotlib.pyplot as plt"
   ]
  },
  {
   "cell_type": "code",
   "execution_count": 2,
   "id": "bb7d7afb",
   "metadata": {},
   "outputs": [],
   "source": [
    "pd.set_option('display.max_rows', None)"
   ]
  },
  {
   "cell_type": "markdown",
   "id": "756845b6",
   "metadata": {},
   "source": [
    "### 1) Launch optimization"
   ]
  },
  {
   "cell_type": "code",
   "execution_count": 3,
   "id": "317d62d9",
   "metadata": {},
   "outputs": [
    {
     "name": "stdout",
     "output_type": "stream",
     "text": [
      "class version 1.0 is being used\n"
     ]
    }
   ],
   "source": [
    "macd_peak_opt_nn = Macd_long_backtester_1stpkbm('BTCUSDT')"
   ]
  },
  {
   "cell_type": "code",
   "execution_count": 16,
   "id": "6fc2e78a",
   "metadata": {
    "scrolled": true
   },
   "outputs": [],
   "source": [
    "# macd_peak_opt_nn.execute_opt(interval_opt=('15m', '30m', '1h') ,start_opt='2020-05-08-00:00', end_opt='2020-07-20-00:00', ema_fast_opt=(2,16,2), ema_slow_opt=(16,40,2), ema_sign_opt=(2, 40, 2), int_for_max='15m', trend_ref='NN', type_trend='sideways_peak_nn')"
   ]
  },
  {
   "cell_type": "code",
   "execution_count": 17,
   "id": "a2b99d64",
   "metadata": {},
   "outputs": [],
   "source": [
    "macd_peak_opt_nn.opt_results = pd.read_csv('sideways_peak_nn.csv')"
   ]
  },
  {
   "cell_type": "markdown",
   "id": "367d3f03",
   "metadata": {},
   "source": [
    "### 2) Extract combinations of max"
   ]
  },
  {
   "cell_type": "code",
   "execution_count": 18,
   "id": "d49f1e65",
   "metadata": {
    "scrolled": true
   },
   "outputs": [
    {
     "data": {
      "text/html": [
       "<div>\n",
       "<style scoped>\n",
       "    .dataframe tbody tr th:only-of-type {\n",
       "        vertical-align: middle;\n",
       "    }\n",
       "\n",
       "    .dataframe tbody tr th {\n",
       "        vertical-align: top;\n",
       "    }\n",
       "\n",
       "    .dataframe thead th {\n",
       "        text-align: right;\n",
       "    }\n",
       "</style>\n",
       "<table border=\"1\" class=\"dataframe\">\n",
       "  <thead>\n",
       "    <tr style=\"text-align: right;\">\n",
       "      <th></th>\n",
       "      <th>interval_opt</th>\n",
       "      <th>macd_slow_opt</th>\n",
       "      <th>macd_fast_opt</th>\n",
       "      <th>macd_signal_opt</th>\n",
       "      <th>multiple_hold</th>\n",
       "      <th>ann_log_mean_hold</th>\n",
       "      <th>ann_log_std_hold</th>\n",
       "      <th>sharpe_ratio_hold</th>\n",
       "      <th>multiple_macd_peak_strategy</th>\n",
       "      <th>ann_log_mean_macd_peak</th>\n",
       "      <th>ann_log_std_macd_peak</th>\n",
       "      <th>sharpe_ratio_macd_peak</th>\n",
       "      <th>multiple_macd_peak_strategy_net</th>\n",
       "      <th>ann_log_mean_macd_peak_net</th>\n",
       "      <th>ann_log_std_macd_peak_net</th>\n",
       "      <th>sharpe_ratio_macd_peak_net</th>\n",
       "      <th>trend_ref</th>\n",
       "      <th>start_opt</th>\n",
       "      <th>end_opt</th>\n",
       "    </tr>\n",
       "  </thead>\n",
       "  <tbody>\n",
       "    <tr>\n",
       "      <th>256</th>\n",
       "      <td>15m</td>\n",
       "      <td>18</td>\n",
       "      <td>14</td>\n",
       "      <td>22</td>\n",
       "      <td>0.921833</td>\n",
       "      <td>-0.00427</td>\n",
       "      <td>0.056452</td>\n",
       "      <td>-0.075632</td>\n",
       "      <td>1.151061</td>\n",
       "      <td>0.007381</td>\n",
       "      <td>0.042781</td>\n",
       "      <td>0.17253</td>\n",
       "      <td>0.871657</td>\n",
       "      <td>-0.007207</td>\n",
       "      <td>0.043218</td>\n",
       "      <td>-0.166751</td>\n",
       "      <td>NN</td>\n",
       "      <td>2020-05-08-00:00</td>\n",
       "      <td>2020-07-20-00:00</td>\n",
       "    </tr>\n",
       "    <tr>\n",
       "      <th>520</th>\n",
       "      <td>15m</td>\n",
       "      <td>22</td>\n",
       "      <td>14</td>\n",
       "      <td>18</td>\n",
       "      <td>0.921833</td>\n",
       "      <td>-0.00427</td>\n",
       "      <td>0.056452</td>\n",
       "      <td>-0.075632</td>\n",
       "      <td>1.151061</td>\n",
       "      <td>0.007381</td>\n",
       "      <td>0.042781</td>\n",
       "      <td>0.17253</td>\n",
       "      <td>0.871657</td>\n",
       "      <td>-0.007207</td>\n",
       "      <td>0.043218</td>\n",
       "      <td>-0.166751</td>\n",
       "      <td>NN</td>\n",
       "      <td>2020-05-08-00:00</td>\n",
       "      <td>2020-07-20-00:00</td>\n",
       "    </tr>\n",
       "  </tbody>\n",
       "</table>\n",
       "</div>"
      ],
      "text/plain": [
       "    interval_opt  macd_slow_opt  macd_fast_opt  macd_signal_opt  \\\n",
       "256          15m             18             14               22   \n",
       "520          15m             22             14               18   \n",
       "\n",
       "     multiple_hold  ann_log_mean_hold  ann_log_std_hold  sharpe_ratio_hold  \\\n",
       "256       0.921833           -0.00427          0.056452          -0.075632   \n",
       "520       0.921833           -0.00427          0.056452          -0.075632   \n",
       "\n",
       "     multiple_macd_peak_strategy  ann_log_mean_macd_peak  \\\n",
       "256                     1.151061                0.007381   \n",
       "520                     1.151061                0.007381   \n",
       "\n",
       "     ann_log_std_macd_peak  sharpe_ratio_macd_peak  \\\n",
       "256               0.042781                 0.17253   \n",
       "520               0.042781                 0.17253   \n",
       "\n",
       "     multiple_macd_peak_strategy_net  ann_log_mean_macd_peak_net  \\\n",
       "256                         0.871657                   -0.007207   \n",
       "520                         0.871657                   -0.007207   \n",
       "\n",
       "     ann_log_std_macd_peak_net  sharpe_ratio_macd_peak_net trend_ref  \\\n",
       "256                   0.043218                   -0.166751        NN   \n",
       "520                   0.043218                   -0.166751        NN   \n",
       "\n",
       "            start_opt           end_opt  \n",
       "256  2020-05-08-00:00  2020-07-20-00:00  \n",
       "520  2020-05-08-00:00  2020-07-20-00:00  "
      ]
     },
     "execution_count": 18,
     "metadata": {},
     "output_type": "execute_result"
    }
   ],
   "source": [
    "macd_peak_opt_nn.opt_results[macd_peak_opt_nn.opt_results.multiple_macd_peak_strategy == macd_peak_opt_nn.opt_results.multiple_macd_peak_strategy.max()]"
   ]
  },
  {
   "cell_type": "markdown",
   "id": "0dd74256",
   "metadata": {},
   "source": [
    "### 3) Create new class for interval of max and launch backtest for the combinations of max"
   ]
  },
  {
   "cell_type": "code",
   "execution_count": 7,
   "id": "b84cbdb5",
   "metadata": {},
   "outputs": [],
   "source": [
    "# macd_opt_nn_30m = Macd_long_backtester('BTCUSDT')"
   ]
  },
  {
   "cell_type": "code",
   "execution_count": 8,
   "id": "16db5cd4",
   "metadata": {},
   "outputs": [],
   "source": [
    "# macd_opt_nn_30m.prepare_data(start='2020-05-08-00:00', end='2020-07-20-00:00', interval='30m')"
   ]
  },
  {
   "cell_type": "code",
   "execution_count": 9,
   "id": "a13d628c",
   "metadata": {},
   "outputs": [],
   "source": [
    "# macd_opt_nn_30m.execute_backtest(start='2020-05-08-00:00', ema_slow=28, ema_fast=14, ema_signal=26)"
   ]
  },
  {
   "cell_type": "markdown",
   "id": "b1f9242a",
   "metadata": {},
   "source": [
    "### 4) Plot the accumulated max vs hold"
   ]
  },
  {
   "cell_type": "code",
   "execution_count": 10,
   "id": "360426c7",
   "metadata": {},
   "outputs": [],
   "source": [
    "# macd_opt_nn_30m.data_init.macd_log_returns_acum.plot(figsize=(15,10))\n",
    "# macd_opt_nn_30m.data_init.multiple_hold_acum.plot(figsize=(15,10))\n",
    "# plt.legend()"
   ]
  },
  {
   "cell_type": "markdown",
   "id": "b2d0ffc5",
   "metadata": {},
   "source": [
    "### 5) Extract combinations of max_net "
   ]
  },
  {
   "cell_type": "code",
   "execution_count": 11,
   "id": "cb05a810",
   "metadata": {},
   "outputs": [],
   "source": [
    "# macd_opt_nn.opt_results[macd_opt_nn.opt_results.multiple_macd_strategy_net == macd_opt_nn.opt_results.multiple_macd_strategy_net.max()]"
   ]
  },
  {
   "cell_type": "markdown",
   "id": "9b3f900a",
   "metadata": {},
   "source": [
    "### 6) Create new class for interval of max_net and launch backtest for the combinations of max_net"
   ]
  },
  {
   "cell_type": "code",
   "execution_count": 12,
   "id": "9929b1d3",
   "metadata": {},
   "outputs": [],
   "source": [
    "# macd_opt_nn_1h_netmax = Macd_long_backtester('BTCUSDT')"
   ]
  },
  {
   "cell_type": "code",
   "execution_count": 13,
   "id": "a63088a1",
   "metadata": {},
   "outputs": [],
   "source": [
    "# macd_opt_nn_1h_netmax.prepare_data(start='2020-05-08-00:00', end='2020-07-20-00:00', interval='1h')"
   ]
  },
  {
   "cell_type": "code",
   "execution_count": 14,
   "id": "e99d2aa8",
   "metadata": {},
   "outputs": [],
   "source": [
    "# macd_opt_nn_1h_netmax.execute_backtest(start='2020-05-08-00:00', ema_slow=20, ema_fast=12, ema_signal=20)"
   ]
  },
  {
   "cell_type": "markdown",
   "id": "98216348",
   "metadata": {},
   "source": [
    "### 7) Plot the accumulated max_net vs hold"
   ]
  },
  {
   "cell_type": "code",
   "execution_count": 15,
   "id": "a08777db",
   "metadata": {
    "scrolled": true
   },
   "outputs": [],
   "source": [
    "# macd_opt_nn_1h_netmax.data_init.macd_log_returns_acum.plot(figsize=(15,10))\n",
    "# macd_opt_nn_1h_netmax.data_init.multiple_hold_acum.plot(figsize=(15,10))\n",
    "# plt.legend()"
   ]
  },
  {
   "cell_type": "markdown",
   "id": "7742a92d",
   "metadata": {},
   "source": [
    "### 8) Further..."
   ]
  }
 ],
 "metadata": {
  "kernelspec": {
   "display_name": "Python 3 (ipykernel)",
   "language": "python",
   "name": "python3"
  },
  "language_info": {
   "codemirror_mode": {
    "name": "ipython",
    "version": 3
   },
   "file_extension": ".py",
   "mimetype": "text/x-python",
   "name": "python",
   "nbconvert_exporter": "python",
   "pygments_lexer": "ipython3",
   "version": "3.9.12"
  }
 },
 "nbformat": 4,
 "nbformat_minor": 5
}
