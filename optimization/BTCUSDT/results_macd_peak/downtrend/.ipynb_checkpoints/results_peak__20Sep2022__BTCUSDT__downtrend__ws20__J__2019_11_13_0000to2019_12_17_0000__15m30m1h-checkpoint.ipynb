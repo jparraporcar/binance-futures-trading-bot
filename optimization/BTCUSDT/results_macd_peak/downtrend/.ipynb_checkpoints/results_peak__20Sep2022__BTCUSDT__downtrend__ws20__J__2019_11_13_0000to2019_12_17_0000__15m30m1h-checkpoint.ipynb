{
 "cells": [
  {
   "cell_type": "code",
   "execution_count": 1,
   "id": "b7e980b6",
   "metadata": {},
   "outputs": [],
   "source": [
    "import sys\n",
    "sys.path.append('/Users/jp/Desktop/Investment/trading_BOT/macd_long_backtester_1stpkbm/')\n",
    "from macd_long_backtester_1stpkbm import Macd_long_backtester_1stpkbm\n",
    "import pandas as pd\n",
    "import matplotlib.pyplot as plt"
   ]
  },
  {
   "cell_type": "code",
   "execution_count": 2,
   "id": "e84f4eab",
   "metadata": {},
   "outputs": [],
   "source": [
    "pd.set_option('display.max_rows', None)"
   ]
  },
  {
   "cell_type": "markdown",
   "id": "ded7ce4a",
   "metadata": {},
   "source": [
    "### 1) Launch optimization"
   ]
  },
  {
   "cell_type": "code",
   "execution_count": 5,
   "id": "fd729249",
   "metadata": {},
   "outputs": [
    {
     "name": "stdout",
     "output_type": "stream",
     "text": [
      "class version 1.0 is being used\n"
     ]
    }
   ],
   "source": [
    "macd_peak_opt_j = Macd_long_backtester_1stpkbm('BTCUSDT')"
   ]
  },
  {
   "cell_type": "code",
   "execution_count": 4,
   "id": "1e498a98",
   "metadata": {},
   "outputs": [],
   "source": [
    "# df = pd.read_csv('downtrend_peak_j.csv')\n",
    "# macd_opt_j.opt_results = df"
   ]
  },
  {
   "cell_type": "code",
   "execution_count": null,
   "id": "e5982839",
   "metadata": {
    "scrolled": true
   },
   "outputs": [
    {
     "name": "stdout",
     "output_type": "stream",
     "text": [
      "3248\n",
      "3268\n",
      "   multiple_hold  ann_log_mean_hold  ann_log_std_hold  sharpe_ratio_hold  \\\n",
      "0       0.808728          -0.024132          0.056896          -0.424134   \n",
      "\n",
      "   multiple_macd_peak_strategy  ann_log_mean_macd_peak  ann_log_std_macd_peak  \\\n",
      "0                     0.902325               -0.011687               0.042539   \n",
      "\n",
      "   sharpe_ratio_macd_peak  multiple_macd_peak_strategy_net  \\\n",
      "0               -0.274732                          0.72582   \n",
      "\n",
      "   ann_log_mean_macd_peak_net  ann_log_std_macd_peak_net  \\\n",
      "0                   -0.036438                   0.042878   \n",
      "\n",
      "   sharpe_ratio_macd_peak_net  \n",
      "0                   -0.849811  \n",
      "processed 1 out of a total 4788\n",
      "3248\n",
      "3270\n",
      "   multiple_hold  ann_log_mean_hold  ann_log_std_hold  sharpe_ratio_hold  \\\n",
      "0       0.808728          -0.024132          0.056896          -0.424134   \n",
      "\n",
      "   multiple_macd_peak_strategy  ann_log_mean_macd_peak  ann_log_std_macd_peak  \\\n",
      "0                     0.909861               -0.010741               0.041133   \n",
      "\n",
      "   sharpe_ratio_macd_peak  multiple_macd_peak_strategy_net  \\\n",
      "0               -0.261132                         0.713448   \n",
      "\n",
      "   ann_log_mean_macd_peak_net  ann_log_std_macd_peak_net  \\\n",
      "0                   -0.038393                   0.041727   \n",
      "\n",
      "   sharpe_ratio_macd_peak_net  \n",
      "0                   -0.920091  \n",
      "processed 2 out of a total 4788\n",
      "3248\n",
      "3272\n",
      "   multiple_hold  ann_log_mean_hold  ann_log_std_hold  sharpe_ratio_hold  \\\n",
      "0       0.808728          -0.024132          0.056896          -0.424134   \n",
      "\n",
      "   multiple_macd_peak_strategy  ann_log_mean_macd_peak  ann_log_std_macd_peak  \\\n",
      "0                     0.881576               -0.014332               0.041719   \n",
      "\n",
      "   sharpe_ratio_macd_peak  multiple_macd_peak_strategy_net  \\\n",
      "0               -0.343535                         0.698359   \n",
      "\n",
      "   ann_log_mean_macd_peak_net  ann_log_std_macd_peak_net  \\\n",
      "0                   -0.040823                   0.042319   \n",
      "\n",
      "   sharpe_ratio_macd_peak_net  \n",
      "0                   -0.964663  \n",
      "processed 3 out of a total 4788\n",
      "3248\n",
      "3274\n",
      "   multiple_hold  ann_log_mean_hold  ann_log_std_hold  sharpe_ratio_hold  \\\n",
      "0       0.808728          -0.024132          0.056896          -0.424134   \n",
      "\n",
      "   multiple_macd_peak_strategy  ann_log_mean_macd_peak  ann_log_std_macd_peak  \\\n",
      "0                     0.858245               -0.017382               0.041217   \n",
      "\n",
      "   sharpe_ratio_macd_peak  multiple_macd_peak_strategy_net  \\\n",
      "0               -0.421714                         0.685682   \n",
      "\n",
      "   ann_log_mean_macd_peak_net  ann_log_std_macd_peak_net  \\\n",
      "0                   -0.042906                   0.041824   \n",
      "\n",
      "   sharpe_ratio_macd_peak_net  \n",
      "0                   -1.025869  \n",
      "processed 4 out of a total 4788\n",
      "3248\n",
      "3276\n",
      "   multiple_hold  ann_log_mean_hold  ann_log_std_hold  sharpe_ratio_hold  \\\n",
      "0       0.808728          -0.024132          0.056896          -0.424134   \n",
      "\n",
      "   multiple_macd_peak_strategy  ann_log_mean_macd_peak  ann_log_std_macd_peak  \\\n",
      "0                     0.847527               -0.018811                 0.0418   \n",
      "\n",
      "   sharpe_ratio_macd_peak  multiple_macd_peak_strategy_net  \\\n",
      "0               -0.450022                         0.679426   \n",
      "\n",
      "   ann_log_mean_macd_peak_net  ann_log_std_macd_peak_net  \\\n",
      "0                   -0.043949                   0.042419   \n",
      "\n",
      "   sharpe_ratio_macd_peak_net  \n",
      "0                    -1.03606  \n",
      "processed 5 out of a total 4788\n",
      "3248\n",
      "3278\n",
      "   multiple_hold  ann_log_mean_hold  ann_log_std_hold  sharpe_ratio_hold  \\\n",
      "0       0.808728          -0.024132          0.056896          -0.424134   \n",
      "\n",
      "   multiple_macd_peak_strategy  ann_log_mean_macd_peak  ann_log_std_macd_peak  \\\n",
      "0                     0.861493               -0.016952               0.043237   \n",
      "\n",
      "   sharpe_ratio_macd_peak  multiple_macd_peak_strategy_net  \\\n",
      "0               -0.392083                         0.700082   \n",
      "\n",
      "   ann_log_mean_macd_peak_net  ann_log_std_macd_peak_net  \\\n",
      "0                   -0.040543                    0.04382   \n",
      "\n",
      "   sharpe_ratio_macd_peak_net  \n",
      "0                   -0.925211  \n",
      "processed 6 out of a total 4788\n",
      "3248\n",
      "3280\n",
      "   multiple_hold  ann_log_mean_hold  ann_log_std_hold  sharpe_ratio_hold  \\\n",
      "0       0.808728          -0.024132          0.056896          -0.424134   \n",
      "\n",
      "   multiple_macd_peak_strategy  ann_log_mean_macd_peak  ann_log_std_macd_peak  \\\n",
      "0                     0.870682               -0.015746               0.043116   \n",
      "\n",
      "   sharpe_ratio_macd_peak  multiple_macd_peak_strategy_net  \\\n",
      "0               -0.365203                         0.706347   \n",
      "\n",
      "   ann_log_mean_macd_peak_net  ann_log_std_macd_peak_net  \\\n",
      "0                    -0.03953                   0.043708   \n",
      "\n",
      "   sharpe_ratio_macd_peak_net  \n",
      "0                   -0.904423  \n",
      "processed 7 out of a total 4788\n",
      "3248\n",
      "3282\n"
     ]
    }
   ],
   "source": [
    "macd_peak_opt_j.execute_opt(interval_opt=('15m', '30m', '1h') ,start_opt='2019-11-13-00:00', end_opt='2019-12-17-00:00', ema_fast_opt=(2,16,2), ema_slow_opt=(16,40,2), ema_sign_opt=(2, 40, 2), int_for_max='1h', trend_ref='J', type_trend='downtrend_peak_j')"
   ]
  },
  {
   "cell_type": "markdown",
   "id": "bb57fed1",
   "metadata": {},
   "source": [
    "### 2) Extract combinations of max"
   ]
  },
  {
   "cell_type": "code",
   "execution_count": 7,
   "id": "69cf9dc5",
   "metadata": {},
   "outputs": [],
   "source": [
    "# macd_opt_j.opt_results[macd_opt_j.opt_results.multiple_macd_strategy == macd_opt_j.opt_results.multiple_macd_strategy.max()]"
   ]
  },
  {
   "cell_type": "markdown",
   "id": "80ce79ba",
   "metadata": {},
   "source": [
    "### 3) Create new class for interval of max and launch backtest for the combinations of max"
   ]
  },
  {
   "cell_type": "code",
   "execution_count": 8,
   "id": "66d3cf78",
   "metadata": {
    "scrolled": true
   },
   "outputs": [],
   "source": [
    "# macd_opt_j_15m = Macd_long_backtester('BTCUSDT')"
   ]
  },
  {
   "cell_type": "code",
   "execution_count": 9,
   "id": "288305f8",
   "metadata": {
    "scrolled": true
   },
   "outputs": [],
   "source": [
    "# macd_opt_j_15m.prepare_data(start='2019-11-13-00:00', end='2019-12-17-00:00', interval='15m')"
   ]
  },
  {
   "cell_type": "code",
   "execution_count": 10,
   "id": "7e485f89",
   "metadata": {},
   "outputs": [],
   "source": [
    "# macd_opt_j_15m.execute_backtest(start='2019-11-13-00:00', ema_slow=36, ema_fast=6, ema_signal=20)"
   ]
  },
  {
   "cell_type": "markdown",
   "id": "1d685b63",
   "metadata": {},
   "source": [
    "### 4) Plot the accumulated max vs hold"
   ]
  },
  {
   "cell_type": "code",
   "execution_count": 11,
   "id": "fdeb1853",
   "metadata": {},
   "outputs": [],
   "source": [
    "# macd_opt_j_15m.data_init.multiple_hold_acum.plot(figsize=(15,10))\n",
    "# macd_opt_j_15m.data_init.macd_log_returns_acum.plot(figsize=(15,10))\n",
    "# plt.legend()"
   ]
  },
  {
   "cell_type": "markdown",
   "id": "58706ec0",
   "metadata": {},
   "source": [
    "### 5) Extract combinations of max_net "
   ]
  },
  {
   "cell_type": "code",
   "execution_count": 12,
   "id": "250f6f6f",
   "metadata": {},
   "outputs": [],
   "source": [
    "# macd_opt_j.opt_results[macd_opt_j.opt_results.multiple_macd_strategy_net == macd_opt_j.opt_results.multiple_macd_strategy_net.max()]"
   ]
  },
  {
   "cell_type": "markdown",
   "id": "094391fb",
   "metadata": {},
   "source": [
    "### 6) Create new class for interval of max_net and launch backtest for the combinations of max_net"
   ]
  },
  {
   "cell_type": "code",
   "execution_count": 13,
   "id": "f3240792",
   "metadata": {},
   "outputs": [],
   "source": [
    "# macd_opt_j_15m_v2 = Macd_long_backtester('BTCUSDT')"
   ]
  },
  {
   "cell_type": "markdown",
   "id": "fe8baff5",
   "metadata": {},
   "source": [
    "### 7) Plot the accumulated max_net vs hold"
   ]
  },
  {
   "cell_type": "code",
   "execution_count": 14,
   "id": "38cb0f34",
   "metadata": {
    "scrolled": true
   },
   "outputs": [],
   "source": [
    "# macd_opt_j_15m_v2.prepare_data(start='2019-11-13-00:00', end='2019-12-17-00:00', interval='15m')"
   ]
  },
  {
   "cell_type": "code",
   "execution_count": 15,
   "id": "2cf78df8",
   "metadata": {},
   "outputs": [],
   "source": [
    "# macd_opt_j_15m_v2.execute_backtest(start='2019-11-13-00:00', ema_slow=24, ema_fast=14, ema_signal=26)"
   ]
  },
  {
   "cell_type": "markdown",
   "id": "08ef15b0",
   "metadata": {},
   "source": [
    "### 8) Further..."
   ]
  },
  {
   "cell_type": "code",
   "execution_count": null,
   "id": "26d09c12",
   "metadata": {},
   "outputs": [],
   "source": []
  }
 ],
 "metadata": {
  "kernelspec": {
   "display_name": "Python 3 (ipykernel)",
   "language": "python",
   "name": "python3"
  },
  "language_info": {
   "codemirror_mode": {
    "name": "ipython",
    "version": 3
   },
   "file_extension": ".py",
   "mimetype": "text/x-python",
   "name": "python",
   "nbconvert_exporter": "python",
   "pygments_lexer": "ipython3",
   "version": "3.9.12"
  }
 },
 "nbformat": 4,
 "nbformat_minor": 5
}
