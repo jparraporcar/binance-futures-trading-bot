{
 "cells": [
  {
   "cell_type": "code",
   "execution_count": 2,
   "id": "b7e980b6",
   "metadata": {},
   "outputs": [],
   "source": [
    "import sys\n",
    "sys.path.append('/Users/jp/Desktop/Investment/trading_BOT/macd_long_backtester_1stpkbm/')\n",
    "from macd_long_backtester_1stpkbm import Macd_long_backtester_1stpkbm\n",
    "import pandas as pd\n",
    "import matplotlib.pyplot as plt"
   ]
  },
  {
   "cell_type": "code",
   "execution_count": 7,
   "id": "e84f4eab",
   "metadata": {},
   "outputs": [],
   "source": [
    "pd.set_option('display.max_rows', None)"
   ]
  },
  {
   "cell_type": "markdown",
   "id": "ded7ce4a",
   "metadata": {},
   "source": [
    "### 1) Launch optimization"
   ]
  },
  {
   "cell_type": "code",
   "execution_count": 3,
   "id": "fd729249",
   "metadata": {},
   "outputs": [
    {
     "name": "stdout",
     "output_type": "stream",
     "text": [
      "class version 1.0 is being used\n"
     ]
    }
   ],
   "source": [
    "macd_peak_opt_f = Macd_long_backtester_1stpkbm('BTCUSDT')"
   ]
  },
  {
   "cell_type": "code",
   "execution_count": 9,
   "id": "5bb26835",
   "metadata": {},
   "outputs": [],
   "source": [
    "# df = pd.read_csv('downtrend_peak_f.csv')\n",
    "# macd_opt_f.opt_results = df"
   ]
  },
  {
   "cell_type": "code",
   "execution_count": null,
   "id": "e5982839",
   "metadata": {
    "scrolled": true
   },
   "outputs": [
    {
     "name": "stdout",
     "output_type": "stream",
     "text": [
      "3621\n",
      "3641\n",
      "   multiple_hold  ann_log_mean_hold  ann_log_std_hold  sharpe_ratio_hold  \\\n",
      "0       0.501985          -0.070188          0.101641          -0.690546   \n",
      "\n",
      "   multiple_macd_peak_strategy  ann_log_mean_macd_peak  ann_log_std_macd_peak  \\\n",
      "0                     0.922052               -0.008267                0.06648   \n",
      "\n",
      "   sharpe_ratio_macd_peak  multiple_macd_peak_strategy_net  \\\n",
      "0               -0.124356                         0.705397   \n",
      "\n",
      "   ann_log_mean_macd_peak_net  ann_log_std_macd_peak_net  \\\n",
      "0                   -0.035552                   0.066807   \n",
      "\n",
      "   sharpe_ratio_macd_peak_net  \n",
      "0                   -0.532159  \n",
      "processed 1 out of a total 4788\n",
      "3621\n",
      "3643\n",
      "   multiple_hold  ann_log_mean_hold  ann_log_std_hold  sharpe_ratio_hold  \\\n",
      "0       0.501985          -0.070188          0.101641          -0.690546   \n",
      "\n",
      "   multiple_macd_peak_strategy  ann_log_mean_macd_peak  ann_log_std_macd_peak  \\\n",
      "0                     0.780411               -0.025257               0.067949   \n",
      "\n",
      "   sharpe_ratio_macd_peak  multiple_macd_peak_strategy_net  \\\n",
      "0               -0.371705                         0.585974   \n",
      "\n",
      "   ann_log_mean_macd_peak_net  ann_log_std_macd_peak_net  \\\n",
      "0                   -0.054447                   0.068467   \n",
      "\n",
      "   sharpe_ratio_macd_peak_net  \n",
      "0                   -0.795231  \n",
      "processed 2 out of a total 4788\n",
      "3621\n",
      "3645\n",
      "   multiple_hold  ann_log_mean_hold  ann_log_std_hold  sharpe_ratio_hold  \\\n",
      "0       0.501985          -0.070188          0.101641          -0.690546   \n",
      "\n",
      "   multiple_macd_peak_strategy  ann_log_mean_macd_peak  ann_log_std_macd_peak  \\\n",
      "0                     0.674597                 -0.0401               0.069438   \n",
      "\n",
      "   sharpe_ratio_macd_peak  multiple_macd_peak_strategy_net  \\\n",
      "0               -0.577497                          0.51346   \n",
      "\n",
      "   ann_log_mean_macd_peak_net  ann_log_std_macd_peak_net  \\\n",
      "0                   -0.067905                    0.06992   \n",
      "\n",
      "   sharpe_ratio_macd_peak_net  \n",
      "0                    -0.97118  \n",
      "processed 3 out of a total 4788\n",
      "3621\n",
      "3647\n",
      "   multiple_hold  ann_log_mean_hold  ann_log_std_hold  sharpe_ratio_hold  \\\n",
      "0       0.501985          -0.070188          0.101641          -0.690546   \n",
      "\n",
      "   multiple_macd_peak_strategy  ann_log_mean_macd_peak  ann_log_std_macd_peak  \\\n",
      "0                     0.734869               -0.031382               0.072142   \n",
      "\n",
      "   sharpe_ratio_macd_peak  multiple_macd_peak_strategy_net  \\\n",
      "0               -0.435009                         0.566997   \n",
      "\n",
      "   ann_log_mean_macd_peak_net  ann_log_std_macd_peak_net  \\\n",
      "0                   -0.057801                   0.072634   \n",
      "\n",
      "   sharpe_ratio_macd_peak_net  \n",
      "0                   -0.795784  \n",
      "processed 4 out of a total 4788\n",
      "3621\n",
      "3649\n",
      "   multiple_hold  ann_log_mean_hold  ann_log_std_hold  sharpe_ratio_hold  \\\n",
      "0       0.501985          -0.070188          0.101641          -0.690546   \n",
      "\n",
      "   multiple_macd_peak_strategy  ann_log_mean_macd_peak  ann_log_std_macd_peak  \\\n",
      "0                     0.693265               -0.037319               0.073174   \n",
      "\n",
      "   sharpe_ratio_macd_peak  multiple_macd_peak_strategy_net  \\\n",
      "0               -0.510006                         0.541303   \n",
      "\n",
      "   ann_log_mean_macd_peak_net  ann_log_std_macd_peak_net  \\\n",
      "0                   -0.062525                   0.073649   \n",
      "\n",
      "   sharpe_ratio_macd_peak_net  \n",
      "0                    -0.84896  \n",
      "processed 5 out of a total 4788\n"
     ]
    }
   ],
   "source": [
    "macd_peak_opt_f.execute_opt(interval_opt=('15m', '30m', '1h') ,start_opt='2018-11-07-00:00', end_opt='2018-12-15-00:00', ema_fast_opt=(2,16,2), ema_slow_opt=(16,40,2), ema_sign_opt=(2, 40, 2), int_for_max='1h', trend_ref='F', type_trend='downtrend_peak_f')"
   ]
  },
  {
   "cell_type": "markdown",
   "id": "bb57fed1",
   "metadata": {},
   "source": [
    "### 2) Extract combinations of max"
   ]
  },
  {
   "cell_type": "code",
   "execution_count": null,
   "id": "24544990",
   "metadata": {},
   "outputs": [],
   "source": [
    "# macd_opt_f.opt_results[macd_opt_f.opt_results.multiple_macd_strategy == macd_opt_f.opt_results.multiple_macd_strategy.max()]"
   ]
  },
  {
   "cell_type": "markdown",
   "id": "80ce79ba",
   "metadata": {},
   "source": [
    "### 3) Create new class for interval of max and launch backtest for the combinations of max"
   ]
  },
  {
   "cell_type": "code",
   "execution_count": 5,
   "id": "1ce9d3b2",
   "metadata": {},
   "outputs": [],
   "source": [
    "# macd_opt_f_1h = Macd_long_backtester('BTCUSDT')"
   ]
  },
  {
   "cell_type": "code",
   "execution_count": 6,
   "id": "f545364f",
   "metadata": {
    "scrolled": true
   },
   "outputs": [],
   "source": [
    "# macd_opt_f_1h.prepare_data(start='2018-11-07-00:00', end='2018-12-15-00:00', interval='1h')"
   ]
  },
  {
   "cell_type": "code",
   "execution_count": 7,
   "id": "759764f0",
   "metadata": {},
   "outputs": [],
   "source": [
    "# macd_opt_f_1h.execute_backtest(start='2018-11-07-00:00', ema_slow=28, ema_fast=14, ema_signal=28)"
   ]
  },
  {
   "cell_type": "markdown",
   "id": "1d685b63",
   "metadata": {},
   "source": [
    "### 4) Plot the accumulated max vs hold"
   ]
  },
  {
   "cell_type": "code",
   "execution_count": 8,
   "id": "c9c1736a",
   "metadata": {},
   "outputs": [],
   "source": [
    "# macd_opt_f_1h.data_init.multiple_hold_acum.plot(figsize=(15,10))\n",
    "# macd_opt_f_1h.data_init.macd_log_returns_acum.plot(figsize=(15,10))\n",
    "# plt.legend()"
   ]
  },
  {
   "cell_type": "markdown",
   "id": "58706ec0",
   "metadata": {},
   "source": [
    "### 5) Extract combinations of max_net "
   ]
  },
  {
   "cell_type": "code",
   "execution_count": 9,
   "id": "7a833448",
   "metadata": {},
   "outputs": [],
   "source": [
    "# macd_opt_f.opt_results[macd_opt_f.opt_results.multiple_macd_strategy_net == macd_opt_f.opt_results.multiple_macd_strategy_net.max()]"
   ]
  },
  {
   "cell_type": "markdown",
   "id": "094391fb",
   "metadata": {},
   "source": [
    "### 6) Create new class for interval of max_net and launch backtest for the combinations of max_net"
   ]
  },
  {
   "cell_type": "code",
   "execution_count": 10,
   "id": "4422191f",
   "metadata": {},
   "outputs": [],
   "source": [
    "# macd_opt_f_1h_v2 = Macd_long_backtester('BTCUSDT')"
   ]
  },
  {
   "cell_type": "code",
   "execution_count": 11,
   "id": "15139a0e",
   "metadata": {},
   "outputs": [],
   "source": [
    "# macd_opt_f_1h_v2.prepare_data(start='2018-11-07-00:00', end='2018-12-15-00:00', interval='1h')"
   ]
  },
  {
   "cell_type": "code",
   "execution_count": 12,
   "id": "4bd89d82",
   "metadata": {},
   "outputs": [],
   "source": [
    "# macd_opt_f_1h_v2.execute_backtest(start='2018-11-07-00:00', ema_slow=26, ema_fast=14, ema_signal=30)"
   ]
  },
  {
   "cell_type": "markdown",
   "id": "fe8baff5",
   "metadata": {},
   "source": [
    "### 7) Plot the accumulated max_net vs hold"
   ]
  },
  {
   "cell_type": "code",
   "execution_count": 4,
   "id": "40eba6ac",
   "metadata": {},
   "outputs": [],
   "source": [
    "# macd_opt_f_1h_v2.data_init.multiple_hold_acum.plot(figsize=(15,10))\n",
    "# macd_opt_f_1h_v2.data_init.macd_log_returns_acum.plot(figsize=(15,10))\n",
    "# plt.legend()"
   ]
  },
  {
   "cell_type": "markdown",
   "id": "08ef15b0",
   "metadata": {},
   "source": [
    "### 8) Further..."
   ]
  },
  {
   "cell_type": "code",
   "execution_count": null,
   "id": "510c9057",
   "metadata": {},
   "outputs": [],
   "source": []
  }
 ],
 "metadata": {
  "kernelspec": {
   "display_name": "Python 3 (ipykernel)",
   "language": "python",
   "name": "python3"
  },
  "language_info": {
   "codemirror_mode": {
    "name": "ipython",
    "version": 3
   },
   "file_extension": ".py",
   "mimetype": "text/x-python",
   "name": "python",
   "nbconvert_exporter": "python",
   "pygments_lexer": "ipython3",
   "version": "3.9.12"
  }
 },
 "nbformat": 4,
 "nbformat_minor": 5
}
