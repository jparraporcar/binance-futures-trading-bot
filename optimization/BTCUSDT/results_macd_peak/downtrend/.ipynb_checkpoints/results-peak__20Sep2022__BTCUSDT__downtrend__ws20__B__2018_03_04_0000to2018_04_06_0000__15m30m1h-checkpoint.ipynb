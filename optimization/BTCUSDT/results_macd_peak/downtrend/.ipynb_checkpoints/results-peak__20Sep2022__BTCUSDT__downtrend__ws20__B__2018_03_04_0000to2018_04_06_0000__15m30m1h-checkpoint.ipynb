{
 "cells": [
  {
   "cell_type": "code",
   "execution_count": 4,
   "id": "b7e980b6",
   "metadata": {},
   "outputs": [],
   "source": [
    "import sys\n",
    "sys.path.append('/Users/jp/Desktop/Investment/trading_BOT/macd_long_backtester_1stpkbm/')\n",
    "from macd_long_backtester_1stpkbm import Macd_long_backtester_1stpkbm\n",
    "import pandas as pd\n",
    "import matplotlib.pyplot as plt"
   ]
  },
  {
   "cell_type": "code",
   "execution_count": 5,
   "id": "e84f4eab",
   "metadata": {},
   "outputs": [],
   "source": [
    "pd.set_option('display.max_rows', None)"
   ]
  },
  {
   "cell_type": "markdown",
   "id": "ded7ce4a",
   "metadata": {},
   "source": [
    "### 1) Launch optimization"
   ]
  },
  {
   "cell_type": "code",
   "execution_count": 6,
   "id": "fd729249",
   "metadata": {},
   "outputs": [
    {
     "name": "stdout",
     "output_type": "stream",
     "text": [
      "class version 1.0 is being used\n"
     ]
    }
   ],
   "source": [
    "macd_peak_opt_b = Macd_long_backtester_1stpkbm('BTCUSDT')"
   ]
  },
  {
   "cell_type": "code",
   "execution_count": null,
   "id": "e5982839",
   "metadata": {
    "scrolled": true
   },
   "outputs": [
    {
     "name": "stdout",
     "output_type": "stream",
     "text": [
      "3169\n",
      "3189\n",
      "   multiple_hold  ann_log_mean_hold  ann_log_std_hold  sharpe_ratio_hold  \\\n",
      "0       0.591327          -0.061228          0.119675          -0.511618   \n",
      "\n",
      "   multiple_macd_peak_strategy  ann_log_mean_macd_peak  ann_log_std_macd_peak  \\\n",
      "0                     0.967204               -0.003887               0.086136   \n",
      "\n",
      "   sharpe_ratio_macd_peak  multiple_macd_peak_strategy_net  \\\n",
      "0                -0.04513                          0.76294   \n",
      "\n",
      "   ann_log_mean_macd_peak_net  ann_log_std_macd_peak_net  \\\n",
      "0                   -0.031543                   0.086413   \n",
      "\n",
      "   sharpe_ratio_macd_peak_net  \n",
      "0                   -0.365023  \n",
      "processed 1 out of a total 4788\n",
      "3169\n",
      "3191\n",
      "   multiple_hold  ann_log_mean_hold  ann_log_std_hold  sharpe_ratio_hold  \\\n",
      "0       0.591327          -0.061228          0.119675          -0.511618   \n",
      "\n",
      "   multiple_macd_peak_strategy  ann_log_mean_macd_peak  ann_log_std_macd_peak  \\\n",
      "0                     0.739825               -0.035129               0.080979   \n",
      "\n",
      "   sharpe_ratio_macd_peak  multiple_macd_peak_strategy_net  \\\n",
      "0               -0.433807                         0.574717   \n",
      "\n",
      "   ann_log_mean_macd_peak_net  ann_log_std_macd_peak_net  \\\n",
      "0                   -0.064569                   0.081541   \n",
      "\n",
      "   sharpe_ratio_macd_peak_net  \n",
      "0                   -0.791855  \n",
      "processed 2 out of a total 4788\n",
      "3169\n",
      "3193\n",
      "   multiple_hold  ann_log_mean_hold  ann_log_std_hold  sharpe_ratio_hold  \\\n",
      "0       0.591327          -0.061228          0.119675          -0.511618   \n",
      "\n",
      "   multiple_macd_peak_strategy  ann_log_mean_macd_peak  ann_log_std_macd_peak  \\\n",
      "0                     0.774431                 -0.0298               0.084123   \n",
      "\n",
      "   sharpe_ratio_macd_peak  multiple_macd_peak_strategy_net  \\\n",
      "0               -0.354243                         0.614526   \n",
      "\n",
      "   ann_log_mean_macd_peak_net  ann_log_std_macd_peak_net  \\\n",
      "0                   -0.056761                   0.084688   \n",
      "\n",
      "   sharpe_ratio_macd_peak_net  \n",
      "0                   -0.670241  \n",
      "processed 3 out of a total 4788\n",
      "3169\n",
      "3195\n",
      "   multiple_hold  ann_log_mean_hold  ann_log_std_hold  sharpe_ratio_hold  \\\n",
      "0       0.591327          -0.061228          0.119675          -0.511618   \n",
      "\n",
      "   multiple_macd_peak_strategy  ann_log_mean_macd_peak  ann_log_std_macd_peak  \\\n",
      "0                     0.759346               -0.032093               0.082903   \n",
      "\n",
      "   sharpe_ratio_macd_peak  multiple_macd_peak_strategy_net  \\\n",
      "0               -0.387115                          0.61289   \n",
      "\n",
      "   ann_log_mean_macd_peak_net  ann_log_std_macd_peak_net  \\\n",
      "0                   -0.057072                   0.083465   \n",
      "\n",
      "   sharpe_ratio_macd_peak_net  \n",
      "0                   -0.683782  \n",
      "processed 4 out of a total 4788\n",
      "3169\n",
      "3197\n",
      "   multiple_hold  ann_log_mean_hold  ann_log_std_hold  sharpe_ratio_hold  \\\n",
      "0       0.591327          -0.061228          0.119675          -0.511618   \n",
      "\n",
      "   multiple_macd_peak_strategy  ann_log_mean_macd_peak  ann_log_std_macd_peak  \\\n",
      "0                     0.926405               -0.008912               0.086065   \n",
      "\n",
      "   sharpe_ratio_macd_peak  multiple_macd_peak_strategy_net  \\\n",
      "0               -0.103544                         0.746458   \n",
      "\n",
      "   ann_log_mean_macd_peak_net  ann_log_std_macd_peak_net  \\\n",
      "0                   -0.034089                    0.08664   \n",
      "\n",
      "   sharpe_ratio_macd_peak_net  \n",
      "0                   -0.393455  \n",
      "processed 5 out of a total 4788\n",
      "3169\n",
      "3199\n",
      "   multiple_hold  ann_log_mean_hold  ann_log_std_hold  sharpe_ratio_hold  \\\n",
      "0       0.591327          -0.061228          0.119675          -0.511618   \n",
      "\n",
      "   multiple_macd_peak_strategy  ann_log_mean_macd_peak  ann_log_std_macd_peak  \\\n",
      "0                      0.91488               -0.010371               0.085141   \n",
      "\n",
      "   sharpe_ratio_macd_peak  multiple_macd_peak_strategy_net  \\\n",
      "0               -0.121809                         0.739683   \n",
      "\n",
      "   ann_log_mean_macd_peak_net  ann_log_std_macd_peak_net  \\\n",
      "0                   -0.035152                   0.085658   \n",
      "\n",
      "   sharpe_ratio_macd_peak_net  \n",
      "0                   -0.410374  \n",
      "processed 6 out of a total 4788\n",
      "3169\n",
      "3201\n",
      "   multiple_hold  ann_log_mean_hold  ann_log_std_hold  sharpe_ratio_hold  \\\n",
      "0       0.591327          -0.061228          0.119675          -0.511618   \n",
      "\n",
      "   multiple_macd_peak_strategy  ann_log_mean_macd_peak  ann_log_std_macd_peak  \\\n",
      "0                      0.92858               -0.008638               0.085254   \n",
      "\n",
      "   sharpe_ratio_macd_peak  multiple_macd_peak_strategy_net  \\\n",
      "0               -0.101322                         0.753317   \n",
      "\n",
      "   ann_log_mean_macd_peak_net  ann_log_std_macd_peak_net  \\\n",
      "0                   -0.033022                   0.085771   \n",
      "\n",
      "   sharpe_ratio_macd_peak_net  \n",
      "0                   -0.385008  \n",
      "processed 7 out of a total 4788\n",
      "3169\n"
     ]
    }
   ],
   "source": [
    "macd_peak_opt_b.execute_opt(interval_opt=('15m', '30m', '1h') ,start_opt='2018-03-04-00:00', end_opt='2018-04-06-00:00', ema_fast_opt=(2,16,2), ema_slow_opt=(16,40,2), ema_sign_opt=(2, 40, 2), int_for_max='1h', trend_ref='B', type_trend='downtrend_peak_b')"
   ]
  },
  {
   "cell_type": "code",
   "execution_count": 8,
   "id": "54caa528",
   "metadata": {},
   "outputs": [],
   "source": [
    "# df = pd.read_csv('downtrend_peak_b.csv')\n",
    "# macd_opt_b.opt_results = df"
   ]
  },
  {
   "cell_type": "markdown",
   "id": "bb57fed1",
   "metadata": {},
   "source": [
    "### 2) Extract combinations of max"
   ]
  },
  {
   "cell_type": "code",
   "execution_count": 8,
   "id": "02828545",
   "metadata": {},
   "outputs": [],
   "source": [
    "# macd_opt_b.opt_results[macd_opt_b.opt_results.multiple_macd_strategy == macd_opt_b.opt_results.multiple_macd_strategy.max()]"
   ]
  },
  {
   "cell_type": "markdown",
   "id": "80ce79ba",
   "metadata": {},
   "source": [
    "### 3) Create new class for interval of max and launch backtest for the combinations of max"
   ]
  },
  {
   "cell_type": "code",
   "execution_count": 7,
   "id": "8728e0eb",
   "metadata": {},
   "outputs": [],
   "source": [
    "# macd_opt_b_1h = Macd_long_backtester('BTCUSDT')"
   ]
  },
  {
   "cell_type": "code",
   "execution_count": 9,
   "id": "ad810fcb",
   "metadata": {},
   "outputs": [],
   "source": [
    "# macd_opt_b_1h.prepare_data(start='2018-03-04-00:00', end='2018-04-06-00:00', interval='1h')"
   ]
  },
  {
   "cell_type": "code",
   "execution_count": 10,
   "id": "94873da7",
   "metadata": {},
   "outputs": [],
   "source": [
    "# macd_opt_b_1h.execute_backtest(start='2018-03-04-00:00', ema_slow=24, ema_fast=14, ema_signal=24)"
   ]
  },
  {
   "cell_type": "markdown",
   "id": "1d685b63",
   "metadata": {},
   "source": [
    "### 4) Plot the accumulated max vs hold"
   ]
  },
  {
   "cell_type": "code",
   "execution_count": 11,
   "id": "74cbeddc",
   "metadata": {},
   "outputs": [],
   "source": [
    "# macd_opt_b_1h.data_init.multiple_hold_acum.plot(figsize=(15,10))\n",
    "# macd_opt_b_1h.data_init.macd_log_returns_acum.plot(figsize=(15,10))\n",
    "# plt.legend()"
   ]
  },
  {
   "cell_type": "markdown",
   "id": "58706ec0",
   "metadata": {},
   "source": [
    "### 5) Extract combinations of max_net "
   ]
  },
  {
   "cell_type": "code",
   "execution_count": 12,
   "id": "c589f991",
   "metadata": {},
   "outputs": [],
   "source": [
    "# macd_opt_b.opt_results[macd_opt_b.opt_results.multiple_macd_strategy_net == macd_opt_b.opt_results.multiple_macd_strategy_net.max()]"
   ]
  },
  {
   "cell_type": "markdown",
   "id": "094391fb",
   "metadata": {},
   "source": [
    "### 6) Create new class for interval of max_net and launch backtest for the combinations of max_net"
   ]
  },
  {
   "cell_type": "markdown",
   "id": "9b13f0f9",
   "metadata": {},
   "source": [
    "max and max_net are the same combination"
   ]
  },
  {
   "cell_type": "markdown",
   "id": "fe8baff5",
   "metadata": {},
   "source": [
    "### 7) Plot the accumulated max_net vs hold"
   ]
  },
  {
   "cell_type": "markdown",
   "id": "08ef15b0",
   "metadata": {},
   "source": [
    "### 8) Carry out backtest with optimized strategy macd_peak with same parameters and see results"
   ]
  },
  {
   "cell_type": "code",
   "execution_count": 13,
   "id": "510c9057",
   "metadata": {},
   "outputs": [],
   "source": [
    "# sys.path.append('/Users/jp/Desktop/Investment/trading_BOT/macd_long_backtester_1stpkbm')\n",
    "# from macd_long_backtester_1stpkbm import Macd_long_backtester_1stpkbm"
   ]
  },
  {
   "cell_type": "code",
   "execution_count": 14,
   "id": "13396ef1",
   "metadata": {},
   "outputs": [],
   "source": [
    "# macd_opt_b_1h_peak = Macd_long_backtester_1stpkbm('BTCUSDT')"
   ]
  },
  {
   "cell_type": "code",
   "execution_count": 15,
   "id": "f6d68924",
   "metadata": {},
   "outputs": [],
   "source": [
    "# macd_opt_b_1h_peak.prepare_data(start='2018-03-04-00:00', end='2018-04-06-00:00', interval='1h')"
   ]
  },
  {
   "cell_type": "code",
   "execution_count": 16,
   "id": "b07af031",
   "metadata": {},
   "outputs": [],
   "source": [
    "# macd_opt_b_1h_peak.execute_backtest(start='2018-03-04-00:00', ema_slow=24, ema_fast=14, ema_signal=24)"
   ]
  },
  {
   "cell_type": "markdown",
   "id": "2a84d554",
   "metadata": {},
   "source": [
    "### 9) Plot results of macd_peak acum vs macd acum vs hold"
   ]
  },
  {
   "cell_type": "code",
   "execution_count": 17,
   "id": "cdb6b9c7",
   "metadata": {
    "scrolled": true
   },
   "outputs": [],
   "source": [
    "# macd_opt_b_1h.data_init.multiple_hold_acum.plot(figsize=(15,10))\n",
    "# macd_opt_b_1h.data_init.macd_log_returns_acum.plot(figsize=(15,10))\n",
    "# macd_opt_b_1h_peak.data_init.macd_peak_log_returns_acum.plot(figsize=(15,10))\n",
    "# plt.legend()"
   ]
  },
  {
   "cell_type": "code",
   "execution_count": 18,
   "id": "9d468f7b",
   "metadata": {
    "scrolled": false
   },
   "outputs": [],
   "source": [
    "# macd_opt_b_1h_peak.data_init"
   ]
  },
  {
   "cell_type": "code",
   "execution_count": null,
   "id": "3c315966",
   "metadata": {},
   "outputs": [],
   "source": []
  }
 ],
 "metadata": {
  "kernelspec": {
   "display_name": "Python 3 (ipykernel)",
   "language": "python",
   "name": "python3"
  },
  "language_info": {
   "codemirror_mode": {
    "name": "ipython",
    "version": 3
   },
   "file_extension": ".py",
   "mimetype": "text/x-python",
   "name": "python",
   "nbconvert_exporter": "python",
   "pygments_lexer": "ipython3",
   "version": "3.9.12"
  }
 },
 "nbformat": 4,
 "nbformat_minor": 5
}
